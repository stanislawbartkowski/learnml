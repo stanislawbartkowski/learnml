{
 "cells": [
  {
   "cell_type": "markdown",
   "id": "5952c593-c1fb-4fe4-a82c-6f0bbacccf24",
   "metadata": {},
   "source": [
    "# Question 1\n",
    "https://app.codility.com/programmers/lessons/6-sorting/distinct/start/"
   ]
  },
  {
   "cell_type": "code",
   "execution_count": 1,
   "id": "184bdd2d-3db6-4348-8314-6539ccd37972",
   "metadata": {},
   "outputs": [],
   "source": [
    "from typing import List,Set\n",
    "\n",
    "def solution(A: List[int]) -> int :\n",
    "    used : Set[int] = set()\n",
    "\n",
    "    distinctno : int = 0\n",
    "\n",
    "    for i in A :\n",
    "        if not i in used :\n",
    "            distinctno += 1\n",
    "            used.add(i)\n",
    "\n",
    "    return distinctno\n"
   ]
  },
  {
   "cell_type": "code",
   "execution_count": 2,
   "id": "53777fa4-da8c-40f6-a3fc-90e8167e1a6f",
   "metadata": {},
   "outputs": [],
   "source": [
    "assert(solution([2,1,1,2,3,1]) == 3)\n",
    "\n",
    "assert(solution([]) == 0)"
   ]
  },
  {
   "cell_type": "markdown",
   "id": "9acc467c-29aa-4765-bf9e-0fb2ea4f0c6e",
   "metadata": {},
   "source": [
    "# Question 2\n",
    "https://app.codility.com/programmers/lessons/6-sorting/max_product_of_three/"
   ]
  },
  {
   "cell_type": "code",
   "execution_count": 3,
   "id": "1f01f575-e1e3-4b6f-8da0-be091283b182",
   "metadata": {},
   "outputs": [],
   "source": [
    "from typing import List\n",
    "\n",
    "def solution(A: List[int]) -> int :\n",
    "    assert(len(A) >= 3)\n",
    "    S : List[int] = sorted(A,reverse=True)\n",
    "    productplus : int = S[0] * S[1] * S[2]\n",
    "    productminus : int = S[len(S)-1] * S[len(S) -2] * S[0]\n",
    "    return max(productplus,productminus)"
   ]
  },
  {
   "cell_type": "code",
   "execution_count": 4,
   "id": "76add5ec-2ee7-40b4-a44c-de3c3fa8e5cf",
   "metadata": {},
   "outputs": [],
   "source": [
    "assert(solution([-3,1,2,-2,5,6]) == 60)\n",
    "assert(solution([1,-5,-6,3,4]) == 120)\n",
    "assert(solution([-1,-2,-3,-4]) == -6)"
   ]
  },
  {
   "cell_type": "markdown",
   "id": "6a1de01c-a2f4-4ad6-b4ce-c6de4afff484",
   "metadata": {},
   "source": [
    "# Question 3\n",
    "https://app.codility.com/programmers/lessons/6-sorting/triangle/\n"
   ]
  },
  {
   "cell_type": "code",
   "execution_count": 5,
   "id": "9a6cfcd1-0bf5-4aae-a764-05cbb31f1b48",
   "metadata": {},
   "outputs": [],
   "source": [
    "from typing import List\n",
    "\n",
    "def solution(A : List[int]) -> int :\n",
    "    if len(A) < 3 : return 0\n",
    "    S : List[int] = sorted(A)\n",
    "\n",
    "    for i in range(len(S)-2) :\n",
    "        if S[i] + S[i+1] <= S[i+2] : continue\n",
    "        if S[i] + S[i+2] <= S[i+1] : continue\n",
    "        if S[i+1] + S[i+2] > S[i] : return 1\n",
    "    \n",
    "    return 0"
   ]
  },
  {
   "cell_type": "code",
   "execution_count": 6,
   "id": "c768e2c9-4fd2-4188-ad12-33f910e5d2ca",
   "metadata": {},
   "outputs": [],
   "source": [
    "assert(solution([10,2,5,1,8,20]) == 1)\n",
    "\n",
    "assert(solution([10,50,5]) == 0)\n",
    "\n",
    "assert(solution([5,3,3]) == 1)\n",
    "\n",
    "assert(solution([1,1,2,3,5]) == 0)"
   ]
  },
  {
   "cell_type": "markdown",
   "id": "90cf8b8b-bc63-44ee-bf3f-7c68d62dc58b",
   "metadata": {},
   "source": [
    "# Question 4\n",
    "https://app.codility.com/programmers/lessons/6-sorting/number_of_disc_intersections/\n",
    "\n",
    "Solution based on video: https://www.youtube.com/watch?v=HV8tzIiidSw"
   ]
  },
  {
   "cell_type": "code",
   "execution_count": 1,
   "id": "97ab2cf8-947d-49d3-976c-e4ce47a155f0",
   "metadata": {},
   "outputs": [],
   "source": [
    "from typing import List\n",
    "\n",
    "def solution(A: List[int]) -> int :\n",
    "    SL : List[int] = sorted([i-A[i] for i in range(len(A)) ])\n",
    "    SR : List[int] = sorted([i+A[i] for i in range(len(A)) ])\n",
    "\n",
    "    inters : int = 0\n",
    "    opendisc : int = 0\n",
    "    k : int = 0\n",
    "\n",
    "    for i in range(len(A)) :\n",
    "        while k < len(A) and SR[k] < SL[i] : \n",
    "           k+=1\n",
    "           opendisc -=1\n",
    "        if k == len(A) : break\n",
    "        inters += opendisc\n",
    "        if inters > 10000000 : return -1\n",
    "        opendisc += 1\n",
    "    return inters"
   ]
  },
  {
   "cell_type": "code",
   "execution_count": 2,
   "id": "a524ca3b-ada3-4fbf-9d69-ef3057c3a329",
   "metadata": {},
   "outputs": [],
   "source": [
    "assert(solution([1,5,2,1,4,0]) == 11)\n",
    "assert(solution([]) == 0)\n",
    "\n",
    "assert(solution([1,0,1]) == 3)\n",
    "assert(solution([1,0,1,0,1]) == 6)"
   ]
  },
  {
   "cell_type": "markdown",
   "id": "5a1eff72-875c-4c4b-9086-9ed03ed18bd2",
   "metadata": {},
   "source": [
    "# Question 5\n",
    "https://app.codility.com/programmers/lessons/7-stacks_and_queues/brackets/"
   ]
  },
  {
   "cell_type": "code",
   "execution_count": 3,
   "id": "4af81e2d-1d8e-4620-a790-387e6da330a1",
   "metadata": {},
   "outputs": [],
   "source": [
    "from typing import List\n",
    "\n",
    "def solution(S) :\n",
    "    stack : List[str] = []\n",
    "\n",
    "    for ch in S :\n",
    "        if ch == '{' or ch == '(' or ch == '[' : stack.append(ch)\n",
    "        else:\n",
    "            if len(stack) == 0 : return 0\n",
    "            lastch = stack.pop()\n",
    "            if ch == '}' and lastch != '{' : return 0\n",
    "            if ch == ')' and lastch != '(' : return 0\n",
    "            if ch == ']' and lastch != '[' : return 0\n",
    "    \n",
    "    return 0 if (len(stack)  > 0) else 1\n",
    "\n"
   ]
  },
  {
   "cell_type": "code",
   "execution_count": 4,
   "id": "d68e0cbc-425d-4d20-8937-72b13195aeef",
   "metadata": {},
   "outputs": [],
   "source": [
    "assert(solution(\"{[()()]}\") == 1)\n",
    "assert(solution(\"([)()]\") == 0)\n",
    "assert(solution(\"\") == 1)\n",
    "assert(solution(\"[]{}\") == 1)\n",
    "assert(solution(\"[]{\") == 0)"
   ]
  },
  {
   "cell_type": "code",
   "execution_count": null,
   "id": "bbde4d2b-8f37-418d-881b-93cce5605b18",
   "metadata": {},
   "outputs": [],
   "source": []
  }
 ],
 "metadata": {
  "kernelspec": {
   "display_name": "Python 3 (ipykernel)",
   "language": "python",
   "name": "python3"
  },
  "language_info": {
   "codemirror_mode": {
    "name": "ipython",
    "version": 3
   },
   "file_extension": ".py",
   "mimetype": "text/x-python",
   "name": "python",
   "nbconvert_exporter": "python",
   "pygments_lexer": "ipython3",
   "version": "3.9.7"
  }
 },
 "nbformat": 4,
 "nbformat_minor": 5
}
