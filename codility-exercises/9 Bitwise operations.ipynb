{
 "cells": [
  {
   "cell_type": "markdown",
   "id": "28465f43-3b1d-4e86-9064-8fe4d6b69beb",
   "metadata": {},
   "source": [
    "# CountConformingBitmasks\n",
    "https://app.codility.com/programmers/trainings/9/count_conforming_bitmasks/\n",
    "\n",
    "(Bad solution: requires improvement)"
   ]
  },
  {
   "cell_type": "code",
   "execution_count": 2,
   "id": "d7778056-3845-43e6-89fc-9ea5f755b25e",
   "metadata": {},
   "outputs": [],
   "source": [
    "# WRONG\n",
    "def solution(A, B, C):\n",
    "    numa = 1\n",
    "    numb = 1\n",
    "    numc = 1\n",
    "    dupl = 0\n",
    "    for _ in range (30) :\n",
    "        ba = A&1\n",
    "        bb = B&1\n",
    "        bc = C&1\n",
    "        if ba == 0 : numa = numa*2\n",
    "        if bb == 0 : numb = numb*2\n",
    "        if bc == 0 : numc = numc*2\n",
    "        if ba + bb == 1 : dupl = dupl + 1\n",
    "        if ba + bb + bc == 1: dupl = dupl + 1\n",
    "        A = A>>1\n",
    "        B = B>>1\n",
    "        C = C>>1\n",
    "    return numa + numb + numc - dupl"
   ]
  },
  {
   "cell_type": "code",
   "execution_count": 3,
   "id": "e2f910cc-fabc-424a-b1ab-2fe1f0e3c2f7",
   "metadata": {},
   "outputs": [],
   "source": [
    "assert (solution(1073741727,1073741631, 1073741679) == 8)"
   ]
  },
  {
   "cell_type": "markdown",
   "id": "a7c3baf8-e13e-4306-93f2-72f93ac96f68",
   "metadata": {},
   "source": [
    "# SparseBinaryDecomposition\n",
    "\n",
    "https://app.codility.com/programmers/trainings/9/sparse_binary_decomposition/\n",
    "\n",
    "(Bad solution: requeries improvement)"
   ]
  },
  {
   "cell_type": "code",
   "execution_count": 4,
   "id": "49151bd6-2b0c-4fb7-bd93-13c0067ae68b",
   "metadata": {},
   "outputs": [],
   "source": [
    "# Bad performance\n",
    "def is_sparse(N) :\n",
    "    prevb = 0\n",
    "    for _ in range(31) :\n",
    "        b = N&1\n",
    "        if prevb == 1 and b == 1 : return False\n",
    "        N = N>>1\n",
    "        prevb = b\n",
    "    return True"
   ]
  },
  {
   "cell_type": "code",
   "execution_count": 7,
   "id": "58dd0c31-d66a-48e8-8d2a-8e0d0834bb5c",
   "metadata": {},
   "outputs": [],
   "source": [
    "assert(is_sparse(41))\n",
    "assert(not is_sparse(26))"
   ]
  },
  {
   "cell_type": "code",
   "execution_count": null,
   "id": "f7ae6615-5140-4177-9bfa-0397cf8bd9d5",
   "metadata": {},
   "outputs": [],
   "source": []
  }
 ],
 "metadata": {
  "kernelspec": {
   "display_name": "Python 3 (ipykernel)",
   "language": "python",
   "name": "python3"
  },
  "language_info": {
   "codemirror_mode": {
    "name": "ipython",
    "version": 3
   },
   "file_extension": ".py",
   "mimetype": "text/x-python",
   "name": "python",
   "nbconvert_exporter": "python",
   "pygments_lexer": "ipython3",
   "version": "3.9.7"
  }
 },
 "nbformat": 4,
 "nbformat_minor": 5
}
