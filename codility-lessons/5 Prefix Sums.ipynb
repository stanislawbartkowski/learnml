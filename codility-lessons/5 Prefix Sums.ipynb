{
 "cells": [
  {
   "cell_type": "markdown",
   "id": "1824240c-f892-440e-8dd9-8a2638bc91aa",
   "metadata": {},
   "source": [
    "# CountDiv\n",
    "https://app.codility.com/programmers/lessons/5-prefix_sums/count_div/"
   ]
  },
  {
   "cell_type": "code",
   "execution_count": 1,
   "id": "f671f49d-4010-45b5-a1f6-40368ab95784",
   "metadata": {},
   "outputs": [],
   "source": [
    "def solution(A, B, K) :\n",
    "    smallestdiv = int(A/K if A % K == 0 else A/K + 1)\n",
    "    smallestdiv = smallestdiv * K\n",
    "    if smallestdiv > B : return 0\n",
    "    numberofdiv = (B - smallestdiv)/K \n",
    "    return int(numberofdiv) + 1"
   ]
  },
  {
   "cell_type": "code",
   "execution_count": 2,
   "id": "58f1c121-49b7-49de-8fcc-27752213fde5",
   "metadata": {},
   "outputs": [],
   "source": [
    "assert (solution(6,12,3) == 3)\n",
    "assert (solution(5,10,20) == 0)"
   ]
  },
  {
   "cell_type": "markdown",
   "id": "d5070fcf-fd7c-43d2-a5a1-f42a1627448b",
   "metadata": {},
   "source": [
    "# GenomicRangeQuery\n",
    "https://app.codility.com/programmers/lessons/5-prefix_sums/genomic_range_query/\n",
    "\n",
    "(bad solution, requires improvement)\n"
   ]
  },
  {
   "cell_type": "code",
   "execution_count": 3,
   "id": "197f2b0d-e591-4d64-bcef-c5ba7b79b36e",
   "metadata": {},
   "outputs": [],
   "source": [
    "# failed for one test\n",
    "# \n",
    "def find(A,first,last,k) :\n",
    "    mid = int(first + (last-first)/2)\n",
    "    if A[mid] == k : return k\n",
    "    if first >= last : \n",
    "        if first < 0 : return A[first]\n",
    "        if last >= len(A)-1: return A[len(A)-1]\n",
    "        return A[last+1]\n",
    "    if A[mid] > k: return find(A,first,mid-1,k)\n",
    "    else: return find(A,mid+1,last,k) \n",
    "\n",
    "def findeqorgreater(A,k) :\n",
    "    if len(A) == 0 : return -1\n",
    "    if (k > A[len(A)-1]) : return -1\n",
    "    return find(A,0,len(A)-1,k)\n",
    "    \n",
    "def mapl(c) :\n",
    "    if c == 'A' : return 0\n",
    "    elif c == 'C' : return 1\n",
    "    elif c == 'G' : return 2\n",
    "    else: return 3\n",
    "\n",
    "def preparesorted(S) :\n",
    "    P = [[],[],[],[]]\n",
    "    for i in range(len(S)) :\n",
    "        P[mapl(S[i])].append(i)\n",
    "    return P\n",
    "\n",
    "def solution(S, P, Q) :\n",
    "    PREP = preparesorted(S)\n",
    "    res = []\n",
    "    for i in range(len(P)) :\n",
    "        mini = P[i]\n",
    "        maxi = Q[i]\n",
    "        for c in range(0,4) :\n",
    "            ind = findeqorgreater(PREP[c],mini)\n",
    "            if ind == -1 : continue\n",
    "            if ind >= mini and ind <= maxi : \n",
    "                res.append(c+1)\n",
    "                break\n",
    "    return res"
   ]
  },
  {
   "cell_type": "code",
   "execution_count": 4,
   "id": "ac931b84-916e-4e8f-9e01-cb9d784cb152",
   "metadata": {},
   "outputs": [
    {
     "name": "stdout",
     "output_type": "stream",
     "text": [
      "[[1, 6], [0, 3, 4], [2], [5]]\n",
      "[2, 4, 1]\n"
     ]
    }
   ],
   "source": [
    "S = \"CAGCCTA\"\n",
    "print (preparesorted(S))\n",
    "P = [2,5,0]\n",
    "Q = [4,5,6]\n",
    "print(solution(S,P,Q))"
   ]
  },
  {
   "cell_type": "code",
   "execution_count": 5,
   "id": "d12c01a4-e14a-42c8-9e33-4e7fceba2f7e",
   "metadata": {},
   "outputs": [
    {
     "name": "stdout",
     "output_type": "stream",
     "text": [
      "[2]\n"
     ]
    }
   ],
   "source": [
    "S = \"C\"\n",
    "P = [0]\n",
    "Q = [0]\n",
    "print(solution(S,P,Q))"
   ]
  },
  {
   "cell_type": "code",
   "execution_count": 6,
   "id": "9869399a-ec26-44af-9a0f-6b572e29a726",
   "metadata": {},
   "outputs": [
    {
     "name": "stdout",
     "output_type": "stream",
     "text": [
      "[3, 1, 1, 3]\n"
     ]
    }
   ],
   "source": [
    "S = \"GAGGGGGAGGGGGGG\"\n",
    "#S = \"CGGGGGGG\"\n",
    "P = [0,0,6,8]\n",
    "Q = [0,4,9,11]\n",
    "print(solution(S,P,Q))"
   ]
  },
  {
   "cell_type": "markdown",
   "id": "a0282a2b-9fea-4823-bdea-3bd966f1261f",
   "metadata": {},
   "source": [
    "# Question 8\n",
    "https://app.codility.com/programmers/lessons/5-prefix_sums/genomic_range_query/\n",
    "<br>\n",
    "Solution is valid, performance and correctness\n",
    "\n",
    "# Solution\n",
    "The problem can be narrowed to finding the existence of the letters A, C, G and T between range S[P[i],Q[i]].<br/>\n",
    "If the letter A exists then the impact is 1, if letter A does not exist but letter C exists then the impact is 2 etc.\n",
    "# Solution implementation\n",
    "Create a sorted list of positions for every letter. <br>\n",
    "For instance: assuming CAGCCTA<br>\n",
    "A = [1,6]<br>\n",
    "C = [0,3,4]<br>\n",
    "G = [2]<br>\n",
    "Letter T can be ignored because it letter A, C nor G exists it implies letter T and impact 4<br>\n",
    "Then take the range P[i] : Q[i] and look for equals or greater position for letters A, C and G using binary search for every letter.<br>\n",
    "<br>\n",
    "For instance:<br>\n",
    "Range 2:4<br>\n",
    "Lower boundary 4 -> Look for letter A -> returns 6 -> greater then upper boundary 4 -> letter A does not exist<br>\n",
    "Look for letter C -> return 4 -> equal to upper boundary 4 -> impact 2<br>"
   ]
  },
  {
   "cell_type": "code",
   "execution_count": 8,
   "id": "bd32c0a1-f601-4b90-9cfa-7f5e93e816fe",
   "metadata": {},
   "outputs": [],
   "source": [
    "from typing import List\n",
    "\n",
    "def findmingerec(num : int, sorted : List[int], firsti: int, lasti : int) -> int :\n",
    "    # return the greater or equal value or -1\n",
    "    assert(firsti <= lasti)\n",
    "    mid : int = firsti + int((lasti - firsti)/2)\n",
    "    if sorted[mid] == num : return sorted[mid]\n",
    "    if sorted[mid] > num :\n",
    "        if firsti == mid : return sorted[mid]\n",
    "        return findmingerec(num,sorted,firsti, mid-1)\n",
    "    if lasti == mid :\n",
    "        if lasti == len(sorted) - 1 : return -1\n",
    "        else: return sorted[lasti+1]\n",
    "    return findmingerec(num,sorted,mid+1,lasti)\n",
    "\n",
    "def findminge(num : int, sorted : List[int]) -> int :\n",
    "    if len(sorted) == 0 : return -1\n",
    "    return findmingerec(num,sorted,0,len(sorted)-1)\n",
    "\n",
    "\n",
    "def solution(S : str, P : List[int] , Q : List[int]) -> List[int] :\n",
    "    assert(len(S) > 0)\n",
    "    assert(len(Q) == len(P))\n",
    "    # prepare sorted list for every letter\n",
    "    sortedA : List[int] = []\n",
    "    sortedC : List[int] = []\n",
    "    sortedG : List[int] = []\n",
    "\n",
    "    for i in range(len(S)) :\n",
    "        if S[i] == 'A' : sortedA.append(i)\n",
    "        elif S[i] == 'C' : sortedC.append(i)\n",
    "        elif S[i] == 'G' : sortedG.append(i)\n",
    "\n",
    "    # we have sorted lists\n",
    "\n",
    "    answer : List[int] = []\n",
    "\n",
    "    for i in range(len(P)) :\n",
    "        mini : int = 4\n",
    "        currentL : List[i]\n",
    "        for j in range(3) :\n",
    "            currentL : List[i]\n",
    "            if j == 0 : currentL = sortedA\n",
    "            elif j == 1: currentL = sortedC\n",
    "            else : currentL = sortedG\n",
    "\n",
    "            if len(currentL) == 0: continue\n",
    "            inde : int = findminge(P[i],currentL)\n",
    "            if inde != -1 and inde <= Q[i] : \n",
    "                mini = j+1\n",
    "                break\n",
    "        \n",
    "        # mini - contains a minimal value\n",
    "        answer.append(mini)\n",
    "    \n",
    "    return answer"
   ]
  },
  {
   "cell_type": "code",
   "execution_count": 9,
   "id": "6cc5b758-381a-4582-b4f9-618438c25456",
   "metadata": {},
   "outputs": [
    {
     "name": "stdout",
     "output_type": "stream",
     "text": [
      "[2, 4, 1]\n"
     ]
    }
   ],
   "source": [
    "assert(findminge(0,[]) == -1)\n",
    "assert(findminge(3,[1]) == -1)\n",
    "\n",
    "assert(findminge(0,[1]) == 1)\n",
    "\n",
    "assert(findminge(5,[1,6,7,8]) == 6)\n",
    "\n",
    "assert(findminge(0,[1,6,7,8]) == 1)\n",
    "\n",
    "assert (findminge(8,[1,6,7,8]) == 8)\n",
    "\n",
    "assert (findminge(2,[1,6,7,8]) == 6)\n",
    "\n",
    "print(solution(\"CAGCCTA\",[2,5,0],[4,5,6]))"
   ]
  },
  {
   "cell_type": "markdown",
   "id": "a1d34552-14ea-470a-a1b9-414d3086c695",
   "metadata": {},
   "source": [
    "# MinAvgTwoSlice\n",
    "\n",
    "https://app.codility.com/programmers/lessons/5-prefix_sums/min_avg_two_slice/\n",
    "\n",
    "Calculate only 2 and 3 size slices"
   ]
  },
  {
   "cell_type": "code",
   "execution_count": 10,
   "id": "02f01b2a-3806-4deb-99af-946e7acd9db8",
   "metadata": {},
   "outputs": [],
   "source": [
    "from typing import List\n",
    "\n",
    "def solution(A: List[int]) -> int :\n",
    "    minavg :float = (A[0] + A[1]) /2 \n",
    "    mini : int = 0\n",
    "\n",
    "    for i in range(len(A) - 2) :\n",
    "        avg2 : float = (A[i] + A[i+1])/2\n",
    "        avg3 : float = (A[i] + A[i+1] + A[i+2]) / 3\n",
    "        if avg2 < minavg :\n",
    "            minavg = avg2\n",
    "            mini = i\n",
    "        if avg3 < minavg :\n",
    "            minavg = avg3\n",
    "            mini = i\n",
    "    \n",
    "    if (A[len(A) -2] + A[len(A) - 1]) / 2  < minavg : mini = len(A) - 2\n",
    "    return mini\n"
   ]
  },
  {
   "cell_type": "code",
   "execution_count": 11,
   "id": "4c6f6f72-ef46-4cb9-a800-b43d70ebfc9a",
   "metadata": {},
   "outputs": [],
   "source": [
    "A = [4,2,2,5,1,5,8]\n",
    "assert(solution(A) == 1)\n",
    "A = [2,5,2,29]\n",
    "assert(solution(A) == 0)\n",
    "A = [29,2,5,2,29]\n",
    "assert(solution(A) == 1)\n",
    "A = [29,2,5,2]\n",
    "assert(solution(A) == 1)\n",
    "A = [29,2,5,2,1]\n",
    "assert(solution(A) == 3)"
   ]
  },
  {
   "cell_type": "markdown",
   "id": "d5963eca-64c1-4117-9775-eccf19754fdb",
   "metadata": {},
   "source": [
    "# PassingCars\n",
    "https://app.codility.com/programmers/lessons/5-prefix_sums/passing_cars/"
   ]
  },
  {
   "cell_type": "code",
   "execution_count": 12,
   "id": "2c1627a6-d83b-4977-8303-b98f38f4213f",
   "metadata": {},
   "outputs": [],
   "source": [
    "from typing import List\n",
    "\n",
    "def solution(A : List[int]) -> int :\n",
    "    assert(len(A) > 0)\n",
    "    # find first 0\n",
    "    found : bool = False\n",
    "    for cur0 in range(0,len(A)) : \n",
    "        if A[cur0] == 0 : \n",
    "            found = True\n",
    "            break\n",
    "    if not found : return 0\n",
    "    sumpair = sum(A[cur0:])\n",
    "    sum1 = sumpair\n",
    "    # cur0 : position of 0 element\n",
    "    # sumpair: number of 1 up the list\n",
    "    cur0 += 1\n",
    "    while cur0 < len(A) :\n",
    "        if A[cur0] == 1: sum1 -= 1\n",
    "        elif sumpair != -1 :\n",
    "          sumpair += sum1\n",
    "          if sumpair > 1000000000 : sumpair = -1\n",
    "        cur0 += 1\n",
    "    return sumpair"
   ]
  },
  {
   "cell_type": "code",
   "execution_count": 13,
   "id": "b4c77ae3-a47d-476a-ac75-2a8f7de44771",
   "metadata": {},
   "outputs": [],
   "source": [
    "assert (solution([0,1,0,1,1]) == 5)\n",
    "\n",
    "assert (solution([1]) == 0)\n",
    "    \n",
    "assert (solution([0]) == 0)\n",
    "\n",
    "assert (solution([0,1,0,0,0]) == 1)\n",
    "\n",
    "assert(solution([0,1,0,0,1]) == 4)"
   ]
  },
  {
   "cell_type": "code",
   "execution_count": null,
   "id": "91d22b12-920e-4feb-8857-bc65cf79ec0b",
   "metadata": {},
   "outputs": [],
   "source": []
  }
 ],
 "metadata": {
  "kernelspec": {
   "display_name": "Python 3 (ipykernel)",
   "language": "python",
   "name": "python3"
  },
  "language_info": {
   "codemirror_mode": {
    "name": "ipython",
    "version": 3
   },
   "file_extension": ".py",
   "mimetype": "text/x-python",
   "name": "python",
   "nbconvert_exporter": "python",
   "pygments_lexer": "ipython3",
   "version": "3.9.7"
  }
 },
 "nbformat": 4,
 "nbformat_minor": 5
}
