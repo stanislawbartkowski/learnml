{
 "cells": [
  {
   "cell_type": "markdown",
   "id": "0787036e-f3b3-4ffc-90ef-e18cef9f9ae6",
   "metadata": {},
   "source": [
    " # ArrayInversionCount\n",
    " https://app.codility.com/programmers/trainings/4/array_inversion_count/"
   ]
  },
  {
   "cell_type": "code",
   "execution_count": 1,
   "id": "d2e6798e-e02f-43ae-855f-ef8794a7646b",
   "metadata": {},
   "outputs": [],
   "source": [
    "from operator import itemgetter\n",
    "import math\n",
    "\n",
    "def sorttable(A):\n",
    "    T = [(A[i],i) for i in range(len(A)) ]\n",
    "    return sorted(T, key = itemgetter(0,1),reverse = True)\n",
    "\n",
    "\n",
    "def findelemrek(T, val, i, first, last):\n",
    "    if first == last: return first\n",
    "    mid = first + math.floor((last-first)/2)\n",
    "    if T[mid][0] == val and T[mid][1] == i: return mid\n",
    "    if T[mid][0] < val or (T[mid][0] == val and T[mid][1] < i) : \n",
    "        return findelemrek(T,val,i,first,mid-1)\n",
    "    return findelemrek(T,val,i,mid+1,last)\n",
    "\n",
    "\n",
    "def findelem(T, val, i):\n",
    "    return findelemrek(T, val, i, 0, len(T)-1)\n",
    "\n",
    "\n",
    "def removeelem(T, i):\n",
    "    del T[i:i+1]\n",
    "\n",
    "\n",
    "def solutionres(A):\n",
    "    T = sorttable(A)\n",
    "    res = []\n",
    "    for i in range(len(A)):\n",
    "        k = findelem(T, A[i], i)\n",
    "        for j in range(k+1, len(T)):\n",
    "            res.append((i, T[j][1]))\n",
    "        removeelem(T, k)\n",
    "    return res\n",
    "\n",
    "\n",
    "def solution(A):\n",
    "    T = sorttable(A)\n",
    "    res = 0\n",
    "    for i in range(len(A)):\n",
    "        k = findelem(T, A[i], i)\n",
    "        res = res + len(T) - k - 1\n",
    "        removeelem(T, k)\n",
    "    return res\n"
   ]
  },
  {
   "cell_type": "code",
   "execution_count": 3,
   "id": "bcb0ff0b-999e-48a8-8fbb-4d5ad245413c",
   "metadata": {},
   "outputs": [],
   "source": [
    "A = [-1,6,3,4,7,4]\n",
    "assert (solution(A) == 4)\n",
    "assert (solution([2,1]) == 1)\n",
    "assert (solution([8]) == 0)"
   ]
  },
  {
   "cell_type": "markdown",
   "id": "e37ff5b4-6e6a-48f8-afb7-0fd91ade68a1",
   "metadata": {},
   "source": [
    "# DisappearingPairs\n",
    "https://app.codility.com/programmers/trainings/4/disappearing_pairs/"
   ]
  },
  {
   "cell_type": "code",
   "execution_count": 4,
   "id": "1c330bae-57fb-4650-a912-b6ebbebf39c7",
   "metadata": {},
   "outputs": [],
   "source": [
    "def solution(S):\n",
    "    D = []\n",
    "    i = 0\n",
    "    while i < len(S):\n",
    "        if i < len(S)-1 and S[i] == S[i+1]:\n",
    "            i = i + 2\n",
    "            continue\n",
    "        if len(D) > 0 and D[len(D)-1] == S[i]:\n",
    "            del D[len(D)-1:len(D)]\n",
    "        else : D.append(S[i])\n",
    "        i = i + 1\n",
    "    res = \"\"\n",
    "    for c in D:\n",
    "        res = res + c\n",
    "    return res"
   ]
  },
  {
   "cell_type": "code",
   "execution_count": 7,
   "id": "09946f33-1f0b-4e87-82cb-d883a87f3ec9",
   "metadata": {},
   "outputs": [],
   "source": [
    "assert (solution(\"ACCAABBC\") == \"AC\")\n",
    "assert (solution(\"ABCBBCBA\") == \"\")"
   ]
  },
  {
   "cell_type": "markdown",
   "id": "0f78a6bf-af0e-4c85-bcf0-bd0259768360",
   "metadata": {},
   "source": [
    "# PolygonConcavityIndex\n",
    "https://app.codility.com/programmers/trainings/4/polygon_concavity_index/\n",
    "\n",
    "(solution is wrong, requires imprpvement)"
   ]
  },
  {
   "cell_type": "code",
   "execution_count": 8,
   "id": "8d37bcfd-3f7b-485b-902f-bb7d616f3b49",
   "metadata": {},
   "outputs": [],
   "source": [
    "# Solution is wrong\n",
    "from typing import List\n",
    "\n",
    "class Point2D(object):\n",
    "  x = 0\n",
    "  y = 0\n",
    "\n",
    "  def __init__(self,x,y) :\n",
    "      self.x = x\n",
    "      self.y = y\n",
    "  \n",
    "\n",
    "def sign (p1 : Point2D,p2 : Point2D,p3 : Point2D) -> float :\n",
    "    return (p1.x - p3.x) * (p2.y - p3.y) - (p2.x - p3.x) * (p1.y - p3.y)\n",
    "\n",
    "def pointintriangle(p : Point2D,a1 : Point2D,a2 : Point2D,a3 : Point2D) :\n",
    "    d1 = sign(p, a1, a2)\n",
    "    d2 = sign(p, a2, a3)\n",
    "    d3 = sign(p, a3, a1)\n",
    "\n",
    "    has_neg = (d1 <= 0) or (d2 <= 0) or (d3 <= 0)\n",
    "    has_pos = (d1 >= 0) or (d2 >= 0) or (d3 >= 0)\n",
    "\n",
    "    return not (has_neg and has_pos)\n",
    "\n",
    "def convexquadrangle(a1 : Point2D,a2 : Point2D,a3 : Point2D,a4 : Point2D) :\n",
    "    if pointintriangle(a1,a2,a3,a4) : return 0\n",
    "    if pointintriangle(a2,a1,a3,a4) : return 1\n",
    "    if pointintriangle(a3,a1,a2,a4) : return 2\n",
    "    if pointintriangle(a4,a1,a2,a3) : return 3\n",
    "    return -1\n",
    "\n",
    "def solution(A : List[Point2D]) :\n",
    "\n",
    "    for i in range(len(A) - 3) :\n",
    "        p = convexquadrangle(A[i],A[i+1],A[i+2],A[i+3])\n",
    "        if p != -1 : return i+p\n",
    "    return -1"
   ]
  },
  {
   "cell_type": "code",
   "execution_count": 9,
   "id": "b15d0f43-bb89-40c0-9a39-a7268f360360",
   "metadata": {},
   "outputs": [],
   "source": [
    "p1 = Point2D(1,2)\n",
    "p2 = Point2D(3,1)\n",
    "p3 = Point2D(-1,-1)\n",
    "\n",
    "assert(pointintriangle(Point2D(1,1),p1,p2,p3))\n",
    "assert(not pointintriangle(Point2D(0,1),p1,p2,p3))\n",
    "\n",
    "assert(not pointintriangle(Point2D(1,1),Point2D(-1,3),Point2D(1,1),Point2D(3,1)))\n",
    "\n",
    "assert (convexquadrangle(Point2D(-1,3),Point2D(1,2),Point2D(3,1),Point2D(1,1)) == -1)\n",
    "\n",
    "assert (convexquadrangle(Point2D(1,2),Point2D(3,1),Point2D(1,1),Point2D(0,-1)) == 2)\n",
    "\n",
    "Q1 = [Point2D(-1,3),Point2D(3,1),Point2D(0,-1),Point2D(-2,1)]\n",
    "assert(solution(Q1) == -1)\n",
    "\n",
    "Q2 = [Point2D(-1,3),Point2D(1,2),Point2D(3,1),Point2D(1,1),Point2D(0,-1),Point2D(2,1),Point2D(-1,2)]\n",
    "assert (solution(Q2) ==3)\n",
    "\n",
    "Q3 = [Point2D(-1,3),Point2D(1,2),Point2D(1,1),Point2D(3,1),Point2D(0,-1),Point2D(-2,1),Point2D(-1,2)]\n",
    "assert (solution(Q2) ==3 )"
   ]
  },
  {
   "cell_type": "code",
   "execution_count": null,
   "id": "7d2cd684-e80e-4eb5-b607-64c8a27cfb3c",
   "metadata": {},
   "outputs": [],
   "source": []
  }
 ],
 "metadata": {
  "kernelspec": {
   "display_name": "Python 3 (ipykernel)",
   "language": "python",
   "name": "python3"
  },
  "language_info": {
   "codemirror_mode": {
    "name": "ipython",
    "version": 3
   },
   "file_extension": ".py",
   "mimetype": "text/x-python",
   "name": "python",
   "nbconvert_exporter": "python",
   "pygments_lexer": "ipython3",
   "version": "3.9.7"
  }
 },
 "nbformat": 4,
 "nbformat_minor": 5
}
