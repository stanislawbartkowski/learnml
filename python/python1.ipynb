{
 "cells": [
  {
   "cell_type": "markdown",
   "id": "diagnostic-mason",
   "metadata": {
    "id": "b1ff7258-4b42-4d9f-b5c8-c6ff979e8ae9",
    "tags": []
   },
   "source": [
    "# Question 1\n",
    "https://www.toptal.com/algorithms/interview-questions   \n",
    "How would you optimally calculate p^k, where k is a non-negative integer? What is the complexity of the solution?"
   ]
  },
  {
   "cell_type": "code",
   "execution_count": 6,
   "id": "loaded-twins",
   "metadata": {
    "id": "b856be07-df3c-413b-b1a4-ff46ec9c4419",
    "tags": []
   },
   "outputs": [],
   "source": [
    "import math\n",
    "\n",
    "def solution(N, K):\n",
    "    if K == 0:\n",
    "        return 1\n",
    "    power = solution(N, math.floor(K/2))\n",
    "    if K % 2 == 0:\n",
    "        return power*power\n",
    "    else:\n",
    "        return N*power*power"
   ]
  },
  {
   "cell_type": "code",
   "execution_count": 7,
   "id": "valuable-found",
   "metadata": {
    "id": "7b24f13b-e828-439d-a1c9-cf2b4fb29826",
    "tags": []
   },
   "outputs": [
    {
     "data": {
      "text/plain": [
       "9"
      ]
     },
     "execution_count": 7,
     "metadata": {},
     "output_type": "execute_result"
    }
   ],
   "source": [
    "solution(3,2)"
   ]
  },
  {
   "cell_type": "code",
   "execution_count": 8,
   "id": "about-batman",
   "metadata": {
    "id": "391dbf84-7a99-4123-9c85-4542688026d8",
    "tags": []
   },
   "outputs": [
    {
     "data": {
      "text/plain": [
       "4194304"
      ]
     },
     "execution_count": 8,
     "metadata": {},
     "output_type": "execute_result"
    }
   ],
   "source": [
    "solution(4,11)"
   ]
  },
  {
   "cell_type": "markdown",
   "id": "afc728d7-2fd6-43e6-b166-94767f647c18",
   "metadata": {
    "id": "38d9d235-2ec9-4051-a20f-6d04deb2b1e1",
    "tags": []
   },
   "source": [
    "# Question 2\n",
    "https://www.toptal.com/algorithms/interview-questions<br>\n",
    "We need to compare numbers to see if they have their opposites in the array."
   ]
  },
  {
   "cell_type": "code",
   "execution_count": 9,
   "id": "early-patient",
   "metadata": {
    "id": "d75a55e7-6b7e-4c85-a212-c286b171c948",
    "tags": []
   },
   "outputs": [],
   "source": [
    "def solution(A) :\n",
    "    S = sorted(A,key=lambda e : abs(e))\n",
    "    res = []\n",
    "    actn = None\n",
    "    for p in S :\n",
    "        if actn == None : \n",
    "           actn = p\n",
    "           alreadypushed = False\n",
    "           continue\n",
    "        if actn == p : continue\n",
    "        if actn != -p and -actn != p :\n",
    "            actn = p\n",
    "            alreadypushed = False\n",
    "            continue\n",
    "        if alreadypushed : continue\n",
    "        res.append(abs(p))\n",
    "        alreadypushed = True\n",
    "    return res\n",
    "\n",
    "def solutionmap(A) :\n",
    "    map = {}\n",
    "    res = []\n",
    "    for e in A:\n",
    "        if abs(e) in map:\n",
    "            if map[abs(e)] == -e :\n",
    "                res.append(abs(e))\n",
    "                map[abs(e)] = None\n",
    "                continue\n",
    "        map[abs(e)] = e \n",
    "    return res"
   ]
  },
  {
   "cell_type": "code",
   "execution_count": 10,
   "id": "premium-evanescence",
   "metadata": {
    "id": "0a1a26db-57b8-441a-b922-8e2d15f26c04",
    "tags": []
   },
   "outputs": [
    {
     "name": "stdout",
     "output_type": "stream",
     "text": [
      "[2, 3, 7]\n",
      "[2, 3, 7]\n"
     ]
    }
   ],
   "source": [
    "A = [-7, 4, -3, 2, 2, -8, -2, 3, 3, 7, -2, 3, -2]\n",
    "S = solution(A)\n",
    "print(S)\n",
    "S = solutionmap(A)\n",
    "print(S)\n"
   ]
  },
  {
   "cell_type": "markdown",
   "id": "equivalent-treatment",
   "metadata": {
    "id": "da95f842-86be-487f-8786-6e835c76dbb4"
   },
   "source": [
    "# Question 5\n",
    "https://www.geeksforgeeks.org/find-maximum-path-sum-in-a-binary-tree/\n",
    "\n",
    "The idea is keep track of greatest path coming through the node and all paths"
   ]
  },
  {
   "cell_type": "code",
   "execution_count": 1,
   "id": "activated-parent",
   "metadata": {
    "id": "36642ef3-a1fc-482e-ab4e-a5b57f0e4775",
    "tags": []
   },
   "outputs": [],
   "source": [
    "def maxsum(T):\n",
    "    \"\"\" Returns max sum for the tree\n",
    "    Args: T tree (node value,left subtree or None, right subtree or node)\n",
    "    Returns: (including,max) : max sum inluding the node, max of all sums\n",
    "    \"\"\" \n",
    "    if T is None : return (0,0)\n",
    "    left = maxsum(T[1])\n",
    "    right = maxsum(T[2])\n",
    "    including = max(left[0] + T[0],right[0] + T[0], T[0])\n",
    "    maxall = max(left[1],right[1],T[0],left[0] + right[0] + T[0])\n",
    "    if including >= maxall : maxall = including\n",
    "    return (including, maxall)\n",
    "\n",
    "def solution(T) :\n",
    "    if T is None : return 0\n",
    "    left = maxsum(T[1])\n",
    "    right = maxsum(T[2])\n",
    "    return max(left[0] + right[0] + T[0], left[0] + T[0],right[0] + T[0],T[0],left[1],right[1],left[0],right[0])\n"
   ]
  },
  {
   "cell_type": "code",
   "execution_count": 2,
   "id": "younger-choice",
   "metadata": {
    "id": "a0d3b957-8775-4599-8e35-3f470c61feb2",
    "tags": []
   },
   "outputs": [
    {
     "name": "stdout",
     "output_type": "stream",
     "text": [
      "6\n"
     ]
    }
   ],
   "source": [
    "T = (1,(2,None,None),(3,None,None))\n",
    "print(solution(T))"
   ]
  },
  {
   "cell_type": "code",
   "execution_count": null,
   "id": "liable-training",
   "metadata": {
    "id": "a42fe0ed-649c-4daf-9f73-69a829128c5b",
    "tags": []
   },
   "outputs": [],
   "source": [
    "T = (-1,(2,None,None),(3,None,None))\n",
    "print(solution(T))"
   ]
  },
  {
   "cell_type": "code",
   "execution_count": 4,
   "id": "victorian-annotation",
   "metadata": {
    "id": "5e66adc7-581c-417c-aeba-c591ddd7f7f3",
    "tags": []
   },
   "outputs": [
    {
     "name": "stdout",
     "output_type": "stream",
     "text": [
      "3\n"
     ]
    }
   ],
   "source": [
    "T = (1,(2,(-1,None,None),None), None)\n",
    "print(solution(T))\n"
   ]
  },
  {
   "cell_type": "code",
   "execution_count": 5,
   "id": "waiting-import",
   "metadata": {
    "id": "3b15661a-0460-4d41-bc2f-fc086b896dd1",
    "tags": []
   },
   "outputs": [
    {
     "name": "stdout",
     "output_type": "stream",
     "text": [
      "42\n"
     ]
    }
   ],
   "source": [
    "T = (10,(2,(20,None,None),(1,None,None)),(10,None,(-25,(3,None,None),(4,None,None))))\n",
    "print(solution(T))"
   ]
  },
  {
   "cell_type": "raw",
   "id": "minus-bacon",
   "metadata": {
    "id": "e16e5483-5585-4226-bb6a-81026dce47a0"
   },
   "source": [
    "# Question 6\n",
    "https://www.educative.io/blog/cracking-top-facebook-coding-interview-questions\n",
    "\n",
    "# The solution is not correct, it does not cover all combination"
   ]
  },
  {
   "cell_type": "code",
   "execution_count": 6,
   "id": "pointed-solomon",
   "metadata": {
    "id": "fa8fb9d2-54a6-4b6f-be9f-fbb72bc70392",
    "tags": []
   },
   "outputs": [],
   "source": [
    "def can_segment_string(s, dictionary):\n",
    "    ss = s\n",
    "    for d in dictionary:\n",
    "      while True:\n",
    "        rpos = ss.rfind(d)\n",
    "        if rpos == -1 : break\n",
    "        ss = ss[0:rpos] + ss[rpos+len(d):]\n",
    "    return len(ss) == 0"
   ]
  },
  {
   "cell_type": "code",
   "execution_count": 7,
   "id": "consistent-dividend",
   "metadata": {
    "id": "12b83724-2e47-497b-89a8-a2c6b96bff3c",
    "tags": []
   },
   "outputs": [
    {
     "name": "stdout",
     "output_type": "stream",
     "text": [
      "True\n",
      "False\n"
     ]
    }
   ],
   "source": [
    "D = [\"apple\",\"apple\",\"pear\",\"pie\"]\n",
    "S = \"applepie\"\n",
    "\n",
    "print(can_segment_string(S,D))\n",
    "print(can_segment_string(\"applepeer\",D))"
   ]
  },
  {
   "cell_type": "markdown",
   "id": "checked-producer",
   "metadata": {
    "id": "e80c68b0-b534-4024-8914-37e21a1e8e7d"
   },
   "source": [
    "# Question 6\n",
    "\n",
    "https://www.educative.io/blog/cracking-top-facebook-coding-interview-questions\n",
    "\n",
    "Dynamic Programming: Find maximum single sell profit"
   ]
  },
  {
   "cell_type": "code",
   "execution_count": 10,
   "id": "dense-clearance",
   "metadata": {
    "id": "23630d3c-99af-4610-9ffe-bbb906752ce8",
    "tags": []
   },
   "outputs": [],
   "source": [
    "def find_buy_sell_stock_prices(S):\n",
    "    current_buy = None\n",
    "    current_max_sell = None\n",
    "    current_max_profit = None\n",
    "    for s in S :\n",
    "        if current_buy is None : \n",
    "            current_buy = s\n",
    "            continue\n",
    "        if current_max_profit is None :\n",
    "            current_max_sell = s\n",
    "            current_max_profit = s - current_buy\n",
    "        current_profit = s - current_buy\n",
    "        if current_profit > current_max_profit :\n",
    "            current_max_profit = current_profit\n",
    "            current_max_sell = s\n",
    "        if s < current_buy : current_buy = s\n",
    "    return (current_max_sell,current_max_profit)"
   ]
  },
  {
   "cell_type": "code",
   "execution_count": 11,
   "id": "narrative-shuttle",
   "metadata": {
    "id": "cd9d3559-90a0-4511-a183-867b8a63057a",
    "tags": []
   },
   "outputs": [
    {
     "name": "stdout",
     "output_type": "stream",
     "text": [
      "(19, 14)\n",
      "(11, -1)\n",
      "(100, 99)\n"
     ]
    }
   ],
   "source": [
    "print(find_buy_sell_stock_prices([8,5,12,9,19,1]))\n",
    "print(find_buy_sell_stock_prices([21,12,11,9,6,3]))\n",
    "print(find_buy_sell_stock_prices([8,5,12,9,19,1,100]))"
   ]
  },
  {
   "cell_type": "code",
   "execution_count": null,
   "id": "sealed-length",
   "metadata": {
    "id": "a202b2eb-4b01-472c-9927-0c8f137efee0"
   },
   "outputs": [],
   "source": []
  }
 ],
 "metadata": {
  "kernelspec": {
   "display_name": "Python 3 (ipykernel)",
   "language": "python",
   "name": "python3"
  },
  "language_info": {
   "codemirror_mode": {
    "name": "ipython",
    "version": 3
   },
   "file_extension": ".py",
   "mimetype": "text/x-python",
   "name": "python",
   "nbconvert_exporter": "python",
   "pygments_lexer": "ipython3",
   "version": "3.9.7"
  }
 },
 "nbformat": 4,
 "nbformat_minor": 5
}
