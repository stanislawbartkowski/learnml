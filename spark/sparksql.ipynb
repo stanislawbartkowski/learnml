{
 "cells": [
  {
   "cell_type": "code",
   "execution_count": 1,
   "id": "1cebc47f-ec31-43b0-b300-79f18d1e182d",
   "metadata": {},
   "outputs": [],
   "source": [
    "import pyspark\n",
    "sc = pyspark.SparkContext()\n",
    "spark = pyspark.sql.SparkSession(sc)"
   ]
  },
  {
   "cell_type": "markdown",
   "id": "95fce666-2f25-453f-9295-3c621d604715",
   "metadata": {},
   "source": [
    "# Read DataFrame from data source"
   ]
  },
  {
   "cell_type": "code",
   "execution_count": 2,
   "id": "6ef328de-61e7-4bc3-9214-2dd91c919a2f",
   "metadata": {},
   "outputs": [],
   "source": [
    "n = 'https://raw.githubusercontent.com/sehgalayush1/movie_revenue/master/ml_modules/data/BollywoodMovieDetail.csv'\n",
    "f = 'BollywoodMovieDetail.csv'\n",
    "\n",
    "sc.addFile(n)\n",
    "movies = spark.read.option(\"header\", True).option(\"inferSchema\", \"true\").csv(pyspark.SparkFiles.get(f))"
   ]
  },
  {
   "cell_type": "code",
   "execution_count": 3,
   "id": "d6ecd890-6c20-4605-97d9-38fb9c1edb70",
   "metadata": {},
   "outputs": [],
   "source": [
    "movies.createOrReplaceTempView(\"tempView\")"
   ]
  },
  {
   "cell_type": "markdown",
   "id": "925f2bed-2866-4a3f-ae60-62b6939075c2",
   "metadata": {},
   "source": [
    "# Sample SQL queries"
   ]
  },
  {
   "cell_type": "code",
   "execution_count": 5,
   "id": "3f888b7e-8b27-4e35-8af4-91de7e9fd708",
   "metadata": {},
   "outputs": [
    {
     "name": "stdout",
     "output_type": "stream",
     "text": [
      "+--------------------+\n",
      "|               title|\n",
      "+--------------------+\n",
      "|            Zokkomon|\n",
      "|   Zindagi Tere Naam|\n",
      "|Zindagi Na Milegi...|\n",
      "+--------------------+\n",
      "only showing top 3 rows\n",
      "\n"
     ]
    }
   ],
   "source": [
    "spark.sql(\"SELECT title FROM tempView WHERE releaseYear > 2010 ORDER BY title desc\").show(3)"
   ]
  },
  {
   "cell_type": "code",
   "execution_count": 6,
   "id": "0bd1dc67-003c-455b-8479-608600f56af7",
   "metadata": {},
   "outputs": [],
   "source": [
    "df = spark.sql(\"\"\"SELECT title, CASE WHEN hitFlop < 5 THEN 'below average' WHEN hitFlop = 5 THEN 'average' WHEN hitFlop > 5 THEN 'above average' END AS MovieRating FROM tempView WHERE releaseYear > 2010 ORDER BY title desc\"\"\")"
   ]
  },
  {
   "cell_type": "code",
   "execution_count": 7,
   "id": "0b624fba-1426-43f6-ad2c-63382aa75fca",
   "metadata": {},
   "outputs": [
    {
     "name": "stdout",
     "output_type": "stream",
     "text": [
      "+--------------------+-------------+\n",
      "|               title|  MovieRating|\n",
      "+--------------------+-------------+\n",
      "|            Zokkomon|below average|\n",
      "|   Zindagi Tere Naam|below average|\n",
      "|Zindagi Na Milegi...|above average|\n",
      "|       Zindagi 50 50|below average|\n",
      "|                 Zid|below average|\n",
      "|            Zed Plus|below average|\n",
      "|             Zanjeer|below average|\n",
      "|         Youngistaan|below average|\n",
      "|   Yeh Saali Zindagi|below average|\n",
      "| Yeh Jo Mohabbat Hai|below average|\n",
      "|Yeh Jawaani Hai D...|above average|\n",
      "|    Yeh Hai Bakrapur|below average|\n",
      "|         Yeh Faasley|below average|\n",
      "|      Ye Stupid Pyar|below average|\n",
      "|Yamla Pagla Deewa...|below average|\n",
      "| Yamla Pagla Deewana|above average|\n",
      "|            Yaariyan|below average|\n",
      "|              Ya Rab|below average|\n",
      "|       What the Fish|below average|\n",
      "|             Warning|below average|\n",
      "+--------------------+-------------+\n",
      "only showing top 20 rows\n",
      "\n"
     ]
    }
   ],
   "source": [
    "df.show()"
   ]
  },
  {
   "cell_type": "markdown",
   "id": "ae1a8cbe-d5b6-4767-94db-22f972544182",
   "metadata": {},
   "source": [
    "# Create a table"
   ]
  },
  {
   "cell_type": "code",
   "execution_count": 8,
   "id": "4e198547-2f89-49e6-8584-746b244f0840",
   "metadata": {},
   "outputs": [
    {
     "data": {
      "text/plain": [
       "DataFrame[]"
      ]
     },
     "execution_count": 8,
     "metadata": {},
     "output_type": "execute_result"
    }
   ],
   "source": [
    "spark.sql(\"CREATE DATABASE spark_course\")"
   ]
  },
  {
   "cell_type": "code",
   "execution_count": 9,
   "id": "17b4fcf7-c2f6-4a16-a491-a4006c069866",
   "metadata": {},
   "outputs": [
    {
     "data": {
      "text/plain": [
       "DataFrame[]"
      ]
     },
     "execution_count": 9,
     "metadata": {},
     "output_type": "execute_result"
    }
   ],
   "source": [
    "spark.sql(\"USE spark_course\")"
   ]
  },
  {
   "cell_type": "code",
   "execution_count": 34,
   "id": "5d959d24-dfb5-421a-84c9-f84ca438d7b7",
   "metadata": {},
   "outputs": [
    {
     "name": "stdout",
     "output_type": "stream",
     "text": [
      "+------------+---------------------------------------+-----------+\n",
      "|namespace   |tableName                              |isTemporary|\n",
      "+------------+---------------------------------------+-----------+\n",
      "|spark_course|movieshortdetailunmanaged              |false      |\n",
      "|spark_course|movieshortdetailusingdataframe         |false      |\n",
      "|spark_course|movieshortdetailusingdataframeunmanaged|false      |\n",
      "|            |tempview                               |true       |\n",
      "+------------+---------------------------------------+-----------+\n",
      "\n"
     ]
    }
   ],
   "source": [
    "spark.sql(\"SHOW TABLES\").show(5, False)"
   ]
  },
  {
   "cell_type": "code",
   "execution_count": 12,
   "id": "8ac58bc7-70c6-44b6-9e64-4baf421ecef2",
   "metadata": {},
   "outputs": [],
   "source": [
    "movies.write.saveAsTable(\"movieShortDetailUsingDataFrame\")"
   ]
  },
  {
   "cell_type": "code",
   "execution_count": 13,
   "id": "d1db9419-8146-4eb6-9ef9-0d2330851479",
   "metadata": {},
   "outputs": [
    {
     "name": "stdout",
     "output_type": "stream",
     "text": [
      "+------------+------------------------------+-----------+\n",
      "|namespace   |tableName                     |isTemporary|\n",
      "+------------+------------------------------+-----------+\n",
      "|spark_course|movieshortdetailusingdataframe|false      |\n",
      "|            |tempview                      |true       |\n",
      "+------------+------------------------------+-----------+\n",
      "\n"
     ]
    }
   ],
   "source": [
    "spark.sql(\"SHOW TABLES\").show(5, False)"
   ]
  },
  {
   "cell_type": "code",
   "execution_count": 20,
   "id": "f774a5d9-9a09-4ca5-91b7-b911bc515a56",
   "metadata": {},
   "outputs": [
    {
     "data": {
      "text/plain": [
       "DataFrame[]"
      ]
     },
     "execution_count": 20,
     "metadata": {},
     "output_type": "execute_result"
    }
   ],
   "source": [
    "spark.sql(\"DROP TABLE movieShortDetailUnmanaged\");\n",
    "spark.sql(\"CREATE TABLE movieShortDetailUnmanaged (imdbID STRING, title STRING) USING parquet OPTIONS (PATH 'data/moviesFile')\")"
   ]
  },
  {
   "cell_type": "code",
   "execution_count": 26,
   "id": "d39b104f-ee22-450b-8271-ff608a951904",
   "metadata": {},
   "outputs": [],
   "source": [
    "df = spark.sql(\"SELECT * FROM movieShortDetailUnmanaged\")"
   ]
  },
  {
   "cell_type": "code",
   "execution_count": 27,
   "id": "bb1582ed-a869-4f93-be84-98e20f2f4c84",
   "metadata": {},
   "outputs": [
    {
     "name": "stdout",
     "output_type": "stream",
     "text": [
      "+------+-----+\n",
      "|imdbID|title|\n",
      "+------+-----+\n",
      "+------+-----+\n",
      "\n"
     ]
    }
   ],
   "source": [
    "df.show()"
   ]
  },
  {
   "cell_type": "code",
   "execution_count": 28,
   "id": "77cbdc96-7dee-4271-af46-39d3a6196f65",
   "metadata": {},
   "outputs": [
    {
     "name": "stdout",
     "output_type": "stream",
     "text": [
      "+---------+--------------------+-----------+-----------+--------------------+--------------------+--------------------+--------------------+------+-------+\n",
      "|   imdbId|               title|releaseYear|releaseDate|               genre|             writers|              actors|           directors|sequel|hitFlop|\n",
      "+---------+--------------------+-----------+-----------+--------------------+--------------------+--------------------+--------------------+------+-------+\n",
      "|tt0118578|              Albela|       2001|20 Apr 2001|             Romance|Honey Irani (scre...|Govinda | Aishwar...|       Deepak Sareen|     0|      2|\n",
      "|tt0169102|Lagaan: Once Upon...|       2001|08 May 2002|Adventure | Drama...|Ashutosh Gowarike...|Aamir Khan | Grac...|  Ashutosh Gowariker|     0|      6|\n",
      "|tt0187279|Meri Biwi Ka Jawa...|       2004|02 Jul 2004|     Action | Comedy|                 N/A|Akshay Kumar | Sr...|Pankaj Parashar |...|     0|      1|\n",
      "|tt0222024|Hum Tumhare Hain ...|       2002|24 May 2002|     Drama | Romance|K.S. Adiyaman | A...|Shah Rukh Khan | ...|       K.S. Adiyaman|     0|      4|\n",
      "|tt0227194|          One 2 Ka 4|       2001|30 Mar 2001|Action | Comedy |...|Sanjay Chhel | Ra...|Shah Rukh Khan | ...|   Shashilal K. Nair|     0|      1|\n",
      "|tt0238936|              Devdas|       2002|12 Jul 2002|   Musical | Romance|Saratchandra Chat...|Shah Rukh Khan | ...|Sanjay Leela Bhan...|     0|      6|\n",
      "|tt0247911|Aap Mujhe Achche ...|       2002|19 Apr 2002|Action | Drama | ...|Robin Bhatt (stor...|Hrithik Roshan | ...|        Vikram Bhatt|     0|      2|\n",
      "|tt0248126|Kabhi Khushi Kabh...|       2001|14 Dec 2001|Drama | Musical |...|Karan Johar | She...|Amitabh Bachchan ...|         Karan Johar|     0|      8|\n",
      "|tt0248216| Na Tum Jaano Na Hum|       2002|10 May 2002|Comedy | Drama | ...|Pratibha Acharya ...|Saif Ali Khan | H...|        Arjun Sablok|     0|      1|\n",
      "|tt0248617|          Yaadein...|       2001|27 Jun 2001|Musical | Drama |...|Subhash Ghai (dia...|Jackie Shroff | H...|        Subhash Ghai|     0|      2|\n",
      "|tt0255713|            Zubeidaa|       2001|19 Jan 2001|Adventure | Biogr...|Khalid Mohamed (o...|Karisma Kapoor | ...|       Shyam Benegal|     0|      1|\n",
      "|tt0256692|Chori Chori Chupk...|       2001|09 Mar 2001|Drama | Musical |...|Shyam Goel (scree...|Preity Zinta | Sa...|Abbas Alibhai Bur...|     0|      5|\n",
      "|tt0265148|Main Prem Ki Diwa...|       2003|27 Jun 2003|Musical | Drama |...|  Sooraj R. Barjatya|Hrithik Roshan | ...|  Sooraj R. Barjatya|     0|      2|\n",
      "|tt0265452|             Officer|       2001|14 Mar 2001|Action | Crime | ...|Naeem Sha (dialog...|Sunil Shetty | Ra...|           Naeem Sha|     0|      2|\n",
      "|tt0267363|         Chandni Bar|       2001|28 Sep 2001|       Crime | Drama|Mohan Azaad (dial...|Tabu | Atul Kulka...|   Madhur Bhandarkar|     0|      5|\n",
      "|tt0271604|Kuch Khatti Kuch ...|       2001|19 Jan 2001|      Drama | Family|                 N/A|Kajol | Rishi Kap...|        Rahul Rawail|     0|      2|\n",
      "|tt0272543|              Censor|       2001|14 Feb 2001|   Musical | Romance|           Dev Anand|Dev Anand | Hema ...|           Dev Anand|     0|      1|\n",
      "|tt0272607|                Farz|       2001|12 Jan 2001|              Action|                 N/A|Sunny Deol | Prei...|          Raj Kanwar|     0|      4|\n",
      "|tt0272735|Mujhe Meri Biwi S...|       2001|18 Jun 2001|Comedy | Musical ...|Harry Baweja (sto...|Rekha | Naseerudd...|        Harry Baweja|     0|      1|\n",
      "|tt0272736|Mujhse Dosti Karoge!|       2002|09 Aug 2002|Musical | Romance...|Aditya Chopra | K...|Rani Mukerji | Hr...|         Kunal Kohli|     0|      2|\n",
      "+---------+--------------------+-----------+-----------+--------------------+--------------------+--------------------+--------------------+------+-------+\n",
      "only showing top 20 rows\n",
      "\n"
     ]
    }
   ],
   "source": [
    "movies.show()"
   ]
  },
  {
   "cell_type": "code",
   "execution_count": 30,
   "id": "d854e78b-7829-4196-9e9e-fd47b962f0aa",
   "metadata": {},
   "outputs": [],
   "source": [
    "# movies.write.option(\"path\",\"data/shortMovieDetail.csv\").saveAsTable(\"movieShortDetailUsingDataFrameUnmanaged\")"
   ]
  },
  {
   "cell_type": "code",
   "execution_count": 32,
   "id": "a1dcfb06-b1b9-49ba-b21a-e0ed86b098f5",
   "metadata": {},
   "outputs": [],
   "source": [
    "df = spark.sql(\"SELECT * FROM movieShortDetailUsingDataFrameUnmanaged\")"
   ]
  },
  {
   "cell_type": "code",
   "execution_count": 33,
   "id": "ceff43e1-6441-4909-9971-638fb3cd5d71",
   "metadata": {},
   "outputs": [
    {
     "name": "stdout",
     "output_type": "stream",
     "text": [
      "+------+-----+-----------+-----------+-----+-------+------+---------+------+-------+\n",
      "|imdbId|title|releaseYear|releaseDate|genre|writers|actors|directors|sequel|hitFlop|\n",
      "+------+-----+-----------+-----------+-----+-------+------+---------+------+-------+\n",
      "+------+-----+-----------+-----------+-----+-------+------+---------+------+-------+\n",
      "\n"
     ]
    }
   ],
   "source": [
    "df.show()"
   ]
  },
  {
   "cell_type": "code",
   "execution_count": null,
   "id": "a88e2caa-e5ab-4375-a3fe-594d56fcf8c1",
   "metadata": {},
   "outputs": [],
   "source": []
  }
 ],
 "metadata": {
  "kernelspec": {
   "display_name": "Python 3 (ipykernel)",
   "language": "python",
   "name": "python3"
  },
  "language_info": {
   "codemirror_mode": {
    "name": "ipython",
    "version": 3
   },
   "file_extension": ".py",
   "mimetype": "text/x-python",
   "name": "python",
   "nbconvert_exporter": "python",
   "pygments_lexer": "ipython3",
   "version": "3.9.7"
  }
 },
 "nbformat": 4,
 "nbformat_minor": 5
}
