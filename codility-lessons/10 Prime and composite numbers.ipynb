{
 "cells": [
  {
   "cell_type": "raw",
   "id": "63bdad75-da34-4712-b9da-56e9c4dc4c1c",
   "metadata": {},
   "source": [
    "# Count Factor\n",
    "\n",
    "https://app.codility.com/programmers/lessons/10-prime_and_composite_numbers/count_factors/"
   ]
  },
  {
   "cell_type": "code",
   "execution_count": 1,
   "id": "613c907c-5b84-4cf7-b2d5-3a144d20657c",
   "metadata": {},
   "outputs": [],
   "source": [
    "import math\n",
    "\n",
    "def solution(N : int) -> int :\n",
    "    assert (N >= 1)\n",
    "    numof : int = 0\n",
    "    sqr : int = int(math.sqrt(N))\n",
    "    for i in range(1,sqr+1) :\n",
    "        if N % i == 0 :  numof += 1\n",
    "        \n",
    "    if sqr**2 == N : return (numof-1)*2 + 1\n",
    "    return 2*numof"
   ]
  },
  {
   "cell_type": "code",
   "execution_count": 2,
   "id": "893b0bef-a019-4e35-bb2f-e978f1a8ac02",
   "metadata": {},
   "outputs": [],
   "source": [
    "assert(solution(24) == 8)\n",
    "assert(solution(1) == 1)\n",
    "assert(solution(2) == 2)\n",
    "assert(solution(3) == 2)\n",
    "assert(solution(4) == 3)\n",
    "assert(solution(6) == 4)"
   ]
  },
  {
   "cell_type": "markdown",
   "id": "bd40c7da-5970-42b7-80bf-d546f89a7ecd",
   "metadata": {},
   "source": [
    "# MinPerimeterRectangle\n",
    "https://app.codility.com/programmers/lessons/10-prime_and_composite_numbers/min_perimeter_rectangle/"
   ]
  },
  {
   "cell_type": "code",
   "execution_count": 3,
   "id": "0ecc850a-cbfa-4a0f-b632-91526a2c3a72",
   "metadata": {},
   "outputs": [],
   "source": [
    "from typing import List\n",
    "import math\n",
    "\n",
    "def solution(N: int) -> int :\n",
    "    startA : int = int(math.sqrt(N))\n",
    "    \n",
    "    while startA > 1 and N % startA != 0 : startA -= 1\n",
    "    \n",
    "    return 2 * (startA + int(N/startA))"
   ]
  },
  {
   "cell_type": "code",
   "execution_count": 4,
   "id": "bd5447e2-d44c-4720-8eb7-882c8229b0c4",
   "metadata": {},
   "outputs": [],
   "source": [
    "assert(solution(30) == 22)\n",
    "\n",
    "assert(solution(1) == 4)\n",
    "assert(solution(2) == 6)\n",
    "assert(solution(3) == 8)\n",
    "assert(solution(4) == 8)"
   ]
  },
  {
   "cell_type": "markdown",
   "id": "86ee525f-efe2-46c6-b23a-eda8b3458674",
   "metadata": {},
   "source": [
    "# Flags\n",
    "\n",
    "https://app.codility.com/programmers/lessons/10-prime_and_composite_numbers/flags/\n",
    "\n",
    "Solution: https://medium.com/@deck451/codility-algorithm-practice-lesson-10-prime-and-composite-numbers-task-3-flags-a-python-5fc799d1b571"
   ]
  },
  {
   "cell_type": "code",
   "execution_count": 5,
   "id": "8bd3a8ea-d723-4276-8dd1-6e43abca7d8f",
   "metadata": {},
   "outputs": [],
   "source": [
    "from typing import List\n",
    "\n",
    "def solution(A : List[int]):\n",
    "    \"\"\"Solution method implementation.\"\"\"\n",
    "    # variable initialization\n",
    "    list_len :int = len(A)\n",
    "    next_peak : List[int] = [0] * list_len\n",
    "    cnt : int = 0\n",
    "    # build lookup list\n",
    "    for i in range(list_len - 2, 0, -1):\n",
    "        if A[i - 1] < A[i] > A[i + 1]:\n",
    "            next_peak[i] = i\n",
    "            cnt += 1\n",
    "        else:\n",
    "            next_peak[i] = next_peak[i + 1]\n",
    "            \n",
    "    # plant flags\n",
    "    for intended in range(cnt, 0, -1):\n",
    "        planted, i = 0, 1\n",
    "        while i < list_len and next_peak[i] and planted < intended:\n",
    "            # move cursor on next peak\n",
    "            i = next_peak[i]\n",
    "            # plant the flag\n",
    "            planted += 1\n",
    "            # k distance between k flags. Move cursor accordingly\n",
    "            i += intended\n",
    "        if intended == planted:\n",
    "            return planted\n",
    "    \n",
    "    return 0        \n"
   ]
  },
  {
   "cell_type": "code",
   "execution_count": 6,
   "id": "8bb9ba95-a3ff-492b-810d-00ffa295c1af",
   "metadata": {},
   "outputs": [],
   "source": [
    "A = [1,5,3,4,3,4,1,2,3,4,6,2]    \n",
    "#print(transformtopeaks(A))\n",
    "assert (solution(A) == 3)\n",
    "assert (solution([1]) == 0)\n",
    "assert (solution([1,3,2]) == 1)\n",
    "assert (solution([1,2,3,4,3,4,1,2,3,4,6,2]) == 2)\n",
    "assert (solution([1,2,1,2,1]) == 2)\n",
    "assert (solution([1,2,1,2,1,2,1,2,1,2,1,2,1,2,1,2,1,2,1]) == 4)\n",
    "assert (solution([3,2,1]) == 0)\n"
   ]
  },
  {
   "cell_type": "markdown",
   "id": "ba26ecd4-a957-42c6-8a95-4e9f35bd857c",
   "metadata": {},
   "source": [
    "# Peaks\n",
    "\n",
    "https://app.codility.com/programmers/lessons/10-prime_and_composite_numbers/peaks/\n",
    "\n",
    "Another solution: https://medium.com/@deck451/codility-algorithm-practice-lesson-10-prime-and-composite-numbers-task-4-peaks-a-python-521d36a4fbab"
   ]
  },
  {
   "cell_type": "code",
   "execution_count": 7,
   "id": "64c13493-8a23-45b0-958e-de67b232d0db",
   "metadata": {},
   "outputs": [],
   "source": [
    "from typing import List\n",
    "\n",
    "def nextpeaks(A : List[int]) :\n",
    "    res : List[int] = [-1 for i in A]\n",
    "    numofpeaks: int = 0\n",
    "    for i in range(len(A)-2,0,-1) :\n",
    "        if A[i-1] < A[i] > A[i+1] : \n",
    "            res[i] = i\n",
    "            numofpeaks += 1\n",
    "        else: \n",
    "            res[i] = res[i+1]\n",
    "    \n",
    "    res[0] = res[1]\n",
    "    return (numofpeaks,res)\n",
    "\n",
    "def solution(A: int) -> int :\n",
    "    \n",
    "    if len(A) < 3 : return 0\n",
    "    \n",
    "    (numofpeaks,peaks) = nextpeaks(A)\n",
    "    if (peaks[0] == -1) : return 0\n",
    "    \n",
    "    \n",
    "    for i in range(numofpeaks,0,-1) :\n",
    "        if len(A) % i == 0 :\n",
    "            klen : int = int(len(A)/i)\n",
    "            ok : bool = True\n",
    "            for k in range(0,len(A),klen) :\n",
    "                if peaks[k] == -1 or peaks[k] > (k + klen-1) :\n",
    "                    ok = False\n",
    "                    break\n",
    "            if ok : \n",
    "#                print(i)\n",
    "                return i\n"
   ]
  },
  {
   "cell_type": "code",
   "execution_count": 8,
   "id": "bdd82ceb-7a81-4fa0-b94a-83e1276fc0dd",
   "metadata": {},
   "outputs": [],
   "source": [
    "A = [1,2,3,4,3,4,1,2,3,4,6,2]\n",
    "\n",
    "#print(nextpeaks(A))\n",
    "assert(solution(A) == 3)\n",
    "assert(solution([1,3,2]) == 1)\n",
    "assert(solution([1,2,3]) == 0)\n",
    "assert(solution([1,2,1,2,1,2,1,2,1]) == 3)\n",
    "assert(solution([1,2,1,2,1,2,1,2,1,2]) == 2)\n",
    "assert(solution([1,3,2,1]) == 1)\n",
    "assert(solution([1,2,1,2,1,2,1,2,1,2]) == 2)"
   ]
  },
  {
   "cell_type": "code",
   "execution_count": null,
   "id": "f10c839d-6097-488e-acc5-ebcdddf39f70",
   "metadata": {},
   "outputs": [],
   "source": []
  }
 ],
 "metadata": {
  "kernelspec": {
   "display_name": "Python 3 (ipykernel)",
   "language": "python",
   "name": "python3"
  },
  "language_info": {
   "codemirror_mode": {
    "name": "ipython",
    "version": 3
   },
   "file_extension": ".py",
   "mimetype": "text/x-python",
   "name": "python",
   "nbconvert_exporter": "python",
   "pygments_lexer": "ipython3",
   "version": "3.9.7"
  }
 },
 "nbformat": 4,
 "nbformat_minor": 5
}
