{
 "cells": [
  {
   "cell_type": "code",
   "execution_count": 1,
   "id": "7520dafd-a810-4727-bb76-17509777b575",
   "metadata": {},
   "outputs": [],
   "source": [
    "import pyspark\n",
    "sc = pyspark.SparkContext()\n",
    "spark = pyspark.sql.SparkSession(sc)"
   ]
  },
  {
   "cell_type": "markdown",
   "id": "0ebcbf15-f864-4295-af22-8665c1fafa51",
   "metadata": {},
   "source": [
    "# Create DataFrame from collection"
   ]
  },
  {
   "cell_type": "code",
   "execution_count": 4,
   "id": "916aec16-8baf-4c54-96b3-2513cbf2ec07",
   "metadata": {},
   "outputs": [],
   "source": [
    "dataDF = (spark.createDataFrame([(\"Gone with the Wind\", 6),\n",
    "      (\"Gone with the Wind\", 8), (\"Gone with the Wind\", 8)])\n",
    "      .toDF(\"movie\", \"rating\"))"
   ]
  },
  {
   "cell_type": "code",
   "execution_count": 5,
   "id": "31cbf1b5-d904-4ed6-b3e2-2c6ca8930a28",
   "metadata": {},
   "outputs": [
    {
     "name": "stdout",
     "output_type": "stream",
     "text": [
      "+------------------+------+\n",
      "|             movie|rating|\n",
      "+------------------+------+\n",
      "|Gone with the Wind|     6|\n",
      "|Gone with the Wind|     8|\n",
      "|Gone with the Wind|     8|\n",
      "+------------------+------+\n",
      "\n"
     ]
    }
   ],
   "source": [
    "dataDF.show()"
   ]
  },
  {
   "cell_type": "code",
   "execution_count": 7,
   "id": "d498d0f6-4d39-4579-b972-f8097457c09b",
   "metadata": {},
   "outputs": [],
   "source": [
    "from pyspark.sql.functions import avg\n",
    "avgDF = (dataDF.groupBy(\"movie\").agg(avg(\"rating\")))"
   ]
  },
  {
   "cell_type": "code",
   "execution_count": 8,
   "id": "26c9c588-f7e5-4b13-bbf4-e2942a724170",
   "metadata": {},
   "outputs": [
    {
     "name": "stdout",
     "output_type": "stream",
     "text": [
      "+------------------+-----------------+\n",
      "|             movie|      avg(rating)|\n",
      "+------------------+-----------------+\n",
      "|Gone with the Wind|7.333333333333333|\n",
      "+------------------+-----------------+\n",
      "\n"
     ]
    }
   ],
   "source": [
    "avgDF.show()"
   ]
  },
  {
   "cell_type": "code",
   "execution_count": null,
   "id": "f0e4f62f-fdef-4a3b-b140-0bf8c5d0dba7",
   "metadata": {},
   "outputs": [],
   "source": []
  }
 ],
 "metadata": {
  "kernelspec": {
   "display_name": "Python 3 (ipykernel)",
   "language": "python",
   "name": "python3"
  },
  "language_info": {
   "codemirror_mode": {
    "name": "ipython",
    "version": 3
   },
   "file_extension": ".py",
   "mimetype": "text/x-python",
   "name": "python",
   "nbconvert_exporter": "python",
   "pygments_lexer": "ipython3",
   "version": "3.9.7"
  }
 },
 "nbformat": 4,
 "nbformat_minor": 5
}
