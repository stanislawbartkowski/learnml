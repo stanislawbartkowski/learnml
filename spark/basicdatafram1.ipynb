{
 "cells": [
  {
   "cell_type": "code",
   "execution_count": 1,
   "id": "35ae55a3-560d-46c3-b8e5-74ae4cbac81f",
   "metadata": {},
   "outputs": [],
   "source": [
    "import pyspark\n",
    "sc = pyspark.SparkContext()\n",
    "spark = pyspark.sql.SparkSession(sc)"
   ]
  },
  {
   "cell_type": "markdown",
   "id": "85ae26c9-54e2-46f2-90ce-7f40e4364993",
   "metadata": {},
   "source": [
    "# DataFrame from data source"
   ]
  },
  {
   "cell_type": "code",
   "execution_count": 2,
   "id": "1a53ea61-b356-453e-8d43-1af72d2f0a78",
   "metadata": {},
   "outputs": [],
   "source": [
    "n = 'https://raw.githubusercontent.com/sehgalayush1/movie_revenue/master/ml_modules/data/BollywoodMovieDetail.csv'\n",
    "f = 'BollywoodMovieDetail.csv'\n",
    "\n",
    "sc.addFile(n)\n",
    "movies = spark.read.option(\"header\", True).option(\"inferSchema\", \"true\").csv(pyspark.SparkFiles.get(f))"
   ]
  },
  {
   "cell_type": "code",
   "execution_count": 3,
   "id": "83da7417-3116-4fa6-8170-68758bfdf807",
   "metadata": {},
   "outputs": [
    {
     "name": "stdout",
     "output_type": "stream",
     "text": [
      "root\n",
      " |-- imdbId: string (nullable = true)\n",
      " |-- title: string (nullable = true)\n",
      " |-- releaseYear: integer (nullable = true)\n",
      " |-- releaseDate: string (nullable = true)\n",
      " |-- genre: string (nullable = true)\n",
      " |-- writers: string (nullable = true)\n",
      " |-- actors: string (nullable = true)\n",
      " |-- directors: string (nullable = true)\n",
      " |-- sequel: string (nullable = true)\n",
      " |-- hitFlop: integer (nullable = true)\n",
      "\n"
     ]
    }
   ],
   "source": [
    "movies.printSchema()"
   ]
  },
  {
   "cell_type": "code",
   "execution_count": 4,
   "id": "9e2b8735-d8a6-46ea-b2ab-263ce41ed94a",
   "metadata": {},
   "outputs": [
    {
     "name": "stdout",
     "output_type": "stream",
     "text": [
      "+---------+--------------------+-----------+-----------+--------------------+--------------------+--------------------+--------------------+------+-------+\n",
      "|   imdbId|               title|releaseYear|releaseDate|               genre|             writers|              actors|           directors|sequel|hitFlop|\n",
      "+---------+--------------------+-----------+-----------+--------------------+--------------------+--------------------+--------------------+------+-------+\n",
      "|tt0118578|              Albela|       2001|20 Apr 2001|             Romance|Honey Irani (scre...|Govinda | Aishwar...|       Deepak Sareen|     0|      2|\n",
      "|tt0169102|Lagaan: Once Upon...|       2001|08 May 2002|Adventure | Drama...|Ashutosh Gowarike...|Aamir Khan | Grac...|  Ashutosh Gowariker|     0|      6|\n",
      "|tt0187279|Meri Biwi Ka Jawa...|       2004|02 Jul 2004|     Action | Comedy|                 N/A|Akshay Kumar | Sr...|Pankaj Parashar |...|     0|      1|\n",
      "|tt0222024|Hum Tumhare Hain ...|       2002|24 May 2002|     Drama | Romance|K.S. Adiyaman | A...|Shah Rukh Khan | ...|       K.S. Adiyaman|     0|      4|\n",
      "|tt0227194|          One 2 Ka 4|       2001|30 Mar 2001|Action | Comedy |...|Sanjay Chhel | Ra...|Shah Rukh Khan | ...|   Shashilal K. Nair|     0|      1|\n",
      "|tt0238936|              Devdas|       2002|12 Jul 2002|   Musical | Romance|Saratchandra Chat...|Shah Rukh Khan | ...|Sanjay Leela Bhan...|     0|      6|\n",
      "|tt0247911|Aap Mujhe Achche ...|       2002|19 Apr 2002|Action | Drama | ...|Robin Bhatt (stor...|Hrithik Roshan | ...|        Vikram Bhatt|     0|      2|\n",
      "|tt0248126|Kabhi Khushi Kabh...|       2001|14 Dec 2001|Drama | Musical |...|Karan Johar | She...|Amitabh Bachchan ...|         Karan Johar|     0|      8|\n",
      "|tt0248216| Na Tum Jaano Na Hum|       2002|10 May 2002|Comedy | Drama | ...|Pratibha Acharya ...|Saif Ali Khan | H...|        Arjun Sablok|     0|      1|\n",
      "|tt0248617|          Yaadein...|       2001|27 Jun 2001|Musical | Drama |...|Subhash Ghai (dia...|Jackie Shroff | H...|        Subhash Ghai|     0|      2|\n",
      "|tt0255713|            Zubeidaa|       2001|19 Jan 2001|Adventure | Biogr...|Khalid Mohamed (o...|Karisma Kapoor | ...|       Shyam Benegal|     0|      1|\n",
      "|tt0256692|Chori Chori Chupk...|       2001|09 Mar 2001|Drama | Musical |...|Shyam Goel (scree...|Preity Zinta | Sa...|Abbas Alibhai Bur...|     0|      5|\n",
      "|tt0265148|Main Prem Ki Diwa...|       2003|27 Jun 2003|Musical | Drama |...|  Sooraj R. Barjatya|Hrithik Roshan | ...|  Sooraj R. Barjatya|     0|      2|\n",
      "|tt0265452|             Officer|       2001|14 Mar 2001|Action | Crime | ...|Naeem Sha (dialog...|Sunil Shetty | Ra...|           Naeem Sha|     0|      2|\n",
      "|tt0267363|         Chandni Bar|       2001|28 Sep 2001|       Crime | Drama|Mohan Azaad (dial...|Tabu | Atul Kulka...|   Madhur Bhandarkar|     0|      5|\n",
      "|tt0271604|Kuch Khatti Kuch ...|       2001|19 Jan 2001|      Drama | Family|                 N/A|Kajol | Rishi Kap...|        Rahul Rawail|     0|      2|\n",
      "|tt0272543|              Censor|       2001|14 Feb 2001|   Musical | Romance|           Dev Anand|Dev Anand | Hema ...|           Dev Anand|     0|      1|\n",
      "|tt0272607|                Farz|       2001|12 Jan 2001|              Action|                 N/A|Sunny Deol | Prei...|          Raj Kanwar|     0|      4|\n",
      "|tt0272735|Mujhe Meri Biwi S...|       2001|18 Jun 2001|Comedy | Musical ...|Harry Baweja (sto...|Rekha | Naseerudd...|        Harry Baweja|     0|      1|\n",
      "|tt0272736|Mujhse Dosti Karoge!|       2002|09 Aug 2002|Musical | Romance...|Aditya Chopra | K...|Rani Mukerji | Hr...|         Kunal Kohli|     0|      2|\n",
      "+---------+--------------------+-----------+-----------+--------------------+--------------------+--------------------+--------------------+------+-------+\n",
      "only showing top 20 rows\n",
      "\n"
     ]
    }
   ],
   "source": [
    "movies.show()"
   ]
  },
  {
   "cell_type": "markdown",
   "id": "b2a5c1c0-a60e-45b0-97e0-5089539950ed",
   "metadata": {},
   "source": [
    "# DataFrame from data source and samplingRatio"
   ]
  },
  {
   "cell_type": "code",
   "execution_count": 5,
   "id": "df1e9134-4e24-48af-a829-7c32b1d44bf7",
   "metadata": {},
   "outputs": [],
   "source": [
    "movies = spark.read.option(\"header\", True).option(\"inferSchema\", \"true\").option(\"samplingRatio\", 0.01).csv(pyspark.SparkFiles.get(f))"
   ]
  },
  {
   "cell_type": "code",
   "execution_count": 7,
   "id": "3542a2c1-389a-44e4-96cd-34007a2e5e6f",
   "metadata": {},
   "outputs": [
    {
     "name": "stdout",
     "output_type": "stream",
     "text": [
      "root\n",
      " |-- imdbId: string (nullable = true)\n",
      " |-- title: string (nullable = true)\n",
      " |-- releaseYear: integer (nullable = true)\n",
      " |-- releaseDate: string (nullable = true)\n",
      " |-- genre: string (nullable = true)\n",
      " |-- writers: string (nullable = true)\n",
      " |-- actors: string (nullable = true)\n",
      " |-- directors: string (nullable = true)\n",
      " |-- sequel: integer (nullable = true)\n",
      " |-- hitFlop: integer (nullable = true)\n",
      "\n"
     ]
    }
   ],
   "source": [
    "movies.printSchema()"
   ]
  },
  {
   "cell_type": "markdown",
   "id": "ac5858b9-5711-4213-b27d-53429902a3ad",
   "metadata": {},
   "source": [
    "# DataFrame from data source and apply schema"
   ]
  },
  {
   "cell_type": "code",
   "execution_count": 8,
   "id": "48fc5cf2-3491-4c39-94e8-65b6862498bc",
   "metadata": {},
   "outputs": [],
   "source": [
    "ddl = 'imdbId STRING, title STRING, releaseYear DATE, releaseDate DATE, genre STRING, writers STRING, actors STRING, directors STRING, sequel INT, hitFlop INT'"
   ]
  },
  {
   "cell_type": "code",
   "execution_count": 10,
   "id": "4a109495-4638-49aa-b1a1-fc322e93d64e",
   "metadata": {},
   "outputs": [],
   "source": [
    "movies = spark.read.option(\"header\", True).option(\"inferSchema\", \"false\").option(\"dateFormat\",\"d MMM y\").schema(ddl).csv(pyspark.SparkFiles.get(f))"
   ]
  },
  {
   "cell_type": "code",
   "execution_count": 11,
   "id": "ab701666-49d6-43dc-a2b7-2e40d40e0e86",
   "metadata": {},
   "outputs": [
    {
     "name": "stdout",
     "output_type": "stream",
     "text": [
      "root\n",
      " |-- imdbId: string (nullable = true)\n",
      " |-- title: string (nullable = true)\n",
      " |-- releaseYear: date (nullable = true)\n",
      " |-- releaseDate: date (nullable = true)\n",
      " |-- genre: string (nullable = true)\n",
      " |-- writers: string (nullable = true)\n",
      " |-- actors: string (nullable = true)\n",
      " |-- directors: string (nullable = true)\n",
      " |-- sequel: integer (nullable = true)\n",
      " |-- hitFlop: integer (nullable = true)\n",
      "\n"
     ]
    }
   ],
   "source": [
    "movies.printSchema()"
   ]
  },
  {
   "cell_type": "code",
   "execution_count": 12,
   "id": "6144b449-abbe-4995-89c1-c72b3050d8bc",
   "metadata": {},
   "outputs": [
    {
     "name": "stdout",
     "output_type": "stream",
     "text": [
      "+---------+--------------------+-----------+-----------+--------------------+--------------------+--------------------+--------------------+------+-------+\n",
      "|   imdbId|               title|releaseYear|releaseDate|               genre|             writers|              actors|           directors|sequel|hitFlop|\n",
      "+---------+--------------------+-----------+-----------+--------------------+--------------------+--------------------+--------------------+------+-------+\n",
      "|tt0118578|              Albela| 2001-01-01| 2001-04-20|             Romance|Honey Irani (scre...|Govinda | Aishwar...|       Deepak Sareen|     0|      2|\n",
      "|tt0169102|Lagaan: Once Upon...| 2001-01-01| 2002-05-08|Adventure | Drama...|Ashutosh Gowarike...|Aamir Khan | Grac...|  Ashutosh Gowariker|     0|      6|\n",
      "|tt0187279|Meri Biwi Ka Jawa...| 2004-01-01| 2004-07-02|     Action | Comedy|                 N/A|Akshay Kumar | Sr...|Pankaj Parashar |...|     0|      1|\n",
      "|tt0222024|Hum Tumhare Hain ...| 2002-01-01| 2002-05-24|     Drama | Romance|K.S. Adiyaman | A...|Shah Rukh Khan | ...|       K.S. Adiyaman|     0|      4|\n",
      "|tt0227194|          One 2 Ka 4| 2001-01-01| 2001-03-30|Action | Comedy |...|Sanjay Chhel | Ra...|Shah Rukh Khan | ...|   Shashilal K. Nair|     0|      1|\n",
      "|tt0238936|              Devdas| 2002-01-01| 2002-07-12|   Musical | Romance|Saratchandra Chat...|Shah Rukh Khan | ...|Sanjay Leela Bhan...|     0|      6|\n",
      "|tt0247911|Aap Mujhe Achche ...| 2002-01-01| 2002-04-19|Action | Drama | ...|Robin Bhatt (stor...|Hrithik Roshan | ...|        Vikram Bhatt|     0|      2|\n",
      "|tt0248126|Kabhi Khushi Kabh...| 2001-01-01| 2001-12-14|Drama | Musical |...|Karan Johar | She...|Amitabh Bachchan ...|         Karan Johar|     0|      8|\n",
      "|tt0248216| Na Tum Jaano Na Hum| 2002-01-01| 2002-05-10|Comedy | Drama | ...|Pratibha Acharya ...|Saif Ali Khan | H...|        Arjun Sablok|     0|      1|\n",
      "|tt0248617|          Yaadein...| 2001-01-01| 2001-06-27|Musical | Drama |...|Subhash Ghai (dia...|Jackie Shroff | H...|        Subhash Ghai|     0|      2|\n",
      "|tt0255713|            Zubeidaa| 2001-01-01| 2001-01-19|Adventure | Biogr...|Khalid Mohamed (o...|Karisma Kapoor | ...|       Shyam Benegal|     0|      1|\n",
      "|tt0256692|Chori Chori Chupk...| 2001-01-01| 2001-03-09|Drama | Musical |...|Shyam Goel (scree...|Preity Zinta | Sa...|Abbas Alibhai Bur...|     0|      5|\n",
      "|tt0265148|Main Prem Ki Diwa...| 2003-01-01| 2003-06-27|Musical | Drama |...|  Sooraj R. Barjatya|Hrithik Roshan | ...|  Sooraj R. Barjatya|     0|      2|\n",
      "|tt0265452|             Officer| 2001-01-01| 2001-03-14|Action | Crime | ...|Naeem Sha (dialog...|Sunil Shetty | Ra...|           Naeem Sha|     0|      2|\n",
      "|tt0267363|         Chandni Bar| 2001-01-01| 2001-09-28|       Crime | Drama|Mohan Azaad (dial...|Tabu | Atul Kulka...|   Madhur Bhandarkar|     0|      5|\n",
      "|tt0271604|Kuch Khatti Kuch ...| 2001-01-01| 2001-01-19|      Drama | Family|                 N/A|Kajol | Rishi Kap...|        Rahul Rawail|     0|      2|\n",
      "|tt0272543|              Censor| 2001-01-01| 2001-02-14|   Musical | Romance|           Dev Anand|Dev Anand | Hema ...|           Dev Anand|     0|      1|\n",
      "|tt0272607|                Farz| 2001-01-01| 2001-01-12|              Action|                 N/A|Sunny Deol | Prei...|          Raj Kanwar|     0|      4|\n",
      "|tt0272735|Mujhe Meri Biwi S...| 2001-01-01| 2001-06-18|Comedy | Musical ...|Harry Baweja (sto...|Rekha | Naseerudd...|        Harry Baweja|     0|      1|\n",
      "|tt0272736|Mujhse Dosti Karoge!| 2002-01-01| 2002-08-09|Musical | Romance...|Aditya Chopra | K...|Rani Mukerji | Hr...|         Kunal Kohli|     0|      2|\n",
      "+---------+--------------------+-----------+-----------+--------------------+--------------------+--------------------+--------------------+------+-------+\n",
      "only showing top 20 rows\n",
      "\n"
     ]
    }
   ],
   "source": [
    "movies.show()"
   ]
  },
  {
   "cell_type": "markdown",
   "id": "505c2d3e-5802-4164-aca1-e4f3be952d38",
   "metadata": {},
   "source": [
    "# Write DataFrame and reread"
   ]
  },
  {
   "cell_type": "code",
   "execution_count": 13,
   "id": "02ba139c-70b3-4ee2-866e-4556dbeb6edf",
   "metadata": {},
   "outputs": [],
   "source": [
    "movies.write.format('parquet').save('data/moviesFile')"
   ]
  },
  {
   "cell_type": "code",
   "execution_count": 15,
   "id": "64625842-7aa7-472e-97f2-a3e27c445cdb",
   "metadata": {},
   "outputs": [],
   "source": [
    "movies1 = spark.read.parquet('data/moviesFile')"
   ]
  },
  {
   "cell_type": "code",
   "execution_count": 16,
   "id": "2270c2fb-5657-4811-87c5-bf36567410f9",
   "metadata": {},
   "outputs": [
    {
     "name": "stdout",
     "output_type": "stream",
     "text": [
      "root\n",
      " |-- imdbId: string (nullable = true)\n",
      " |-- title: string (nullable = true)\n",
      " |-- releaseYear: date (nullable = true)\n",
      " |-- releaseDate: date (nullable = true)\n",
      " |-- genre: string (nullable = true)\n",
      " |-- writers: string (nullable = true)\n",
      " |-- actors: string (nullable = true)\n",
      " |-- directors: string (nullable = true)\n",
      " |-- sequel: integer (nullable = true)\n",
      " |-- hitFlop: integer (nullable = true)\n",
      "\n"
     ]
    }
   ],
   "source": [
    "movies1.printSchema()"
   ]
  },
  {
   "cell_type": "code",
   "execution_count": 17,
   "id": "a2300ac1-c69f-49b6-9cc3-52f20b9760ed",
   "metadata": {},
   "outputs": [
    {
     "name": "stdout",
     "output_type": "stream",
     "text": [
      "+---------+--------------------+-----------+-----------+--------------------+--------------------+--------------------+--------------------+------+-------+\n",
      "|   imdbId|               title|releaseYear|releaseDate|               genre|             writers|              actors|           directors|sequel|hitFlop|\n",
      "+---------+--------------------+-----------+-----------+--------------------+--------------------+--------------------+--------------------+------+-------+\n",
      "|tt0118578|              Albela| 2001-01-01| 2001-04-20|             Romance|Honey Irani (scre...|Govinda | Aishwar...|       Deepak Sareen|     0|      2|\n",
      "|tt0169102|Lagaan: Once Upon...| 2001-01-01| 2002-05-08|Adventure | Drama...|Ashutosh Gowarike...|Aamir Khan | Grac...|  Ashutosh Gowariker|     0|      6|\n",
      "|tt0187279|Meri Biwi Ka Jawa...| 2004-01-01| 2004-07-02|     Action | Comedy|                 N/A|Akshay Kumar | Sr...|Pankaj Parashar |...|     0|      1|\n",
      "|tt0222024|Hum Tumhare Hain ...| 2002-01-01| 2002-05-24|     Drama | Romance|K.S. Adiyaman | A...|Shah Rukh Khan | ...|       K.S. Adiyaman|     0|      4|\n",
      "|tt0227194|          One 2 Ka 4| 2001-01-01| 2001-03-30|Action | Comedy |...|Sanjay Chhel | Ra...|Shah Rukh Khan | ...|   Shashilal K. Nair|     0|      1|\n",
      "|tt0238936|              Devdas| 2002-01-01| 2002-07-12|   Musical | Romance|Saratchandra Chat...|Shah Rukh Khan | ...|Sanjay Leela Bhan...|     0|      6|\n",
      "|tt0247911|Aap Mujhe Achche ...| 2002-01-01| 2002-04-19|Action | Drama | ...|Robin Bhatt (stor...|Hrithik Roshan | ...|        Vikram Bhatt|     0|      2|\n",
      "|tt0248126|Kabhi Khushi Kabh...| 2001-01-01| 2001-12-14|Drama | Musical |...|Karan Johar | She...|Amitabh Bachchan ...|         Karan Johar|     0|      8|\n",
      "|tt0248216| Na Tum Jaano Na Hum| 2002-01-01| 2002-05-10|Comedy | Drama | ...|Pratibha Acharya ...|Saif Ali Khan | H...|        Arjun Sablok|     0|      1|\n",
      "|tt0248617|          Yaadein...| 2001-01-01| 2001-06-27|Musical | Drama |...|Subhash Ghai (dia...|Jackie Shroff | H...|        Subhash Ghai|     0|      2|\n",
      "|tt0255713|            Zubeidaa| 2001-01-01| 2001-01-19|Adventure | Biogr...|Khalid Mohamed (o...|Karisma Kapoor | ...|       Shyam Benegal|     0|      1|\n",
      "|tt0256692|Chori Chori Chupk...| 2001-01-01| 2001-03-09|Drama | Musical |...|Shyam Goel (scree...|Preity Zinta | Sa...|Abbas Alibhai Bur...|     0|      5|\n",
      "|tt0265148|Main Prem Ki Diwa...| 2003-01-01| 2003-06-27|Musical | Drama |...|  Sooraj R. Barjatya|Hrithik Roshan | ...|  Sooraj R. Barjatya|     0|      2|\n",
      "|tt0265452|             Officer| 2001-01-01| 2001-03-14|Action | Crime | ...|Naeem Sha (dialog...|Sunil Shetty | Ra...|           Naeem Sha|     0|      2|\n",
      "|tt0267363|         Chandni Bar| 2001-01-01| 2001-09-28|       Crime | Drama|Mohan Azaad (dial...|Tabu | Atul Kulka...|   Madhur Bhandarkar|     0|      5|\n",
      "|tt0271604|Kuch Khatti Kuch ...| 2001-01-01| 2001-01-19|      Drama | Family|                 N/A|Kajol | Rishi Kap...|        Rahul Rawail|     0|      2|\n",
      "|tt0272543|              Censor| 2001-01-01| 2001-02-14|   Musical | Romance|           Dev Anand|Dev Anand | Hema ...|           Dev Anand|     0|      1|\n",
      "|tt0272607|                Farz| 2001-01-01| 2001-01-12|              Action|                 N/A|Sunny Deol | Prei...|          Raj Kanwar|     0|      4|\n",
      "|tt0272735|Mujhe Meri Biwi S...| 2001-01-01| 2001-06-18|Comedy | Musical ...|Harry Baweja (sto...|Rekha | Naseerudd...|        Harry Baweja|     0|      1|\n",
      "|tt0272736|Mujhse Dosti Karoge!| 2002-01-01| 2002-08-09|Musical | Romance...|Aditya Chopra | K...|Rani Mukerji | Hr...|         Kunal Kohli|     0|      2|\n",
      "+---------+--------------------+-----------+-----------+--------------------+--------------------+--------------------+--------------------+------+-------+\n",
      "only showing top 20 rows\n",
      "\n"
     ]
    }
   ],
   "source": [
    "movies1.show()"
   ]
  },
  {
   "cell_type": "code",
   "execution_count": null,
   "id": "de20690b-581b-40ed-bf10-cda4681ec4f0",
   "metadata": {},
   "outputs": [],
   "source": []
  }
 ],
 "metadata": {
  "kernelspec": {
   "display_name": "Python 3 (ipykernel)",
   "language": "python",
   "name": "python3"
  },
  "language_info": {
   "codemirror_mode": {
    "name": "ipython",
    "version": 3
   },
   "file_extension": ".py",
   "mimetype": "text/x-python",
   "name": "python",
   "nbconvert_exporter": "python",
   "pygments_lexer": "ipython3",
   "version": "3.9.7"
  }
 },
 "nbformat": 4,
 "nbformat_minor": 5
}
