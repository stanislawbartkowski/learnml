{
 "cells": [
  {
   "cell_type": "markdown",
   "id": "2ee4d809-c032-406a-91c8-7815d8dacfe0",
   "metadata": {},
   "source": [
    "# ArrListLen\n",
    "https://app.codility.com/programmers/trainings/7/arr_list_len/"
   ]
  },
  {
   "cell_type": "code",
   "execution_count": 1,
   "id": "b8951045-95d7-4426-b385-d8d107e24444",
   "metadata": {},
   "outputs": [],
   "source": [
    "def solution(A) :\n",
    "    len = 1\n",
    "    pos = 0\n",
    "    while A[pos] != -1 :\n",
    "        len = len + 1\n",
    "        pos = A[pos]\n",
    "    return len"
   ]
  },
  {
   "cell_type": "code",
   "execution_count": 3,
   "id": "7fac7be1-992f-416f-914a-8e9fde9e7e0e",
   "metadata": {},
   "outputs": [],
   "source": [
    "assert(solution([1,4,-1,3,2]) == 4)"
   ]
  },
  {
   "cell_type": "markdown",
   "id": "0b68fc4a-6666-465d-a8a4-eddbdc50f556",
   "metadata": {},
   "source": [
    "#  CountBoundedSlices\n",
    "https://app.codility.com/programmers/trainings/7/count_bounded_slices/\n",
    "\n",
    "(bad solution: requires improvement)\n"
   ]
  },
  {
   "cell_type": "code",
   "execution_count": 6,
   "id": "84910bf5-1ac8-499a-8f43-973ac11d7e86",
   "metadata": {},
   "outputs": [],
   "source": [
    "# bad performance\n",
    "def solution(A,K):\n",
    "    num = 0\n",
    "    for i in range(len(A)):\n",
    "        minv = A[i]\n",
    "        maxv = A[i]\n",
    "        for j in range(i,len(A)):\n",
    "            minv = min(minv,A[j])\n",
    "            maxv = max(maxv,A[j])\n",
    "            if maxv - minv <= K : \n",
    "#                print(i,j)\n",
    "                num = num + 1                \n",
    "                continue\n",
    "            break\n",
    "    return num"
   ]
  },
  {
   "cell_type": "code",
   "execution_count": 7,
   "id": "5c913443-94c4-4e27-82da-112e1439d702",
   "metadata": {},
   "outputs": [],
   "source": [
    "assert (solution([3,5,7,6,3],2) == 9)\n"
   ]
  },
  {
   "cell_type": "markdown",
   "id": "5573be4a-5d10-4af2-812f-55bc27531504",
   "metadata": {},
   "source": [
    "# TreeLongestZigZag\n",
    "\n",
    "https://app.codility.com/programmers/trainings/7/tree_longest_zig_zag/"
   ]
  },
  {
   "cell_type": "code",
   "execution_count": 9,
   "id": "1f9771df-eea6-4f92-bbde-ea9d7b6c707f",
   "metadata": {},
   "outputs": [],
   "source": [
    "def maxzig(dir,node) :\n",
    "    # dir: 0 - root, 1 - left, 2 - right\n",
    "    left = node[1]\n",
    "    right = node[2]\n",
    "    maxleft = 0\n",
    "    if left is not None : \n",
    "        maxleft = maxzig(1,left)\n",
    "        if dir == 2 : maxleft = maxleft + 1\n",
    "    maxright = 0\n",
    "    if right is not None:\n",
    "        maxright = maxzig(2,right)\n",
    "        if dir == 1: maxright = maxright + 1\n",
    "    return max(maxleft,maxright)\n",
    "\n",
    "def solution(tree) :\n",
    "    return maxzig(0,tree)"
   ]
  },
  {
   "cell_type": "code",
   "execution_count": 11,
   "id": "0bda511b-7e2e-4b2f-8881-26242d792ce4",
   "metadata": {},
   "outputs": [],
   "source": [
    "Tree =  (5, (3, (20, (6, None, None), None), None), (10, (1, None, None), (15, (30, None, (9, None, None)), (8, None, None))))   \n",
    "assert (solution(Tree) == 2)"
   ]
  },
  {
   "cell_type": "markdown",
   "id": "84db4265-09ba-41dc-9b9d-f01052acb52a",
   "metadata": {},
   "source": [
    "# CountriesCount\n",
    "https://app.codility.com/programmers/trainings/7/countries_count/\n",
    "\n",
    "(bad solution, requires improvements)"
   ]
  },
  {
   "cell_type": "code",
   "execution_count": 14,
   "id": "6a2cf5b7-32b5-4d6c-97ed-cc366c039888",
   "metadata": {},
   "outputs": [],
   "source": [
    "# bad performance\n",
    "def alreadyused(pos,U) :\n",
    "    for p in U :\n",
    "        if p == pos : return True\n",
    "    return False\n",
    "\n",
    "def ortfindadjacent(pos,U,A,norows,nocols) :\n",
    "    row = pos[0]\n",
    "    col = pos[1]\n",
    "    list = []\n",
    "    for r in range(max(0,row-1),min(row+2,norows)):\n",
    "        for c in range(max(0,col-1),min(col+2,nocols)):\n",
    "            if r != row or c != col: \n",
    "                a = (r,c)\n",
    "                if not alreadyused(a,U) : list.append((r,c))\n",
    "    return list\n",
    "\n",
    "def findadjacent(pos,U,A,norows,nocols) :\n",
    "    row = pos[0]\n",
    "    col = pos[1]\n",
    "    list = []\n",
    "    for x in [(0,-1),(0,1),(-1,0),(1,0)] :\n",
    "        r = row+ x[0]\n",
    "        c = col+x[1]        \n",
    "        if r >=0 and r<norows and c>=0 and c<nocols:\n",
    "            p = (r,c)\n",
    "            if not alreadyused(p,U): list.append(p)\n",
    "        \n",
    "    return list\n",
    "\n",
    "\n",
    "def getcol(A,p) :\n",
    "    return A[p[0]][p[1]]\n",
    "\n",
    "def findnext(U,norows,nocols):\n",
    "    for i in range(norows) :\n",
    "        for j in range(nocols):\n",
    "            if not alreadyused((i,j),U): return (i,j)\n",
    "    return None\n",
    "\n",
    "def solution(A):\n",
    "    norows = len(A)\n",
    "    nocols = len(A[0])\n",
    "    U = []\n",
    "    nocountries = 0\n",
    "    while True:\n",
    "        pos = findnext(U,norows,nocols)\n",
    "        if pos == None : return nocountries\n",
    "        col = getcol(A,pos)\n",
    "        nocountries = nocountries + 1\n",
    "        listofpos = [pos]\n",
    "        visited = [ p for p in U]\n",
    "        ipos = 0\n",
    "        while ipos < len(listofpos):\n",
    "            apos = listofpos[ipos]\n",
    "            ipos = ipos + 1\n",
    "            visited.append(apos)\n",
    "            U.append(apos)\n",
    "            adjacent = findadjacent(apos,visited,A,norows,nocols)\n",
    "            for p in adjacent:\n",
    "                visited.append(p)\n",
    "                acol = getcol(A,p)\n",
    "                if acol == col : listofpos.append(p)\n",
    "                      \n",
    "    return nocountries   "
   ]
  },
  {
   "cell_type": "code",
   "execution_count": 15,
   "id": "2a83a28a-1b39-49b7-a525-eed0e20aca63",
   "metadata": {},
   "outputs": [],
   "source": [
    "A = [[5,4,4],[4,3,4],[3,2,4],[2,2,2],[3,3,4],[1,4,4],[4,1,1]]\n",
    "assert(solution(A) == 11)"
   ]
  },
  {
   "cell_type": "code",
   "execution_count": null,
   "id": "54102de4-d359-4ffd-bdf5-48de42b468c6",
   "metadata": {},
   "outputs": [],
   "source": []
  }
 ],
 "metadata": {
  "kernelspec": {
   "display_name": "Python 3 (ipykernel)",
   "language": "python",
   "name": "python3"
  },
  "language_info": {
   "codemirror_mode": {
    "name": "ipython",
    "version": 3
   },
   "file_extension": ".py",
   "mimetype": "text/x-python",
   "name": "python",
   "nbconvert_exporter": "python",
   "pygments_lexer": "ipython3",
   "version": "3.9.7"
  }
 },
 "nbformat": 4,
 "nbformat_minor": 5
}
