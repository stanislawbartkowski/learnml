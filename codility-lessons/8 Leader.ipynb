{
 "cells": [
  {
   "cell_type": "markdown",
   "id": "adcc32e3-140a-42bc-a6f8-d5394e8ff410",
   "metadata": {},
   "source": [
    "# Dominator\n",
    "https://app.codility.com/programmers/lessons/8-leader/dominator/"
   ]
  },
  {
   "cell_type": "code",
   "execution_count": 1,
   "id": "c1b4f08d-088d-4596-8a31-dddc9b0a4b0d",
   "metadata": {},
   "outputs": [],
   "source": [
    "from typing import List\n",
    "from collections.abc import Mapping\n",
    "\n",
    "def solution(A : List[int]) -> int :\n",
    "    m : Mapping[int,int] = {}\n",
    "    \n",
    "    if len(A) == 1 : return 0\n",
    "    \n",
    "    for i in range(len(A)) :\n",
    "        no = A[i]\n",
    "        if no in m : \n",
    "            if m[no] >= int(len(A)/2) : return i\n",
    "            m[no] += 1\n",
    "        else:\n",
    "            m[no] = 1\n",
    "    return -1"
   ]
  },
  {
   "cell_type": "code",
   "execution_count": 2,
   "id": "fd7fd1d4-3df2-4214-8a19-5529853b6194",
   "metadata": {},
   "outputs": [],
   "source": [
    "assert(solution([3,4,3,2,3,-1,3,3]) == 7)\n",
    "assert(solution([3,4,3,2,3,-1,3,3,1,1]) == -1)\n",
    "assert(solution([3,4,3,2,3,-1,3,3,1]) == 7)\n",
    "assert(solution([3]) == 0)"
   ]
  },
  {
   "cell_type": "markdown",
   "id": "972ad703-2454-47cc-a849-841842f35c0d",
   "metadata": {},
   "source": [
    "# EquiLeader\n",
    "https://app.codility.com/programmers/lessons/8-leader/equi_leader/"
   ]
  },
  {
   "cell_type": "code",
   "execution_count": 3,
   "id": "af4a04c0-c081-488b-be69-0866b8fe884e",
   "metadata": {},
   "outputs": [],
   "source": [
    "from typing import List\n",
    "\n",
    "def findCandidate(A: List[int]) :\n",
    "    size : int = 0\n",
    "    ival : int\n",
    "    no : int\n",
    "    \n",
    "    for i in range(len(A)) :\n",
    "        if size == 0 :\n",
    "            size = 1\n",
    "            ival = i\n",
    "            no = 1\n",
    "        elif A[ival] == A[i] : \n",
    "            size += 1\n",
    "            no += 1\n",
    "        else: size -= 1\n",
    "        \n",
    "    return A[ival]\n",
    "\n",
    "def solution(A : List[int]) -> int :\n",
    "    assert(len(A) > 0)\n",
    "    candidate : int = findCandidate(A)\n",
    "    # calculate number of occurences\n",
    "    occurr : int = 0\n",
    "    for e in A : \n",
    "        if e == candidate : occurr += 1\n",
    "        \n",
    "    occurl : int = 0\n",
    "    no : int = 0\n",
    "        \n",
    "    for i in range(len(A)) :\n",
    "        if A[i] == candidate :\n",
    "            occurl += 1\n",
    "            occurr -= 1\n",
    "        if occurl > (i+1) / 2 and occurr > (len(A) - (i +1) ) /2 : \n",
    "            no += 1\n",
    "            \n",
    "    return no\n"
   ]
  },
  {
   "cell_type": "code",
   "execution_count": 4,
   "id": "81ee0e70-ebaf-4d1c-b086-a26ba8ed820d",
   "metadata": {},
   "outputs": [],
   "source": [
    "assert(solution([4,3,4,4,4,2]) == 2)\n",
    "assert(solution([4,3,4,4,4,4]) == 4)\n",
    "\n",
    "assert(solution([7]) == 0)\n",
    "\n",
    "assert(solution([1,1]) == 1)"
   ]
  },
  {
   "cell_type": "code",
   "execution_count": null,
   "id": "d4bde529-6d58-41c9-b2ba-1433e6aea04b",
   "metadata": {},
   "outputs": [],
   "source": []
  }
 ],
 "metadata": {
  "kernelspec": {
   "display_name": "Python 3 (ipykernel)",
   "language": "python",
   "name": "python3"
  },
  "language_info": {
   "codemirror_mode": {
    "name": "ipython",
    "version": 3
   },
   "file_extension": ".py",
   "mimetype": "text/x-python",
   "name": "python",
   "nbconvert_exporter": "python",
   "pygments_lexer": "ipython3",
   "version": "3.9.7"
  }
 },
 "nbformat": 4,
 "nbformat_minor": 5
}
