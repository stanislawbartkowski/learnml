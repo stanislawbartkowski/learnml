{
 "cells": [
  {
   "cell_type": "markdown",
   "id": "ae3f99c3-8319-47a0-a711-cb78ab24dcd6",
   "metadata": {},
   "source": [
    "# Question 1\n",
    " Implement Breadth-First Graph Traversal"
   ]
  },
  {
   "cell_type": "code",
   "execution_count": 1,
   "id": "d1187748-e8b6-4018-aa0f-08094eacbd43",
   "metadata": {},
   "outputs": [],
   "source": [
    "from typing import List,Set\n",
    "\n",
    "class Graph :\n",
    "    \n",
    "    def __init__(self,nofnode) :\n",
    "        self.nodes = [ [] for _ in range(nofnode)]\n",
    "        self.__x = 5\n",
    "        \n",
    "    def add_edge(self,source,dest) :\n",
    "        assert (source >= 0 and source < len(self.nodes))\n",
    "        assert (dest >= 0 and dest < len(self.nodes))\n",
    "        self.nodes[source].append(dest)\n",
    "        \n",
    "    def print(self) :\n",
    "        for i in range(len(self.nodes)) :\n",
    "            print(f'{i} : {self.nodes[i]}')\n",
    "            \n",
    "    def getedges(self,node) -> List[int] :\n",
    "        return self.nodes[node]"
   ]
  },
  {
   "cell_type": "code",
   "execution_count": 2,
   "id": "47f066f8-4b93-4212-9655-fb8522bb0e8b",
   "metadata": {},
   "outputs": [],
   "source": [
    "g = Graph(5)\n",
    "g.add_edge(0,1)\n",
    "g.add_edge(0,2)\n",
    "g.add_edge(1,3)\n",
    "g.add_edge(1,4)"
   ]
  },
  {
   "cell_type": "code",
   "execution_count": 3,
   "id": "6a0c3fbd-0254-45d6-bea2-8f30984f5dc9",
   "metadata": {},
   "outputs": [],
   "source": [
    "def bfs(g : Graph, source : int) -> str :\n",
    "    vertexwalked : Set[int] = set()\n",
    "    vertexnotwalked : List[int] = [source]\n",
    "    res : str = \"\"\n",
    "    \n",
    "    while (len(vertexnotwalked) > 0) :\n",
    "        current = vertexnotwalked[0]\n",
    "        del vertexnotwalked[0]\n",
    "        if current in vertexwalked : continue\n",
    "        res += str(current)\n",
    "        edges : List[int] = g.getedges(current)\n",
    "        for edge in edges :\n",
    "            print (f'{current} -> {edge}')\n",
    "            vertexnotwalked.append(edge)\n",
    "        vertexwalked.add(current)\n",
    "        \n",
    "    return res"
   ]
  },
  {
   "cell_type": "code",
   "execution_count": 4,
   "id": "f6e0b789-8130-4e75-91fb-3d4c7220906b",
   "metadata": {},
   "outputs": [
    {
     "name": "stdout",
     "output_type": "stream",
     "text": [
      "0 -> 1\n",
      "0 -> 2\n",
      "1 -> 3\n",
      "1 -> 4\n"
     ]
    }
   ],
   "source": [
    "assert(bfs(g,0) == \"01234\")"
   ]
  },
  {
   "cell_type": "markdown",
   "id": "7df43107-591b-46d4-941a-d6ae6e2d1113",
   "metadata": {},
   "source": [
    "# Question 2\n",
    "\n",
    "Implement a function that returns the number of nodes at a given level starting from a root node of a directed graph."
   ]
  },
  {
   "cell_type": "code",
   "execution_count": 5,
   "id": "a36dc6a8-7d2b-4acb-b22c-f6e9fb3f16ff",
   "metadata": {},
   "outputs": [],
   "source": [
    "def number_of_nodes(graph : Graph, level : int) -> int : \n",
    "    assert(level >= 1)\n",
    "    vertexwalked : Set[int] = set()\n",
    "    vertexlevel : List[int] = [0]\n",
    "    currentlevel : int = 1\n",
    "    while (currentlevel < level) :\n",
    "        nextlevel : List[int] = []\n",
    "        for v in vertexlevel :\n",
    "            edges = g.getedges(v)\n",
    "            nextlevel += [ e for e in edges if e not in vertexwalked]\n",
    "            vertexwalked.add(v)\n",
    "        currentlevel += 1\n",
    "        vertexlevel = nextlevel\n",
    "        \n",
    "    return len(vertexlevel)   "
   ]
  },
  {
   "cell_type": "code",
   "execution_count": 6,
   "id": "fa023a46-dc8d-4b08-bf34-8df30e829c1a",
   "metadata": {},
   "outputs": [],
   "source": [
    "assert(number_of_nodes(g,1) == 1)\n",
    "assert(number_of_nodes(g,2) == 2)\n",
    "assert(number_of_nodes(g,3) == 2)\n",
    "assert(number_of_nodes(g,4) == 0)"
   ]
  },
  {
   "cell_type": "code",
   "execution_count": null,
   "id": "ef6eab5f-3318-4fb9-a852-3e5fb18dc88a",
   "metadata": {},
   "outputs": [],
   "source": []
  }
 ],
 "metadata": {
  "kernelspec": {
   "display_name": "Python 3 (ipykernel)",
   "language": "python",
   "name": "python3"
  },
  "language_info": {
   "codemirror_mode": {
    "name": "ipython",
    "version": 3
   },
   "file_extension": ".py",
   "mimetype": "text/x-python",
   "name": "python",
   "nbconvert_exporter": "python",
   "pygments_lexer": "ipython3",
   "version": "3.9.7"
  }
 },
 "nbformat": 4,
 "nbformat_minor": 5
}
