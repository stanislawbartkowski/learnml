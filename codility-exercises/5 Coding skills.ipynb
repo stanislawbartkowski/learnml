{
 "cells": [
  {
   "cell_type": "markdown",
   "id": "39f0c35d-ad83-4997-a319-5a33e17be586",
   "metadata": {},
   "source": [
    "# ParityDegree\n",
    "\n",
    "https://app.codility.com/programmers/trainings/5/parity_degree/"
   ]
  },
  {
   "cell_type": "code",
   "execution_count": 1,
   "id": "8d272a37-bacd-4291-bfda-b4cf61c8f52e",
   "metadata": {},
   "outputs": [],
   "source": [
    "def solution(N) :\n",
    "    exp = 0\n",
    "    power = 1\n",
    "    while power<<1 <= N :\n",
    "        power = power<<1\n",
    "        exp = exp + 1\n",
    "\n",
    "    while exp >= 0 :\n",
    "        if N % power == 0: return exp\n",
    "        exp = exp - 1\n",
    "        power = power >> 1"
   ]
  },
  {
   "cell_type": "code",
   "execution_count": 3,
   "id": "4179ea19-7a96-4039-bd4d-2a938d9c4d27",
   "metadata": {},
   "outputs": [],
   "source": [
    "assert (solution(24)  == 3)\n",
    "assert (solution(16) == 4)\n",
    "assert (solution(1) == 0)"
   ]
  },
  {
   "cell_type": "markdown",
   "id": "6156800a-47dd-4120-887d-788ee96d56eb",
   "metadata": {},
   "source": [
    "# ThreeLetters\n",
    "https://app.codility.com/programmers/trainings/5/three_letters/"
   ]
  },
  {
   "cell_type": "code",
   "execution_count": 5,
   "id": "55944953-2d5e-418d-a7d7-7875281adab2",
   "metadata": {},
   "outputs": [],
   "source": [
    "def solution(A, B):\n",
    "    res = \"\"\n",
    "\n",
    "    AA = A\n",
    "    BB = B\n",
    "    leta = 'a'\n",
    "    letb = 'b'\n",
    "    if B > A:\n",
    "        AA = B\n",
    "        BB = A\n",
    "        leta = 'b'\n",
    "        letb = 'a'\n",
    "\n",
    "    while AA > 0 and BB > 0:\n",
    "        if AA > BB:\n",
    "            res = res + leta + leta + letb\n",
    "            AA = AA - 2\n",
    "            BB = BB - 1\n",
    "            continue\n",
    "        if BB > AA:\n",
    "            res = res + leta + letb + letb\n",
    "            AA = AA - 1\n",
    "            BB = BB - 2\n",
    "            continue\n",
    "        res = res + leta + letb\n",
    "        AA = AA - 1\n",
    "        BB = BB - 1\n",
    "\n",
    "    if AA == 2: return res + leta + leta\n",
    "    if AA == 1: return res + leta\n",
    "    if AA == 0: return res\n",
    "    return None"
   ]
  },
  {
   "cell_type": "code",
   "execution_count": 10,
   "id": "38f3e335-1034-4cdc-bab7-91282d8b85ad",
   "metadata": {},
   "outputs": [],
   "source": [
    "assert (solution(5,3) == 'aabaabab')\n",
    "assert (solution(3,5) == 'bbabbaba')\n",
    "assert (solution(3,3) == 'ababab')\n",
    "assert (solution(1,4) == 'bbabb')"
   ]
  },
  {
   "cell_type": "code",
   "execution_count": null,
   "id": "d3b346d6-4c6c-4c9c-b266-decf19cdc1d5",
   "metadata": {},
   "outputs": [],
   "source": []
  }
 ],
 "metadata": {
  "kernelspec": {
   "display_name": "Python 3 (ipykernel)",
   "language": "python",
   "name": "python3"
  },
  "language_info": {
   "codemirror_mode": {
    "name": "ipython",
    "version": 3
   },
   "file_extension": ".py",
   "mimetype": "text/x-python",
   "name": "python",
   "nbconvert_exporter": "python",
   "pygments_lexer": "ipython3",
   "version": "3.9.7"
  }
 },
 "nbformat": 4,
 "nbformat_minor": 5
}
