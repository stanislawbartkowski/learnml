{
 "cells": [
  {
   "cell_type": "markdown",
   "id": "4c3d3fb5-d7bc-4ca5-ad32-1198fbdd0bfc",
   "metadata": {},
   "source": [
    "# MaxCounters\n",
    "https://app.codility.com/programmers/lessons/4-counting_elements/max_counters/"
   ]
  },
  {
   "cell_type": "code",
   "execution_count": 1,
   "id": "700b8d20-68da-45d7-aa51-68813b6c168c",
   "metadata": {},
   "outputs": [],
   "source": [
    "# brute force solution, fails the performance test\n",
    "def solutionnotmap(N, A):\n",
    "    C = [0 for _ in range(N)]\n",
    "    amax = 0\n",
    "    for c in A :\n",
    "        c = c\n",
    "        if c == N + 1 :\n",
    "            for i in range(N) :\n",
    "                C[i] = amax\n",
    "        else:\n",
    "            C[c-1] = C[c-1] + 1\n",
    "            if C[c-1] > amax : amax = C[c-1]\n",
    "\n",
    "    return C\n",
    "\n",
    "# optimal solution, avoid reseting the counter table after reaching the max command\n",
    "def solution(N, A):\n",
    "    C = [0 for _ in range(N)]\n",
    "    oldmax = 0\n",
    "    newmax = 0\n",
    "    map = {}\n",
    "    for c in A :\n",
    "        c = c\n",
    "        if c == N + 1 :\n",
    "            map = {}\n",
    "            oldmax = newmax\n",
    "#            for i in range(N) :\n",
    "#                C[i] = amax\n",
    "        else:            \n",
    "            if c in map : C[c-1] = C[c-1] + 1\n",
    "            else :\n",
    "              map[c] = 1\n",
    "              C[c-1] = oldmax + 1\n",
    "            if C[c-1] > newmax : newmax = C[c-1]\n",
    "\n",
    "    for i in range(N) :\n",
    "        if (i+1) not in map: C[i] = oldmax\n",
    "    return C"
   ]
  },
  {
   "cell_type": "code",
   "execution_count": 2,
   "id": "f7bf0f64-7475-4708-a191-94f67bd3f45a",
   "metadata": {},
   "outputs": [
    {
     "name": "stdout",
     "output_type": "stream",
     "text": [
      "[3, 2, 2, 4, 2]\n"
     ]
    }
   ],
   "source": [
    "A = [3,4,4,6,1,4,4]\n",
    "print(solution(5,A))"
   ]
  },
  {
   "cell_type": "markdown",
   "id": "17521457-c006-4ae7-8403-9277ee4fb3c6",
   "metadata": {},
   "source": [
    "# ArrayInversionCount\n",
    "https://app.codility.com/programmers/trainings/4/array_inversion_count/"
   ]
  },
  {
   "cell_type": "markdown",
   "id": "46617eb6-92cb-433f-b87f-bd1223e3c142",
   "metadata": {},
   "source": [
    "# FrogRiverOne\n",
    "https://app.codility.com/programmers/lessons/4-counting_elements/frog_river_one/"
   ]
  },
  {
   "cell_type": "code",
   "execution_count": 8,
   "id": "d1b86021-7290-44cd-8291-e0986e7bc20e",
   "metadata": {},
   "outputs": [],
   "source": [
    "from typing import Set, List\n",
    "\n",
    "\n",
    "def solution(X : int, A : List[int]) -> int :\n",
    "    assert(len(A) > 0)\n",
    "    assert(X > 0)\n",
    "    numb : Set[int] = set()\n",
    "\n",
    "    expectedsum : int = int((X*(X+1)) / 2)\n",
    "    sum : int = 0\n",
    "\n",
    "    for i in range(0,len(A)) :\n",
    "        if not A[i] in numb : sum = sum + A[i]\n",
    "        if sum == expectedsum : return i\n",
    "        numb.add(A[i])\n",
    "    \n",
    "    return -1"
   ]
  },
  {
   "cell_type": "code",
   "execution_count": 9,
   "id": "de44af52-2ff4-4cc9-b823-51d5ffbfe3b4",
   "metadata": {},
   "outputs": [],
   "source": [
    "assert (solution(5,[1,3,1,4,2,3,5,4]) == 6)\n",
    "assert (solution(1,[1]) == 0)\n",
    "assert (solution(3,[2,1]) == -1)\n",
    "assert (solution(3,[3,2,1]) == 2)"
   ]
  },
  {
   "cell_type": "code",
   "execution_count": null,
   "id": "ea6c219e-7447-4a89-b080-611ef6cfa705",
   "metadata": {},
   "outputs": [],
   "source": []
  }
 ],
 "metadata": {
  "kernelspec": {
   "display_name": "Python 3 (ipykernel)",
   "language": "python",
   "name": "python3"
  },
  "language_info": {
   "codemirror_mode": {
    "name": "ipython",
    "version": 3
   },
   "file_extension": ".py",
   "mimetype": "text/x-python",
   "name": "python",
   "nbconvert_exporter": "python",
   "pygments_lexer": "ipython3",
   "version": "3.9.7"
  }
 },
 "nbformat": 4,
 "nbformat_minor": 5
}
