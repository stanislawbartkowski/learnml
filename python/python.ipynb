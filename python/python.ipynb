{
 "cells": [
  {
   "cell_type": "markdown",
   "id": "filled-philadelphia",
   "metadata": {
    "id": "5b040ae4-50d0-4621-a782-074a87295a9c",
    "tags": []
   },
   "source": [
    "# Question 1\n",
    "Arrays: move zeros to the left\n",
    "Given an integer array, move all elements that are 0 to the left while maintaining the order of other elements in the array. The array has to be modified in-place."
   ]
  },
  {
   "cell_type": "code",
   "execution_count": 29,
   "id": "demanding-middle",
   "metadata": {
    "id": "2c5f0af5-56a4-4153-af79-aadb8d7db6ed",
    "tags": []
   },
   "outputs": [],
   "source": [
    "from typing import List\n",
    "\n",
    "\n",
    "def move_zeros_to_left(A: List[int]):\n",
    "    zeros = 0\n",
    "    for i in range(len(A)-1, -1, -1):\n",
    "        if A[i] == 0: \n",
    "            zeros = zeros + 1\n",
    "        else: \n",
    "            A[i + zeros] = A[i]\n",
    "    for i in range(zeros):\n",
    "        A[i] = 0"
   ]
  },
  {
   "cell_type": "code",
   "execution_count": 30,
   "id": "lasting-trailer",
   "metadata": {
    "id": "e91ed366-e0c9-4692-83c5-faad27ec4df1",
    "tags": []
   },
   "outputs": [],
   "source": [
    "testlist = [1, 10, 20, 0, 59, 63, 0, 88, 0]"
   ]
  },
  {
   "cell_type": "code",
   "execution_count": 31,
   "id": "hydraulic-maldives",
   "metadata": {
    "id": "1ceb6b38-4270-48b4-b523-049678a91e2a",
    "tags": []
   },
   "outputs": [],
   "source": [
    "move_zeros_to_left(testlist)"
   ]
  },
  {
   "cell_type": "code",
   "execution_count": 32,
   "id": "fitted-lincoln",
   "metadata": {
    "id": "f102869f-6b52-4aa6-b230-c5b9cce0f185",
    "tags": []
   },
   "outputs": [
    {
     "name": "stdout",
     "output_type": "stream",
     "text": [
      "[0, 0, 0, 1, 10, 20, 59, 63, 88]\n"
     ]
    }
   ],
   "source": [
    "print(testlist)"
   ]
  },
  {
   "cell_type": "markdown",
   "id": "insured-amber",
   "metadata": {
    "id": "1f20ac33-b46d-49be-960f-58cd20741239"
   },
   "source": [
    "# Question 2"
   ]
  },
  {
   "cell_type": "code",
   "execution_count": 33,
   "id": "linear-applicant",
   "metadata": {
    "id": "b72aa2e2-b2be-4790-8f29-31a39b364ffb",
    "tags": []
   },
   "outputs": [],
   "source": [
    "class Pair:\n",
    "    def __init__(self, first: int, second: int):\n",
    "        self.first = first\n",
    "        self.second = second"
   ]
  },
  {
   "cell_type": "code",
   "execution_count": 57,
   "id": "brilliant-humanity",
   "metadata": {
    "id": "e1073782-7112-48f4-8e43-00a1e4e1a404",
    "tags": []
   },
   "outputs": [],
   "source": [
    "def merge_intervals(v: List[Pair]) -> List[Pair]:\n",
    "    result = []\n",
    "    actinterval = None\n",
    "    for p in v:\n",
    "        if actinterval is None:\n",
    "            actinterval = Pair(p.first, p.second)\n",
    "        else:\n",
    "            if p.first <= actinterval.second:\n",
    "                actinterval.second = max(actinterval.second, p.second)\n",
    "            else:\n",
    "                result.append(actinterval)\n",
    "                actinterval = Pair(p.first, p.second)\n",
    "\n",
    "    if actinterval is not None:\n",
    "        result.append(actinterval)\n",
    "\n",
    "    return result"
   ]
  },
  {
   "cell_type": "code",
   "execution_count": 62,
   "id": "viral-inflation",
   "metadata": {
    "id": "d09a819a-6900-47bc-9adc-28fb13f429d0",
    "tags": []
   },
   "outputs": [],
   "source": [
    "testlist1 = [Pair(1, 5), Pair(3, 7), Pair(4, 6), Pair(6, 8), Pair(10, 12), \n",
    "             Pair(12, 15)]"
   ]
  },
  {
   "cell_type": "code",
   "execution_count": 63,
   "id": "likely-armstrong",
   "metadata": {
    "id": "2b64a128-447a-451f-ae29-7455239a109c",
    "tags": []
   },
   "outputs": [
    {
     "name": "stdout",
     "output_type": "stream",
     "text": [
      "Merged intervals\n",
      "first: 1, last:8\n",
      "first: 10, last:15\n"
     ]
    }
   ],
   "source": [
    "testresult = merge_intervals(testlist1)\n",
    "print(\"Merged intervals\")\n",
    "for p in testresult:\n",
    "    print(\"first: {0}, last:{1}\".format(p.first, p.second))"
   ]
  },
  {
   "cell_type": "markdown",
   "id": "major-singles",
   "metadata": {
    "id": "01583bd7-c2c1-4386-aef1-6c2ce40c3b94"
   },
   "source": [
    "# Question 3\n",
    "https://app.codility.com/programmers/lessons/1-iterations/binary_gap/"
   ]
  },
  {
   "cell_type": "code",
   "execution_count": 2,
   "id": "auburn-thickness",
   "metadata": {
    "id": "36791091-8531-4bbd-ad1a-4a0972332c75",
    "tags": []
   },
   "outputs": [],
   "source": [
    "def solution(N):\n",
    "    max_gap = 0\n",
    "    gap = -1\n",
    "    for _ in range(1, 32):\n",
    "        b = N & 1\n",
    "        N = N>>1\n",
    "        if gap == -1:\n",
    "            if b == 0: continue\n",
    "            gap = 0\n",
    "            continue\n",
    "        if b == 1:\n",
    "            max_gap = max(gap,max_gap)\n",
    "            gap = 0\n",
    "        else:\n",
    "            gap = gap + 1\n",
    "    return max_gap\n"
   ]
  },
  {
   "cell_type": "code",
   "execution_count": 14,
   "id": "demographic-forty",
   "metadata": {
    "id": "cdf112f9-a87d-46ec-9305-fd2868e3c742",
    "tags": []
   },
   "outputs": [],
   "source": [
    "assert (solution(9) == 2)\n",
    "assert(solution(529) == 4)\n",
    "assert(solution(20) == 1)\n",
    "assert(solution(15) == 0)\n",
    "assert(solution(32) == 0)\n",
    "assert(solution(1041) == 5)"
   ]
  },
  {
   "cell_type": "markdown",
   "id": "vietnamese-recipient",
   "metadata": {
    "id": "c65b973f-06b2-4470-a955-8420db98bd8c",
    "tags": []
   },
   "source": [
    "# Question 4\n",
    "https://app.codility.com/programmers/lessons/2-arrays/cyclic_rotation/"
   ]
  },
  {
   "cell_type": "code",
   "execution_count": 80,
   "id": "cathedral-royalty",
   "metadata": {
    "id": "442d201a-38f1-40e6-a829-81672a0f9936",
    "tags": []
   },
   "outputs": [],
   "source": [
    "def rotate_by_one(A):\n",
    "    if len(A) <= 1:\n",
    "        return A\n",
    "    res = [e for e in A][:len(A)-1]\n",
    "    return [A[len(A)-1]] + res\n",
    "\n",
    "\n",
    "def solution(A, K):\n",
    "    if K == 0:\n",
    "        return A\n",
    "    res = rotate_by_one(A)\n",
    "    for _ in range(K-1):\n",
    "        res = rotate_by_one(res)\n",
    "    return res"
   ]
  },
  {
   "cell_type": "code",
   "execution_count": 77,
   "id": "built-seafood",
   "metadata": {
    "id": "08fcbf20-5841-4952-b124-0581e06605c6",
    "tags": []
   },
   "outputs": [
    {
     "data": {
      "text/plain": [
       "[9, 7, 6, 3, 8]"
      ]
     },
     "execution_count": 77,
     "metadata": {},
     "output_type": "execute_result"
    }
   ],
   "source": [
    "solution(A,3)"
   ]
  },
  {
   "cell_type": "code",
   "execution_count": 78,
   "id": "included-lover",
   "metadata": {
    "id": "910e80af-2394-4550-9c95-9f9582aa4012",
    "tags": []
   },
   "outputs": [
    {
     "data": {
      "text/plain": [
       "[0, 0, 0]"
      ]
     },
     "execution_count": 78,
     "metadata": {},
     "output_type": "execute_result"
    }
   ],
   "source": [
    "solution([0,0,0],1)"
   ]
  },
  {
   "cell_type": "code",
   "execution_count": 79,
   "id": "sixth-equivalent",
   "metadata": {
    "id": "56313722-e39b-4a03-bcb4-f9e965137802",
    "tags": []
   },
   "outputs": [
    {
     "data": {
      "text/plain": [
       "[1, 2, 3, 4]"
      ]
     },
     "execution_count": 79,
     "metadata": {},
     "output_type": "execute_result"
    }
   ],
   "source": [
    "solution([1,2,3,4],4)"
   ]
  },
  {
   "cell_type": "markdown",
   "id": "running-citizenship",
   "metadata": {
    "id": "432934d5-08bb-48d5-a025-e814936c80f0",
    "tags": []
   },
   "source": [
    "# Question 5\n",
    "https://app.codility.com/programmers/lessons/3-time_complexity/frog_jmp/"
   ]
  },
  {
   "cell_type": "code",
   "execution_count": null,
   "id": "rotary-knitting",
   "metadata": {
    "id": "f53746e6-2f47-4afb-818b-413c116cf80f",
    "tags": []
   },
   "outputs": [],
   "source": [
    "def solution(X, Y, D):\n",
    "    import math\n",
    "    distance = Y-X\n",
    "    return math.ceil(distance/D)\n"
   ]
  },
  {
   "cell_type": "code",
   "execution_count": 86,
   "id": "governing-swedish",
   "metadata": {
    "id": "904c1818-4116-4698-9cc5-0d35a55e76cf",
    "tags": []
   },
   "outputs": [
    {
     "data": {
      "text/plain": [
       "3"
      ]
     },
     "execution_count": 86,
     "metadata": {},
     "output_type": "execute_result"
    }
   ],
   "source": [
    "solution(10,85,30)"
   ]
  },
  {
   "cell_type": "markdown",
   "id": "sized-optimum",
   "metadata": {
    "id": "959fc374-a195-4eb6-a5da-5bb351f483ac",
    "tags": []
   },
   "source": [
    "# Question 6\n",
    "https://app.codility.com/programmers/trainings/9/count_conforming_bitmasks/"
   ]
  },
  {
   "cell_type": "code",
   "execution_count": null,
   "id": "southeast-region",
   "metadata": {
    "id": "4b45e187-8d14-4777-9ebf-9ebc2969673c",
    "tags": []
   },
   "outputs": [],
   "source": [
    "# WRONG\n",
    "def solution(A, B, C):\n",
    "    numa = 1\n",
    "    numb = 1\n",
    "    numc = 1\n",
    "    dupl = 0\n",
    "    for _ in range (30) :\n",
    "        ba = A&1\n",
    "        bb = B&1\n",
    "        bc = C&1\n",
    "        if ba == 0 : numa = numa*2\n",
    "        if bb == 0 : numb = numb*2\n",
    "        if bc == 0 : numc = numc*2\n",
    "        if ba + bb == 1 : dupl = dupl + 1\n",
    "        if ba + bb + bc == 1: dupl = dupl + 1\n",
    "        A = A>>1\n",
    "        B = B>>1\n",
    "        C = C>>1\n",
    "    return numa + numb + numc - dupl\n",
    "        "
   ]
  },
  {
   "cell_type": "code",
   "execution_count": 93,
   "id": "referenced-stand",
   "metadata": {
    "id": "6d26d12e-6488-4204-ad22-824c6211e321",
    "tags": []
   },
   "outputs": [
    {
     "data": {
      "text/plain": [
       "8"
      ]
     },
     "execution_count": 93,
     "metadata": {},
     "output_type": "execute_result"
    }
   ],
   "source": [
    "solution(1073741727,1073741631, 1073741679)"
   ]
  },
  {
   "cell_type": "markdown",
   "id": "unlikely-civilization",
   "metadata": {
    "id": "1086b27b-3178-488b-9de5-aae2ab8836f9",
    "tags": []
   },
   "source": [
    "# Question 7\n",
    "https://app.codility.com/programmers/trainings/9/sparse_binary_decomposition/"
   ]
  },
  {
   "cell_type": "code",
   "execution_count": null,
   "id": "chief-vessel",
   "metadata": {
    "id": "b88ac95a-aed9-44a5-ae44-bff87bcb8bbf",
    "tags": []
   },
   "outputs": [],
   "source": [
    "# Bad performance\n",
    "def is_sparse(N) :\n",
    "    prevb = 0\n",
    "    for _ in range(31) :\n",
    "        b = N&1\n",
    "        if prevb == 1 and b == 1 : return False\n",
    "        N = N>>1\n",
    "        prevb = b\n",
    "    return True"
   ]
  },
  {
   "cell_type": "code",
   "execution_count": 98,
   "id": "experimental-chess",
   "metadata": {
    "id": "f0688a5d-d2a6-425c-a4aa-3e33f6442ce2",
    "tags": []
   },
   "outputs": [
    {
     "data": {
      "text/plain": [
       "True"
      ]
     },
     "execution_count": 98,
     "metadata": {},
     "output_type": "execute_result"
    }
   ],
   "source": [
    "is_sparse(41)"
   ]
  },
  {
   "cell_type": "code",
   "execution_count": 99,
   "id": "developing-blocking",
   "metadata": {
    "id": "cbd853d4-37e9-4f84-8a65-08ee479f962b",
    "tags": []
   },
   "outputs": [
    {
     "data": {
      "text/plain": [
       "False"
      ]
     },
     "execution_count": 99,
     "metadata": {},
     "output_type": "execute_result"
    }
   ],
   "source": [
    "is_sparse(26)"
   ]
  },
  {
   "cell_type": "code",
   "execution_count": 118,
   "id": "sapphire-scientist",
   "metadata": {
    "id": "293d2321-8536-48b6-acd3-c67589a8fecb",
    "tags": []
   },
   "outputs": [],
   "source": [
    "def solution(N) :\n",
    "    for p in range(1,(N>>1) + 1):\n",
    "        if is_sparse(p) and is_sparse(N-p) : return p\n",
    "    return -1"
   ]
  },
  {
   "cell_type": "code",
   "execution_count": 120,
   "id": "amazing-merchandise",
   "metadata": {
    "id": "306bd686-b3a3-4b5a-a832-044efd083071",
    "tags": []
   },
   "outputs": [
    {
     "data": {
      "text/plain": [
       "5"
      ]
     },
     "execution_count": 120,
     "metadata": {},
     "output_type": "execute_result"
    }
   ],
   "source": [
    "solution(26)"
   ]
  },
  {
   "cell_type": "markdown",
   "id": "acquired-ownership",
   "metadata": {
    "id": "6c61e255-8495-4f85-8069-2b77c9d3c991",
    "tags": []
   },
   "source": [
    "# Question 7\n",
    "https://app.codility.com/programmers/trainings/7/arr_list_len/"
   ]
  },
  {
   "cell_type": "code",
   "execution_count": 122,
   "id": "naked-companion",
   "metadata": {
    "id": "2444943f-8133-4ce5-9900-0ac7b6e2726e",
    "tags": []
   },
   "outputs": [],
   "source": [
    "def solution(A) :\n",
    "    len = 1\n",
    "    pos = 0\n",
    "    while A[pos] != -1 :\n",
    "        len = len + 1\n",
    "        pos = A[pos]\n",
    "    return len"
   ]
  },
  {
   "cell_type": "code",
   "execution_count": 123,
   "id": "worst-zimbabwe",
   "metadata": {
    "id": "6945c5f6-0236-4794-92fe-13dec6476eee",
    "tags": []
   },
   "outputs": [],
   "source": [
    "solution([1,4,-1,3,2])"
   ]
  },
  {
   "cell_type": "markdown",
   "id": "human-creator",
   "metadata": {
    "id": "b4b60dad-d367-45de-aebe-3a390f276127",
    "tags": []
   },
   "source": [
    "# Question 8\n",
    "https://app.codility.com/programmers/trainings/7/count_bounded_slices/"
   ]
  },
  {
   "cell_type": "code",
   "execution_count": null,
   "id": "above-wrist",
   "metadata": {
    "id": "e24ad546-7de0-493a-842c-2d4a49d773f2",
    "tags": []
   },
   "outputs": [],
   "source": [
    "# bad performance\n",
    "def solution(A,K):\n",
    "    num = 0\n",
    "    for i in range(len(A)):\n",
    "        minv = A[i]\n",
    "        maxv = A[i]\n",
    "        for j in range(i,len(A)):\n",
    "            minv = min(minv,A[j])\n",
    "            maxv = max(maxv,A[j])\n",
    "            if maxv - minv <= K : \n",
    "                print(i,j)\n",
    "                num = num + 1                \n",
    "                continue\n",
    "            break\n",
    "    return num\n",
    "            \n",
    "            \n",
    "        "
   ]
  },
  {
   "cell_type": "code",
   "execution_count": 131,
   "id": "threatened-blackberry",
   "metadata": {
    "id": "0ac1d549-ddf0-475e-9fd0-d574a01efadc",
    "tags": []
   },
   "outputs": [
    {
     "data": {
      "text/plain": [
       "9"
      ]
     },
     "execution_count": 131,
     "metadata": {},
     "output_type": "execute_result"
    }
   ],
   "source": [
    "solution([3,5,7,6,3],2)"
   ]
  },
  {
   "cell_type": "markdown",
   "id": "finnish-knitting",
   "metadata": {
    "id": "307cabff-d491-4e11-bd46-a8a5755538f6"
   },
   "source": [
    "# Question 9\n",
    "https://app.codility.com/programmers/trainings/7/"
   ]
  },
  {
   "cell_type": "code",
   "execution_count": null,
   "id": "operational-envelope",
   "metadata": {
    "id": "2a5f619e-76bf-4615-98bf-862b5be338fc",
    "tags": []
   },
   "outputs": [],
   "source": [
    "Tree =  (5, (3, (20, (6, None, None), None), None), (10, (1, None, None), (15, (30, None, (9, None, None)), (8, None, None))))   "
   ]
  },
  {
   "cell_type": "code",
   "execution_count": 139,
   "id": "chief-baseball",
   "metadata": {
    "id": "6a879588-af60-4d57-a4c4-293cdf3579b4",
    "tags": []
   },
   "outputs": [],
   "source": [
    "def maxzig(dir,node) :\n",
    "    # dir: 0 - root, 1 - left, 2 - right\n",
    "    left = node[1]\n",
    "    right = node[2]\n",
    "    maxleft = 0\n",
    "    if left is not None : \n",
    "        maxleft = maxzig(1,left)\n",
    "        if dir == 2 : maxleft = maxleft + 1\n",
    "    maxright = 0\n",
    "    if right is not None:\n",
    "        maxright = maxzig(2,right)\n",
    "        if dir == 1: maxright = maxright + 1\n",
    "    return max(maxleft,maxright)\n",
    "\n",
    "def solution(tree) :\n",
    "    return maxzig(0,tree)\n",
    "    \n",
    "    "
   ]
  },
  {
   "cell_type": "code",
   "execution_count": 140,
   "id": "hundred-snake",
   "metadata": {
    "id": "18f39b2a-5246-46fa-a7b5-72ddc904a1df",
    "tags": []
   },
   "outputs": [
    {
     "data": {
      "text/plain": [
       "(10, (1, None, None), (15, (30, None, (9, None, None)), (8, None, None)))"
      ]
     },
     "execution_count": 140,
     "metadata": {},
     "output_type": "execute_result"
    }
   ],
   "source": [
    "Tree[2]"
   ]
  },
  {
   "cell_type": "code",
   "execution_count": null,
   "id": "resident-formula",
   "metadata": {
    "id": "a5bc2ac0-6a2d-4fad-91a5-43500ce07911",
    "tags": []
   },
   "outputs": [],
   "source": [
    "solution(Tree)"
   ]
  },
  {
   "cell_type": "markdown",
   "id": "legal-entertainment",
   "metadata": {
    "id": "21843512-d86b-4c9b-8089-15b6ccbac7ee"
   },
   "source": [
    "# Question 9\n",
    "https://app.codility.com/programmers/trainings/7/countries_count/"
   ]
  },
  {
   "cell_type": "code",
   "execution_count": 183,
   "id": "packed-algebra",
   "metadata": {
    "id": "57874da0-24e7-4b3f-a36c-d202b67dca3e",
    "tags": []
   },
   "outputs": [
    {
     "data": {
      "text/plain": [
       "4"
      ]
     },
     "execution_count": 183,
     "metadata": {},
     "output_type": "execute_result"
    }
   ],
   "source": [
    "A = [[5,4,4],[4,3,4],[3,2,4],[2,2,2],[3,3,4],[1,4,4],[4,1,1]]"
   ]
  },
  {
   "cell_type": "code",
   "execution_count": 251,
   "id": "sized-congress",
   "metadata": {
    "id": "747a4b56-754b-4444-91f2-dc60a03871b2",
    "tags": []
   },
   "outputs": [],
   "source": [
    "# bad performance\n",
    "def alreadyused(pos,U) :\n",
    "    for p in U :\n",
    "        if p == pos : return True\n",
    "    return False\n",
    "\n",
    "def ortfindadjacent(pos,U,A,norows,nocols) :\n",
    "    row = pos[0]\n",
    "    col = pos[1]\n",
    "    list = []\n",
    "    for r in range(max(0,row-1),min(row+2,norows)):\n",
    "        for c in range(max(0,col-1),min(col+2,nocols)):\n",
    "            if r != row or c != col: \n",
    "                a = (r,c)\n",
    "                if not alreadyused(a,U) : list.append((r,c))\n",
    "    return list\n",
    "\n",
    "def findadjacent(pos,U,A,norows,nocols) :\n",
    "    row = pos[0]\n",
    "    col = pos[1]\n",
    "    list = []\n",
    "    for x in [(0,-1),(0,1),(-1,0),(1,0)] :\n",
    "        r = row+ x[0]\n",
    "        c = col+x[1]        \n",
    "        if r >=0 and r<norows and c>=0 and c<nocols:\n",
    "            p = (r,c)\n",
    "            if not alreadyused(p,U): list.append(p)\n",
    "        \n",
    "    return list\n",
    "\n",
    "\n",
    "def getcol(A,p) :\n",
    "    return A[p[0]][p[1]]\n",
    "\n",
    "def findnext(U,norows,nocols):\n",
    "    for i in range(norows) :\n",
    "        for j in range(nocols):\n",
    "            if not alreadyused((i,j),U): return (i,j)\n",
    "    return None\n",
    "\n",
    "def solution(A):\n",
    "    norows = len(A)\n",
    "    nocols = len(A[0])\n",
    "    U = []\n",
    "    nocountries = 0\n",
    "    while True:\n",
    "        pos = findnext(U,norows,nocols)\n",
    "        if pos == None : return nocountries\n",
    "        col = getcol(A,pos)\n",
    "        nocountries = nocountries + 1\n",
    "        listofpos = [pos]\n",
    "        visited = [ p for p in U]\n",
    "        ipos = 0\n",
    "        while ipos < len(listofpos):\n",
    "            apos = listofpos[ipos]\n",
    "            ipos = ipos + 1\n",
    "            visited.append(apos)\n",
    "            U.append(apos)\n",
    "            adjacent = findadjacent(apos,visited,A,norows,nocols)\n",
    "            for p in adjacent:\n",
    "                visited.append(p)\n",
    "                acol = getcol(A,p)\n",
    "                if acol == col : listofpos.append(p)\n",
    "                      \n",
    "    return nocountries        \n"
   ]
  },
  {
   "cell_type": "code",
   "execution_count": 252,
   "id": "stopped-charity",
   "metadata": {
    "id": "45df8993-a1b5-4c55-a135-ada334c116e6",
    "tags": []
   },
   "outputs": [
    {
     "data": {
      "text/plain": [
       "11"
      ]
     },
     "execution_count": 252,
     "metadata": {},
     "output_type": "execute_result"
    }
   ],
   "source": [
    "solution(A)"
   ]
  },
  {
   "cell_type": "markdown",
   "id": "operational-adaptation",
   "metadata": {
    "id": "29dcea59-ebc5-4d23-bfc2-a46a6994a372"
   },
   "source": [
    "# Question 10\n",
    "This is a demo task.\n",
    "\n",
    "Write a function:\n",
    "\n",
    "class Solution { public int solution(int[] A); }\n",
    "\n",
    "that, given an array A of N integers, returns the smallest positive integer (greater than 0) that does not occur in A.\n",
    "\n",
    "For example, given A = [1, 3, 6, 4, 1, 2], the function should return 5.\n",
    "\n",
    "Given A = [1, 2, 3], the function should return 4.\n",
    "\n",
    "Given A = [−1, −3], the function should return 1.\n",
    "\n",
    "Write an efficient algorithm for the following assumptions:\n",
    "\n",
    "N is an integer within the range [1..100,000];\n",
    "each element of array A is an integer within the range [−1,000,000..1,000,000].\n",
    "Copyright 2009–2021 by Codility Limited. All Rights Reserved. Unauthorized copying, publication or disclosure prohibited."
   ]
  },
  {
   "cell_type": "code",
   "execution_count": 1,
   "id": "described-florence",
   "metadata": {
    "id": "c9376a29-a5d9-47f9-9e4e-f0a428360559",
    "tags": []
   },
   "outputs": [],
   "source": [
    "def solution(A) :\n",
    "    N = 1000000\n",
    "    NUMB = [0 for _ in range(N+1)]\n",
    "    for p in A :\n",
    "        if p <= 0 : continue\n",
    "        NUMB[p] = 1\n",
    "    for i in range(1,N+1) :\n",
    "        if NUMB[i] == 0 : return i\n",
    "    return N+1"
   ]
  },
  {
   "cell_type": "code",
   "execution_count": 2,
   "id": "increased-humanitarian",
   "metadata": {
    "id": "4ed7ce97-9d55-4fc1-b8a1-5c079450a614",
    "tags": []
   },
   "outputs": [
    {
     "data": {
      "text/plain": [
       "4"
      ]
     },
     "execution_count": 2,
     "metadata": {},
     "output_type": "execute_result"
    }
   ],
   "source": [
    "solution([1,2,3])"
   ]
  },
  {
   "cell_type": "code",
   "execution_count": 255,
   "id": "compound-microphone",
   "metadata": {
    "id": "2b7ff34c-6ea9-4620-829b-c8d35ba2474c",
    "tags": []
   },
   "outputs": [
    {
     "data": {
      "text/plain": [
       "1"
      ]
     },
     "execution_count": 255,
     "metadata": {},
     "output_type": "execute_result"
    }
   ],
   "source": [
    "solution([-1,-2,-3])"
   ]
  },
  {
   "cell_type": "code",
   "execution_count": 256,
   "id": "based-simpson",
   "metadata": {
    "id": "507d2c33-d1b6-49ad-9b6e-deabf2e8570c",
    "tags": []
   },
   "outputs": [
    {
     "data": {
      "text/plain": [
       "1"
      ]
     },
     "execution_count": 256,
     "metadata": {},
     "output_type": "execute_result"
    }
   ],
   "source": [
    "solution([1000000])"
   ]
  },
  {
   "cell_type": "code",
   "execution_count": 257,
   "id": "essential-ending",
   "metadata": {
    "id": "73862900-4074-435f-981f-db913cfe81d8",
    "tags": []
   },
   "outputs": [
    {
     "data": {
      "text/plain": [
       "1"
      ]
     },
     "execution_count": 257,
     "metadata": {},
     "output_type": "execute_result"
    }
   ],
   "source": [
    "solution([0])"
   ]
  },
  {
   "cell_type": "markdown",
   "id": "intelligent-external",
   "metadata": {
    "id": "06f57e8b-8b55-4854-8366-8f34eaef29c7"
   },
   "source": [
    "# Question 11\n",
    "https://app.codility.com/programmers/trainings/5/parity_degree/"
   ]
  },
  {
   "cell_type": "code",
   "execution_count": 258,
   "id": "southern-judge",
   "metadata": {
    "id": "0224aef1-2d9a-4edb-9674-a6d29031d224",
    "tags": []
   },
   "outputs": [],
   "source": [
    "def solution(N) :\n",
    "    exp = 0\n",
    "    power = 1\n",
    "    while power<<1 <= N :\n",
    "        power = power<<1\n",
    "        exp = exp + 1\n",
    "\n",
    "    while exp >= 0 :\n",
    "        if N % power == 0: return exp\n",
    "        exp = exp - 1\n",
    "        power = power >> 1"
   ]
  },
  {
   "cell_type": "code",
   "execution_count": 259,
   "id": "plain-circuit",
   "metadata": {
    "id": "1cd80023-e3e7-49d7-8f95-255410c379bd",
    "tags": []
   },
   "outputs": [
    {
     "data": {
      "text/plain": [
       "3"
      ]
     },
     "execution_count": 259,
     "metadata": {},
     "output_type": "execute_result"
    }
   ],
   "source": [
    "solution(24)"
   ]
  },
  {
   "cell_type": "code",
   "execution_count": 260,
   "id": "precise-sellers",
   "metadata": {
    "id": "6bd80eee-2b12-430c-83e3-2dba57a6fe68",
    "tags": []
   },
   "outputs": [
    {
     "data": {
      "text/plain": [
       "4"
      ]
     },
     "execution_count": 260,
     "metadata": {},
     "output_type": "execute_result"
    }
   ],
   "source": [
    "solution(16)"
   ]
  },
  {
   "cell_type": "code",
   "execution_count": 261,
   "id": "executive-soundtrack",
   "metadata": {
    "id": "2ebc1516-6795-4209-94e8-8f68a369c890",
    "tags": []
   },
   "outputs": [
    {
     "data": {
      "text/plain": [
       "0"
      ]
     },
     "execution_count": 261,
     "metadata": {},
     "output_type": "execute_result"
    }
   ],
   "source": [
    "solution(1)"
   ]
  },
  {
   "cell_type": "markdown",
   "id": "dramatic-rapid",
   "metadata": {
    "id": "3d26aa59-cc99-48ee-9ba5-65a05b762c2f"
   },
   "source": [
    "# Question 12\n",
    "https://app.codility.com/programmers/trainings/5/three_letters/"
   ]
  },
  {
   "cell_type": "code",
   "execution_count": 262,
   "id": "reverse-matrix",
   "metadata": {
    "id": "c4c27ae2-303d-442f-95e5-5b863b5a6f0b",
    "tags": []
   },
   "outputs": [],
   "source": [
    "def solution(A, B):\n",
    "    res = \"\"\n",
    "\n",
    "    AA = A\n",
    "    BB = B\n",
    "    leta = 'a'\n",
    "    letb = 'b'\n",
    "    if B > A:\n",
    "        AA = B\n",
    "        BB = A\n",
    "        leta = 'b'\n",
    "        letb = 'a\n",
    "\n",
    "    while AA > 0 and BB > 0:\n",
    "        if AA > BB:\n",
    "            res = res + leta + leta + letb\n",
    "            AA = AA - 2\n",
    "            BB = BB - 1\n",
    "            continue\n",
    "        if BB > AA:\n",
    "            res = res + leta + letb + letb\n",
    "            AA = AA - 1\n",
    "            BB = BB - 2\n",
    "            continue\n",
    "        res = res + leta + letb\n",
    "        AA = AA - 1\n",
    "        BB = BB - 1\n",
    "\n",
    "    if AA == 2: return res + leta + leta\n",
    "    if AA == 1: return res + leta\n",
    "    if AA == 0: return res\n",
    "    return None"
   ]
  },
  {
   "cell_type": "code",
   "execution_count": 263,
   "id": "innovative-perry",
   "metadata": {
    "id": "518171b7-024e-4ea0-bc76-497351a92557",
    "tags": []
   },
   "outputs": [
    {
     "data": {
      "text/plain": [
       "'aabaabab'"
      ]
     },
     "execution_count": 263,
     "metadata": {},
     "output_type": "execute_result"
    }
   ],
   "source": [
    "solution(5,3)"
   ]
  },
  {
   "cell_type": "code",
   "execution_count": 264,
   "id": "electrical-darwin",
   "metadata": {
    "id": "650f0286-896e-4832-9785-7bea16c17bd0",
    "tags": []
   },
   "outputs": [
    {
     "data": {
      "text/plain": [
       "'bbabbaba'"
      ]
     },
     "execution_count": 264,
     "metadata": {},
     "output_type": "execute_result"
    }
   ],
   "source": [
    "solution(3,5)"
   ]
  },
  {
   "cell_type": "code",
   "execution_count": 265,
   "id": "controversial-demographic",
   "metadata": {
    "id": "ee6d2c6c-aa0f-4c8a-8f98-f0f2e796e930",
    "tags": []
   },
   "outputs": [
    {
     "data": {
      "text/plain": [
       "'ababab'"
      ]
     },
     "execution_count": 265,
     "metadata": {},
     "output_type": "execute_result"
    }
   ],
   "source": [
    "solution(3,3)"
   ]
  },
  {
   "cell_type": "code",
   "execution_count": 266,
   "id": "racial-consensus",
   "metadata": {
    "id": "70739de7-5e28-4c81-a153-7eb92c490958",
    "tags": []
   },
   "outputs": [
    {
     "data": {
      "text/plain": [
       "'bbabb'"
      ]
     },
     "execution_count": 266,
     "metadata": {},
     "output_type": "execute_result"
    }
   ],
   "source": [
    "solution(1,4)"
   ]
  },
  {
   "cell_type": "code",
   "execution_count": null,
   "id": "opposed-tuner",
   "metadata": {
    "id": "6afe5a8c-3774-42a2-88d0-5a559987272f"
   },
   "outputs": [],
   "source": []
  }
 ],
 "metadata": {
  "kernelspec": {
   "display_name": "Python 3.8",
   "language": "python",
   "name": "python3"
  },
  "language_info": {
   "codemirror_mode": {
    "name": "ipython",
    "version": 3
   },
   "file_extension": ".py",
   "mimetype": "text/x-python",
   "name": "python",
   "nbconvert_exporter": "python",
   "pygments_lexer": "ipython3",
   "version": "3.8.11"
  }
 },
 "nbformat": 4,
 "nbformat_minor": 5
}
