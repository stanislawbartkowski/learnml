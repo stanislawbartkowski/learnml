{
 "cells": [
  {
   "cell_type": "markdown",
   "id": "3dbe0bb7-f8ec-4ba6-b587-4de39749b9dd",
   "metadata": {},
   "source": [
    "# MaxProfit\n",
    "https://app.codility.com/programmers/lessons/9-maximum_slice_problem/max_profit/"
   ]
  },
  {
   "cell_type": "code",
   "execution_count": 1,
   "id": "844f2654-4440-4517-8a53-9330870b5a11",
   "metadata": {},
   "outputs": [],
   "source": [
    "from typing import List\n",
    "\n",
    "def solution(A: List[int]) -> int :\n",
    "    profit : List[int] = [ A[i] - A[i-1]  for i in range(1,len(A)) ]\n",
    "    suma_max : int = 0\n",
    "    max_slice : int = 0\n",
    "    \n",
    "    for i in profit :\n",
    "        suma_max = max(0, suma_max + i)\n",
    "        max_slice = max(max_slice, suma_max)\n",
    "        \n",
    "    return max_slice"
   ]
  },
  {
   "cell_type": "code",
   "execution_count": 7,
   "id": "413fc92d-69a1-475f-accf-05e8ce3fb4b1",
   "metadata": {},
   "outputs": [],
   "source": [
    "# Another solution, simpler\n",
    "\n",
    "from typing import List\n",
    "\n",
    "def solution(A : List[int]) -> int :\n",
    "    if len(A) == 0 : return 0\n",
    "    minv : int = A[0]\n",
    "    maxp : int = 0\n",
    "    for p in A[1:] :\n",
    "        # minv : minimum value for indexes <= p\n",
    "        # maxp : current maximum profit up to p\n",
    "        minv = min(minv,p)\n",
    "        # current profit\n",
    "        currp = p - minv\n",
    "        maxp = max(currp,maxp)\n",
    "    \n",
    "    return maxp"
   ]
  },
  {
   "cell_type": "code",
   "execution_count": 8,
   "id": "d37c216a-de47-4b3b-aa5d-e9e4bd98c483",
   "metadata": {},
   "outputs": [],
   "source": [
    "assert(solution([23171,21011,21123,21366,21013,21367]) == 356)\n",
    "assert(solution([]) == 0)\n",
    "assert(solution([4]) == 0)\n",
    "assert(solution([1,4]) == 3)\n",
    "    "
   ]
  },
  {
   "cell_type": "markdown",
   "id": "080fe9a7-590a-4f66-9afb-0787b5c2efe3",
   "metadata": {},
   "source": [
    "# MaxSliceSum\n",
    "https://app.codility.com/programmers/lessons/9-maximum_slice_problem/max_slice_sum/"
   ]
  },
  {
   "cell_type": "code",
   "execution_count": 3,
   "id": "79e86b95-bfea-49e2-95ad-202d564a2784",
   "metadata": {},
   "outputs": [],
   "source": [
    "from typing import List\n",
    "\n",
    "def solution(A: List[int]) -> int :\n",
    "    suma_max : int = 0\n",
    "    max_slice : int = 0\n",
    "    \n",
    "    for i in A :\n",
    "        suma_max = max(0, suma_max + i)\n",
    "        max_slice = max(max_slice, suma_max)\n",
    "        \n",
    "        \n",
    "    if max_slice > 0 : return max_slice\n",
    "    \n",
    "    # all 0 or negative, simply find max\n",
    "    \n",
    "    return max(A)"
   ]
  },
  {
   "cell_type": "code",
   "execution_count": 4,
   "id": "b1732d10-6599-4a0c-9ce1-726358191459",
   "metadata": {},
   "outputs": [],
   "source": [
    "assert(solution([3,2,-6,4,0]) == 5)\n",
    "\n",
    "assert(solution([-10]) == -10)\n",
    "\n",
    "assert(solution([-11,-2,-10]) == -2)\n",
    "\n",
    "assert(solution([-11,-2,2,-1]) == 2)"
   ]
  },
  {
   "cell_type": "markdown",
   "id": "61570b85-9538-4406-afd2-ad74446ad0f6",
   "metadata": {},
   "source": [
    "# MaxDoubleSliceSum\n",
    "https://app.codility.com/programmers/lessons/9-maximum_slice_problem/max_double_slice_sum/\n",
    "\n",
    "(solution)\n",
    "https://github.com/ghanan94/codility-lesson-solutions/blob/master/Lesson%2009%20-%20Maximum%20slice%20problem/MaxDoubleSliceSum/solution.js\n"
   ]
  },
  {
   "cell_type": "code",
   "execution_count": 5,
   "id": "cff8db04-bab2-4551-9aa0-49e0c904e2f5",
   "metadata": {},
   "outputs": [],
   "source": [
    "from typing import List\n",
    "\n",
    "def solution(A : List[int]) -> int:\n",
    "    assert(len(A) >= 3)\n",
    "    \n",
    "    N : int = len(A)\n",
    "    \n",
    "    maxending : List[int] = [ 0 for i in range(N)]\n",
    "    maxstarting : List[int] = [ 0 for i in range(N)]\n",
    "    \n",
    "    for i in range(1,N-1) :\n",
    "        maxending[i] = max(0, maxending[i-1] + A[i])\n",
    "        maxstarting[N-i-1] = max(0,maxstarting[N-i] + A[N-i-1])\n",
    "        \n",
    "    maxsum : int = 0\n",
    "    for i in range(1,N-1) :\n",
    "        maxsum = max(maxsum,maxstarting[i+1] + maxending[i-1])\n",
    "        \n",
    "    return maxsum\n"
   ]
  },
  {
   "cell_type": "code",
   "execution_count": 6,
   "id": "f4e87a85-1da0-4db5-b6ac-68d4e6d09961",
   "metadata": {},
   "outputs": [],
   "source": [
    "assert (solution([3,2,6,-1,4,5,-1,2]) == 17)\n",
    "\n",
    "assert(solution([1,2,3]) == 0)\n",
    "\n",
    "assert(solution([1,2,3,4]) == 3)\n",
    "        \n",
    "assert (solution([5, 17, 0, 3]) == 17)"
   ]
  },
  {
   "cell_type": "code",
   "execution_count": null,
   "id": "8d8fff5d-fa1d-4488-956a-57c598547454",
   "metadata": {},
   "outputs": [],
   "source": []
  }
 ],
 "metadata": {
  "kernelspec": {
   "display_name": "Python 3 (ipykernel)",
   "language": "python",
   "name": "python3"
  },
  "language_info": {
   "codemirror_mode": {
    "name": "ipython",
    "version": 3
   },
   "file_extension": ".py",
   "mimetype": "text/x-python",
   "name": "python",
   "nbconvert_exporter": "python",
   "pygments_lexer": "ipython3",
   "version": "3.9.7"
  }
 },
 "nbformat": 4,
 "nbformat_minor": 5
}
