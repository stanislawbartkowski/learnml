{
 "cells": [
  {
   "cell_type": "markdown",
   "id": "ae85bbf4-44ea-4775-a004-5da1a59fc4b1",
   "metadata": {},
   "source": [
    "# BinaryGap\n",
    "https://app.codility.com/programmers/lessons/1-iterations/binary_gap/"
   ]
  },
  {
   "cell_type": "code",
   "execution_count": 5,
   "id": "552b7c11-13c9-4c70-b1b6-5c2eca7be5ec",
   "metadata": {},
   "outputs": [],
   "source": [
    "from typing import List\n",
    "\n",
    "def solution(N : List[int]) -> int:\n",
    "    max_gap = 0\n",
    "    gap = -1\n",
    "    for _ in range(1, 32):\n",
    "        b = N & 1\n",
    "        N = N>>1\n",
    "        if gap == -1:\n",
    "            if b == 0: continue\n",
    "            gap = 0\n",
    "            continue\n",
    "        if b == 1:\n",
    "            max_gap = max(gap,max_gap)\n",
    "            gap = 0\n",
    "        else:\n",
    "            gap = gap + 1\n",
    "    return max_gap"
   ]
  },
  {
   "cell_type": "code",
   "execution_count": 6,
   "id": "51a951a3-88b2-4fe8-9eb9-388ff00ccf61",
   "metadata": {},
   "outputs": [],
   "source": [
    "assert (solution(9) == 2)\n",
    "assert(solution(529) == 4)\n",
    "assert(solution(20) == 1)\n",
    "assert(solution(15) == 0)\n",
    "assert(solution(32) == 0)\n",
    "assert(solution(1041) == 5)"
   ]
  },
  {
   "cell_type": "code",
   "execution_count": null,
   "id": "2631ca59-88d3-401a-ac2f-75cd9ee662b3",
   "metadata": {},
   "outputs": [],
   "source": []
  }
 ],
 "metadata": {
  "kernelspec": {
   "display_name": "Python 3 (ipykernel)",
   "language": "python",
   "name": "python3"
  },
  "language_info": {
   "codemirror_mode": {
    "name": "ipython",
    "version": 3
   },
   "file_extension": ".py",
   "mimetype": "text/x-python",
   "name": "python",
   "nbconvert_exporter": "python",
   "pygments_lexer": "ipython3",
   "version": "3.9.7"
  }
 },
 "nbformat": 4,
 "nbformat_minor": 5
}
