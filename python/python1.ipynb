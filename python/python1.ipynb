{
 "cells": [
  {
   "cell_type": "markdown",
   "id": "diagnostic-mason",
   "metadata": {
    "id": "b1ff7258-4b42-4d9f-b5c8-c6ff979e8ae9",
    "tags": []
   },
   "source": [
    "# Question 1\n",
    "https://www.toptal.com/algorithms/interview-questions   \n",
    "How would you optimally calculate p^k, where k is a non-negative integer? What is the complexity of the solution?"
   ]
  },
  {
   "cell_type": "code",
   "execution_count": 6,
   "id": "loaded-twins",
   "metadata": {
    "id": "b856be07-df3c-413b-b1a4-ff46ec9c4419",
    "tags": []
   },
   "outputs": [],
   "source": [
    "import math\n",
    "\n",
    "def solution(N, K):\n",
    "    if K == 0:\n",
    "        return 1\n",
    "    power = solution(N, math.floor(K/2))\n",
    "    if K % 2 == 0:\n",
    "        return power*power\n",
    "    else:\n",
    "        return N*power*power"
   ]
  },
  {
   "cell_type": "code",
   "execution_count": 7,
   "id": "valuable-found",
   "metadata": {
    "id": "7b24f13b-e828-439d-a1c9-cf2b4fb29826",
    "tags": []
   },
   "outputs": [
    {
     "data": {
      "text/plain": [
       "9"
      ]
     },
     "execution_count": 7,
     "metadata": {},
     "output_type": "execute_result"
    }
   ],
   "source": [
    "solution(3,2)"
   ]
  },
  {
   "cell_type": "code",
   "execution_count": 8,
   "id": "about-batman",
   "metadata": {
    "id": "391dbf84-7a99-4123-9c85-4542688026d8",
    "tags": []
   },
   "outputs": [
    {
     "data": {
      "text/plain": [
       "4194304"
      ]
     },
     "execution_count": 8,
     "metadata": {},
     "output_type": "execute_result"
    }
   ],
   "source": [
    "solution(4,11)"
   ]
  },
  {
   "cell_type": "markdown",
   "id": "royal-perth",
   "metadata": {
    "id": "38d9d235-2ec9-4051-a20f-6d04deb2b1e1"
   },
   "source": [
    "# Question 2\n",
    "https://www.toptal.com/algorithms/interview-questions\n",
    "We need to compare numbers to see if they have their opposites in the array."
   ]
  },
  {
   "cell_type": "code",
   "execution_count": 9,
   "id": "early-patient",
   "metadata": {
    "id": "d75a55e7-6b7e-4c85-a212-c286b171c948",
    "tags": []
   },
   "outputs": [],
   "source": [
    "def solution(A) :\n",
    "    S = sorted(A,key=lambda e : abs(e))\n",
    "    res = []\n",
    "    actn = None\n",
    "    for p in S :\n",
    "        if actn == None : \n",
    "           actn = p\n",
    "           alreadypushed = False\n",
    "           continue\n",
    "        if actn == p : continue\n",
    "        if actn != -p and -actn != p :\n",
    "            actn = p\n",
    "            alreadypushed = False\n",
    "            continue\n",
    "        if alreadypushed : continue\n",
    "        res.append(abs(p))\n",
    "        alreadypushed = True\n",
    "    return res\n",
    "\n",
    "def solutionmap(A) :\n",
    "    map = {}\n",
    "    res = []\n",
    "    for e in A:\n",
    "        if abs(e) in map:\n",
    "            if map[abs(e)] == -e :\n",
    "                res.append(abs(e))\n",
    "                map[abs(e)] = None\n",
    "                continue\n",
    "        map[abs(e)] = e \n",
    "    return res"
   ]
  },
  {
   "cell_type": "code",
   "execution_count": 10,
   "id": "premium-evanescence",
   "metadata": {
    "id": "0a1a26db-57b8-441a-b922-8e2d15f26c04",
    "tags": []
   },
   "outputs": [
    {
     "name": "stdout",
     "output_type": "stream",
     "text": [
      "[2, 3, 7]\n",
      "[2, 3, 7]\n"
     ]
    }
   ],
   "source": [
    "A = [-7, 4, -3, 2, 2, -8, -2, 3, 3, 7, -2, 3, -2]\n",
    "S = solution(A)\n",
    "print(S)\n",
    "S = solutionmap(A)\n",
    "print(S)\n"
   ]
  },
  {
   "cell_type": "markdown",
   "id": "spanish-librarian",
   "metadata": {
    "id": "7d049842-a598-42f6-a34b-cd0d525b0fab"
   },
   "source": [
    "# Question 3\n",
    "https://app.codility.com/programmers/lessons/4-counting_elements/max_counters/"
   ]
  },
  {
   "cell_type": "code",
   "execution_count": 3,
   "id": "increased-stock",
   "metadata": {
    "id": "5d5a073a-7ea7-4361-9413-fa3e7a14b5f2",
    "tags": []
   },
   "outputs": [],
   "source": [
    "# brute force solution, fails the performance test\n",
    "def solutionnotmap(N, A):\n",
    "    C = [0 for _ in range(N)]\n",
    "    amax = 0\n",
    "    for c in A :\n",
    "        c = c\n",
    "        if c == N + 1 :\n",
    "            for i in range(N) :\n",
    "                C[i] = amax\n",
    "        else:\n",
    "            C[c-1] = C[c-1] + 1\n",
    "            if C[c-1] > amax : amax = C[c-1]\n",
    "\n",
    "    return C\n",
    "\n",
    "# optimal solution, avoid reseting the counter table after reaching the max command\n",
    "def solution(N, A):\n",
    "    C = [0 for _ in range(N)]\n",
    "    oldmax = 0\n",
    "    newmax = 0\n",
    "    map = {}\n",
    "    for c in A :\n",
    "        c = c\n",
    "        if c == N + 1 :\n",
    "            map = {}\n",
    "            oldmax = newmax\n",
    "#            for i in range(N) :\n",
    "#                C[i] = amax\n",
    "        else:            \n",
    "            if c in map : C[c-1] = C[c-1] + 1\n",
    "            else :\n",
    "              map[c] = 1\n",
    "              C[c-1] = oldmax + 1\n",
    "            if C[c-1] > newmax : newmax = C[c-1]\n",
    "\n",
    "    for i in range(N) :\n",
    "        if (i+1) not in map: C[i] = oldmax\n",
    "    return C\n"
   ]
  },
  {
   "cell_type": "code",
   "execution_count": 4,
   "id": "utility-shelf",
   "metadata": {
    "id": "cb460a7e-1abb-4039-8117-c013b5343172",
    "tags": []
   },
   "outputs": [
    {
     "name": "stdout",
     "output_type": "stream",
     "text": [
      "[3, 2, 2, 4, 2]\n"
     ]
    }
   ],
   "source": [
    "A = [3,4,4,6,1,4,4]\n",
    "print(solution(5,A))"
   ]
  },
  {
   "cell_type": "markdown",
   "id": "liable-identifier",
   "metadata": {
    "id": "eb2f665d-f87f-40b6-b6bb-1fdce8f518c0"
   },
   "source": [
    "# Question 4\n",
    "https://app.codility.com/programmers/lessons/5-prefix_sums/count_div/"
   ]
  },
  {
   "cell_type": "code",
   "execution_count": 5,
   "id": "following-instrument",
   "metadata": {
    "id": "a4449e39-b909-453e-ba77-2e9b1675c9cd",
    "tags": []
   },
   "outputs": [],
   "source": [
    "def solution(A, B, K) :\n",
    "    smallestdiv = int(A/K if A % K == 0 else A/K + 1)\n",
    "    smallestdiv = smallestdiv * K\n",
    "    if smallestdiv > B : return 0\n",
    "    numberofdiv = (B - smallestdiv)/K \n",
    "    return int(numberofdiv) + 1"
   ]
  },
  {
   "cell_type": "code",
   "execution_count": 7,
   "id": "loving-north",
   "metadata": {
    "id": "d2ef5ac0-9c1f-4d8a-964c-cb5078d322b8",
    "tags": []
   },
   "outputs": [
    {
     "name": "stdout",
     "output_type": "stream",
     "text": [
      "3\n",
      "0\n"
     ]
    }
   ],
   "source": [
    "print(solution(6,12,3))\n",
    "print(solution(5,10,20))"
   ]
  },
  {
   "cell_type": "markdown",
   "id": "structural-customer",
   "metadata": {
    "id": "05453af4-59a8-44e1-a9b6-2e8a99d4eb0c"
   },
   "source": [
    "# Question 5\n",
    "https://app.codility.com/programmers/lessons/5-prefix_sums/genomic_range_query/"
   ]
  },
  {
   "cell_type": "code",
   "execution_count": 8,
   "id": "induced-universe",
   "metadata": {
    "id": "6c1a6654-fe55-4afa-ac98-62206ce5a4c7",
    "tags": []
   },
   "outputs": [],
   "source": [
    "# failed for one test\n",
    "# \n",
    "def find(A,first,last,k) :\n",
    "    mid = int(first + (last-first)/2)\n",
    "    if A[mid] == k : return k\n",
    "    if first >= last : \n",
    "        if first < 0 : return A[first]\n",
    "        if last >= len(A)-1: return A[len(A)-1]\n",
    "        return A[last+1]\n",
    "    if A[mid] > k: return find(A,first,mid-1,k)\n",
    "    else: return find(A,mid+1,last,k) \n",
    "\n",
    "def findeqorgreater(A,k) :\n",
    "    if len(A) == 0 : return -1\n",
    "    if (k > A[len(A)-1]) : return -1\n",
    "    return find(A,0,len(A)-1,k)\n",
    "    \n",
    "def mapl(c) :\n",
    "    if c == 'A' : return 0\n",
    "    elif c == 'C' : return 1\n",
    "    elif c == 'G' : return 2\n",
    "    else: return 3\n",
    "\n",
    "def preparesorted(S) :\n",
    "    P = [[],[],[],[]]\n",
    "    for i in range(len(S)) :\n",
    "        P[mapl(S[i])].append(i)\n",
    "    return P\n",
    "\n",
    "def solution(S, P, Q) :\n",
    "    PREP = preparesorted(S)\n",
    "    res = []\n",
    "    for i in range(len(P)) :\n",
    "        mini = P[i]\n",
    "        maxi = Q[i]\n",
    "        for c in range(0,4) :\n",
    "            ind = findeqorgreater(PREP[c],mini)\n",
    "            if ind == -1 : continue\n",
    "            if ind >= mini and ind <= maxi : \n",
    "                res.append(c+1)\n",
    "                break\n",
    "    return res"
   ]
  },
  {
   "cell_type": "code",
   "execution_count": 9,
   "id": "incoming-detective",
   "metadata": {
    "id": "f316857d-18b1-4a8c-a168-e2ccfe237987",
    "tags": []
   },
   "outputs": [
    {
     "name": "stdout",
     "output_type": "stream",
     "text": [
      "[[1, 6], [0, 3, 4], [2], [5]]\n",
      "[2, 4, 1]\n"
     ]
    }
   ],
   "source": [
    "S = \"CAGCCTA\"\n",
    "print (preparesorted(S))\n",
    "P = [2,5,0]\n",
    "Q = [4,5,6]\n",
    "print(solution(S,P,Q))\n"
   ]
  },
  {
   "cell_type": "code",
   "execution_count": 10,
   "id": "equipped-republican",
   "metadata": {
    "id": "8c865d65-62d6-4a8f-8b04-0c0b27138f64",
    "tags": []
   },
   "outputs": [
    {
     "name": "stdout",
     "output_type": "stream",
     "text": [
      "[2]\n"
     ]
    }
   ],
   "source": [
    "S = \"C\"\n",
    "P = [0]\n",
    "Q = [0]\n",
    "print(solution(S,P,Q))\n"
   ]
  },
  {
   "cell_type": "code",
   "execution_count": 11,
   "id": "neutral-tuner",
   "metadata": {
    "id": "b58ff6f1-e628-440b-9258-c67d6354652c",
    "tags": []
   },
   "outputs": [
    {
     "name": "stdout",
     "output_type": "stream",
     "text": [
      "[4, 4, 2]\n"
     ]
    }
   ],
   "source": [
    "S = \"TC\"\n",
    "P = [0,0,1]\n",
    "Q = [0,0,1]\n",
    "print(solution(S,P,Q))\n"
   ]
  },
  {
   "cell_type": "code",
   "execution_count": 12,
   "id": "lesbian-catholic",
   "metadata": {
    "id": "841ca20b-14df-4a4b-a7de-3ea5abb75e4e",
    "tags": []
   },
   "outputs": [
    {
     "name": "stdout",
     "output_type": "stream",
     "text": [
      "[3, 1, 1, 3]\n"
     ]
    }
   ],
   "source": [
    "S = \"GAGGGGGAGGGGGGG\"\n",
    "#S = \"CGGGGGGG\"\n",
    "P = [0,0,6,8]\n",
    "Q = [0,4,9,11]\n",
    "print(solution(S,P,Q))\n"
   ]
  },
  {
   "cell_type": "markdown",
   "id": "equivalent-treatment",
   "metadata": {
    "id": "da95f842-86be-487f-8786-6e835c76dbb4"
   },
   "source": [
    "# Question 5\n",
    "https://www.geeksforgeeks.org/find-maximum-path-sum-in-a-binary-tree/\n",
    "\n",
    "The idea is keep track of greatest path coming through the node and all paths"
   ]
  },
  {
   "cell_type": "code",
   "execution_count": 1,
   "id": "activated-parent",
   "metadata": {
    "id": "36642ef3-a1fc-482e-ab4e-a5b57f0e4775",
    "tags": []
   },
   "outputs": [],
   "source": [
    "def maxsum(T):\n",
    "    \"\"\" Returns max sum for the tree\n",
    "    Args: T tree (node value,left subtree or None, right subtree or node)\n",
    "    Returns: (including,max) : max sum inluding the node, max of all sums\n",
    "    \"\"\" \n",
    "    if T is None : return (0,0)\n",
    "    left = maxsum(T[1])\n",
    "    right = maxsum(T[2])\n",
    "    including = max(left[0] + T[0],right[0] + T[0], T[0])\n",
    "    maxall = max(left[1],right[1],T[0],left[0] + right[0] + T[0])\n",
    "    if including >= maxall : maxall = including\n",
    "    return (including, maxall)\n",
    "\n",
    "def solution(T) :\n",
    "    if T is None : return 0\n",
    "    left = maxsum(T[1])\n",
    "    right = maxsum(T[2])\n",
    "    return max(left[0] + right[0] + T[0], left[0] + T[0],right[0] + T[0],T[0],left[1],right[1],left[0],right[0])\n"
   ]
  },
  {
   "cell_type": "code",
   "execution_count": 2,
   "id": "younger-choice",
   "metadata": {
    "id": "a0d3b957-8775-4599-8e35-3f470c61feb2",
    "tags": []
   },
   "outputs": [
    {
     "name": "stdout",
     "output_type": "stream",
     "text": [
      "6\n"
     ]
    }
   ],
   "source": [
    "T = (1,(2,None,None),(3,None,None))\n",
    "print(solution(T))"
   ]
  },
  {
   "cell_type": "code",
   "execution_count": null,
   "id": "liable-training",
   "metadata": {
    "id": "a42fe0ed-649c-4daf-9f73-69a829128c5b",
    "tags": []
   },
   "outputs": [],
   "source": [
    "T = (-1,(2,None,None),(3,None,None))\n",
    "print(solution(T))"
   ]
  },
  {
   "cell_type": "code",
   "execution_count": 4,
   "id": "victorian-annotation",
   "metadata": {
    "id": "5e66adc7-581c-417c-aeba-c591ddd7f7f3",
    "tags": []
   },
   "outputs": [
    {
     "name": "stdout",
     "output_type": "stream",
     "text": [
      "3\n"
     ]
    }
   ],
   "source": [
    "T = (1,(2,(-1,None,None),None), None)\n",
    "print(solution(T))\n"
   ]
  },
  {
   "cell_type": "code",
   "execution_count": 5,
   "id": "waiting-import",
   "metadata": {
    "id": "3b15661a-0460-4d41-bc2f-fc086b896dd1",
    "tags": []
   },
   "outputs": [
    {
     "name": "stdout",
     "output_type": "stream",
     "text": [
      "42\n"
     ]
    }
   ],
   "source": [
    "T = (10,(2,(20,None,None),(1,None,None)),(10,None,(-25,(3,None,None),(4,None,None))))\n",
    "print(solution(T))"
   ]
  },
  {
   "cell_type": "raw",
   "id": "minus-bacon",
   "metadata": {
    "id": "e16e5483-5585-4226-bb6a-81026dce47a0"
   },
   "source": [
    "# Question 6\n",
    "https://www.educative.io/blog/cracking-top-facebook-coding-interview-questions\n",
    "\n",
    "# The solution is not correct, it does not cover all combination"
   ]
  },
  {
   "cell_type": "code",
   "execution_count": 6,
   "id": "pointed-solomon",
   "metadata": {
    "id": "fa8fb9d2-54a6-4b6f-be9f-fbb72bc70392",
    "tags": []
   },
   "outputs": [],
   "source": [
    "def can_segment_string(s, dictionary):\n",
    "    ss = s\n",
    "    for d in dictionary:\n",
    "      while True:\n",
    "        rpos = ss.rfind(d)\n",
    "        if rpos == -1 : break\n",
    "        ss = ss[0:rpos] + ss[rpos+len(d):]\n",
    "    return len(ss) == 0"
   ]
  },
  {
   "cell_type": "code",
   "execution_count": 7,
   "id": "consistent-dividend",
   "metadata": {
    "id": "12b83724-2e47-497b-89a8-a2c6b96bff3c",
    "tags": []
   },
   "outputs": [
    {
     "name": "stdout",
     "output_type": "stream",
     "text": [
      "True\n",
      "False\n"
     ]
    }
   ],
   "source": [
    "D = [\"apple\",\"apple\",\"pear\",\"pie\"]\n",
    "S = \"applepie\"\n",
    "\n",
    "print(can_segment_string(S,D))\n",
    "print(can_segment_string(\"applepeer\",D))"
   ]
  },
  {
   "cell_type": "markdown",
   "id": "checked-producer",
   "metadata": {
    "id": "e80c68b0-b534-4024-8914-37e21a1e8e7d"
   },
   "source": [
    "# Question 6\n",
    "\n",
    "https://www.educative.io/blog/cracking-top-facebook-coding-interview-questions\n",
    "\n",
    "Dynamic Programming: Find maximum single sell profit"
   ]
  },
  {
   "cell_type": "code",
   "execution_count": 10,
   "id": "dense-clearance",
   "metadata": {
    "id": "23630d3c-99af-4610-9ffe-bbb906752ce8",
    "tags": []
   },
   "outputs": [],
   "source": [
    "def find_buy_sell_stock_prices(S):\n",
    "    current_buy = None\n",
    "    current_max_sell = None\n",
    "    current_max_profit = None\n",
    "    for s in S :\n",
    "        if current_buy is None : \n",
    "            current_buy = s\n",
    "            continue\n",
    "        if current_max_profit is None :\n",
    "            current_max_sell = s\n",
    "            current_max_profit = s - current_buy\n",
    "        current_profit = s - current_buy\n",
    "        if current_profit > current_max_profit :\n",
    "            current_max_profit = current_profit\n",
    "            current_max_sell = s\n",
    "        if s < current_buy : current_buy = s\n",
    "    return (current_max_sell,current_max_profit)"
   ]
  },
  {
   "cell_type": "code",
   "execution_count": 11,
   "id": "narrative-shuttle",
   "metadata": {
    "id": "cd9d3559-90a0-4511-a183-867b8a63057a",
    "tags": []
   },
   "outputs": [
    {
     "name": "stdout",
     "output_type": "stream",
     "text": [
      "(19, 14)\n",
      "(11, -1)\n",
      "(100, 99)\n"
     ]
    }
   ],
   "source": [
    "print(find_buy_sell_stock_prices([8,5,12,9,19,1]))\n",
    "print(find_buy_sell_stock_prices([21,12,11,9,6,3]))\n",
    "print(find_buy_sell_stock_prices([8,5,12,9,19,1,100]))"
   ]
  },
  {
   "cell_type": "code",
   "execution_count": null,
   "id": "sealed-length",
   "metadata": {
    "id": "a202b2eb-4b01-472c-9927-0c8f137efee0"
   },
   "outputs": [],
   "source": []
  }
 ],
 "metadata": {
  "kernelspec": {
   "display_name": "Python 3.8",
   "language": "python",
   "name": "python3"
  },
  "language_info": {
   "codemirror_mode": {
    "name": "ipython",
    "version": 3
   },
   "file_extension": ".py",
   "mimetype": "text/x-python",
   "name": "python",
   "nbconvert_exporter": "python",
   "pygments_lexer": "ipython3",
   "version": "3.8.11"
  }
 },
 "nbformat": 4,
 "nbformat_minor": 5
}
