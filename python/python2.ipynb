{
 "cells": [
  {
   "cell_type": "markdown",
   "id": "ceeacb51-bfb1-4be0-8521-ea2e9241e7a2",
   "metadata": {},
   "source": [
    "# Question1\n",
    "\n",
    "In this problem, you have to implement the find_sum(lst, n) function which will take a list lst and number n as inputs and return two numbers from the list that add up to n."
   ]
  },
  {
   "cell_type": "code",
   "execution_count": 1,
   "id": "f12be700-00be-4698-9993-a44827aeb392",
   "metadata": {},
   "outputs": [],
   "source": [
    "\n",
    "from typing import List,Tuple,Set\n",
    "\n",
    "def find_sum(l : List[int], n : int) -> Tuple[int,int] :\n",
    "    assert(len(l) >= 2)\n",
    "    s : Set[int] = set()\n",
    "    for num in l :\n",
    "        oppo : int = n - num\n",
    "        if oppo in s : \n",
    "            return(num,oppo)\n",
    "        s.add(num)\n",
    "        \n",
    "    return None"
   ]
  },
  {
   "cell_type": "code",
   "execution_count": 2,
   "id": "28a06807-2eeb-4703-8058-f4a4a6d1992c",
   "metadata": {},
   "outputs": [],
   "source": [
    "assert (find_sum([1,21,3,14,5,60,7,6],81) == (60,21))\n",
    "assert (find_sum([1,21,3,14,5,60,7,6],82) is None)\n",
    "assert (find_sum([21,1],22) == (1,21))\n",
    "assert (find_sum([21,1],23) is None)"
   ]
  },
  {
   "cell_type": "markdown",
   "id": "c22f085d-55ee-46b0-ac5b-145f63e25289",
   "metadata": {},
   "source": [
    "# Question 2\n",
    "\n",
    "Given a sorted list of n integers that has been rotated an unknown number of times, write some code to find an element in the list. You may assume that the list was originally sorted in an ascending order.\n"
   ]
  },
  {
   "cell_type": "code",
   "execution_count": 7,
   "id": "773a2887-e40f-495f-a954-0ac37c597532",
   "metadata": {},
   "outputs": [],
   "source": [
    "from typing import List\n",
    "\n",
    "def binary_search(k : int, l : List[int],beg,end) -> int :\n",
    "    if beg > end : return -1\n",
    "    mid : int = (end+beg) // 2\n",
    "    if k == l[mid] : return mid\n",
    "    if k < l[mid] : \n",
    "        return binary_search(k,l,beg,mid-1)\n",
    "    return binary_search(k,l,mid+1,end)\n",
    "\n",
    "def find_beg_rotate(l : List[int], beg: int, end : int) -> int :\n",
    "    if beg > end : return -1\n",
    "    if beg == end : return beg    \n",
    "    mid : int = (end+beg) // 2\n",
    "    if l[beg] > l[mid] : \n",
    "        if l[mid -1] < l[mid] : return find_beg_rotate(l,beg,mid-1)\n",
    "        return mid\n",
    "    if l[mid] >= l[end] :\n",
    "        if l[mid] < l[mid+1] : return find_beg_rotate(l,mid+1,end)\n",
    "        return mid\n",
    "\n",
    "def find_in_rotated(k : int, l : List[int]) -> int :\n",
    "    begrot : int = find_beg_rotate(l,0,len(l) -1)\n",
    "    if begrot > 0 :\n",
    "       res : int = binary_search(k,l,0,begrot-1)\n",
    "       if res != -1 : return res\n",
    "    return binary_search(k,l,begrot,len(l)-1)\n"
   ]
  },
  {
   "cell_type": "code",
   "execution_count": 8,
   "id": "7fddb32f-4224-4b5b-b2dd-85633773abbb",
   "metadata": {},
   "outputs": [],
   "source": [
    "l = [7,8,9,0,3,5,6]\n",
    "# print (find_beg_rotate(l,0,len(l)-1))\n",
    "assert (find_in_rotated(3,l) == 4)"
   ]
  },
  {
   "cell_type": "code",
   "execution_count": null,
   "id": "97b3bb90-ccc3-44b4-8023-c55bfc51e26e",
   "metadata": {},
   "outputs": [],
   "source": []
  }
 ],
 "metadata": {
  "kernelspec": {
   "display_name": "Python 3 (ipykernel)",
   "language": "python",
   "name": "python3"
  },
  "language_info": {
   "codemirror_mode": {
    "name": "ipython",
    "version": 3
   },
   "file_extension": ".py",
   "mimetype": "text/x-python",
   "name": "python",
   "nbconvert_exporter": "python",
   "pygments_lexer": "ipython3",
   "version": "3.9.7"
  }
 },
 "nbformat": 4,
 "nbformat_minor": 5
}
