{
 "cells": [
  {
   "cell_type": "markdown",
   "id": "8718962e-26ad-4cfe-899b-f4cd1299ec8e",
   "metadata": {},
   "source": [
    "# Question 1\n",
    "\n",
    "Given an infinite number of quarters (25 cents)(25cents), dimes (10 cents)(10cents), nickels (5 cents)(5cents), and pennies (1 cent)(1cent), implement a function to calculate the minimum number of coins to represent vv cents.\n",
    "\n",
    "# Important: it is not optimal solution, example of using greedy algorithm"
   ]
  },
  {
   "cell_type": "code",
   "execution_count": 1,
   "id": "36d79c8a-fec7-4697-bc82-2c2b204827d7",
   "metadata": {},
   "outputs": [],
   "source": [
    "from typing import List\n",
    "\n",
    "def find_min_coins(v : int, coins_available : List[int]) -> List[int] :\n",
    "    res : List[int] = []\n",
    "    currentcoin : int = len(coins_available) -1    \n",
    "    \n",
    "    while v != 0 :\n",
    "        coin = coins_available[currentcoin]\n",
    "        if v - coin >= 0 : \n",
    "            res.append(coin)\n",
    "            v -= coin\n",
    "        else : currentcoin -= 1\n",
    "        \n",
    "    return res"
   ]
  },
  {
   "cell_type": "code",
   "execution_count": 2,
   "id": "0f7cdad9-ca23-4ffc-b199-2b9415d5dff1",
   "metadata": {},
   "outputs": [],
   "source": [
    "available_coins = [1, 5, 10, 25]\n",
    "assert(find_min_coins(19,available_coins) == [10,5,1,1,1,1])\n"
   ]
  },
  {
   "cell_type": "markdown",
   "id": "c0cd8cdb-b42e-4ca3-9f88-1d395c3ee557",
   "metadata": {},
   "source": [
    "# Question 2\n",
    "\n",
    "Implement a function that connects n pipes of different lengths, into one pipe. You can assume that the cost to connect two pipes is equal to the sum of their lengths. We need to connect the pipes with minimum cost."
   ]
  },
  {
   "cell_type": "code",
   "execution_count": 3,
   "id": "10ae8ea5-f1df-4532-8628-56b5f7904155",
   "metadata": {},
   "outputs": [],
   "source": [
    "from typing import List\n",
    "import heapq\n",
    "\n",
    "def min_cost(pipes : List[int]) -> int :\n",
    "    cost : int = 0\n",
    "    heapq.heapify(pipes)\n",
    "    \n",
    "    while (len(pipes) > 1) :\n",
    "        smallest = heapq.heappop(pipes)\n",
    "        nextsmallest = heapq.heappop(pipes)\n",
    "        cost += (smallest + nextsmallest)\n",
    "        heapq.heappush(pipes,smallest + nextsmallest)\n",
    "        \n",
    "    return cost"
   ]
  },
  {
   "cell_type": "code",
   "execution_count": 4,
   "id": "945343eb-2aa0-44a7-9509-ae56c52fe833",
   "metadata": {},
   "outputs": [],
   "source": [
    "pipes = [4, 3, 2, 6]\n",
    "assert(min_cost(pipes) == 29)\n"
   ]
  },
  {
   "cell_type": "markdown",
   "id": "a3c5cebf-ce1a-4751-a4e7-a2435b0ca26a",
   "metadata": {},
   "source": [
    "# Question 3\n",
    "\n",
    "Every positive fraction can be represented as the sum of its unique unit fractions. A fraction is a unit fraction, if the numerator is 1 and the denominator is a positive integer. For example, 1/3 is a unit fraction. Such a representation is called an Egyptian Fraction."
   ]
  },
  {
   "cell_type": "code",
   "execution_count": 5,
   "id": "e50c9615-ba00-489b-9880-cb14e9297bc0",
   "metadata": {},
   "outputs": [],
   "source": [
    "import math\n",
    "from typing import List\n",
    "\n",
    "def egyptian_fraction(numerator, denominator) -> List[int] :\n",
    "    assert (numerator < denominator)\n",
    "    \n",
    "    res : List[int] = []\n",
    "    \n",
    "    while numerator > 0 :\n",
    "        fract : int = math.ceil(denominator/numerator)\n",
    "        res.append(fract)\n",
    "        newnumerator = numerator*fract - denominator\n",
    "        newdenominator = denominator*fract\n",
    "        numerator,denominator = newnumerator,newdenominator\n",
    "        \n",
    "    return res"
   ]
  },
  {
   "cell_type": "code",
   "execution_count": 7,
   "id": "66a75cc9-53e0-41d9-b802-5ee8aade036f",
   "metadata": {},
   "outputs": [],
   "source": [
    "assert (egyptian_fraction(2,3) == [2,6])"
   ]
  },
  {
   "cell_type": "markdown",
   "id": "c136e1b7-6982-4784-bec2-4aac5de3b99a",
   "metadata": {},
   "source": [
    "# Question 4\n",
    "\n",
    "A girl lost the key to her locker (note: The key is only numeric). She remembers the number of digits N as well as the sum S of all the digits of her password. She also knows that her password is the largest number of N digits that can be possible with a given sum S.\n",
    "\n",
    "Implement a function that would help her retrieve her key."
   ]
  },
  {
   "cell_type": "code",
   "execution_count": 8,
   "id": "7dab0873-7e3f-45a7-addb-d0609c7d07ab",
   "metadata": {},
   "outputs": [],
   "source": [
    "from typing import List\n",
    "\n",
    "def find_largest_number(number_of_digits : int, sum_of_digits : int) -> List[int] :\n",
    "    assert(number_of_digits > 0)\n",
    "    res : List[int] = [0] * number_of_digits\n",
    "    if sum_of_digits == 0 : return res\n",
    "    for i in range(number_of_digits) :\n",
    "        if sum_of_digits > 9 :\n",
    "            res[i] = 9\n",
    "            sum_of_digits -= 9\n",
    "        else :\n",
    "            res[i] = sum_of_digits\n",
    "            break\n",
    "    return res"
   ]
  },
  {
   "cell_type": "code",
   "execution_count": 10,
   "id": "aad36bbf-e95c-4a57-b56d-abe7e792a247",
   "metadata": {},
   "outputs": [],
   "source": [
    "assert (find_largest_number(3,20) == [9,9,2])"
   ]
  },
  {
   "cell_type": "code",
   "execution_count": null,
   "id": "ef3ed384-328d-453d-9a74-924c5b1a9011",
   "metadata": {},
   "outputs": [],
   "source": []
  }
 ],
 "metadata": {
  "kernelspec": {
   "display_name": "Python 3 (ipykernel)",
   "language": "python",
   "name": "python3"
  },
  "language_info": {
   "codemirror_mode": {
    "name": "ipython",
    "version": 3
   },
   "file_extension": ".py",
   "mimetype": "text/x-python",
   "name": "python",
   "nbconvert_exporter": "python",
   "pygments_lexer": "ipython3",
   "version": "3.9.7"
  }
 },
 "nbformat": 4,
 "nbformat_minor": 5
}
