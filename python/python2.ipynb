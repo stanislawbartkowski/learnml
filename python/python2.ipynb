{
 "cells": [
  {
   "cell_type": "markdown",
   "id": "ceeacb51-bfb1-4be0-8521-ea2e9241e7a2",
   "metadata": {},
   "source": [
    "# Question1\n",
    "\n",
    "In this problem, you have to implement the find_sum(lst, n) function which will take a list lst and number n as inputs and return two numbers from the list that add up to n."
   ]
  },
  {
   "cell_type": "code",
   "execution_count": 1,
   "id": "f12be700-00be-4698-9993-a44827aeb392",
   "metadata": {},
   "outputs": [],
   "source": [
    "\n",
    "from typing import List,Tuple,Set\n",
    "\n",
    "def find_sum(l : List[int], n : int) -> Tuple[int,int] :\n",
    "    assert(len(l) >= 2)\n",
    "    s : Set[int] = set()\n",
    "    for num in l :\n",
    "        oppo : int = n - num\n",
    "        if oppo in s : \n",
    "            return(num,oppo)\n",
    "        s.add(num)\n",
    "        \n",
    "    return None"
   ]
  },
  {
   "cell_type": "code",
   "execution_count": 2,
   "id": "28a06807-2eeb-4703-8058-f4a4a6d1992c",
   "metadata": {},
   "outputs": [],
   "source": [
    "assert (find_sum([1,21,3,14,5,60,7,6],81) == (60,21))\n",
    "assert (find_sum([1,21,3,14,5,60,7,6],82) is None)\n",
    "assert (find_sum([21,1],22) == (1,21))\n",
    "assert (find_sum([21,1],23) is None)"
   ]
  },
  {
   "cell_type": "markdown",
   "id": "c22f085d-55ee-46b0-ac5b-145f63e25289",
   "metadata": {},
   "source": [
    "# Question 2\n",
    "\n",
    "Given a sorted list of n integers that has been rotated an unknown number of times, write some code to find an element in the list. You may assume that the list was originally sorted in an ascending order.\n"
   ]
  },
  {
   "cell_type": "code",
   "execution_count": 3,
   "id": "773a2887-e40f-495f-a954-0ac37c597532",
   "metadata": {},
   "outputs": [],
   "source": [
    "from typing import List\n",
    "\n",
    "def binary_search(k : int, l : List[int],beg,end) -> int :\n",
    "    if beg > end : return -1\n",
    "    mid : int = (end+beg) // 2\n",
    "    if k == l[mid] : return mid\n",
    "    if k < l[mid] : \n",
    "        return binary_search(k,l,beg,mid-1)\n",
    "    return binary_search(k,l,mid+1,end)\n",
    "\n",
    "def find_beg_rotate(l : List[int], beg: int, end : int) -> int :\n",
    "    if beg > end : return -1\n",
    "    if beg == end : return beg    \n",
    "    mid : int = (end+beg) // 2\n",
    "    if l[beg] > l[mid] : \n",
    "        if l[mid -1] < l[mid] : return find_beg_rotate(l,beg,mid-1)\n",
    "        return mid\n",
    "    if l[mid] >= l[end] :\n",
    "        if l[mid] < l[mid+1] : return find_beg_rotate(l,mid+1,end)\n",
    "        return mid\n",
    "\n",
    "def find_in_rotated(k : int, l : List[int]) -> int :\n",
    "    begrot : int = find_beg_rotate(l,0,len(l) -1)\n",
    "    if begrot > 0 :\n",
    "       res : int = binary_search(k,l,0,begrot-1)\n",
    "       if res != -1 : return res\n",
    "    return binary_search(k,l,begrot,len(l)-1)\n"
   ]
  },
  {
   "cell_type": "code",
   "execution_count": 4,
   "id": "7fddb32f-4224-4b5b-b2dd-85633773abbb",
   "metadata": {},
   "outputs": [],
   "source": [
    "l = [7,8,9,0,3,5,6]\n",
    "# print (find_beg_rotate(l,0,len(l)-1))\n",
    "assert (find_in_rotated(3,l) == 4)"
   ]
  },
  {
   "cell_type": "raw",
   "id": "ccc617e2-8af3-4a6e-8d45-f41f9bf5d39c",
   "metadata": {},
   "source": [
    "# Question 3\n",
    "\n",
    "Given a list of strings that contains anagrams, write a function to print pairs of those anagrams."
   ]
  },
  {
   "cell_type": "code",
   "execution_count": 5,
   "id": "7d2d9f07-f0cd-466a-ad5b-a7b4b8fd32a3",
   "metadata": {},
   "outputs": [],
   "source": [
    "from typing import List, Tuple, Dict\n",
    "\n",
    "def sortstring(s : str) -> str :\n",
    "    return \"\".join(sorted(s))\n",
    "\n",
    "assert(sortstring('i p') == ' ip')\n",
    "assert(sortstring(\"cab\") == 'abc')\n"
   ]
  },
  {
   "cell_type": "code",
   "execution_count": 6,
   "id": "e5ca6079-6625-4f85-b9a6-10b848bc3617",
   "metadata": {},
   "outputs": [],
   "source": [
    "def anagrams(l : List[str]) -> List[List[str]] :\n",
    "    sstr : Dict[str,List[str]] = dict()\n",
    "        \n",
    "    for s in l :\n",
    "        srt = sortstring(s)\n",
    "        if not srt in sstr : \n",
    "            sstr[srt] = []\n",
    "        sstr[srt].append(s)\n",
    "        \n",
    "    return [ sstr[key] for key in sstr ]"
   ]
  },
  {
   "cell_type": "code",
   "execution_count": 7,
   "id": "3aaaa5b0-04c3-402a-9d40-3a3e2b8a2a81",
   "metadata": {},
   "outputs": [],
   "source": [
    "input = [\n",
    "    'tom marvolo riddle ',\n",
    "    'abc',\n",
    "    'def',\n",
    "    'cab',\n",
    "    'fed',\n",
    "    'brag',\n",
    "    'clint eastwood ',\n",
    "    'i am lord voldemort',\n",
    "    'elvis',\n",
    "    'grab',\n",
    "    'old west action',\n",
    "    'lives'\n",
    "  ]"
   ]
  },
  {
   "cell_type": "code",
   "execution_count": 8,
   "id": "ec72e861-c5a3-49f6-af34-39bbca7f204b",
   "metadata": {},
   "outputs": [
    {
     "name": "stdout",
     "output_type": "stream",
     "text": [
      "[['tom marvolo riddle ', 'i am lord voldemort'], ['abc', 'cab'], ['def', 'fed'], ['brag', 'grab'], ['clint eastwood ', 'old west action'], ['elvis', 'lives']]\n"
     ]
    }
   ],
   "source": [
    "print(anagrams(input)) "
   ]
  },
  {
   "cell_type": "markdown",
   "id": "88b1fd7d-12c7-4d38-8515-2ef1ef644650",
   "metadata": {},
   "source": [
    "# Question 4\n",
    "\n",
    "Implement a function sort_binary_list(lst) that takes a binary list of numbers and returns a sorted list."
   ]
  },
  {
   "cell_type": "code",
   "execution_count": 9,
   "id": "f9c5659d-9ff2-490d-9dab-7091e54ba094",
   "metadata": {},
   "outputs": [],
   "source": [
    "from typing import List\n",
    "\n",
    "def sort_binary_list(lst : List[int]) :\n",
    "    \n",
    "    numof0 : int = 0\n",
    "    numof1 : int = 0\n",
    "    \n",
    "    for n in lst :\n",
    "        assert (n == 0 or n == 1)\n",
    "        if n == 0 : numof0 += 1\n",
    "        else: numof1 += 1\n",
    "    \n",
    "    return [0] * numof0 + [1] * numof1"
   ]
  },
  {
   "cell_type": "code",
   "execution_count": 10,
   "id": "719738de-3bc0-42ec-a9ce-54a8967ef1ee",
   "metadata": {},
   "outputs": [
    {
     "name": "stdout",
     "output_type": "stream",
     "text": [
      "[0, 0, 0, 0, 1, 1, 1, 1]\n"
     ]
    }
   ],
   "source": [
    "lst = [1, 0, 1, 0, 1, 1, 0, 0]    \n",
    "print (sort_binary_list(lst))"
   ]
  },
  {
   "cell_type": "markdown",
   "id": "3a0195b7-1d58-4ee0-ba83-14eddb528ea3",
   "metadata": {},
   "source": [
    "# Question 5\n",
    "\n",
    "Implement a function find_max_prod(lst) that takes a list of numbers and returns a maximum product pair."
   ]
  },
  {
   "cell_type": "code",
   "execution_count": 11,
   "id": "3e6da88d-dec1-48e0-adc0-9d5c964f0923",
   "metadata": {},
   "outputs": [],
   "source": [
    "from typing import List,Tuple\n",
    "\n",
    "def find_max_prod(lst : List[int]) -> Tuple[int,int] :\n",
    "    assert (len(lst) >= 2)\n",
    "    minfirst : int = None\n",
    "    minsecond : int = None\n",
    "    maxlast : int = None\n",
    "    maxsecond : int = None\n",
    "    \n",
    "    for num in lst :\n",
    "        if minfirst is None : minfirst = minsecond = num\n",
    "        if num < minfirst : \n",
    "            minsecond = minfirst\n",
    "            minfirst = num\n",
    "        elif num < minsecond : minsecond = num\n",
    "        \n",
    "        if maxlast is None : maxlast = maxsecond = num\n",
    "        if num > maxlast :\n",
    "            maxsecond = maxlast\n",
    "            maxlast = num\n",
    "        elif num > maxsecond : maxsecond = num\n",
    "        \n",
    "    return (minfirst, minsecond) if minfirst * minsecond > maxlast * maxsecond else (maxsecond,maxlast)"
   ]
  },
  {
   "cell_type": "code",
   "execution_count": 12,
   "id": "5500a23e-b20e-4b04-8f6d-9085a292af37",
   "metadata": {},
   "outputs": [],
   "source": [
    "lst = [1, 3, 5, 2, 6]\n",
    "assert (find_max_prod(lst) == (5,6))\n",
    "assert (find_max_prod([1, 3, 5, -6, -6, 2, 6]) == (-6, -6))"
   ]
  },
  {
   "cell_type": "markdown",
   "id": "64823081-918f-46bb-bd0f-70e8ec3c5e93",
   "metadata": {},
   "source": [
    "# Question 6\n",
    "\n",
    "Given a list of integers, find all the duplicates that exist in that list.\n",
    "\n",
    "Note: All the integers are less than the size of the list."
   ]
  },
  {
   "cell_type": "code",
   "execution_count": 13,
   "id": "a77dd764-eead-403f-870d-09b1a2342479",
   "metadata": {},
   "outputs": [],
   "source": [
    "from typing import List\n",
    "\n",
    "def find_duplicates(lst : List[int]) -> List[int] :\n",
    "    \n",
    "    calc : List[int] = [0] * len(lst)\n",
    "    \n",
    "    for n in lst :\n",
    "        assert (n >=0 and n < len(lst)) \n",
    "        calc[n] += 1\n",
    "        \n",
    "    return [ n for n in range(len(lst) -1) if calc[n] > 1]"
   ]
  },
  {
   "cell_type": "code",
   "execution_count": 14,
   "id": "b7450e43-dde7-4873-bb49-778da6bc0519",
   "metadata": {},
   "outputs": [
    {
     "name": "stdout",
     "output_type": "stream",
     "text": [
      "[1, 3, 7]\n"
     ]
    }
   ],
   "source": [
    "lst = [1, 3, 1, 3, 5, 1, 4, 7, 7]\n",
    "print (find_duplicates(lst))"
   ]
  },
  {
   "cell_type": "code",
   "execution_count": null,
   "id": "a0123aa2-b84c-47c1-ab00-9c786e98ec4c",
   "metadata": {},
   "outputs": [],
   "source": []
  }
 ],
 "metadata": {
  "kernelspec": {
   "display_name": "Python 3 (ipykernel)",
   "language": "python",
   "name": "python3"
  },
  "language_info": {
   "codemirror_mode": {
    "name": "ipython",
    "version": 3
   },
   "file_extension": ".py",
   "mimetype": "text/x-python",
   "name": "python",
   "nbconvert_exporter": "python",
   "pygments_lexer": "ipython3",
   "version": "3.9.7"
  }
 },
 "nbformat": 4,
 "nbformat_minor": 5
}
