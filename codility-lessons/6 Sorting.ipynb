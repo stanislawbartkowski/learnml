{
 "cells": [
  {
   "cell_type": "markdown",
   "id": "f9ed8ebe-fd44-4f5b-9e1b-0dfa9faa24b1",
   "metadata": {},
   "source": [
    "# Distinct\n",
    "https://app.codility.com/programmers/lessons/6-sorting/distinct/"
   ]
  },
  {
   "cell_type": "code",
   "execution_count": 1,
   "id": "c96313ea-83c3-4ec7-acea-bc9ba28ee906",
   "metadata": {},
   "outputs": [],
   "source": [
    "from typing import List,Set\n",
    "\n",
    "def solution(A: List[int]) -> int :\n",
    "    used : Set[int] = set()\n",
    "\n",
    "    distinctno : int = 0\n",
    "\n",
    "    for i in A :\n",
    "        if not i in used :\n",
    "            distinctno += 1\n",
    "            used.add(i)\n",
    "\n",
    "    return distinctno"
   ]
  },
  {
   "cell_type": "code",
   "execution_count": 2,
   "id": "801bea97-5fc5-4f7d-a674-1ebbf0e67e7e",
   "metadata": {},
   "outputs": [],
   "source": [
    "assert(solution([2,1,1,2,3,1]) == 3)\n",
    "\n",
    "assert(solution([]) == 0)"
   ]
  },
  {
   "cell_type": "markdown",
   "id": "a1786847-0fd8-4d4f-9f71-fe0b655ddca4",
   "metadata": {},
   "source": [
    "# MaxProductOfThree\n",
    "https://app.codility.com/programmers/lessons/6-sorting/max_product_of_three/"
   ]
  },
  {
   "cell_type": "code",
   "execution_count": 3,
   "id": "4c682c7a-7ca2-45ec-8d57-3897db06e395",
   "metadata": {},
   "outputs": [],
   "source": [
    "from typing import List\n",
    "\n",
    "def solution(A: List[int]) -> int :\n",
    "    assert(len(A) >= 3)\n",
    "    S : List[int] = sorted(A,reverse=True)\n",
    "    productplus : int = S[0] * S[1] * S[2]\n",
    "    productminus : int = S[len(S)-1] * S[len(S) -2] * S[0]\n",
    "    return max(productplus,productminus)"
   ]
  },
  {
   "cell_type": "code",
   "execution_count": 4,
   "id": "5f313a2a-4d33-4244-aba4-c034da3bef23",
   "metadata": {},
   "outputs": [],
   "source": [
    "assert(solution([-3,1,2,-2,5,6]) == 60)\n",
    "assert(solution([1,-5,-6,3,4]) == 120)\n",
    "assert(solution([-1,-2,-3,-4]) == -6)"
   ]
  },
  {
   "cell_type": "markdown",
   "id": "7961e499-00e2-42f7-9b7e-aef1eb8331d1",
   "metadata": {},
   "source": [
    "# Triangle\n",
    "https://app.codility.com/programmers/lessons/6-sorting/triangle/"
   ]
  },
  {
   "cell_type": "code",
   "execution_count": 5,
   "id": "95665f8a-47a0-41cc-a07d-48bb3ba73df6",
   "metadata": {},
   "outputs": [],
   "source": [
    "from typing import List\n",
    "\n",
    "def solution(A : List[int]) -> int :\n",
    "    if len(A) < 3 : return 0\n",
    "    S : List[int] = sorted(A)\n",
    "\n",
    "    for i in range(len(S)-2) :\n",
    "        if S[i] + S[i+1] <= S[i+2] : continue\n",
    "        if S[i] + S[i+2] <= S[i+1] : continue\n",
    "        if S[i+1] + S[i+2] > S[i] : return 1\n",
    "    \n",
    "    return 0"
   ]
  },
  {
   "cell_type": "code",
   "execution_count": 6,
   "id": "80ec9d2d-5169-4cee-ba93-d2068c4337b8",
   "metadata": {},
   "outputs": [],
   "source": [
    "assert(solution([10,2,5,1,8,20]) == 1)\n",
    "\n",
    "assert(solution([10,50,5]) == 0)\n",
    "\n",
    "assert(solution([5,3,3]) == 1)\n",
    "\n",
    "assert(solution([1,1,2,3,5]) == 0)"
   ]
  },
  {
   "cell_type": "markdown",
   "id": "08fd7909-d45c-409d-b3b0-39013ed2b8dd",
   "metadata": {},
   "source": [
    "#  NumberOfDiscIntersections\n",
    "https://app.codility.com/programmers/lessons/6-sorting/number_of_disc_intersections/\n",
    "\n",
    "Solution based on video: https://www.youtube.com/watch?v=HV8tzIiidSw"
   ]
  },
  {
   "cell_type": "code",
   "execution_count": 7,
   "id": "a69c627a-511e-4206-b8c5-a6f1e0120d66",
   "metadata": {},
   "outputs": [],
   "source": [
    "from typing import List\n",
    "\n",
    "def solution(A: List[int]) -> int :\n",
    "    SL : List[int] = sorted([i-A[i] for i in range(len(A)) ])\n",
    "    SR : List[int] = sorted([i+A[i] for i in range(len(A)) ])\n",
    "\n",
    "    inters : int = 0\n",
    "    opendisc : int = 0\n",
    "    k : int = 0\n",
    "\n",
    "    for i in range(len(A)) :\n",
    "        while k < len(A) and SR[k] < SL[i] : \n",
    "           k+=1\n",
    "           opendisc -=1\n",
    "        if k == len(A) : break\n",
    "        inters += opendisc\n",
    "        if inters > 10000000 : return -1\n",
    "        opendisc += 1\n",
    "    return inters"
   ]
  },
  {
   "cell_type": "code",
   "execution_count": 8,
   "id": "b3c3819e-78c7-4e79-8060-6361c803fd8e",
   "metadata": {},
   "outputs": [],
   "source": [
    "assert(solution([1,5,2,1,4,0]) == 11)\n",
    "assert(solution([]) == 0)\n",
    "\n",
    "assert(solution([1,0,1]) == 3)\n",
    "assert(solution([1,0,1,0,1]) == 6)"
   ]
  },
  {
   "cell_type": "code",
   "execution_count": null,
   "id": "197534ae-3198-4ae4-8ffa-d3a2ab0bd221",
   "metadata": {},
   "outputs": [],
   "source": []
  }
 ],
 "metadata": {
  "kernelspec": {
   "display_name": "Python 3 (ipykernel)",
   "language": "python",
   "name": "python3"
  },
  "language_info": {
   "codemirror_mode": {
    "name": "ipython",
    "version": 3
   },
   "file_extension": ".py",
   "mimetype": "text/x-python",
   "name": "python",
   "nbconvert_exporter": "python",
   "pygments_lexer": "ipython3",
   "version": "3.9.7"
  }
 },
 "nbformat": 4,
 "nbformat_minor": 5
}
