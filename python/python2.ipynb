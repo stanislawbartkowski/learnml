{
 "cells": [
  {
   "cell_type": "markdown",
   "id": "naughty-sunglasses",
   "metadata": {
    "id": "cebfb445-c1c8-4238-a48b-debe65bc2da9",
    "tags": []
   },
   "source": [
    "# Question 1\n",
    "https://app.codility.com/programmers/trainings/4/array_inversion_count/"
   ]
  },
  {
   "cell_type": "code",
   "execution_count": 1,
   "id": "apparent-publication",
   "metadata": {
    "id": "18eb6e7c-0ff0-4111-a62a-89d6bb3a3438",
    "tags": []
   },
   "outputs": [],
   "source": [
    "from operator import itemgetter\n",
    "import math\n",
    "\n",
    "def sorttable(A):\n",
    "    T = [(A[i],i) for i in range(len(A)) ]\n",
    "    return sorted(T, key = itemgetter(0,1),reverse = True)\n",
    "\n",
    "\n",
    "def findelemrek(T, val, i, first, last):\n",
    "    if first == last: return first\n",
    "    mid = first + math.floor((last-first)/2)\n",
    "    if T[mid][0] == val and T[mid][1] == i: return mid\n",
    "    if T[mid][0] < val or (T[mid][0] == val and T[mid][1] < i) : \n",
    "        return findelemrek(T,val,i,first,mid-1)\n",
    "    return findelemrek(T,val,i,mid+1,last)\n",
    "\n",
    "\n",
    "def findelem(T, val, i):\n",
    "    return findelemrek(T, val, i, 0, len(T)-1)\n",
    "\n",
    "\n",
    "def removeelem(T, i):\n",
    "    del T[i:i+1]\n",
    "\n",
    "\n",
    "def solutionres(A):\n",
    "    T = sorttable(A)\n",
    "    res = []\n",
    "    for i in range(len(A)):\n",
    "        k = findelem(T, A[i], i)\n",
    "        for j in range(k+1, len(T)):\n",
    "            res.append((i, T[j][1]))\n",
    "        removeelem(T, k)\n",
    "    return res\n",
    "\n",
    "\n",
    "def solution(A):\n",
    "    T = sorttable(A)\n",
    "    res = 0\n",
    "    for i in range(len(A)):\n",
    "        k = findelem(T, A[i], i)\n",
    "        res = res + len(T) - k - 1\n",
    "        removeelem(T, k)\n",
    "    return res\n"
   ]
  },
  {
   "cell_type": "code",
   "execution_count": 2,
   "id": "suffering-cancellation",
   "metadata": {
    "id": "9871e858-d1ed-4cc4-9377-1ec061720358",
    "tags": []
   },
   "outputs": [],
   "source": [
    "A = [-1,6,3,4,7,4]"
   ]
  },
  {
   "cell_type": "code",
   "execution_count": 3,
   "id": "amended-partition",
   "metadata": {
    "id": "64a430f6-005e-4ffc-92d2-61156bad4bc6",
    "tags": []
   },
   "outputs": [
    {
     "name": "stdout",
     "output_type": "stream",
     "text": [
      "4\n",
      "1\n",
      "0\n"
     ]
    }
   ],
   "source": [
    "print(solution(A))\n",
    "print(solution([2,1]))\n",
    "print(solution([8]))"
   ]
  },
  {
   "cell_type": "markdown",
   "id": "quality-permission",
   "metadata": {
    "id": "e2de05c8-b571-42f9-8f0d-2ba8af2f31fc"
   },
   "source": [
    "# Question 2\n",
    "https://app.codility.com/programmers/trainings/4/disappearing_pairs/"
   ]
  },
  {
   "cell_type": "code",
   "execution_count": 6,
   "id": "interstate-sailing",
   "metadata": {
    "id": "b312d162-6534-4659-b4f5-f6c1b01f1870",
    "tags": []
   },
   "outputs": [],
   "source": [
    "def solution(S):\n",
    "    D = []\n",
    "    i = 0\n",
    "    while i < len(S):\n",
    "        if i < len(S)-1 and S[i] == S[i+1]:\n",
    "            i = i + 2\n",
    "            continue\n",
    "        if len(D) > 0 and D[len(D)-1] == S[i]:\n",
    "            del D[len(D)-1:len(D)]\n",
    "        else : D.append(S[i])\n",
    "        i = i + 1\n",
    "    res = \"\"\n",
    "    for c in D:\n",
    "        res = res + c\n",
    "    return res"
   ]
  },
  {
   "cell_type": "code",
   "execution_count": 7,
   "id": "identified-upper",
   "metadata": {
    "id": "e3ba48db-7402-4004-a465-58b91509baf0",
    "tags": []
   },
   "outputs": [
    {
     "name": "stdout",
     "output_type": "stream",
     "text": [
      "AC\n",
      "\n"
     ]
    }
   ],
   "source": [
    "print (solution(\"ACCAABBC\"))\n",
    "print (solution(\"ABCBBCBA\"))"
   ]
  },
  {
   "cell_type": "markdown",
   "id": "advised-leadership",
   "metadata": {
    "id": "214e1294-3f74-47b5-9cfd-f0f14a64f3c8"
   },
   "source": [
    "# Question 3\n",
    "https://app.codility.com/programmers/trainings/4/polygon_concavity_index/"
   ]
  },
  {
   "cell_type": "code",
   "execution_count": 1,
   "id": "intended-tiffany",
   "metadata": {
    "id": "f69479eb-8185-4679-8ed4-a6973c352a55",
    "tags": []
   },
   "outputs": [],
   "source": [
    "# Solution is wrong\n",
    "from typing import List\n",
    "\n",
    "class Point2D(object):\n",
    "  x = 0\n",
    "  y = 0\n",
    "\n",
    "  def __init__(self,x,y) :\n",
    "      self.x = x\n",
    "      self.y = y\n",
    "  \n",
    "\n",
    "def sign (p1 : Point2D,p2 : Point2D,p3 : Point2D) -> float :\n",
    "    return (p1.x - p3.x) * (p2.y - p3.y) - (p2.x - p3.x) * (p1.y - p3.y)\n",
    "\n",
    "def pointintriangle(p : Point2D,a1 : Point2D,a2 : Point2D,a3 : Point2D) :\n",
    "    d1 = sign(p, a1, a2)\n",
    "    d2 = sign(p, a2, a3)\n",
    "    d3 = sign(p, a3, a1)\n",
    "\n",
    "    has_neg = (d1 <= 0) or (d2 <= 0) or (d3 <= 0)\n",
    "    has_pos = (d1 >= 0) or (d2 >= 0) or (d3 >= 0)\n",
    "\n",
    "    return not (has_neg and has_pos)\n",
    "\n",
    "def convexquadrangle(a1 : Point2D,a2 : Point2D,a3 : Point2D,a4 : Point2D) :\n",
    "    if pointintriangle(a1,a2,a3,a4) : return 0\n",
    "    if pointintriangle(a2,a1,a3,a4) : return 1\n",
    "    if pointintriangle(a3,a1,a2,a4) : return 2\n",
    "    if pointintriangle(a4,a1,a2,a3) : return 3\n",
    "    return -1\n",
    "\n",
    "def solution(A : List[Point2D]) :\n",
    "\n",
    "    for i in range(len(A) - 3) :\n",
    "        p = convexquadrangle(A[i],A[i+1],A[i+2],A[i+3])\n",
    "        if p != -1 : return i+p\n",
    "    return -1"
   ]
  },
  {
   "cell_type": "code",
   "execution_count": 2,
   "id": "advisory-register",
   "metadata": {
    "id": "e80988da-985d-43b9-ac4e-d147cec8233b",
    "tags": []
   },
   "outputs": [],
   "source": [
    "p1 = Point2D(1,2)\n",
    "p2 = Point2D(3,1)\n",
    "p3 = Point2D(-1,-1)\n",
    "\n",
    "assert(pointintriangle(Point2D(1,1),p1,p2,p3))\n",
    "assert(not pointintriangle(Point2D(0,1),p1,p2,p3))\n",
    "\n",
    "assert(not pointintriangle(Point2D(1,1),Point2D(-1,3),Point2D(1,1),Point2D(3,1)))\n",
    "\n",
    "assert (convexquadrangle(Point2D(-1,3),Point2D(1,2),Point2D(3,1),Point2D(1,1)) == -1)\n",
    "\n",
    "assert (convexquadrangle(Point2D(1,2),Point2D(3,1),Point2D(1,1),Point2D(0,-1)) == 2)\n",
    "\n",
    "Q1 = [Point2D(-1,3),Point2D(3,1),Point2D(0,-1),Point2D(-2,1)]\n",
    "assert(solution(Q1) == -1)\n",
    "\n",
    "Q2 = [Point2D(-1,3),Point2D(1,2),Point2D(3,1),Point2D(1,1),Point2D(0,-1),Point2D(2,1),Point2D(-1,2)]\n",
    "assert (solution(Q2) ==3)\n",
    "\n",
    "Q3 = [Point2D(-1,3),Point2D(1,2),Point2D(1,1),Point2D(3,1),Point2D(0,-1),Point2D(-2,1),Point2D(-1,2)]\n",
    "assert (solution(Q2) ==3 )"
   ]
  },
  {
   "cell_type": "markdown",
   "id": "knowing-binary",
   "metadata": {
    "id": "30558bd2-f3f2-4f9c-adf0-8ef543f234d3"
   },
   "source": [
    "# Question 4\n",
    "\n",
    "https://app.codility.com/programmers/lessons/2-arrays/odd_occurrences_in_array/"
   ]
  },
  {
   "cell_type": "code",
   "execution_count": 1,
   "id": "union-ultimate",
   "metadata": {
    "id": "ff6347b8-12d5-429a-8ae5-da81665a78b0",
    "tags": []
   },
   "outputs": [],
   "source": [
    "from typing import List\n",
    "\n",
    "def solution(A : List[int]) -> int :\n",
    "\n",
    "    X = sorted(A)\n",
    "\n",
    "    for i in range(0,len(X)-1,2) :\n",
    "        if X[i+1] != X[i]: return X[i]\n",
    "    \n",
    "    return X[len(X)-1]"
   ]
  },
  {
   "cell_type": "code",
   "execution_count": 2,
   "id": "intended-carolina",
   "metadata": {
    "id": "99708c96-af14-46be-ad90-7748f2724843",
    "tags": []
   },
   "outputs": [],
   "source": [
    "assert(solution([9,3,9,3,9,7,9]) == 7)\n",
    "\n",
    "assert(solution([1,9,9,1,11]) == 11)\n",
    "\n",
    "assert(solution([1,1,1]) == 1)"
   ]
  },
  {
   "cell_type": "markdown",
   "id": "adapted-union",
   "metadata": {
    "id": "3b8b519e-92f5-450a-8748-5bbc88135ef4"
   },
   "source": [
    "# Question 5\n",
    "\n",
    "https://app.codility.com/programmers/lessons/3-time_complexity/perm_missing_elem/\n",
    "    \n",
    "It works but there exists a better solution\n",
    "\n",
    "https://github.com/ghanan94/codility-lesson-solutions/blob/master/Lesson%2003%20-%20Time%20Complexity/PermMissingElem/solution.py\n"
   ]
  },
  {
   "cell_type": "code",
   "execution_count": 4,
   "id": "instrumental-calculation",
   "metadata": {
    "id": "fb1a94d5-efc5-4148-93cc-339a01b07884",
    "tags": []
   },
   "outputs": [],
   "source": [
    "from typing import List\n",
    "\n",
    "def solution(A : List[int]) -> int :\n",
    "\n",
    "    X : List[int] = sorted(A)\n",
    "\n",
    "    for i in range(len(X)) :\n",
    "        if i+1 != X[i] : return i+1\n",
    "\n",
    "    return len(A)+1"
   ]
  },
  {
   "cell_type": "code",
   "execution_count": 5,
   "id": "mineral-database",
   "metadata": {
    "id": "3036203b-0507-4736-b7e3-aafae87eb7aa",
    "tags": []
   },
   "outputs": [],
   "source": [
    "assert (solution([2,3,1,5]) == 4)\n",
    "\n",
    "assert(solution([]) == 1)\n",
    "\n",
    "assert(solution([2]) == 1)\n",
    "\n",
    "assert(solution([3,1]) == 2)\n",
    "\n",
    "assert(solution([3,2]) == 1 )\n",
    "\n",
    "assert(solution([1,2]) == 3)"
   ]
  },
  {
   "cell_type": "markdown",
   "id": "subtle-knock",
   "metadata": {
    "id": "2ac1c7e3-9e33-4671-966b-6140d7e231a5"
   },
   "source": [
    "# Question 6\n",
    "https://app.codility.com/programmers/lessons/3-time_complexity/tape_equilibrium/"
   ]
  },
  {
   "cell_type": "code",
   "execution_count": 1,
   "id": "basic-coffee",
   "metadata": {
    "id": "7aa71289-0b8e-4a72-bd0b-9c6ba91a5069",
    "tags": []
   },
   "outputs": [],
   "source": [
    "from typing import List\n",
    "\n",
    "def solution(A : List[int]) :\n",
    "    assert (len(A) > 0)\n",
    "    # calculate the sum\n",
    "    sumr : int = sum(A[1:])\n",
    "    suml : int = A[0]\n",
    "    minp : int = abs(suml - sumr)\n",
    "    for i in range(1,len(A)-1) :\n",
    "        # P = i+1\n",
    "        sumr -=  A[i]\n",
    "        suml +=  A[i]\n",
    "        tempminp = abs(suml-sumr)\n",
    "        if tempminp < minp : minp = tempminp\n",
    "    return minp\n",
    "\n"
   ]
  },
  {
   "cell_type": "code",
   "execution_count": 2,
   "id": "choice-lighter",
   "metadata": {
    "id": "44a02c32-1e5c-4f57-a634-bde5eeacb873",
    "tags": []
   },
   "outputs": [],
   "source": [
    "assert (solution([3,1,2,4,3]) == 1)\n",
    "assert (solution([4]) == 4)\n",
    "assert (solution([0,2000]) == 2000)\n",
    "assert (solution([2000,2000]) == 0)\n",
    "assert (solution([2000,0]) == 2000)\n",
    "assert (solution([1,2,3,3]) == 3)\n",
    "assert (solution([2,3,5]) == 0)\n",
    "assert (solution([1,-1]) == 2)\n"
   ]
  },
  {
   "cell_type": "markdown",
   "id": "catholic-western",
   "metadata": {
    "id": "0543b73b-6494-421b-aad8-32e4eca9872c"
   },
   "source": [
    "# Question 7\n",
    "https://app.codility.com/programmers/lessons/4-counting_elements/frog_river_one/"
   ]
  },
  {
   "cell_type": "code",
   "execution_count": 1,
   "id": "middle-governor",
   "metadata": {
    "id": "9b81332f-306e-4087-9d05-4a3f4efc7da8",
    "tags": []
   },
   "outputs": [],
   "source": [
    "from typing import Set, List\n",
    "\n",
    "\n",
    "def solution(X : int, A : List[int]) -> int :\n",
    "    assert(len(A) > 0)\n",
    "    assert(X > 0)\n",
    "    numb : Set[int] = set()\n",
    "\n",
    "    expectedsum : int = int((X*(X+1)) / 2)\n",
    "    sum : int = 0\n",
    "\n",
    "    for i in range(0,len(A)) :\n",
    "        if not A[i] in numb : sum = sum + A[i]\n",
    "        if sum == expectedsum : return i\n",
    "        numb.add(A[i])\n",
    "    \n",
    "    return -1\n"
   ]
  },
  {
   "cell_type": "code",
   "execution_count": 2,
   "id": "blond-whole",
   "metadata": {
    "id": "b02bfe7a-cfd8-4d84-9ef8-54257665d943",
    "tags": []
   },
   "outputs": [],
   "source": [
    "assert (solution(5,[1,3,1,4,2,3,5,4]) == 6)\n",
    "assert (solution(1,[1]) == 0)\n",
    "assert (solution(3,[2,1]) == -1)\n",
    "assert (solution(3,[3,2,1]) == 2)\n"
   ]
  },
  {
   "cell_type": "markdown",
   "id": "4d6869e8-a9fd-4f44-add0-3e5c5b59da61",
   "metadata": {
    "id": "4fbacc96-cf16-4067-bbf6-1e31f6808645"
   },
   "source": [
    "# Question 8\n",
    "https://app.codility.com/programmers/lessons/5-prefix_sums/genomic_range_query/\n",
    "<br>\n",
    "Solution is valid, performance and correctness\n",
    "\n",
    "# Solution\n",
    "The problem can be narrowed to finding the existence of the letters A, C, G and T between range S[P[i],Q[i]].<br/>\n",
    "If the letter A exists then the impact is 1, if letter A does not exist but letter C exists then the impact is 2 etc.\n",
    "# Solution implementation\n",
    "Create a sorted list of positions for every letter. <br>\n",
    "For instance: assuming CAGCCTA<br>\n",
    "A = [1,6]<br>\n",
    "C = [0,3,4]<br>\n",
    "G = [2]<br>\n",
    "Letter T can be ignored because it letter A, C nor G exists it implies letter T and impact 4<br>\n",
    "Then take the range P[i] : Q[i] and look for equals or greater position for letters A, C and G using binary search for every letter.<br>\n",
    "<br>\n",
    "For instance:<br>\n",
    "Range 2:4<br>\n",
    "Lower boundary 4 -> Look for letter A -> returns 6 -> greater then upper boundary 4 -> letter A does not exist<br>\n",
    "Look for letter C -> return 4 -> equal to upper boundary 4 -> impact 2<br>"
   ]
  },
  {
   "cell_type": "code",
   "execution_count": 4,
   "id": "f457a2da-e0c0-42a4-9ede-c53dc7673645",
   "metadata": {},
   "outputs": [],
   "source": [
    "from typing import List\n",
    "\n",
    "def findmingerec(num : int, sorted : List[int], firsti: int, lasti : int) -> int :\n",
    "    # return the greater or equal value or -1\n",
    "    assert(firsti <= lasti)\n",
    "    mid : int = firsti + int((lasti - firsti)/2)\n",
    "    if sorted[mid] == num : return sorted[mid]\n",
    "    if sorted[mid] > num :\n",
    "        if firsti == mid : return sorted[mid]\n",
    "        return findmingerec(num,sorted,firsti, mid-1)\n",
    "    if lasti == mid :\n",
    "        if lasti == len(sorted) - 1 : return -1\n",
    "        else: return sorted[lasti+1]\n",
    "    return findmingerec(num,sorted,mid+1,lasti)\n",
    "\n",
    "def findminge(num : int, sorted : List[int]) -> int :\n",
    "    if len(sorted) == 0 : return -1\n",
    "    return findmingerec(num,sorted,0,len(sorted)-1)\n",
    "\n",
    "\n",
    "def solution(S : str, P : List[int] , Q : List[int]) -> List[int] :\n",
    "    assert(len(S) > 0)\n",
    "    assert(len(Q) == len(P))\n",
    "    # prepare sorted list for every letter\n",
    "    sortedA : List[int] = []\n",
    "    sortedC : List[int] = []\n",
    "    sortedG : List[int] = []\n",
    "\n",
    "    for i in range(len(S)) :\n",
    "        if S[i] == 'A' : sortedA.append(i)\n",
    "        elif S[i] == 'C' : sortedC.append(i)\n",
    "        elif S[i] == 'G' : sortedG.append(i)\n",
    "\n",
    "    # we have sorted lists\n",
    "\n",
    "    answer : List[int] = []\n",
    "\n",
    "    for i in range(len(P)) :\n",
    "        mini : int = 4\n",
    "        currentL : List[i]\n",
    "        for j in range(3) :\n",
    "            currentL : List[i]\n",
    "            if j == 0 : currentL = sortedA\n",
    "            elif j == 1: currentL = sortedC\n",
    "            else : currentL = sortedG\n",
    "\n",
    "            if len(currentL) == 0: continue\n",
    "            inde : int = findminge(P[i],currentL)\n",
    "            if inde != -1 and inde <= Q[i] : \n",
    "                mini = j+1\n",
    "                break\n",
    "        \n",
    "        # mini - contains a minimal value\n",
    "        answer.append(mini)\n",
    "    \n",
    "    return answer"
   ]
  },
  {
   "cell_type": "code",
   "execution_count": 5,
   "id": "3d8a6a7d-3c30-40c5-85fc-9a1c9fb7cea1",
   "metadata": {},
   "outputs": [
    {
     "name": "stdout",
     "output_type": "stream",
     "text": [
      "[2, 4, 1]\n"
     ]
    }
   ],
   "source": [
    "assert(findminge(0,[]) == -1)\n",
    "assert(findminge(3,[1]) == -1)\n",
    "\n",
    "assert(findminge(0,[1]) == 1)\n",
    "\n",
    "assert(findminge(5,[1,6,7,8]) == 6)\n",
    "\n",
    "assert(findminge(0,[1,6,7,8]) == 1)\n",
    "\n",
    "assert (findminge(8,[1,6,7,8]) == 8)\n",
    "\n",
    "assert (findminge(2,[1,6,7,8]) == 6)\n",
    "\n",
    "print(solution(\"CAGCCTA\",[2,5,0],[4,5,6]))"
   ]
  },
  {
   "cell_type": "markdown",
   "id": "47b3b912-48db-4cb0-8d07-1dba3af32912",
   "metadata": {},
   "source": [
    "# Question 9\n",
    "\n",
    "https://app.codility.com/programmers/lessons/5-prefix_sums/min_avg_two_slice/\n",
    "\n",
    "Calculate only 2 and 3 size slices"
   ]
  },
  {
   "cell_type": "code",
   "execution_count": 6,
   "id": "81d9ad9b-6cfb-4e5c-b6dc-c1fa5a199dfd",
   "metadata": {},
   "outputs": [],
   "source": [
    "from typing import List\n",
    "\n",
    "def solution(A: List[int]) -> int :\n",
    "    minavg :float = (A[0] + A[1]) /2 \n",
    "    mini : int = 0\n",
    "\n",
    "    for i in range(len(A) - 2) :\n",
    "        avg2 : float = (A[i] + A[i+1])/2\n",
    "        avg3 : float = (A[i] + A[i+1] + A[i+2]) / 3\n",
    "        if avg2 < minavg :\n",
    "            minavg = avg2\n",
    "            mini = i\n",
    "        if avg3 < minavg :\n",
    "            minavg = avg3\n",
    "            mini = i\n",
    "    \n",
    "    if (A[len(A) -2] + A[len(A) - 1]) / 2  < minavg : mini = len(A) - 2\n",
    "    return mini\n"
   ]
  },
  {
   "cell_type": "code",
   "execution_count": 9,
   "id": "9eaa4b4d-1d45-4c1a-b18d-7f660b502c74",
   "metadata": {},
   "outputs": [],
   "source": [
    "A = [4,2,2,5,1,5,8]\n",
    "assert(solution(A) == 1)\n",
    "A = [2,5,2,29]\n",
    "assert(solution(A) == 0)\n",
    "A = [29,2,5,2,29]\n",
    "assert(solution(A) == 1)\n",
    "A = [29,2,5,2]\n",
    "assert(solution(A) == 1)\n",
    "A = [29,2,5,2,1]\n",
    "assert(solution(A) == 3)\n"
   ]
  },
  {
   "cell_type": "code",
   "execution_count": null,
   "id": "f0caf9be-149d-409a-a09c-d0c59e76cbaf",
   "metadata": {},
   "outputs": [],
   "source": []
  }
 ],
 "metadata": {
  "kernelspec": {
   "display_name": "Python 3 (ipykernel)",
   "language": "python",
   "name": "python3"
  },
  "language_info": {
   "codemirror_mode": {
    "name": "ipython",
    "version": 3
   },
   "file_extension": ".py",
   "mimetype": "text/x-python",
   "name": "python",
   "nbconvert_exporter": "python",
   "pygments_lexer": "ipython3",
   "version": "3.9.7"
  }
 },
 "nbformat": 4,
 "nbformat_minor": 5
}
