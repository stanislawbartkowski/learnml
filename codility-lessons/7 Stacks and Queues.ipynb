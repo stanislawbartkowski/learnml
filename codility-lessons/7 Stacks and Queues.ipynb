{
 "cells": [
  {
   "cell_type": "markdown",
   "id": "b3e21365-edd4-427d-9a62-5edfc40e893f",
   "metadata": {},
   "source": [
    "# Brackets\n",
    "https://app.codility.com/programmers/lessons/7-stacks_and_queues/brackets/"
   ]
  },
  {
   "cell_type": "code",
   "execution_count": 1,
   "id": "9d38c9aa-0b8a-42c2-8bc0-1cdd4fbcc27f",
   "metadata": {},
   "outputs": [],
   "source": [
    "from typing import List\n",
    "\n",
    "def solution(S) :\n",
    "    stack : List[str] = []\n",
    "\n",
    "    for ch in S :\n",
    "        if ch == '{' or ch == '(' or ch == '[' : stack.append(ch)\n",
    "        else:\n",
    "            if len(stack) == 0 : return 0\n",
    "            lastch = stack.pop()\n",
    "            if ch == '}' and lastch != '{' : return 0\n",
    "            if ch == ')' and lastch != '(' : return 0\n",
    "            if ch == ']' and lastch != '[' : return 0\n",
    "    \n",
    "    return 0 if (len(stack)  > 0) else 1"
   ]
  },
  {
   "cell_type": "code",
   "execution_count": 2,
   "id": "02922c64-2938-4439-bbe2-ae4319b9b0e6",
   "metadata": {},
   "outputs": [],
   "source": [
    "assert(solution(\"{[()()]}\") == 1)\n",
    "assert(solution(\"([)()]\") == 0)\n",
    "assert(solution(\"\") == 1)\n",
    "assert(solution(\"[]{}\") == 1)\n",
    "assert(solution(\"[]{\") == 0)"
   ]
  },
  {
   "cell_type": "markdown",
   "id": "c7503156-3c4a-4c49-94a4-86a970c2f957",
   "metadata": {},
   "source": [
    "# Fish\n",
    "\n",
    "https://app.codility.com/programmers/lessons/7-stacks_and_queues/fish/"
   ]
  },
  {
   "cell_type": "code",
   "execution_count": 3,
   "id": "3327506b-bab0-49b4-b804-635d27a12af2",
   "metadata": {},
   "outputs": [],
   "source": [
    "from typing import List\n",
    "\n",
    "def solution(A : List[int], B : List[int]) -> int :\n",
    "    assert(len(A) == len(B))\n",
    "    stackup : List[int] = []\n",
    "    eatenfish : int = 0\n",
    "\n",
    "    for i in range(len(B)) :\n",
    "        if B[i] == 1 : stackup.append(A[i])\n",
    "        else :\n",
    "          while len(stackup) > 0 :\n",
    "              eatenfish += 1\n",
    "              currup : int = stackup.pop()\n",
    "              if currup > A[i] : \n",
    "                  stackup.append(currup)\n",
    "                  break\n",
    "\n",
    "    return len(A) - eatenfish"
   ]
  },
  {
   "cell_type": "code",
   "execution_count": 4,
   "id": "986b3574-bf86-43a2-a339-afc6c742fd1d",
   "metadata": {},
   "outputs": [],
   "source": [
    "assert(solution([4,3,2,1,5],[0,1,0,0,0]) == 2)\n",
    "assert(solution([4],[1])==1)"
   ]
  },
  {
   "cell_type": "markdown",
   "id": "01ae7f82-9397-46f4-b627-18149df56cd0",
   "metadata": {},
   "source": [
    "# Nesting\n",
    "https://app.codility.com/programmers/lessons/7-stacks_and_queues/nesting/"
   ]
  },
  {
   "cell_type": "code",
   "execution_count": 5,
   "id": "a580574b-3dea-4c52-a5f3-3e68b5c84e1b",
   "metadata": {},
   "outputs": [],
   "source": [
    "def solution(S : str) -> int :\n",
    "    numof : int = 0\n",
    "    \n",
    "    for c in S :\n",
    "        if c == \"(\" :\n",
    "            numof += 1\n",
    "        else: \n",
    "            if numof == 0 : return 0\n",
    "            numof -= 1\n",
    "    \n",
    "    return 1 if numof == 0 else 0"
   ]
  },
  {
   "cell_type": "code",
   "execution_count": 6,
   "id": "78d956f1-49b1-4d6c-ba99-aec71b563eb9",
   "metadata": {},
   "outputs": [],
   "source": [
    "assert (solution(\"(()(())())\") == 1)\n",
    "assert (solution(\"())\") == 0)\n",
    "assert (solution(\"\") == 1)"
   ]
  },
  {
   "cell_type": "markdown",
   "id": "b17acbaf-1399-4691-9116-b844a5304938",
   "metadata": {},
   "source": [
    "# StoneWall\n",
    "https://app.codility.com/programmers/lessons/7-stacks_and_queues/stone_wall/"
   ]
  },
  {
   "cell_type": "code",
   "execution_count": 7,
   "id": "86cbb4cd-611e-4e9f-82f5-31436ae19804",
   "metadata": {},
   "outputs": [],
   "source": [
    "from typing import List\n",
    "\n",
    "def solution(H : List[int]) -> int :\n",
    "    assert(len(H) > 0)\n",
    "    stack : List[int] = []\n",
    "    no : int = 0\n",
    "    for i in range(len(H)) :\n",
    "        while (len(stack) > 0) and H[i] < stack[len(stack) -1] :\n",
    "          no += 1\n",
    "          stack.pop()\n",
    "        if len(stack) == 0 or H[i] > stack[len(stack) -1] :\n",
    "            stack.append(H[i])\n",
    "    \n",
    "    return no + len(stack)"
   ]
  },
  {
   "cell_type": "code",
   "execution_count": 8,
   "id": "bd50b56c-a8de-4348-a09c-0e089bfe7a75",
   "metadata": {},
   "outputs": [],
   "source": [
    "assert(solution([8,8,5,7,9,8,7,4,8]) ==7)\n",
    "            \n",
    "assert(solution([8,8,5,7,9,8,7,8,4]) == 7)\n",
    "\n",
    "assert(solution([8,8]) == 1)"
   ]
  },
  {
   "cell_type": "code",
   "execution_count": null,
   "id": "4b4f1a9c-a1e9-4fe4-8ad2-673c882a5088",
   "metadata": {},
   "outputs": [],
   "source": []
  }
 ],
 "metadata": {
  "kernelspec": {
   "display_name": "Python 3 (ipykernel)",
   "language": "python",
   "name": "python3"
  },
  "language_info": {
   "codemirror_mode": {
    "name": "ipython",
    "version": 3
   },
   "file_extension": ".py",
   "mimetype": "text/x-python",
   "name": "python",
   "nbconvert_exporter": "python",
   "pygments_lexer": "ipython3",
   "version": "3.9.7"
  }
 },
 "nbformat": 4,
 "nbformat_minor": 5
}
