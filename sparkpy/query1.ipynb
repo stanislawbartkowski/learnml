{
 "cells": [
  {
   "cell_type": "code",
   "execution_count": 1,
   "id": "587fb56d-78a9-4de7-a9d1-7c577ed71ca9",
   "metadata": {},
   "outputs": [],
   "source": [
    "import os\n",
    "#pyspark_submit_args ='--master local[*] --executor-memory 2G --driver-memory 2G --num-executors 8 pyspark-shell' \n",
    "pyspark_submit_args ='--master local[*] --executor-memory 2G --driver-memory 2G --num-executors 4 pyspark-shell' \n",
    "os.environ[\"PYSPARK_SUBMIT_ARGS\"] = pyspark_submit_args"
   ]
  },
  {
   "cell_type": "code",
   "execution_count": 2,
   "id": "cadf9a9e-8027-4c17-8837-5fe8f4a272f6",
   "metadata": {},
   "outputs": [],
   "source": [
    "import pandas as pd\n",
    "from tqdm import tqdm\n",
    "import csv\n",
    "import random\n",
    "import string\n",
    "import pyspark\n",
    "from pyspark.sql import SparkSession\n",
    "from pyspark.sql.functions import *\n",
    "import os\n",
    "\n",
    "from typing import List"
   ]
  },
  {
   "cell_type": "code",
   "execution_count": 3,
   "id": "294f752b-1f26-433b-b181-7512af976dcc",
   "metadata": {},
   "outputs": [],
   "source": [
    "import pyspark\n",
    "from pyspark.sql.functions import when, col, mean, desc, round,avg,round,count\n",
    "sc = pyspark.SparkContext()\n",
    "spark = pyspark.sql.SparkSession(sc)"
   ]
  },
  {
   "cell_type": "code",
   "execution_count": 4,
   "id": "9e4f5252-ef4b-4cb6-849c-603d3022f7db",
   "metadata": {},
   "outputs": [],
   "source": [
    "class NAMES :\n",
    "    \n",
    "    __DIR_CSV : str\n",
    "    __DIR_PARQUET: str\n",
    "    \n",
    "    def __init__(self,csv='csv',parquet='parquet') :\n",
    "        self.__DIR_CSV = csv\n",
    "        self.__DIR_PARQUET=parquet\n",
    "       \n",
    "    def __getnames(self,dir : str, ext: str) :\n",
    "        name : List[str] = ['products','sellers','seles']\n",
    "        try:\n",
    "            os.mkdir(dir)\n",
    "        except OSError as error:\n",
    "            print(f\"{dir} already exists\")\n",
    "        return (os.path.join(dir,name[0] + '.' + ext),os.path.join(dir,name[1] + '.' + ext),os.path.join(dir,name[2] + '.' + ext))\n",
    "                \n",
    "    def getcsv(self) : \n",
    "        return self.__getnames(self.__DIR_CSV,'csv')\n",
    "                                                            \n",
    "    def getparquet(self) : \n",
    "        return self.__getnames(self.__DIR_PARQUET,'parquet')\n"
   ]
  },
  {
   "cell_type": "code",
   "execution_count": 5,
   "id": "d479b73a-ac58-4a5f-855a-bd5efe83231f",
   "metadata": {},
   "outputs": [],
   "source": [
    "class READDF:\n",
    "    \n",
    "    def __init__(self,N) :\n",
    "        self.N = N\n",
    "        \n",
    "    def readdf(self) :\n",
    "        productsname,sellersname,salesname = self.N.getparquet()\n",
    "        products = spark.read.parquet(productsname)\n",
    "        sales = spark.read.parquet(salesname)\n",
    "        sellers = spark.read.parquet(sellersname)\n",
    "        products.createOrReplaceTempView(\"products\")\n",
    "        sales.createOrReplaceTempView(\"sales\")\n",
    "        sellers.createOrReplaceTempView(\"sellers\")\n",
    "        return (products,sales,sellers)\n"
   ]
  },
  {
   "cell_type": "code",
   "execution_count": 6,
   "id": "61aa9b41-8c93-40d4-bea9-465f77c199d1",
   "metadata": {},
   "outputs": [
    {
     "name": "stdout",
     "output_type": "stream",
     "text": [
      "parquet already exists\n"
     ]
    }
   ],
   "source": [
    "N = NAMES('/tmp/csv')\n",
    "D = READDF(N)\n",
    "products,sales,sellers = D.readdf()"
   ]
  },
  {
   "cell_type": "markdown",
   "id": "b6fd1649-867d-4135-a44f-9704f359c3a5",
   "metadata": {},
   "source": [
    "# Warm-up #1\n",
    "Find out how many orders, how many products and how many sellers are in the data."
   ]
  },
  {
   "cell_type": "code",
   "execution_count": 7,
   "id": "bff7136e-f7ee-4a7a-bed6-22746c5785e0",
   "metadata": {},
   "outputs": [
    {
     "name": "stdout",
     "output_type": "stream",
     "text": [
      "Number of products 7500\n",
      "Number of sales 1098838\n",
      "Number of sellers 10\n"
     ]
    }
   ],
   "source": [
    "print('Number of products {0}'.format(products.count()))\n",
    "print('Number of sales {0}'.format(sales.count()))\n",
    "print('Number of sellers {0}'.format(sellers.count()))"
   ]
  },
  {
   "cell_type": "code",
   "execution_count": 8,
   "id": "8276bf7e-dfdb-4f4d-87f1-ccf233c80064",
   "metadata": {},
   "outputs": [
    {
     "name": "stdout",
     "output_type": "stream",
     "text": [
      "Products:\n",
      "+--------+\n",
      "|count(1)|\n",
      "+--------+\n",
      "|    7500|\n",
      "+--------+\n",
      "\n",
      "Sales:\n",
      "+--------+\n",
      "|count(1)|\n",
      "+--------+\n",
      "| 1098838|\n",
      "+--------+\n",
      "\n",
      "Sellers:\n",
      "+--------+\n",
      "|count(1)|\n",
      "+--------+\n",
      "|      10|\n",
      "+--------+\n",
      "\n"
     ]
    }
   ],
   "source": [
    "print(\"Products:\")\n",
    "spark.sql(\"SELECT COUNT(*) FROM products\").show()\n",
    "print(\"Sales:\")\n",
    "spark.sql(\"SELECT COUNT(*) FROM sales\").show()\n",
    "print(\"Sellers:\")\n",
    "spark.sql(\"SELECT COUNT(*) FROM sellers\").show()"
   ]
  },
  {
   "cell_type": "markdown",
   "id": "899420e4-2264-4822-a00f-866d5b0abf33",
   "metadata": {},
   "source": [
    "__How many products have been sold at least once?__"
   ]
  },
  {
   "cell_type": "code",
   "execution_count": 9,
   "id": "d5cc1ec6-5053-4fa1-b899-cb622ee94583",
   "metadata": {},
   "outputs": [
    {
     "data": {
      "text/plain": [
       "7500"
      ]
     },
     "execution_count": 9,
     "metadata": {},
     "output_type": "execute_result"
    }
   ],
   "source": [
    "sales.select('product_id').distinct().count()"
   ]
  },
  {
   "cell_type": "code",
   "execution_count": 10,
   "id": "ba2451e7-ddf3-48b0-8c06-6f8f70a320e7",
   "metadata": {},
   "outputs": [
    {
     "name": "stdout",
     "output_type": "stream",
     "text": [
      "+--------------------------+---------------+---------------+\n",
      "|count(DISTINCT product_id)|min(product_id)|max(product_id)|\n",
      "+--------------------------+---------------+---------------+\n",
      "|                      7500|              0|           7499|\n",
      "+--------------------------+---------------+---------------+\n",
      "\n"
     ]
    }
   ],
   "source": [
    "spark.sql(\"SELECT COUNT(DISTINCT product_id), MIN(product_id), MAX(product_id) from sales\").show()"
   ]
  },
  {
   "cell_type": "markdown",
   "id": "b0bc038a-91fb-4b30-9884-640507feb7f6",
   "metadata": {},
   "source": [
    "__How many products haven't been sold at all?__"
   ]
  },
  {
   "cell_type": "code",
   "execution_count": 14,
   "id": "03c15672-4c3a-4874-9896-bd5c75b59d30",
   "metadata": {},
   "outputs": [
    {
     "name": "stdout",
     "output_type": "stream",
     "text": [
      "+--------------------------+\n",
      "|count(DISTINCT product_id)|\n",
      "+--------------------------+\n",
      "|                         0|\n",
      "+--------------------------+\n",
      "\n"
     ]
    }
   ],
   "source": [
    "spark.sql(\"SELECT COUNT(DISTINCT products.product_id) from products LEFT OUTER JOIN sales USING(product_id) WHERE products.product_id IS NULL\").show()"
   ]
  },
  {
   "cell_type": "code",
   "execution_count": 22,
   "id": "ff4b7302-432a-44cd-8035-c172e17f3051",
   "metadata": {},
   "outputs": [
    {
     "data": {
      "text/plain": [
       "0"
      ]
     },
     "execution_count": 22,
     "metadata": {},
     "output_type": "execute_result"
    }
   ],
   "source": [
    "products.join(sales,products.product_id == sales.product_id,'left_outer').select(products.product_id).filter(products.product_id.isNull()).count()"
   ]
  },
  {
   "cell_type": "markdown",
   "id": "3ac91416-8eaf-4f7a-92a2-58675af949d5",
   "metadata": {},
   "source": [
    "__Top sold products in number of orders__"
   ]
  },
  {
   "cell_type": "code",
   "execution_count": 45,
   "id": "79cfb4e7-f8d7-4c3b-b788-5109d3af06d3",
   "metadata": {},
   "outputs": [
    {
     "name": "stdout",
     "output_type": "stream",
     "text": [
      "+----------+------------+-----+\n",
      "|product_id|product_name|count|\n",
      "+----------+------------+-----+\n",
      "|      6962|product_6962|  198|\n",
      "|      1250|product_1250|  191|\n",
      "|      3207|product_3207|  188|\n",
      "|      1433|product_1433|  187|\n",
      "|      5523|product_5523|  185|\n",
      "|      3705|product_3705|  185|\n",
      "|      2106|product_2106|  185|\n",
      "|      6231|product_6231|  185|\n",
      "|      3432|product_3432|  185|\n",
      "|       958| product_958|  185|\n",
      "|      4758|product_4758|  184|\n",
      "|      6687|product_6687|  183|\n",
      "|      5370|product_5370|  183|\n",
      "|      1310|product_1310|  183|\n",
      "|       811| product_811|  182|\n",
      "|      1425|product_1425|  182|\n",
      "|      6838|product_6838|  182|\n",
      "|      2464|product_2464|  182|\n",
      "|      5939|product_5939|  182|\n",
      "|      3813|product_3813|  182|\n",
      "+----------+------------+-----+\n",
      "only showing top 20 rows\n",
      "\n"
     ]
    }
   ],
   "source": [
    "sdf = sales.groupBy('product_id').agg(count('order_id').alias('count'))\n",
    "sdf.join(products,products.product_id == sdf.product_id).select(products.product_id,products.product_name,'count').orderBy(col('count').desc()).show()"
   ]
  },
  {
   "cell_type": "code",
   "execution_count": 46,
   "id": "5cdf2d3c-b845-4310-b4c0-ab44a363a81f",
   "metadata": {},
   "outputs": [
    {
     "name": "stdout",
     "output_type": "stream",
     "text": [
      "+----------+------------+-----+\n",
      "|product_id|product_name|count|\n",
      "+----------+------------+-----+\n",
      "|      6962|product_6962|  198|\n",
      "|      1250|product_1250|  191|\n",
      "|      3207|product_3207|  188|\n",
      "|      1433|product_1433|  187|\n",
      "|      3432|product_3432|  185|\n",
      "|       958| product_958|  185|\n",
      "|      5523|product_5523|  185|\n",
      "|      3705|product_3705|  185|\n",
      "|      2106|product_2106|  185|\n",
      "|      4758|product_4758|  184|\n",
      "|      6231|product_6231|  184|\n",
      "|      1310|product_1310|  183|\n",
      "|      6687|product_6687|  183|\n",
      "|      5370|product_5370|  183|\n",
      "|      1425|product_1425|  182|\n",
      "|      3813|product_3813|  182|\n",
      "|       811| product_811|  182|\n",
      "|      2464|product_2464|  182|\n",
      "|      5939|product_5939|  182|\n",
      "|      6838|product_6838|  182|\n",
      "+----------+------------+-----+\n",
      "only showing top 20 rows\n",
      "\n"
     ]
    }
   ],
   "source": [
    "spark.sql(\"WITH P as (SELECT product_id, COUNT(distinct order_id) as count FROM sales group by product_id) select products.product_id,products.product_name,count from products JOIN P USING(product_id) ORDER BY count desc\").show()"
   ]
  },
  {
   "cell_type": "markdown",
   "id": "5fd567a9-ea12-4b8d-819c-6a0644fc22df",
   "metadata": {},
   "source": [
    "__How many distinct products have been sold in each date__"
   ]
  },
  {
   "cell_type": "code",
   "execution_count": 47,
   "id": "913d0dc2-f7b5-4536-959d-fb29c45463ab",
   "metadata": {},
   "outputs": [
    {
     "name": "stdout",
     "output_type": "stream",
     "text": [
      "+----------+------+\n",
      "|      date|number|\n",
      "+----------+------+\n",
      "|2020-07-03|  7500|\n",
      "|2020-07-07|  7500|\n",
      "|2020-07-01|  7500|\n",
      "|2020-07-08|  7500|\n",
      "|2020-07-04|  7500|\n",
      "|2020-07-10|  7500|\n",
      "|2020-07-09|  7500|\n",
      "|2020-07-06|  7500|\n",
      "|2020-07-02|  7500|\n",
      "|2020-07-05|  7500|\n",
      "+----------+------+\n",
      "\n"
     ]
    }
   ],
   "source": [
    "spark.sql(\"select date,count(distinct product_id) as number from sales group by date\").show()"
   ]
  },
  {
   "cell_type": "code",
   "execution_count": null,
   "id": "23d8f108-10e8-4f20-abd2-569f98403a08",
   "metadata": {},
   "outputs": [],
   "source": []
  }
 ],
 "metadata": {
  "kernelspec": {
   "display_name": "Python 3 (ipykernel)",
   "language": "python",
   "name": "python3"
  },
  "language_info": {
   "codemirror_mode": {
    "name": "ipython",
    "version": 3
   },
   "file_extension": ".py",
   "mimetype": "text/x-python",
   "name": "python",
   "nbconvert_exporter": "python",
   "pygments_lexer": "ipython3",
   "version": "3.9.7"
  }
 },
 "nbformat": 4,
 "nbformat_minor": 5
}
