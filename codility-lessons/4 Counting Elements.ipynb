{
 "cells": [
  {
   "cell_type": "markdown",
   "id": "4c3d3fb5-d7bc-4ca5-ad32-1198fbdd0bfc",
   "metadata": {},
   "source": [
    "# MaxCounters\n",
    "https://app.codility.com/programmers/lessons/4-counting_elements/max_counters/"
   ]
  },
  {
   "cell_type": "code",
   "execution_count": 1,
   "id": "700b8d20-68da-45d7-aa51-68813b6c168c",
   "metadata": {},
   "outputs": [],
   "source": [
    "# brute force solution, fails the performance test\n",
    "def solutionnotmap(N, A):\n",
    "    C = [0 for _ in range(N)]\n",
    "    amax = 0\n",
    "    for c in A :\n",
    "        c = c\n",
    "        if c == N + 1 :\n",
    "            for i in range(N) :\n",
    "                C[i] = amax\n",
    "        else:\n",
    "            C[c-1] = C[c-1] + 1\n",
    "            if C[c-1] > amax : amax = C[c-1]\n",
    "\n",
    "    return C\n",
    "\n",
    "# optimal solution, avoid reseting the counter table after reaching the max command\n",
    "def solution(N, A):\n",
    "    C = [0 for _ in range(N)]\n",
    "    oldmax = 0\n",
    "    newmax = 0\n",
    "    map = {}\n",
    "    for c in A :\n",
    "        c = c\n",
    "        if c == N + 1 :\n",
    "            map = {}\n",
    "            oldmax = newmax\n",
    "#            for i in range(N) :\n",
    "#                C[i] = amax\n",
    "        else:            \n",
    "            if c in map : C[c-1] = C[c-1] + 1\n",
    "            else :\n",
    "              map[c] = 1\n",
    "              C[c-1] = oldmax + 1\n",
    "            if C[c-1] > newmax : newmax = C[c-1]\n",
    "\n",
    "    for i in range(N) :\n",
    "        if (i+1) not in map: C[i] = oldmax\n",
    "    return C"
   ]
  },
  {
   "cell_type": "code",
   "execution_count": 2,
   "id": "f7bf0f64-7475-4708-a191-94f67bd3f45a",
   "metadata": {},
   "outputs": [
    {
     "name": "stdout",
     "output_type": "stream",
     "text": [
      "[3, 2, 2, 4, 2]\n"
     ]
    }
   ],
   "source": [
    "A = [3,4,4,6,1,4,4]\n",
    "print(solution(5,A))"
   ]
  },
  {
   "cell_type": "markdown",
   "id": "46617eb6-92cb-433f-b87f-bd1223e3c142",
   "metadata": {},
   "source": [
    "# FrogRiverOne\n",
    "https://app.codility.com/programmers/lessons/4-counting_elements/frog_river_one/"
   ]
  },
  {
   "cell_type": "code",
   "execution_count": 8,
   "id": "d1b86021-7290-44cd-8291-e0986e7bc20e",
   "metadata": {},
   "outputs": [],
   "source": [
    "from typing import Set, List\n",
    "\n",
    "\n",
    "def solution(X : int, A : List[int]) -> int :\n",
    "    assert(len(A) > 0)\n",
    "    assert(X > 0)\n",
    "    numb : Set[int] = set()\n",
    "\n",
    "    expectedsum : int = int((X*(X+1)) / 2)\n",
    "    sum : int = 0\n",
    "\n",
    "    for i in range(0,len(A)) :\n",
    "        if not A[i] in numb : sum = sum + A[i]\n",
    "        if sum == expectedsum : return i\n",
    "        numb.add(A[i])\n",
    "    \n",
    "    return -1"
   ]
  },
  {
   "cell_type": "code",
   "execution_count": 9,
   "id": "de44af52-2ff4-4cc9-b823-51d5ffbfe3b4",
   "metadata": {},
   "outputs": [],
   "source": [
    "assert (solution(5,[1,3,1,4,2,3,5,4]) == 6)\n",
    "assert (solution(1,[1]) == 0)\n",
    "assert (solution(3,[2,1]) == -1)\n",
    "assert (solution(3,[3,2,1]) == 2)"
   ]
  },
  {
   "cell_type": "markdown",
   "id": "4cbfa9ce-3f34-4044-8cb9-d40c9d71e0c4",
   "metadata": {},
   "source": [
    "#  PermCheck\n",
    "https://app.codility.com/programmers/lessons/4-counting_elements/perm_check/"
   ]
  },
  {
   "cell_type": "code",
   "execution_count": 10,
   "id": "dbbc3e62-eb1e-46de-b5db-40f058e73fa4",
   "metadata": {},
   "outputs": [],
   "source": [
    "from typing import List\n",
    "\n",
    "def solution(A: List[int]) -> int :\n",
    "        \n",
    "    e : List[bool] = [False for i in range(len(A))]\n",
    "    \n",
    "    for i in A :\n",
    "        if i > len(A) : return 0\n",
    "        if e[i-1]: return 0\n",
    "        e[i-1] = True\n",
    "        \n",
    "    return 1\n"
   ]
  },
  {
   "cell_type": "code",
   "execution_count": 11,
   "id": "49df3724-65de-4c5c-9142-a305c0db68a5",
   "metadata": {},
   "outputs": [],
   "source": [
    "assert(solution([4,1,3,2]) == 1)\n",
    "assert(solution([4,1,3]) == 0)\n",
    "assert(solution([1,4,1]) == 0)\n",
    "assert(solution([2,2,2]) == 0)"
   ]
  },
  {
   "cell_type": "markdown",
   "id": "fb7e9391-f5e0-4f66-b2d1-a9c20966d058",
   "metadata": {},
   "source": [
    "# MissingInteger\n",
    "https://app.codility.com/programmers/lessons/4-counting_elements/missing_integer/"
   ]
  },
  {
   "cell_type": "code",
   "execution_count": 12,
   "id": "ad10267e-0cc7-4183-aefd-b3f0f0b9879f",
   "metadata": {},
   "outputs": [],
   "source": [
    "from typing import List\n",
    "\n",
    "def solution(A : List[int]):\n",
    "    if len(A) == 0 : return 1\n",
    "    X = sorted(A)\n",
    "    positive = 0\n",
    "    lastpos = None\n",
    "    for i in X :\n",
    "        if i <= 0 : continue\n",
    "        if lastpos is None or lastpos != i : positive = positive + 1\n",
    "        if i != positive : return positive\n",
    "        lastpos = i\n",
    "    if lastpos is None : return 1\n",
    "    return lastpos + 1"
   ]
  },
  {
   "cell_type": "code",
   "execution_count": 14,
   "id": "8f65f115-988e-47fd-868f-0e91c28a4b98",
   "metadata": {},
   "outputs": [],
   "source": [
    "assert(solution([1, 3, 6, 4, 1, 2]) == 5)\n",
    "assert(solution([-1,-3]) == 1)\n",
    "assert(solution([1,2,3]) == 4)"
   ]
  },
  {
   "cell_type": "code",
   "execution_count": null,
   "id": "819b65a4-ee60-4fbe-b5e1-56bcc50ae0de",
   "metadata": {},
   "outputs": [],
   "source": []
  }
 ],
 "metadata": {
  "kernelspec": {
   "display_name": "Python 3 (ipykernel)",
   "language": "python",
   "name": "python3"
  },
  "language_info": {
   "codemirror_mode": {
    "name": "ipython",
    "version": 3
   },
   "file_extension": ".py",
   "mimetype": "text/x-python",
   "name": "python",
   "nbconvert_exporter": "python",
   "pygments_lexer": "ipython3",
   "version": "3.9.7"
  }
 },
 "nbformat": 4,
 "nbformat_minor": 5
}
