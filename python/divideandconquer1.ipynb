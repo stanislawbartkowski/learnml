{
 "cells": [
  {
   "cell_type": "markdown",
   "id": "2d4b5bde-3156-483b-ace6-71d67efb6256",
   "metadata": {},
   "source": [
    "# Challenge 7: Find the Closest Number\n",
    "\n",
    "In any given sorted list, the closest number to a given number is the one whose absolute difference with the given number is closest to zero."
   ]
  },
  {
   "cell_type": "code",
   "execution_count": 1,
   "id": "5bb8422e-fb48-4d74-9f75-091dcb91c79d",
   "metadata": {},
   "outputs": [],
   "source": [
    "from typing import List\n",
    "\n",
    "def findeqorgt_req(lst : List[int], target : int, low : int, high: int) -> int :\n",
    "    mid = (low + high) // 2\n",
    "    if lst[mid] == target : return mid\n",
    "    if target < lst[mid] :\n",
    "        if mid == low :\n",
    "            return mid\n",
    "        return findeqorgt_req(lst,target,low,mid-1)\n",
    "    # target > lst[mid]\n",
    "    if mid == high :\n",
    "        if mid == len(lst) -1 : return -1\n",
    "        return mid+1\n",
    "    return findeqorgt_req(lst,target,mid+1,high)\n",
    "    \n",
    "\n",
    "def find_closest(lst : List[int], target : int) -> int :\n",
    "    \"\"\"\n",
    "    Finds the closest number to the target in the list\n",
    "    :param lst: Sorted list of integers\n",
    "    :param target: Left sided index of the list\n",
    "    :return: Closest element from the list to the target\n",
    "    \"\"\"\n",
    "\n",
    "    res = findeqorgt_req(lst,target,0,len(lst)-1)\n",
    "    if res == -1 : return lst[-1]\n",
    "    if res == 0 : return lst[0]\n",
    "    if abs(target-lst[res]) < abs(target-lst[res-1]) : return lst[res]\n",
    "    else : return lst[res-1]"
   ]
  },
  {
   "cell_type": "code",
   "execution_count": 4,
   "id": "8a810270-bed6-47f1-ba4a-6e08d3c5825d",
   "metadata": {},
   "outputs": [],
   "source": [
    "lst = [-9, -4, -2, 0, 1, 3, 4, 10]\n",
    "assert (findeqorgt_req(lst,5,0,len(lst)-1) == 7)\n",
    "assert (findeqorgt_req(lst,10,0,len(lst)-1) == 7)\n",
    "assert (findeqorgt_req(lst,11,0,len(lst)-1) == -1)\n",
    "assert (findeqorgt_req(lst,-9,0,len(lst)-1) == 0)\n",
    "assert (findeqorgt_req(lst,-8,0,len(lst)-1) == 1)\n",
    "assert (findeqorgt_req(lst,-1,0,len(lst)-1) == 3)\n",
    "assert ( find_closest(lst,5) == 4)\n",
    "assert (find_closest([1, 2, 5, 10, 23, 25, 30, 50], 100) == 50)"
   ]
  },
  {
   "cell_type": "markdown",
   "id": "af42146f-ff4c-49bd-8b20-a14c521b756d",
   "metadata": {},
   "source": [
    "# Challenge 8: Shuffle Integers\n",
    "\n",
    "Given a list of integers of size 2^n2\n",
    "and taking all the boundary cases in consideration, shuffle the list, without using extra space."
   ]
  },
  {
   "cell_type": "code",
   "execution_count": 5,
   "id": "3e7895f6-691d-4240-97ba-62837854e3e7",
   "metadata": {},
   "outputs": [],
   "source": [
    "from typing import List\n",
    "\n",
    "def ispower2(n : int) -> bool :\n",
    "    if n <= 1 : return False\n",
    "    while n > 1 :\n",
    "        if n % 2 == 1 : return False\n",
    "        n = n // 2\n",
    "    return True    \n",
    "\n",
    "def shuffle_list_req(lst : List[int], low : int, numof : int) :\n",
    "    if numof == 2 : return\n",
    "    mid = numof // 2\n",
    "    midd = numof // 4\n",
    "    \n",
    "    for i in range(midd) :\n",
    "        temp = lst[low+midd+i]\n",
    "        lst[low+midd+i] = lst[low+mid+i]\n",
    "        lst[low+mid+i] = temp        \n",
    "    shuffle_list_req(lst,low,numof//2)\n",
    "    shuffle_list_req(lst,mid,numof//2)\n",
    "        \n",
    "\n",
    "def shuffle_list(lst : List[int]) -> int :\n",
    "    \n",
    "    if not ispower2(len(lst)) : return\n",
    "    shuffle_list_req(lst,0,len(lst))"
   ]
  },
  {
   "cell_type": "code",
   "execution_count": 7,
   "id": "4a64d21c-4908-42ea-ad7e-463135f629d5",
   "metadata": {},
   "outputs": [
    {
     "name": "stdout",
     "output_type": "stream",
     "text": [
      "[1, 5, 2, 6, 3, 7, 4, 8]\n"
     ]
    }
   ],
   "source": [
    "lst = [1, 2, 3, 4, 5, 6, 7, 8]    \n",
    "shuffle_list(lst)\n",
    "print(lst)\n",
    "assert(lst == [1, 5, 2, 6, 3, 7, 4, 8])"
   ]
  },
  {
   "cell_type": "markdown",
   "id": "ade4bfec-ccba-473a-8fcc-64de08c5a45e",
   "metadata": {},
   "source": [
    "# Challenge 9: Inversion Count in a List\n",
    "\n",
    "Given an array of n integers, find the inversion count for its elements.\n",
    "(Solution not effective)"
   ]
  },
  {
   "cell_type": "code",
   "execution_count": 8,
   "id": "6a56ba9e-0527-46ff-bc54-8d53ee46a31b",
   "metadata": {},
   "outputs": [],
   "source": [
    "from typing import List\n",
    "\n",
    "def inversion_count_req(lst : List[int],low : int) -> int :\n",
    "    if low + 1 == len(lst) -1 :\n",
    "        return 0 if lst[low] <= lst[low+1] else 1\n",
    "    num = lst[low]\n",
    "    numof = inversion_count_req(lst,low+1)\n",
    "    for i in range(low+1,len(lst)) :\n",
    "        if num > lst[i] : numof += 1\n",
    "    return numof\n",
    "\n",
    "\n",
    "def inversion_count(lst):\n",
    "    \"\"\"\n",
    "    Function to find Inversion Count\n",
    "    :param lst: List of integers\n",
    "    :return: The inversion count of the list\n",
    "    \"\"\"\n",
    "    if len(lst) <= 1 : return 0\n",
    "    return inversion_count_req(lst,0)\n"
   ]
  },
  {
   "cell_type": "code",
   "execution_count": 9,
   "id": "831a37fd-7963-4bd0-bc89-1fb09c5b4009",
   "metadata": {},
   "outputs": [],
   "source": [
    "lst = [7, 6, 5, 8]\n",
    "assert (inversion_count(lst) == 3)\n",
    "assert(inversion_count([9,5,6,11,8,10]) == 5)"
   ]
  },
  {
   "cell_type": "code",
   "execution_count": null,
   "id": "5a880a4c-6418-4fc8-bf40-21d9c01a84da",
   "metadata": {},
   "outputs": [],
   "source": []
  }
 ],
 "metadata": {
  "kernelspec": {
   "display_name": "Python 3 (ipykernel)",
   "language": "python",
   "name": "python3"
  },
  "language_info": {
   "codemirror_mode": {
    "name": "ipython",
    "version": 3
   },
   "file_extension": ".py",
   "mimetype": "text/x-python",
   "name": "python",
   "nbconvert_exporter": "python",
   "pygments_lexer": "ipython3",
   "version": "3.9.7"
  }
 },
 "nbformat": 4,
 "nbformat_minor": 5
}
