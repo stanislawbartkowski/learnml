{
 "cells": [
  {
   "cell_type": "markdown",
   "id": "aging-degree",
   "metadata": {
    "id": "cebfb445-c1c8-4238-a48b-debe65bc2da9",
    "tags": []
   },
   "source": [
    "# Question 1\n",
    "https://app.codility.com/programmers/trainings/4/array_inversion_count/"
   ]
  },
  {
   "cell_type": "code",
   "execution_count": 1,
   "id": "negative-jesus",
   "metadata": {
    "id": "18eb6e7c-0ff0-4111-a62a-89d6bb3a3438",
    "tags": []
   },
   "outputs": [],
   "source": [
    "from operator import itemgetter\n",
    "import math\n",
    "\n",
    "def sorttable(A):\n",
    "    T = [(A[i],i) for i in range(len(A)) ]\n",
    "    return sorted(T, key = itemgetter(0,1),reverse = True)\n",
    "\n",
    "\n",
    "def findelemrek(T, val, i, first, last):\n",
    "    if first == last: return first\n",
    "    mid = first + math.floor((last-first)/2)\n",
    "    if T[mid][0] == val and T[mid][1] == i: return mid\n",
    "    if T[mid][0] < val or (T[mid][0] == val and T[mid][1] < i) : \n",
    "        return findelemrek(T,val,i,first,mid-1)\n",
    "    return findelemrek(T,val,i,mid+1,last)\n",
    "\n",
    "\n",
    "def findelem(T, val, i):\n",
    "    return findelemrek(T, val, i, 0, len(T)-1)\n",
    "\n",
    "\n",
    "def removeelem(T, i):\n",
    "    del T[i:i+1]\n",
    "\n",
    "\n",
    "def solutionres(A):\n",
    "    T = sorttable(A)\n",
    "    res = []\n",
    "    for i in range(len(A)):\n",
    "        k = findelem(T, A[i], i)\n",
    "        for j in range(k+1, len(T)):\n",
    "            res.append((i, T[j][1]))\n",
    "        removeelem(T, k)\n",
    "    return res\n",
    "\n",
    "\n",
    "def solution(A):\n",
    "    T = sorttable(A)\n",
    "    res = 0\n",
    "    for i in range(len(A)):\n",
    "        k = findelem(T, A[i], i)\n",
    "        res = res + len(T) - k - 1\n",
    "        removeelem(T, k)\n",
    "    return res\n"
   ]
  },
  {
   "cell_type": "code",
   "execution_count": 2,
   "id": "substantial-lodge",
   "metadata": {
    "id": "9871e858-d1ed-4cc4-9377-1ec061720358",
    "tags": []
   },
   "outputs": [],
   "source": [
    "A = [-1,6,3,4,7,4]"
   ]
  },
  {
   "cell_type": "code",
   "execution_count": 3,
   "id": "naughty-front",
   "metadata": {
    "id": "64a430f6-005e-4ffc-92d2-61156bad4bc6",
    "tags": []
   },
   "outputs": [
    {
     "name": "stdout",
     "output_type": "stream",
     "text": [
      "4\n",
      "1\n",
      "0\n"
     ]
    }
   ],
   "source": [
    "print(solution(A))\n",
    "print(solution([2,1]))\n",
    "print(solution([8]))"
   ]
  },
  {
   "cell_type": "markdown",
   "id": "partial-vocabulary",
   "metadata": {
    "id": "e2de05c8-b571-42f9-8f0d-2ba8af2f31fc"
   },
   "source": [
    "# Question 2\n",
    "https://app.codility.com/programmers/trainings/4/disappearing_pairs/"
   ]
  },
  {
   "cell_type": "code",
   "execution_count": 6,
   "id": "shaped-chester",
   "metadata": {
    "id": "b312d162-6534-4659-b4f5-f6c1b01f1870",
    "tags": []
   },
   "outputs": [],
   "source": [
    "def solution(S):\n",
    "    D = []\n",
    "    i = 0\n",
    "    while i < len(S):\n",
    "        if i < len(S)-1 and S[i] == S[i+1]:\n",
    "            i = i + 2\n",
    "            continue\n",
    "        if len(D) > 0 and D[len(D)-1] == S[i]:\n",
    "            del D[len(D)-1:len(D)]\n",
    "        else : D.append(S[i])\n",
    "        i = i + 1\n",
    "    res = \"\"\n",
    "    for c in D:\n",
    "        res = res + c\n",
    "    return res"
   ]
  },
  {
   "cell_type": "code",
   "execution_count": 7,
   "id": "dutch-guitar",
   "metadata": {
    "id": "e3ba48db-7402-4004-a465-58b91509baf0",
    "tags": []
   },
   "outputs": [
    {
     "name": "stdout",
     "output_type": "stream",
     "text": [
      "AC\n",
      "\n"
     ]
    }
   ],
   "source": [
    "print (solution(\"ACCAABBC\"))\n",
    "print (solution(\"ABCBBCBA\"))"
   ]
  },
  {
   "cell_type": "markdown",
   "id": "several-birth",
   "metadata": {
    "id": "214e1294-3f74-47b5-9cfd-f0f14a64f3c8"
   },
   "source": [
    "# Question 3\n",
    "https://app.codility.com/programmers/trainings/4/polygon_concavity_index/"
   ]
  },
  {
   "cell_type": "code",
   "execution_count": 1,
   "id": "accompanied-mission",
   "metadata": {
    "id": "f69479eb-8185-4679-8ed4-a6973c352a55",
    "tags": []
   },
   "outputs": [],
   "source": [
    "# Solution is wrong\n",
    "from typing import List\n",
    "\n",
    "class Point2D(object):\n",
    "  x = 0\n",
    "  y = 0\n",
    "\n",
    "  def __init__(self,x,y) :\n",
    "      self.x = x\n",
    "      self.y = y\n",
    "  \n",
    "\n",
    "def sign (p1 : Point2D,p2 : Point2D,p3 : Point2D) -> float :\n",
    "    return (p1.x - p3.x) * (p2.y - p3.y) - (p2.x - p3.x) * (p1.y - p3.y)\n",
    "\n",
    "def pointintriangle(p : Point2D,a1 : Point2D,a2 : Point2D,a3 : Point2D) :\n",
    "    d1 = sign(p, a1, a2)\n",
    "    d2 = sign(p, a2, a3)\n",
    "    d3 = sign(p, a3, a1)\n",
    "\n",
    "    has_neg = (d1 <= 0) or (d2 <= 0) or (d3 <= 0)\n",
    "    has_pos = (d1 >= 0) or (d2 >= 0) or (d3 >= 0)\n",
    "\n",
    "    return not (has_neg and has_pos)\n",
    "\n",
    "def convexquadrangle(a1 : Point2D,a2 : Point2D,a3 : Point2D,a4 : Point2D) :\n",
    "    if pointintriangle(a1,a2,a3,a4) : return 0\n",
    "    if pointintriangle(a2,a1,a3,a4) : return 1\n",
    "    if pointintriangle(a3,a1,a2,a4) : return 2\n",
    "    if pointintriangle(a4,a1,a2,a3) : return 3\n",
    "    return -1\n",
    "\n",
    "def solution(A : List[Point2D]) :\n",
    "\n",
    "    for i in range(len(A) - 3) :\n",
    "        p = convexquadrangle(A[i],A[i+1],A[i+2],A[i+3])\n",
    "        if p != -1 : return i+p\n",
    "    return -1"
   ]
  },
  {
   "cell_type": "code",
   "execution_count": 2,
   "id": "polished-hypothesis",
   "metadata": {
    "id": "e80988da-985d-43b9-ac4e-d147cec8233b",
    "tags": []
   },
   "outputs": [],
   "source": [
    "p1 = Point2D(1,2)\n",
    "p2 = Point2D(3,1)\n",
    "p3 = Point2D(-1,-1)\n",
    "\n",
    "assert(pointintriangle(Point2D(1,1),p1,p2,p3))\n",
    "assert(not pointintriangle(Point2D(0,1),p1,p2,p3))\n",
    "\n",
    "assert(not pointintriangle(Point2D(1,1),Point2D(-1,3),Point2D(1,1),Point2D(3,1)))\n",
    "\n",
    "assert (convexquadrangle(Point2D(-1,3),Point2D(1,2),Point2D(3,1),Point2D(1,1)) == -1)\n",
    "\n",
    "assert (convexquadrangle(Point2D(1,2),Point2D(3,1),Point2D(1,1),Point2D(0,-1)) == 2)\n",
    "\n",
    "Q1 = [Point2D(-1,3),Point2D(3,1),Point2D(0,-1),Point2D(-2,1)]\n",
    "assert(solution(Q1) == -1)\n",
    "\n",
    "Q2 = [Point2D(-1,3),Point2D(1,2),Point2D(3,1),Point2D(1,1),Point2D(0,-1),Point2D(2,1),Point2D(-1,2)]\n",
    "assert (solution(Q2) ==3)\n",
    "\n",
    "Q3 = [Point2D(-1,3),Point2D(1,2),Point2D(1,1),Point2D(3,1),Point2D(0,-1),Point2D(-2,1),Point2D(-1,2)]\n",
    "assert (solution(Q2) ==3 )"
   ]
  },
  {
   "cell_type": "code",
   "execution_count": null,
   "id": "destroyed-wallet",
   "metadata": {
    "id": "30558bd2-f3f2-4f9c-adf0-8ef543f234d3"
   },
   "outputs": [],
   "source": []
  }
 ],
 "metadata": {
  "kernelspec": {
   "display_name": "Python 3.8",
   "language": "python",
   "name": "python3"
  },
  "language_info": {
   "codemirror_mode": {
    "name": "ipython",
    "version": 3
   },
   "file_extension": ".py",
   "mimetype": "text/x-python",
   "name": "python",
   "nbconvert_exporter": "python",
   "pygments_lexer": "ipython3",
   "version": "3.8.11"
  }
 },
 "nbformat": 4,
 "nbformat_minor": 5
}
