{
 "cells": [
  {
   "cell_type": "markdown",
   "id": "0890141a-753e-4e18-85e8-6e6416678262",
   "metadata": {},
   "source": [
    "# CountNonDivisible\n",
    "https://app.codility.com/programmers/lessons/11-sieve_of_eratosthenes/count_non_divisible/\n",
    "\n",
    "Solution adapted from: https://www.martinkysel.com/codility-countnondivisible-solution/"
   ]
  },
  {
   "cell_type": "code",
   "execution_count": 1,
   "id": "87bacfaf-1454-47d4-a66c-d40172285233",
   "metadata": {},
   "outputs": [],
   "source": [
    "from typing import List,Dict,Set\n",
    "\n",
    "def solution(A : List[int]) -> List[int] :\n",
    "    maxn : int = max(A)\n",
    "    numbs : Dict[int,int] = dict()\n",
    "    for n in A : \n",
    "        if n in numbs : numbs[n] += 1\n",
    "        else: numbs[n] = 1\n",
    "        \n",
    "    divisors : Dict[int,Set[int]] = dict()\n",
    "    for n in A :\n",
    "        if 1 in numbs: divisors[n] = set([1,n])\n",
    "        else : divisors[n] = set([n])\n",
    "\n",
    "\n",
    "    divisor : int = 2\n",
    "    \n",
    "    while divisor**2 <= maxn :\n",
    "        p = divisor\n",
    "        while p<=maxn:\n",
    "            if  p in divisors :\n",
    "                if divisor in divisors : \n",
    "                    divisors[p].add(divisor)\n",
    "                q = p // divisor\n",
    "                if q in divisors :\n",
    "                   divisors[p].add(q)\n",
    "            p += divisor\n",
    "        divisor += 1\n",
    "        \n",
    "    res : List[int] = list()\n",
    "    \n",
    "    for n in A :\n",
    "        numofdiv : int = 0\n",
    "        for x in divisors[n] :\n",
    "            numofdiv += numbs[x]\n",
    "        res.append(len(A) - numofdiv)\n",
    "        \n",
    "    return res\n"
   ]
  },
  {
   "cell_type": "code",
   "execution_count": 2,
   "id": "4fe22abb-6d86-496b-88ab-911d07f0190e",
   "metadata": {},
   "outputs": [],
   "source": [
    "A = [3,1,2,3,6]      \n",
    "assert (solution(A) == [2,4,3,2,0])\n",
    "\n",
    "assert (solution([3,1,2,3,10]) == [2,4,3,2,2])\n",
    "\n",
    "assert (solution([1,100]) == [1,0])\n",
    "\n",
    "assert (solution([2,4]) == [1,0])"
   ]
  },
  {
   "cell_type": "code",
   "execution_count": null,
   "id": "cfaa062b-dc23-4364-9e88-67902669bb00",
   "metadata": {},
   "outputs": [],
   "source": []
  }
 ],
 "metadata": {
  "kernelspec": {
   "display_name": "Python 3 (ipykernel)",
   "language": "python",
   "name": "python3"
  },
  "language_info": {
   "codemirror_mode": {
    "name": "ipython",
    "version": 3
   },
   "file_extension": ".py",
   "mimetype": "text/x-python",
   "name": "python",
   "nbconvert_exporter": "python",
   "pygments_lexer": "ipython3",
   "version": "3.9.7"
  }
 },
 "nbformat": 4,
 "nbformat_minor": 5
}
