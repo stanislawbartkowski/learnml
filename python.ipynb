{
 "cells": [
  {
   "cell_type": "markdown",
   "id": "moral-reflection",
   "metadata": {
    "id": "5b040ae4-50d0-4621-a782-074a87295a9c",
    "tags": []
   },
   "source": [
    "# Question 1\n",
    "Arrays: move zeros to the left\n",
    "Given an integer array, move all elements that are 0 to the left while maintaining the order of other elements in the array. The array has to be modified in-place."
   ]
  },
  {
   "cell_type": "code",
   "execution_count": 29,
   "id": "pediatric-smell",
   "metadata": {
    "id": "2c5f0af5-56a4-4153-af79-aadb8d7db6ed",
    "tags": []
   },
   "outputs": [],
   "source": [
    "from typing import List\n",
    "\n",
    "\n",
    "def move_zeros_to_left(A: List[int]):\n",
    "    zeros = 0\n",
    "    for i in range(len(A)-1, -1, -1):\n",
    "        if A[i] == 0: \n",
    "            zeros = zeros + 1\n",
    "        else: \n",
    "            A[i + zeros] = A[i]\n",
    "    for i in range(zeros):\n",
    "        A[i] = 0"
   ]
  },
  {
   "cell_type": "code",
   "execution_count": 30,
   "id": "coordinated-machine",
   "metadata": {
    "id": "e91ed366-e0c9-4692-83c5-faad27ec4df1",
    "tags": []
   },
   "outputs": [],
   "source": [
    "testlist = [1, 10, 20, 0, 59, 63, 0, 88, 0]"
   ]
  },
  {
   "cell_type": "code",
   "execution_count": 31,
   "id": "hollow-airline",
   "metadata": {
    "id": "1ceb6b38-4270-48b4-b523-049678a91e2a",
    "tags": []
   },
   "outputs": [],
   "source": [
    "move_zeros_to_left(testlist)"
   ]
  },
  {
   "cell_type": "code",
   "execution_count": 32,
   "id": "listed-complaint",
   "metadata": {
    "id": "f102869f-6b52-4aa6-b230-c5b9cce0f185",
    "tags": []
   },
   "outputs": [
    {
     "name": "stdout",
     "output_type": "stream",
     "text": [
      "[0, 0, 0, 1, 10, 20, 59, 63, 88]\n"
     ]
    }
   ],
   "source": [
    "print(testlist)"
   ]
  },
  {
   "cell_type": "markdown",
   "id": "defined-testing",
   "metadata": {
    "id": "a0cf2219-c683-4a2e-86cd-bb76849a2624"
   },
   "source": [
    "# Question 2\n",
    "You are given an array (list) of interval pairs as input where each interval has a start and end timestamp. The input array is sorted by starting timestamps. You are required to merge overlapping intervals and return a new output array."
   ]
  },
  {
   "cell_type": "code",
   "execution_count": 33,
   "id": "precious-change",
   "metadata": {
    "id": "b72aa2e2-b2be-4790-8f29-31a39b364ffb",
    "tags": []
   },
   "outputs": [],
   "source": [
    "class Pair:\n",
    "    def __init__(self, first: int, second: int):\n",
    "        self.first = first\n",
    "        self.second = second"
   ]
  },
  {
   "cell_type": "code",
   "execution_count": 57,
   "id": "silver-kingston",
   "metadata": {
    "id": "e1073782-7112-48f4-8e43-00a1e4e1a404",
    "tags": []
   },
   "outputs": [],
   "source": [
    "def merge_intervals(v: List[Pair]) -> List[Pair]:\n",
    "    result = []\n",
    "    actinterval = None\n",
    "    for p in v:\n",
    "        if actinterval is None:\n",
    "            actinterval = Pair(p.first, p.second)\n",
    "        else:\n",
    "            if p.first <= actinterval.second:\n",
    "                actinterval.second = max(actinterval.second, p.second)\n",
    "            else:\n",
    "                result.append(actinterval)\n",
    "                actinterval = Pair(p.first, p.second)\n",
    "\n",
    "    if actinterval is not None:\n",
    "        result.append(actinterval)\n",
    "\n",
    "    return result"
   ]
  },
  {
   "cell_type": "code",
   "execution_count": 62,
   "id": "boxed-glass",
   "metadata": {
    "id": "d09a819a-6900-47bc-9adc-28fb13f429d0",
    "tags": []
   },
   "outputs": [],
   "source": [
    "testlist1 = [Pair(1, 5), Pair(3, 7), Pair(4, 6), Pair(6, 8), Pair(10, 12), \n",
    "             Pair(12, 15)]"
   ]
  },
  {
   "cell_type": "code",
   "execution_count": 63,
   "id": "directed-terrorist",
   "metadata": {
    "id": "2b64a128-447a-451f-ae29-7455239a109c",
    "tags": []
   },
   "outputs": [
    {
     "name": "stdout",
     "output_type": "stream",
     "text": [
      "Merged intervals\n",
      "first: 1, last:8\n",
      "first: 10, last:15\n"
     ]
    }
   ],
   "source": [
    "testresult = merge_intervals(testlist1)\n",
    "print(\"Merged intervals\")\n",
    "for p in testresult:\n",
    "    print(\"first: {0}, last:{1}\".format(p.first, p.second))"
   ]
  },
  {
   "cell_type": "code",
   "execution_count": null,
   "id": "arabic-height",
   "metadata": {
    "id": "36791091-8531-4bbd-ad1a-4a0972332c75"
   },
   "outputs": [],
   "source": []
  }
 ],
 "metadata": {
  "kernelspec": {
   "display_name": "Python 3.8",
   "language": "python",
   "name": "python3"
  },
  "language_info": {
   "codemirror_mode": {
    "name": "ipython",
    "version": 3
   },
   "file_extension": ".py",
   "mimetype": "text/x-python",
   "name": "python",
   "nbconvert_exporter": "python",
   "pygments_lexer": "ipython3",
   "version": "3.8.11"
  }
 },
 "nbformat": 4,
 "nbformat_minor": 5
}
