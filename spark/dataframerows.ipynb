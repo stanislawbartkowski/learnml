{
 "cells": [
  {
   "cell_type": "code",
   "execution_count": 1,
   "id": "c372d5de-df9d-473e-9fdb-8aa888925c4d",
   "metadata": {},
   "outputs": [],
   "source": [
    "import pyspark\n",
    "sc = pyspark.SparkContext()\n",
    "spark = pyspark.sql.SparkSession(sc)"
   ]
  },
  {
   "cell_type": "code",
   "execution_count": 2,
   "id": "3eb1890f-52a3-4400-b2c2-169848b951df",
   "metadata": {},
   "outputs": [],
   "source": [
    "from pyspark.sql import Row"
   ]
  },
  {
   "cell_type": "markdown",
   "id": "171a9571-5b13-47f2-8e6a-03e523e89335",
   "metadata": {},
   "source": [
    "# Basic operations on rows"
   ]
  },
  {
   "cell_type": "code",
   "execution_count": 3,
   "id": "47bf57ab-39d1-42eb-9bb4-1f3bdd7004a5",
   "metadata": {},
   "outputs": [],
   "source": [
    "row = Row(\"Upcoming New Movie\", 2021, \"Comedy\")"
   ]
  },
  {
   "cell_type": "code",
   "execution_count": 6,
   "id": "b56f64fd-5719-4f7d-beee-0c007ed3f1a5",
   "metadata": {},
   "outputs": [
    {
     "name": "stdout",
     "output_type": "stream",
     "text": [
      "Upcoming New Movie\n",
      "2021\n",
      "Comedy\n"
     ]
    }
   ],
   "source": [
    "print(row[0])\n",
    "print(row[1])\n",
    "print(row[2])"
   ]
  },
  {
   "cell_type": "code",
   "execution_count": 7,
   "id": "1f806dae-2405-4f99-b037-f76feae0c2c5",
   "metadata": {},
   "outputs": [],
   "source": [
    "rows = [(\"Tom Cruise Movie\", 2021, \"Comedy\"), (\"Rajinikanth Movie\", 2021, \"Action\")]"
   ]
  },
  {
   "cell_type": "code",
   "execution_count": 15,
   "id": "1d995c03-edc0-4030-943d-d054fb65ab84",
   "metadata": {},
   "outputs": [],
   "source": [
    "df = spark.createDataFrame(data=rows,schema = ['Movie Name','Release Year','Genre'])"
   ]
  },
  {
   "cell_type": "code",
   "execution_count": 16,
   "id": "73362fc1-8093-466c-a1d5-2f0f0fab3b60",
   "metadata": {},
   "outputs": [
    {
     "name": "stdout",
     "output_type": "stream",
     "text": [
      "root\n",
      " |-- Movie Name: string (nullable = true)\n",
      " |-- Release Year: long (nullable = true)\n",
      " |-- Genre: string (nullable = true)\n",
      "\n"
     ]
    }
   ],
   "source": [
    "df.printSchema()"
   ]
  },
  {
   "cell_type": "code",
   "execution_count": 17,
   "id": "15714501-ae84-4d71-800a-031e58f3fbc8",
   "metadata": {},
   "outputs": [
    {
     "name": "stdout",
     "output_type": "stream",
     "text": [
      "+-----------------+------------+------+\n",
      "|       Movie Name|Release Year| Genre|\n",
      "+-----------------+------------+------+\n",
      "| Tom Cruise Movie|        2021|Comedy|\n",
      "|Rajinikanth Movie|        2021|Action|\n",
      "+-----------------+------------+------+\n",
      "\n"
     ]
    }
   ],
   "source": [
    "df.show()"
   ]
  },
  {
   "cell_type": "markdown",
   "id": "2d42782d-3593-4c90-a30a-9bda271ef6a6",
   "metadata": {},
   "source": [
    "# DataFrame from data source"
   ]
  },
  {
   "cell_type": "code",
   "execution_count": 18,
   "id": "829c9a58-d6fd-4ea7-8393-68d04be3581b",
   "metadata": {},
   "outputs": [],
   "source": [
    "n = 'https://raw.githubusercontent.com/sehgalayush1/movie_revenue/master/ml_modules/data/BollywoodMovieDetail.csv'\n",
    "f = 'BollywoodMovieDetail.csv'\n",
    "\n",
    "sc.addFile(n)\n",
    "movies = spark.read.option(\"header\", True).option(\"inferSchema\", \"true\").csv(pyspark.SparkFiles.get(f))"
   ]
  },
  {
   "cell_type": "code",
   "execution_count": 20,
   "id": "4d6bc28e-acea-49c1-8d85-ddf5da2035e5",
   "metadata": {},
   "outputs": [],
   "source": [
    "from pyspark.sql.functions import col"
   ]
  },
  {
   "cell_type": "markdown",
   "id": "80a0d1fe-2308-4884-93f7-6965d4e9077d",
   "metadata": {},
   "source": [
    "# Basic queries"
   ]
  },
  {
   "cell_type": "code",
   "execution_count": 21,
   "id": "04ee7519-860d-48cb-9c6f-e56d0099d49f",
   "metadata": {},
   "outputs": [
    {
     "name": "stdout",
     "output_type": "stream",
     "text": [
      "+--------------------+\n",
      "|               title|\n",
      "+--------------------+\n",
      "|Gadar: Ek Prem Katha|\n",
      "|            3 Idiots|\n",
      "|            Dhoom: 3|\n",
      "|                  PK|\n",
      "+--------------------+\n",
      "\n"
     ]
    }
   ],
   "source": [
    "movies.select(\"title\").where(col(\"hitFlop\") > 8).show()"
   ]
  },
  {
   "cell_type": "code",
   "execution_count": 22,
   "id": "7e14c62e-a1eb-47e4-9daa-cb4ea1a1631d",
   "metadata": {},
   "outputs": [
    {
     "data": {
      "text/plain": [
       "4"
      ]
     },
     "execution_count": 22,
     "metadata": {},
     "output_type": "execute_result"
    }
   ],
   "source": [
    "movies.select(\"title\").where(col(\"hitFlop\") > 8).count()"
   ]
  },
  {
   "cell_type": "code",
   "execution_count": 25,
   "id": "1c881395-6a43-4a95-88c5-5acf1d83a545",
   "metadata": {},
   "outputs": [
    {
     "data": {
      "text/plain": [
       "372"
      ]
     },
     "execution_count": 25,
     "metadata": {},
     "output_type": "execute_result"
    }
   ],
   "source": [
    "movies.select(\"title\").filter(col(\"genre\").contains(\"Romance\")).count()"
   ]
  },
  {
   "cell_type": "code",
   "execution_count": 27,
   "id": "4061d95f-50f7-4ac9-85af-f6268a1dc92a",
   "metadata": {},
   "outputs": [
    {
     "data": {
      "text/plain": [
       "116"
      ]
     },
     "execution_count": 27,
     "metadata": {},
     "output_type": "execute_result"
    }
   ],
   "source": [
    "movies.select(\"title\").filter(col(\"genre\").contains(\"Romance\")).where(col(\"releaseYear\") > 2010).count()"
   ]
  },
  {
   "cell_type": "code",
   "execution_count": 33,
   "id": "bde7c032-fb81-428c-be89-7a41b875ebf7",
   "metadata": {},
   "outputs": [
    {
     "name": "stdout",
     "output_type": "stream",
     "text": [
      "+-----------+\n",
      "|releaseYear|\n",
      "+-----------+\n",
      "|       2014|\n",
      "|       2013|\n",
      "|       2012|\n",
      "|       2011|\n",
      "|       2010|\n",
      "|       2009|\n",
      "|       2008|\n",
      "|       2007|\n",
      "|       2006|\n",
      "|       2005|\n",
      "|       2004|\n",
      "|       2003|\n",
      "|       2002|\n",
      "|       2001|\n",
      "+-----------+\n",
      "\n"
     ]
    }
   ],
   "source": [
    " movies.select(\"releaseYear\").distinct().sort(col(\"releaseYear\").desc()).show()"
   ]
  },
  {
   "cell_type": "markdown",
   "id": "7209352f-f795-4d09-bd86-2fa259e7f0b6",
   "metadata": {},
   "source": [
    "# Change column name"
   ]
  },
  {
   "cell_type": "code",
   "execution_count": 34,
   "id": "e0f7429d-4c56-4f68-9215-70dc1af5bebb",
   "metadata": {},
   "outputs": [],
   "source": [
    "moviesNewColDF = movies.withColumnRenamed(\"hitFlop\",\"Rating\")"
   ]
  },
  {
   "cell_type": "code",
   "execution_count": 35,
   "id": "7e53cc47-6b5a-4093-87b1-97f4b8f8e13c",
   "metadata": {},
   "outputs": [
    {
     "name": "stdout",
     "output_type": "stream",
     "text": [
      "root\n",
      " |-- imdbId: string (nullable = true)\n",
      " |-- title: string (nullable = true)\n",
      " |-- releaseYear: integer (nullable = true)\n",
      " |-- releaseDate: string (nullable = true)\n",
      " |-- genre: string (nullable = true)\n",
      " |-- writers: string (nullable = true)\n",
      " |-- actors: string (nullable = true)\n",
      " |-- directors: string (nullable = true)\n",
      " |-- sequel: string (nullable = true)\n",
      " |-- Rating: integer (nullable = true)\n",
      "\n"
     ]
    }
   ],
   "source": [
    "moviesNewColDF.printSchema()"
   ]
  },
  {
   "cell_type": "markdown",
   "id": "89162f21-c312-4ece-92c0-139c6cc636bf",
   "metadata": {},
   "source": [
    "# Change column type"
   ]
  },
  {
   "cell_type": "code",
   "execution_count": 37,
   "id": "2d861756-76b5-4813-8c59-4fe6bb1f8351",
   "metadata": {},
   "outputs": [],
   "source": [
    "from pyspark.sql.functions import to_date\n",
    "newDF = movies.withColumn(\"launchDate\", to_date(col(\"releaseDate\"), \"d MMM yyyy\")).drop(\"releaseDate\")"
   ]
  },
  {
   "cell_type": "code",
   "execution_count": 38,
   "id": "3b9f2ba0-45d4-4a8e-807d-9171e7d9744a",
   "metadata": {},
   "outputs": [
    {
     "name": "stdout",
     "output_type": "stream",
     "text": [
      "root\n",
      " |-- imdbId: string (nullable = true)\n",
      " |-- title: string (nullable = true)\n",
      " |-- releaseYear: integer (nullable = true)\n",
      " |-- genre: string (nullable = true)\n",
      " |-- writers: string (nullable = true)\n",
      " |-- actors: string (nullable = true)\n",
      " |-- directors: string (nullable = true)\n",
      " |-- sequel: string (nullable = true)\n",
      " |-- hitFlop: integer (nullable = true)\n",
      " |-- launchDate: date (nullable = true)\n",
      "\n"
     ]
    }
   ],
   "source": [
    "newDF.printSchema()"
   ]
  },
  {
   "cell_type": "code",
   "execution_count": 47,
   "id": "705b64c2-a333-4c45-9358-4bea6be1d56c",
   "metadata": {},
   "outputs": [
    {
     "name": "stdout",
     "output_type": "stream",
     "text": [
      "+-----------+----------+\n",
      "|releaseYear|launchDate|\n",
      "+-----------+----------+\n",
      "|2001       |null      |\n",
      "|2001       |null      |\n",
      "|2002       |null      |\n",
      "|2002       |null      |\n",
      "|2002       |null      |\n",
      "+-----------+----------+\n",
      "only showing top 5 rows\n",
      "\n"
     ]
    }
   ],
   "source": [
    " newDF.select(\"releaseYear\",\"launchDate\").where(col(\"launchDate\").isNull()).show(5,False)"
   ]
  },
  {
   "cell_type": "code",
   "execution_count": 48,
   "id": "14d03f9b-d81f-4abb-a82d-6c0f48e28a05",
   "metadata": {},
   "outputs": [
    {
     "data": {
      "text/plain": [
       "54"
      ]
     },
     "execution_count": 48,
     "metadata": {},
     "output_type": "execute_result"
    }
   ],
   "source": [
    " newDF.select(\"releaseYear\",\"launchDate\").where(col(\"launchDate\").isNull()).count()"
   ]
  },
  {
   "cell_type": "markdown",
   "id": "b40efd0a-47fa-44de-bc7d-f256e0a27b23",
   "metadata": {},
   "source": [
    "# Date functions"
   ]
  },
  {
   "cell_type": "code",
   "execution_count": 50,
   "id": "37b6464d-5a1d-4d9e-9951-06f9766806b5",
   "metadata": {},
   "outputs": [
    {
     "name": "stdout",
     "output_type": "stream",
     "text": [
      "+----------------+\n",
      "|year(launchDate)|\n",
      "+----------------+\n",
      "|            null|\n",
      "|            2001|\n",
      "|            2002|\n",
      "|            2003|\n",
      "|            2004|\n",
      "|            2005|\n",
      "|            2006|\n",
      "|            2007|\n",
      "|            2008|\n",
      "|            2009|\n",
      "|            2010|\n",
      "|            2011|\n",
      "|            2012|\n",
      "|            2013|\n",
      "|            2014|\n",
      "+----------------+\n",
      "\n"
     ]
    }
   ],
   "source": [
    "from pyspark.sql.functions import year\n",
    "newDF.select(year(col(\"launchDate\"))).distinct().orderBy(year(col(\"launchDate\"))).show()"
   ]
  },
  {
   "cell_type": "markdown",
   "id": "50e45039-6a49-4947-b873-06dad057a0a1",
   "metadata": {},
   "source": [
    "# Aggregations"
   ]
  },
  {
   "cell_type": "code",
   "execution_count": 51,
   "id": "8a4a60fd-b0f7-4615-8686-5662ff4c6067",
   "metadata": {},
   "outputs": [
    {
     "name": "stdout",
     "output_type": "stream",
     "text": [
      "+-----------+-----+\n",
      "|releaseYear|count|\n",
      "+-----------+-----+\n",
      "|       2001|   62|\n",
      "|       2002|   79|\n",
      "|       2003|   95|\n",
      "|       2004|   88|\n",
      "|       2005|  106|\n",
      "|       2006|   60|\n",
      "|       2007|   66|\n",
      "|       2008|   98|\n",
      "|       2009|   91|\n",
      "|       2010|  116|\n",
      "|       2011|  112|\n",
      "|       2012|   99|\n",
      "|       2013|  102|\n",
      "|       2014|  110|\n",
      "+-----------+-----+\n",
      "\n"
     ]
    }
   ],
   "source": [
    "movies.select(\"releaseYear\").groupBy(\"releaseYear\").count().orderBy(\"releaseYear\").show()"
   ]
  },
  {
   "cell_type": "code",
   "execution_count": 52,
   "id": "4ca86721-2ced-4e10-b30b-f6e5d1c6fa69",
   "metadata": {},
   "outputs": [
    {
     "name": "stdout",
     "output_type": "stream",
     "text": [
      "+------------+\n",
      "|max(hitFlop)|\n",
      "+------------+\n",
      "|           9|\n",
      "+------------+\n",
      "\n"
     ]
    }
   ],
   "source": [
    "from pyspark.sql.functions import max\n",
    "movies.select(max(col(\"hitFlop\"))).show()"
   ]
  },
  {
   "cell_type": "code",
   "execution_count": 53,
   "id": "31ccf00d-7621-4bf1-a6b9-960c5cdee37b",
   "metadata": {},
   "outputs": [
    {
     "name": "stdout",
     "output_type": "stream",
     "text": [
      "+------------+\n",
      "|min(hitFlop)|\n",
      "+------------+\n",
      "|           1|\n",
      "+------------+\n",
      "\n"
     ]
    }
   ],
   "source": [
    "from pyspark.sql.functions import min\n",
    "movies.select(min(col(\"hitFlop\"))).show()"
   ]
  },
  {
   "cell_type": "code",
   "execution_count": 54,
   "id": "a0bada56-1972-4a88-8bcc-a322fe4c78b4",
   "metadata": {},
   "outputs": [
    {
     "name": "stdout",
     "output_type": "stream",
     "text": [
      "+------------+\n",
      "|sum(hitFlop)|\n",
      "+------------+\n",
      "|        2753|\n",
      "+------------+\n",
      "\n"
     ]
    }
   ],
   "source": [
    "from pyspark.sql.functions import sum\n",
    "movies.select(sum(col(\"hitFlop\"))).show()"
   ]
  },
  {
   "cell_type": "code",
   "execution_count": 55,
   "id": "d3fedd64-0cb7-4e24-adc7-55c1bc61cc33",
   "metadata": {},
   "outputs": [
    {
     "name": "stdout",
     "output_type": "stream",
     "text": [
      "+------------------+\n",
      "|      avg(hitFlop)|\n",
      "+------------------+\n",
      "|2.1440809968847354|\n",
      "+------------------+\n",
      "\n"
     ]
    }
   ],
   "source": [
    "from pyspark.sql.functions import avg\n",
    "movies.select(avg(col(\"hitFlop\"))).show()"
   ]
  },
  {
   "cell_type": "code",
   "execution_count": 56,
   "id": "976d57ad-fbfe-4151-8f71-2d6d4c70c2f0",
   "metadata": {},
   "outputs": [
    {
     "name": "stdout",
     "output_type": "stream",
     "text": [
      "+-----------+------------------+\n",
      "|releaseYear|      avg(hitFlop)|\n",
      "+-----------+------------------+\n",
      "|       2001| 2.306451612903226|\n",
      "|       2002|1.9620253164556962|\n",
      "|       2003|2.0105263157894737|\n",
      "|       2004|1.9545454545454546|\n",
      "|       2005| 2.009433962264151|\n",
      "|       2006|2.9833333333333334|\n",
      "|       2007| 2.621212121212121|\n",
      "|       2008|  2.13265306122449|\n",
      "|       2009| 1.835164835164835|\n",
      "|       2010|1.8620689655172413|\n",
      "|       2011|2.0535714285714284|\n",
      "|       2012| 2.393939393939394|\n",
      "|       2013| 2.343137254901961|\n",
      "|       2014| 2.081818181818182|\n",
      "+-----------+------------------+\n",
      "\n"
     ]
    }
   ],
   "source": [
    "movies.select(\"releaseYear\",\"hitFlop\").groupBy(\"releaseYear\").avg(\"hitFlop\").orderBy(\"releaseYear\").show()"
   ]
  },
  {
   "cell_type": "code",
   "execution_count": null,
   "id": "3933bf3b-f71d-480e-b1ba-7cded1eedadb",
   "metadata": {},
   "outputs": [],
   "source": []
  }
 ],
 "metadata": {
  "kernelspec": {
   "display_name": "Python 3 (ipykernel)",
   "language": "python",
   "name": "python3"
  },
  "language_info": {
   "codemirror_mode": {
    "name": "ipython",
    "version": 3
   },
   "file_extension": ".py",
   "mimetype": "text/x-python",
   "name": "python",
   "nbconvert_exporter": "python",
   "pygments_lexer": "ipython3",
   "version": "3.9.7"
  }
 },
 "nbformat": 4,
 "nbformat_minor": 5
}
