{
 "cells": [
  {
   "cell_type": "markdown",
   "id": "3d936077-3ee2-48e2-af6e-9238985ea345",
   "metadata": {},
   "source": [
    "# FrogJmp\n",
    "https://app.codility.com/programmers/lessons/3-time_complexity/frog_jmp/"
   ]
  },
  {
   "cell_type": "code",
   "execution_count": 1,
   "id": "f835b38d-43db-4bcd-9c09-919af3b2539b",
   "metadata": {},
   "outputs": [],
   "source": [
    "def solution(X, Y, D):\n",
    "    import math\n",
    "    distance = Y-X\n",
    "    return math.ceil(distance/D)"
   ]
  },
  {
   "cell_type": "code",
   "execution_count": 2,
   "id": "072d9fdd-4ab1-42ba-8de5-201fde6e7fe3",
   "metadata": {},
   "outputs": [],
   "source": [
    "assert (solution(10,85,30) == 3)"
   ]
  },
  {
   "cell_type": "markdown",
   "id": "05483274-bc94-499b-95ce-dc61f7280878",
   "metadata": {},
   "source": [
    "# PermMissingElem\n",
    "https://app.codility.com/programmers/lessons/3-time_complexity/perm_missing_elem/\n",
    "\n",
    "It works but there exists a better solution\n",
    "\n",
    "https://github.com/ghanan94/codility-lesson-solutions/blob/master/Lesson%2003%20-%20Time%20Complexity/PermMissingElem/solution.py"
   ]
  },
  {
   "cell_type": "code",
   "execution_count": 3,
   "id": "77c31e42-1da7-4ec4-b5fd-a62400541332",
   "metadata": {},
   "outputs": [],
   "source": [
    "from typing import List\n",
    "\n",
    "def solution(A : List[int]) -> int :\n",
    "\n",
    "    X : List[int] = sorted(A)\n",
    "\n",
    "    for i in range(len(X)) :\n",
    "        if i+1 != X[i] : return i+1\n",
    "\n",
    "    return len(A)+1"
   ]
  },
  {
   "cell_type": "code",
   "execution_count": 4,
   "id": "4b410036-c1e4-46cb-a47c-84853fa60187",
   "metadata": {},
   "outputs": [],
   "source": [
    "assert (solution([2,3,1,5]) == 4)\n",
    "\n",
    "assert(solution([]) == 1)\n",
    "\n",
    "assert(solution([2]) == 1)\n",
    "\n",
    "assert(solution([3,1]) == 2)\n",
    "\n",
    "assert(solution([3,2]) == 1 )\n",
    "\n",
    "assert(solution([1,2]) == 3)"
   ]
  },
  {
   "cell_type": "markdown",
   "id": "5af01b35-adbf-44fa-a43c-3bd4d51294ff",
   "metadata": {},
   "source": [
    "# TapeEquilibrium\n",
    "https://app.codility.com/programmers/lessons/3-time_complexity/tape_equilibrium/"
   ]
  },
  {
   "cell_type": "code",
   "execution_count": 5,
   "id": "c4241e78-657d-43b0-876f-e1de8e9cbe8f",
   "metadata": {},
   "outputs": [],
   "source": [
    "from typing import List\n",
    "\n",
    "def solution(A : List[int]) :\n",
    "    assert (len(A) > 0)\n",
    "    # calculate the sum\n",
    "    sumr : int = sum(A[1:])\n",
    "    suml : int = A[0]\n",
    "    minp : int = abs(suml - sumr)\n",
    "    for i in range(1,len(A)-1) :\n",
    "        # P = i+1\n",
    "        sumr -=  A[i]\n",
    "        suml +=  A[i]\n",
    "        tempminp = abs(suml-sumr)\n",
    "        if tempminp < minp : minp = tempminp\n",
    "    return minp"
   ]
  },
  {
   "cell_type": "code",
   "execution_count": 6,
   "id": "ec560828-fa7a-4526-a445-587a0266cbc2",
   "metadata": {},
   "outputs": [],
   "source": [
    "assert (solution([3,1,2,4,3]) == 1)\n",
    "assert (solution([4]) == 4)\n",
    "assert (solution([0,2000]) == 2000)\n",
    "assert (solution([2000,2000]) == 0)\n",
    "assert (solution([2000,0]) == 2000)\n",
    "assert (solution([1,2,3,3]) == 3)\n",
    "assert (solution([2,3,5]) == 0)\n",
    "assert (solution([1,-1]) == 2)"
   ]
  },
  {
   "cell_type": "code",
   "execution_count": null,
   "id": "58fcede9-5154-46cd-aa02-46df09c07277",
   "metadata": {},
   "outputs": [],
   "source": []
  }
 ],
 "metadata": {
  "kernelspec": {
   "display_name": "Python 3 (ipykernel)",
   "language": "python",
   "name": "python3"
  },
  "language_info": {
   "codemirror_mode": {
    "name": "ipython",
    "version": 3
   },
   "file_extension": ".py",
   "mimetype": "text/x-python",
   "name": "python",
   "nbconvert_exporter": "python",
   "pygments_lexer": "ipython3",
   "version": "3.9.7"
  }
 },
 "nbformat": 4,
 "nbformat_minor": 5
}
