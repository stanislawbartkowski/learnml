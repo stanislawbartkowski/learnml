{
 "cells": [
  {
   "cell_type": "markdown",
   "id": "b7aa0008-a5bd-469d-bf72-229fdb118b64",
   "metadata": {},
   "source": [
    "# CyclicRotation\n",
    "https://app.codility.com/programmers/lessons/2-arrays/cyclic_rotation/"
   ]
  },
  {
   "cell_type": "code",
   "execution_count": 3,
   "id": "556be193-198e-433b-95c1-eded6b7260ec",
   "metadata": {},
   "outputs": [],
   "source": [
    "def rotate_by_one(A):\n",
    "    if len(A) <= 1:\n",
    "        return A\n",
    "    res = [e for e in A][:len(A)-1]\n",
    "    return [A[len(A)-1]] + res\n",
    "\n",
    "\n",
    "def solution(A, K):\n",
    "    if K == 0:\n",
    "        return A\n",
    "    res = rotate_by_one(A)\n",
    "    for _ in range(K-1):\n",
    "        res = rotate_by_one(res)\n",
    "    return res"
   ]
  },
  {
   "cell_type": "code",
   "execution_count": 4,
   "id": "17d0030a-83dc-4259-acfd-56693f8b200d",
   "metadata": {},
   "outputs": [
    {
     "data": {
      "text/plain": [
       "[9, 7, 6, 3, 8]"
      ]
     },
     "execution_count": 4,
     "metadata": {},
     "output_type": "execute_result"
    }
   ],
   "source": [
    "A = [3, 8, 9, 7, 6]\n",
    "solution(A,3)"
   ]
  },
  {
   "cell_type": "code",
   "execution_count": 5,
   "id": "841a5c93-da63-47e8-a371-dbc998f277c2",
   "metadata": {},
   "outputs": [
    {
     "data": {
      "text/plain": [
       "[0, 0, 0]"
      ]
     },
     "execution_count": 5,
     "metadata": {},
     "output_type": "execute_result"
    }
   ],
   "source": [
    "A = [0, 0, 0]\n",
    "solution(A,1)"
   ]
  },
  {
   "cell_type": "code",
   "execution_count": 6,
   "id": "ae722829-58e4-4779-a558-cb538ebd4239",
   "metadata": {},
   "outputs": [
    {
     "data": {
      "text/plain": [
       "[1, 2, 3, 4]"
      ]
     },
     "execution_count": 6,
     "metadata": {},
     "output_type": "execute_result"
    }
   ],
   "source": [
    "solution([1,2,3,4],4)"
   ]
  },
  {
   "cell_type": "markdown",
   "id": "80ff0df8-8008-452b-a115-f55a06f064ea",
   "metadata": {},
   "source": [
    "# OddOccurrencesInArray\n",
    "https://app.codility.com/programmers/lessons/2-arrays/odd_occurrences_in_array/"
   ]
  },
  {
   "cell_type": "code",
   "execution_count": 7,
   "id": "7422c117-3106-470f-9eb4-25e5aa8f37d2",
   "metadata": {},
   "outputs": [],
   "source": [
    "from typing import List\n",
    "\n",
    "def solution(A : List[int]) -> int :\n",
    "\n",
    "    X = sorted(A)\n",
    "\n",
    "    for i in range(0,len(X)-1,2) :\n",
    "        if X[i+1] != X[i]: return X[i]\n",
    "    \n",
    "    return X[len(X)-1]"
   ]
  },
  {
   "cell_type": "code",
   "execution_count": 8,
   "id": "784cb107-9a38-4361-b25e-b256409ab508",
   "metadata": {},
   "outputs": [],
   "source": [
    "assert(solution([9,3,9,3,9,7,9]) == 7)\n",
    "\n",
    "assert(solution([1,9,9,1,11]) == 11)\n",
    "\n",
    "assert(solution([1,1,1]) == 1)"
   ]
  },
  {
   "cell_type": "code",
   "execution_count": null,
   "id": "77884830-c470-4837-aa51-42e25803fc15",
   "metadata": {},
   "outputs": [],
   "source": []
  }
 ],
 "metadata": {
  "kernelspec": {
   "display_name": "Python 3 (ipykernel)",
   "language": "python",
   "name": "python3"
  },
  "language_info": {
   "codemirror_mode": {
    "name": "ipython",
    "version": 3
   },
   "file_extension": ".py",
   "mimetype": "text/x-python",
   "name": "python",
   "nbconvert_exporter": "python",
   "pygments_lexer": "ipython3",
   "version": "3.9.7"
  }
 },
 "nbformat": 4,
 "nbformat_minor": 5
}
