{
 "cells": [
  {
   "cell_type": "code",
   "execution_count": 1,
   "id": "greenhouse-compromise",
   "metadata": {
    "id": "dfacbb60-ea56-41f4-81f0-58824ded713f",
    "tags": []
   },
   "outputs": [],
   "source": [
    "import enum, random"
   ]
  },
  {
   "cell_type": "code",
   "execution_count": 2,
   "id": "moral-teddy",
   "metadata": {
    "id": "e5d7b9e6-f33a-45c5-98b1-c7c3bdb619eb",
    "tags": []
   },
   "outputs": [],
   "source": [
    "# An Enum is a typed set of enumerated values. We can use them\n",
    "# to make our code more descriptive and readable.\n",
    "class Kid(enum.Enum):\n",
    "    BOY = 0\n",
    "    GIRL = 1\n",
    "\n",
    "def random_kid() -> Kid:\n",
    "    return random.choice([Kid.BOY, Kid.GIRL])\n"
   ]
  },
  {
   "cell_type": "code",
   "execution_count": 3,
   "id": "bacterial-kazakhstan",
   "metadata": {
    "id": "5e043294-1239-47f9-b7a5-eb84919009fc",
    "tags": []
   },
   "outputs": [],
   "source": [
    "both_girls = 0\n",
    "older_girl = 0\n",
    "either_girl = 0\n",
    "\n",
    "random.seed(0)\n",
    "\n",
    "for _ in range(10000):\n",
    "    younger = random_kid()\n",
    "    older = random_kid()\n",
    "    if older == Kid.GIRL:\n",
    "        older_girl += 1\n",
    "    if older == Kid.GIRL and younger == Kid.GIRL:\n",
    "        both_girls += 1\n",
    "    if older == Kid.GIRL or younger == Kid.GIRL:\n",
    "        either_girl += 1"
   ]
  },
  {
   "cell_type": "code",
   "execution_count": 4,
   "id": "adaptive-appearance",
   "metadata": {
    "id": "9becdd75-477d-4a98-af90-401450c6d9f7",
    "tags": []
   },
   "outputs": [
    {
     "name": "stdout",
     "output_type": "stream",
     "text": [
      "P(both | older): 0.5007089325501317\n",
      "P(both | either):  0.3311897106109325\n"
     ]
    }
   ],
   "source": [
    "print(\"P(both | older):\", both_girls / older_girl)     # 0.514 ~ 1/2\n",
    "print(\"P(both | either): \", both_girls / either_girl)  # 0.342 ~ 1/3"
   ]
  },
  {
   "cell_type": "code",
   "execution_count": 5,
   "id": "personalized-funds",
   "metadata": {
    "id": "2c2d0875-49c7-4bff-9eb7-ae3b15a389b7",
    "tags": []
   },
   "outputs": [],
   "source": [
    "def uniform_pdf(x: float) -> float:\n",
    "    return 1 if 0 <= x < 1 else 0"
   ]
  },
  {
   "cell_type": "code",
   "execution_count": null,
   "id": "plain-cuisine",
   "metadata": {
    "id": "f2c2e58b-e6be-4351-b776-c25d65ab765c"
   },
   "outputs": [],
   "source": []
  }
 ],
 "metadata": {
  "kernelspec": {
   "display_name": "Python 3.8",
   "language": "python",
   "name": "python3"
  },
  "language_info": {
   "codemirror_mode": {
    "name": "ipython",
    "version": 3
   },
   "file_extension": ".py",
   "mimetype": "text/x-python",
   "name": "python",
   "nbconvert_exporter": "python",
   "pygments_lexer": "ipython3",
   "version": "3.8.11"
  }
 },
 "nbformat": 4,
 "nbformat_minor": 5
}
