{
 "cells": [
  {
   "cell_type": "markdown",
   "id": "75c76fcb-0d52-4de6-a1c4-8fc2c661b487",
   "metadata": {},
   "source": [
    "# Question 1\n",
    "\n",
    "Pascal’s triangle is a triangular array of binomial coefficients. To make the triangle, we start with a “1” at the top and then keep on placing numbers in the subsequent rows below to make a triangular pattern. Each number in the row is obtained by adding the numbers directly above it."
   ]
  },
  {
   "cell_type": "code",
   "execution_count": 1,
   "id": "0dcd6827-6f55-47f0-8da2-850199954d62",
   "metadata": {},
   "outputs": [],
   "source": [
    "from typing import List\n",
    "\n",
    "def pascal_triangle_recursive(line_number) -> List[int] :\n",
    "    \n",
    "    if line_number == 1 : return [1]\n",
    "    prevline : List[int] = pascal_triangle_recursive(line_number -1)\n",
    "    newline : List[int] = [1] * line_number\n",
    "    for i in range(1,line_number-1) :\n",
    "        newline[i] = prevline[i-1] + prevline[i]\n",
    "    return newline"
   ]
  },
  {
   "cell_type": "code",
   "execution_count": 2,
   "id": "4cbecbbe-8bc8-4a83-ab30-9eb1c1f6186a",
   "metadata": {},
   "outputs": [],
   "source": [
    "assert(pascal_triangle_recursive(1) == [1])\n",
    "assert(pascal_triangle_recursive(2) == [1,1])\n",
    "assert(pascal_triangle_recursive(3) == [1,2,1])\n",
    "assert(pascal_triangle_recursive(4) == [1,3,3,1])"
   ]
  },
  {
   "cell_type": "markdown",
   "id": "311d9287-cc12-471a-a634-4c82c489169e",
   "metadata": {},
   "source": [
    "# Question 2\n",
    "\n",
    "Given two integers x and y, calculate the largest number that divides both of them without leaving a remainder.\n"
   ]
  },
  {
   "cell_type": "code",
   "execution_count": 3,
   "id": "0c70c59f-62a7-4e56-bb64-d55b5c9b9ab7",
   "metadata": {},
   "outputs": [],
   "source": [
    "def euclidean_algorithm(x : int , y : int) -> int:\n",
    "    \n",
    "    while x != y :\n",
    "        if x > y : x -= y\n",
    "        else : y -= x\n",
    "        \n",
    "    return x"
   ]
  },
  {
   "cell_type": "code",
   "execution_count": 5,
   "id": "e3aea6b7-1e00-4f3a-8292-f001005ea153",
   "metadata": {},
   "outputs": [],
   "source": [
    "assert (euclidean_algorithm(1071,462) == 21)"
   ]
  },
  {
   "cell_type": "markdown",
   "id": "215e2984-718a-45e7-b0da-7ada86299384",
   "metadata": {},
   "source": [
    "# Question 3\n",
    "\n",
    "A peak element in a list is the element that is greater than or equal to its neighbors. For elements at the end of a list, we only consider its single neighbor."
   ]
  },
  {
   "cell_type": "code",
   "execution_count": 6,
   "id": "e37fe02c-a0cf-4ef9-8af7-d708953d6ea2",
   "metadata": {},
   "outputs": [],
   "source": [
    "from typing import List\n",
    "\n",
    "def find_peak(lst : List[int]) -> int :\n",
    "    \n",
    "    assert(len(lst) > 1)\n",
    "    \n",
    "    for i in range(len(lst)) :\n",
    "        leftless : bool = i == 0 or lst[i-1] <= lst[i]\n",
    "        rightless : bool = i == len(lst) -1 or lst[i+1] <= lst[i]\n",
    "        if leftless and rightless : return lst[i]\n",
    "        \n",
    "    return -1\n"
   ]
  },
  {
   "cell_type": "code",
   "execution_count": 7,
   "id": "b9514c9c-4a68-4d82-bc83-885bd2b73de9",
   "metadata": {},
   "outputs": [],
   "source": [
    "assert (find_peak([18,85,85,35,49,49]) == 85)"
   ]
  },
  {
   "cell_type": "markdown",
   "id": "46e1dbc1-8133-4fff-b943-82aa3980093d",
   "metadata": {},
   "source": [
    "# Question 4\n",
    "\n",
    "In a given unsorted list, the maximum sum of a continuous sublist is the one whose elements, when added together, give the largest possible sum."
   ]
  },
  {
   "cell_type": "code",
   "execution_count": 8,
   "id": "e50f5520-c550-40e8-b359-34907530b5be",
   "metadata": {},
   "outputs": [],
   "source": [
    "from typing import List\n",
    "\n",
    "def max_sub_list_of_size_k(lst : List[int], k : int) -> int :\n",
    "  \"\"\"\n",
    "  Finds a maximum sum of a sub-list of given window size k \n",
    "  :param lst: List of integers\n",
    "  :param k: Window size of the list\n",
    "  :return: Returns the maximum sum of a sub-list of given window size k\n",
    "  \"\"\"\n",
    "  assert(len(lst) >= k)\n",
    "  \n",
    "  maxsum : int = sum(lst[:k])\n",
    "  beg : int = 0\n",
    "  lastsum : int = maxsum\n",
    "  \n",
    "  for k in range(k,len(lst)) :\n",
    "      lastsum = lastsum - lst[beg] + lst[k]\n",
    "      maxsum = max(maxsum,lastsum)\n",
    "      beg += 1\n",
    "    \n",
    "  return maxsum"
   ]
  },
  {
   "cell_type": "code",
   "execution_count": 9,
   "id": "37b5cd17-13bb-4194-9a7e-08863df78411",
   "metadata": {},
   "outputs": [],
   "source": [
    "assert (max_sub_list_of_size_k([2,1,5,1,3,2],3) == 9)"
   ]
  },
  {
   "cell_type": "markdown",
   "id": "bafa7b01-c8b7-4749-84dd-ec9640456d6d",
   "metadata": {},
   "source": [
    "# Challenge 4: Collect Coins in Minimum Steps\n",
    "\n",
    "You are required to calculate the minimum number of steps to collect these coins (minimum number of straight lines that pass through all the coins). For instance, in the given illustration, the minimum number of lines is 5."
   ]
  },
  {
   "cell_type": "code",
   "execution_count": 10,
   "id": "cae69874-3bd0-4107-a359-d70592d409b0",
   "metadata": {},
   "outputs": [],
   "source": [
    "from typing import List\n",
    "\n",
    "def minimum_steps_req(lst : List[int],beg : int, end : int, level : int) -> int :\n",
    "    if beg > end : return 0\n",
    "    if beg == end :\n",
    "        return 0 if lst[beg] - level == 0 else 1\n",
    "    minlevel = lst[beg] - level\n",
    "    minpos = beg\n",
    "    for i in range(beg+1,end+1) :\n",
    "        if minlevel > lst[i] - level :\n",
    "            minlevel = lst[i] - level\n",
    "            minpos = i\n",
    "    return minlevel +  minimum_steps_req(lst,beg,minpos-1,level + minlevel) + minimum_steps_req(lst,minpos+1,end,level + minlevel)\n",
    "            \n",
    "\n",
    "def minimum_steps(lst : List[int]) -> int :\n",
    "    \"\"\"\n",
    "    Function which calculates the minimum steps to collect coins from the list\n",
    "    :param lst: List of coins stack\n",
    "    :return: Returns minimum steps to collect coins from the list, otherwise 0\n",
    "    \"\"\"\n",
    "    return  minimum_steps_req(lst,0,len(lst)-1,0)"
   ]
  },
  {
   "cell_type": "code",
   "execution_count": 12,
   "id": "5e66366b-fcb2-4483-a9f4-d6459cdf0d81",
   "metadata": {},
   "outputs": [],
   "source": [
    "lst = [2,5,1,2,3,1]\n",
    "\n",
    "assert (minimum_steps(lst) == 5)"
   ]
  },
  {
   "cell_type": "markdown",
   "id": "4c270f44-8a1a-4f3a-b09d-b6d1bcc50dad",
   "metadata": {},
   "source": [
    "# Challenge 5: Find the Floor and Ceil of a Number in a Sorted List\n",
    "\n",
    "You are given a collection of integers in a list lst. For any given number x, return a floorfloor and ceilceil value of x from the given list lst.\n",
    "\n"
   ]
  },
  {
   "cell_type": "code",
   "execution_count": 13,
   "id": "74483a29-f2c7-48b2-8845-6f9d7472be71",
   "metadata": {},
   "outputs": [],
   "source": [
    "from typing import List\n",
    "\n",
    "\n",
    "def find_floor(lst : List[int], low : int, high : int, x : int):\n",
    "    \"\"\"\n",
    "    Modified binary search function to find the floor of given number x\n",
    "    :param lst: List of integers\n",
    "    :param low: Starting index of the list\n",
    "    :param high: Ending index of the list\n",
    "    :return: Returns the floor of an integer x if exists, otherwise -1\n",
    "    \"\"\"\n",
    "    \n",
    "    mid = (low + high) // 2\n",
    "    if lst[mid] == x :\n",
    "        # loop down to remove equal values\n",
    "        return -1 if mid == 0 else lst[mid-1]\n",
    "    if lst[mid] < x :\n",
    "        if mid == high : return lst[mid]\n",
    "        return find_floor(lst,mid+1,high,x)\n",
    "    if mid == low :\n",
    "        if mid == 0 : return -1\n",
    "    return find_floor(lst,low,mid-1,x)\n",
    "\n",
    "\n",
    "def find_ceiling(lst : List[int], low : int, high : int, x : int):\n",
    "    \"\"\"\n",
    "    Modified binary search function to find the floor of given number x\n",
    "    :param lst: List of integers\n",
    "    :param low: Starting index of the list\n",
    "    :param high: Ending index of the list\n",
    "    :return: Returns the ceiling of an integer x if exists, otherwise -1\n",
    "    \"\"\"\n",
    "\n",
    "    mid = (low + high) // 2\n",
    "    if lst[mid] == x :\n",
    "        # loop down to remove equal values\n",
    "        return -1 if mid == len(lst) -1  else lst[mid+1]\n",
    "    if lst[mid] < x :\n",
    "        if mid == high :\n",
    "            if mid == len(lst) -1 : return -1\n",
    "            return lst[mid+1]\n",
    "        return find_ceiling(lst,mid+1,high,x)\n",
    "    if mid == low :\n",
    "        return lst[mid]\n",
    "    return find_ceiling(lst,low,mid-1,x)\n",
    "\n",
    "def find_floor_ceiling(lst : List[int], x : int):\n",
    "    # DO NOT MODIFY THIS FUNCTION #\n",
    "\n",
    "    \"\"\"\n",
    "    Calls the find_floor and find_ceiling functions and returns their results\n",
    "    :param lst: List of integers\n",
    "    :param x: An integer\n",
    "    :return: Returns the floor of an integer x, otherwise -1\n",
    "    \"\"\"\n",
    "    return find_floor(lst, 0, len(lst) - 1, x), find_ceiling(lst, 0, len(lst) - 1, x)\n"
   ]
  },
  {
   "cell_type": "code",
   "execution_count": 14,
   "id": "02b5e392-d234-4066-bafa-02fb7ab18f9d",
   "metadata": {},
   "outputs": [],
   "source": [
    "def find_floor_ceiling(lst : List[int], x : int):\n",
    "    # DO NOT MODIFY THIS FUNCTION #\n",
    "\n",
    "    \"\"\"\n",
    "    Calls the find_floor and find_ceiling functions and returns their results\n",
    "    :param lst: List of integers\n",
    "    :param x: An integer\n",
    "    :return: Returns the floor of an integer x, otherwise -1\n",
    "    \"\"\"\n",
    "    return find_floor(lst, 0, len(lst) - 1, x), find_ceiling(lst, 0, len(lst) - 1, x)\n",
    "\n",
    "lst = [1,2,3,5,7]\n",
    "assert (find_floor(lst,0,len(lst)-1,3) == 2)\n",
    "assert (find_floor(lst,0,len(lst)-1,0) == -1)\n",
    "assert (find_floor(lst,0,len(lst)-1,99) == 7)\n",
    "assert (find_floor(lst,0,len(lst)-1,4) == 3)\n",
    "\n",
    "assert (find_ceiling(lst,0,len(lst)-1,3) == 5)\n",
    "assert (find_ceiling(lst,0,len(lst)-1,0) == 1)\n",
    "assert (find_ceiling(lst,0,len(lst)-1,99) == -1)\n",
    "assert (find_ceiling(lst,0,len(lst)-1,4) == 5)\n"
   ]
  },
  {
   "cell_type": "markdown",
   "id": "08762fc0-4148-4f05-add3-81857e43370d",
   "metadata": {},
   "source": [
    "# Challenge 6: Missing Number in a Sorted List\n",
    "\n",
    "Given a list of contiguous integers starting from 1 (with one missing integer in between), find the missing integer. If there is no number missing, return -1."
   ]
  },
  {
   "cell_type": "code",
   "execution_count": 15,
   "id": "8aca2019-bf21-4480-adcc-b823fd8979da",
   "metadata": {},
   "outputs": [],
   "source": [
    "from typing import List\n",
    "\n",
    "def missing_number_req(lst : List[int], low : int, high : int) -> int :\n",
    "    \n",
    "    mid = ( low + high) // 2\n",
    "    if mid+1 == lst[mid] :\n",
    "        # correct\n",
    "        if mid == high : \n",
    "            if mid == len(lst) -1 : return -1\n",
    "            return mid + 2 if mid+2 != lst[mid+1] else -1\n",
    "        return missing_number_req(lst,mid+1,high)\n",
    "    if low == mid :\n",
    "        return mid+1\n",
    "    return missing_number_req(lst,low,mid-1)\n",
    "    \n",
    "\n",
    "def missing_number(lst : List[int]) -> int :\n",
    "    \"\"\"\n",
    "    Finds a missing number from the list which contains sorted numbers from 1 to onwards\n",
    "    :param lst: List of sorted integers\n",
    "    :return: Missing number in the sorted list\n",
    "    \"\"\"\n",
    "    return missing_number_req(lst,0,len(lst)-1)"
   ]
  },
  {
   "cell_type": "code",
   "execution_count": 16,
   "id": "feccacff-f4da-4c04-ba9f-ccaba5cd37ff",
   "metadata": {},
   "outputs": [],
   "source": [
    "lst = [1, 2, 3, 4, 6, 7, 8, 9, 10]\n",
    "\n",
    "assert  (missing_number(lst) == 5)"
   ]
  },
  {
   "cell_type": "code",
   "execution_count": null,
   "id": "3f0bba08-2037-4c0a-a438-9158b630b552",
   "metadata": {},
   "outputs": [],
   "source": []
  }
 ],
 "metadata": {
  "kernelspec": {
   "display_name": "Python 3 (ipykernel)",
   "language": "python",
   "name": "python3"
  },
  "language_info": {
   "codemirror_mode": {
    "name": "ipython",
    "version": 3
   },
   "file_extension": ".py",
   "mimetype": "text/x-python",
   "name": "python",
   "nbconvert_exporter": "python",
   "pygments_lexer": "ipython3",
   "version": "3.9.7"
  }
 },
 "nbformat": 4,
 "nbformat_minor": 5
}
