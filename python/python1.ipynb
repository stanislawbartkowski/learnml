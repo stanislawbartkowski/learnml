{
 "cells": [
  {
   "cell_type": "markdown",
   "id": "continuing-token",
   "metadata": {
    "id": "b1ff7258-4b42-4d9f-b5c8-c6ff979e8ae9",
    "tags": []
   },
   "source": [
    "# Question 1\n",
    "https://www.toptal.com/algorithms/interview-questions   \n",
    "How would you optimally calculate p^k, where k is a non-negative integer? What is the complexity of the solution?"
   ]
  },
  {
   "cell_type": "code",
   "execution_count": 6,
   "id": "comparable-windsor",
   "metadata": {
    "id": "b856be07-df3c-413b-b1a4-ff46ec9c4419",
    "tags": []
   },
   "outputs": [],
   "source": [
    "import math\n",
    "\n",
    "def solution(N, K):\n",
    "    if K == 0:\n",
    "        return 1\n",
    "    power = solution(N, math.floor(K/2))\n",
    "    if K % 2 == 0:\n",
    "        return power*power\n",
    "    else:\n",
    "        return N*power*power"
   ]
  },
  {
   "cell_type": "code",
   "execution_count": 7,
   "id": "moderate-alexander",
   "metadata": {
    "id": "7b24f13b-e828-439d-a1c9-cf2b4fb29826",
    "tags": []
   },
   "outputs": [
    {
     "data": {
      "text/plain": [
       "9"
      ]
     },
     "execution_count": 7,
     "metadata": {},
     "output_type": "execute_result"
    }
   ],
   "source": [
    "solution(3,2)"
   ]
  },
  {
   "cell_type": "code",
   "execution_count": 8,
   "id": "celtic-cliff",
   "metadata": {
    "id": "391dbf84-7a99-4123-9c85-4542688026d8",
    "tags": []
   },
   "outputs": [
    {
     "data": {
      "text/plain": [
       "4194304"
      ]
     },
     "execution_count": 8,
     "metadata": {},
     "output_type": "execute_result"
    }
   ],
   "source": [
    "solution(4,11)"
   ]
  },
  {
   "cell_type": "markdown",
   "id": "motivated-coupon",
   "metadata": {
    "id": "38d9d235-2ec9-4051-a20f-6d04deb2b1e1"
   },
   "source": [
    "# Question 2\n",
    "https://www.toptal.com/algorithms/interview-questions\n",
    "We need to compare numbers to see if they have their opposites in the array."
   ]
  },
  {
   "cell_type": "code",
   "execution_count": 9,
   "id": "arbitrary-replacement",
   "metadata": {
    "id": "d75a55e7-6b7e-4c85-a212-c286b171c948",
    "tags": []
   },
   "outputs": [],
   "source": [
    "def solution(A) :\n",
    "    S = sorted(A,key=lambda e : abs(e))\n",
    "    res = []\n",
    "    actn = None\n",
    "    for p in S :\n",
    "        if actn == None : \n",
    "           actn = p\n",
    "           alreadypushed = False\n",
    "           continue\n",
    "        if actn == p : continue\n",
    "        if actn != -p and -actn != p :\n",
    "            actn = p\n",
    "            alreadypushed = False\n",
    "            continue\n",
    "        if alreadypushed : continue\n",
    "        res.append(abs(p))\n",
    "        alreadypushed = True\n",
    "    return res\n",
    "\n",
    "def solutionmap(A) :\n",
    "    map = {}\n",
    "    res = []\n",
    "    for e in A:\n",
    "        if abs(e) in map:\n",
    "            if map[abs(e)] == -e :\n",
    "                res.append(abs(e))\n",
    "                map[abs(e)] = None\n",
    "                continue\n",
    "        map[abs(e)] = e \n",
    "    return res"
   ]
  },
  {
   "cell_type": "code",
   "execution_count": 10,
   "id": "established-matthew",
   "metadata": {
    "id": "0a1a26db-57b8-441a-b922-8e2d15f26c04",
    "tags": []
   },
   "outputs": [
    {
     "name": "stdout",
     "output_type": "stream",
     "text": [
      "[2, 3, 7]\n",
      "[2, 3, 7]\n"
     ]
    }
   ],
   "source": [
    "A = [-7, 4, -3, 2, 2, -8, -2, 3, 3, 7, -2, 3, -2]\n",
    "S = solution(A)\n",
    "print(S)\n",
    "S = solutionmap(A)\n",
    "print(S)\n"
   ]
  },
  {
   "cell_type": "code",
   "execution_count": null,
   "id": "gross-carnival",
   "metadata": {
    "id": "7d049842-a598-42f6-a34b-cd0d525b0fab"
   },
   "outputs": [],
   "source": []
  }
 ],
 "metadata": {
  "kernelspec": {
   "display_name": "Python 3.8",
   "language": "python",
   "name": "python3"
  },
  "language_info": {
   "codemirror_mode": {
    "name": "ipython",
    "version": 3
   },
   "file_extension": ".py",
   "mimetype": "text/x-python",
   "name": "python",
   "nbconvert_exporter": "python",
   "pygments_lexer": "ipython3",
   "version": "3.8.11"
  }
 },
 "nbformat": 4,
 "nbformat_minor": 5
}
