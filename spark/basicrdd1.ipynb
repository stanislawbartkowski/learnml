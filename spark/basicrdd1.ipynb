{
 "cells": [
  {
   "cell_type": "code",
   "execution_count": 1,
   "id": "a697f2b5-86ef-46ac-be11-275d0f50edb2",
   "metadata": {},
   "outputs": [],
   "source": [
    "import pyspark\n",
    "sc = pyspark.SparkContext()\n",
    "spark = pyspark.sql.SparkSession(sc)"
   ]
  },
  {
   "cell_type": "markdown",
   "id": "af7eb1a5-0bb0-4be6-a142-53f08c494fb0",
   "metadata": {},
   "source": [
    "# Read RDD from data source"
   ]
  },
  {
   "cell_type": "code",
   "execution_count": 3,
   "id": "c657de49-5e44-459f-ae76-74264690ee12",
   "metadata": {},
   "outputs": [],
   "source": [
    "n = 'https://raw.githubusercontent.com/sehgalayush1/movie_revenue/master/ml_modules/data/BollywoodMovieDetail.csv'\n",
    "f = 'BollywoodMovieDetail.csv'\n",
    "\n",
    "sc.addFile(n)\n",
    "movies = spark.read.option(\"header\", True).option(\"inferSchema\", \"true\").csv(pyspark.SparkFiles.get(f))"
   ]
  },
  {
   "cell_type": "code",
   "execution_count": 9,
   "id": "50070d7b-7b32-4555-a5cb-5e434901a8ec",
   "metadata": {},
   "outputs": [
    {
     "data": {
      "text/plain": [
       "[Row(imdbId='tt0118578', title='Albela', releaseYear=2001, releaseDate='20 Apr 2001', genre='Romance', writers='Honey Irani (screenplay) | Honey Irani (story) | Javed Siddiqui (dialogue)', actors='Govinda | Aishwarya Rai Bachchan | Jackie Shroff | Namrata Shirodkar', directors='Deepak Sareen', sequel='0', hitFlop=2),\n",
       " Row(imdbId='tt0169102', title='Lagaan: Once Upon a Time in India', releaseYear=2001, releaseDate='08 May 2002', genre='Adventure | Drama | Musical', writers='Ashutosh Gowariker (story) | Ashutosh Gowariker (screenplay) | Kumar Dave (screenplay) | Sanjay Dayma (screenplay) | K.P. Saxena (dialogue)', actors='Aamir Khan | Gracy Singh | Rachel Shelley | Paul Blackthorne', directors='Ashutosh Gowariker', sequel='0', hitFlop=6)]"
      ]
     },
     "execution_count": 9,
     "metadata": {},
     "output_type": "execute_result"
    }
   ],
   "source": [
    "movies.take(2)"
   ]
  },
  {
   "cell_type": "code",
   "execution_count": 11,
   "id": "16f51bc9-5086-486c-9711-ea5248374f15",
   "metadata": {},
   "outputs": [],
   "source": [
    "from pyspark.sql.functions import col\n",
    "from pyspark.sql.functions import count\n",
    "numSequels = movies.select(\"sequel\").where(col(\"sequel\")==\"1\").agg(count(\"sequel\")).alias(\"Number of Sequels Produced\")"
   ]
  },
  {
   "cell_type": "code",
   "execution_count": 13,
   "id": "d571c398-cbba-4667-b9ac-3562974f82ac",
   "metadata": {},
   "outputs": [
    {
     "name": "stdout",
     "output_type": "stream",
     "text": [
      "+-------------+\n",
      "|count(sequel)|\n",
      "+-------------+\n",
      "|           43|\n",
      "+-------------+\n",
      "\n"
     ]
    }
   ],
   "source": [
    "numSequels.show()"
   ]
  },
  {
   "cell_type": "code",
   "execution_count": null,
   "id": "c41b739c-18ca-4958-92bc-694e43f3599c",
   "metadata": {},
   "outputs": [],
   "source": []
  }
 ],
 "metadata": {
  "kernelspec": {
   "display_name": "Python 3 (ipykernel)",
   "language": "python",
   "name": "python3"
  },
  "language_info": {
   "codemirror_mode": {
    "name": "ipython",
    "version": 3
   },
   "file_extension": ".py",
   "mimetype": "text/x-python",
   "name": "python",
   "nbconvert_exporter": "python",
   "pygments_lexer": "ipython3",
   "version": "3.9.7"
  }
 },
 "nbformat": 4,
 "nbformat_minor": 5
}
