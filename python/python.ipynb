{
 "cells": [
  {
   "cell_type": "markdown",
   "id": "filled-philadelphia",
   "metadata": {
    "id": "5b040ae4-50d0-4621-a782-074a87295a9c",
    "tags": []
   },
   "source": [
    "# Question 1\n",
    "Arrays: move zeros to the left\n",
    "Given an integer array, move all elements that are 0 to the left while maintaining the order of other elements in the array. The array has to be modified in-place."
   ]
  },
  {
   "cell_type": "code",
   "execution_count": 29,
   "id": "demanding-middle",
   "metadata": {
    "id": "2c5f0af5-56a4-4153-af79-aadb8d7db6ed",
    "tags": []
   },
   "outputs": [],
   "source": [
    "from typing import List\n",
    "\n",
    "\n",
    "def move_zeros_to_left(A: List[int]):\n",
    "    zeros = 0\n",
    "    for i in range(len(A)-1, -1, -1):\n",
    "        if A[i] == 0: \n",
    "            zeros = zeros + 1\n",
    "        else: \n",
    "            A[i + zeros] = A[i]\n",
    "    for i in range(zeros):\n",
    "        A[i] = 0"
   ]
  },
  {
   "cell_type": "code",
   "execution_count": 30,
   "id": "lasting-trailer",
   "metadata": {
    "id": "e91ed366-e0c9-4692-83c5-faad27ec4df1",
    "tags": []
   },
   "outputs": [],
   "source": [
    "testlist = [1, 10, 20, 0, 59, 63, 0, 88, 0]"
   ]
  },
  {
   "cell_type": "code",
   "execution_count": 31,
   "id": "hydraulic-maldives",
   "metadata": {
    "id": "1ceb6b38-4270-48b4-b523-049678a91e2a",
    "tags": []
   },
   "outputs": [],
   "source": [
    "move_zeros_to_left(testlist)"
   ]
  },
  {
   "cell_type": "code",
   "execution_count": 32,
   "id": "fitted-lincoln",
   "metadata": {
    "id": "f102869f-6b52-4aa6-b230-c5b9cce0f185",
    "tags": []
   },
   "outputs": [
    {
     "name": "stdout",
     "output_type": "stream",
     "text": [
      "[0, 0, 0, 1, 10, 20, 59, 63, 88]\n"
     ]
    }
   ],
   "source": [
    "print(testlist)"
   ]
  },
  {
   "cell_type": "markdown",
   "id": "insured-amber",
   "metadata": {
    "id": "1f20ac33-b46d-49be-960f-58cd20741239"
   },
   "source": [
    "# Question 2"
   ]
  },
  {
   "cell_type": "code",
   "execution_count": 33,
   "id": "linear-applicant",
   "metadata": {
    "id": "b72aa2e2-b2be-4790-8f29-31a39b364ffb",
    "tags": []
   },
   "outputs": [],
   "source": [
    "class Pair:\n",
    "    def __init__(self, first: int, second: int):\n",
    "        self.first = first\n",
    "        self.second = second"
   ]
  },
  {
   "cell_type": "code",
   "execution_count": 57,
   "id": "brilliant-humanity",
   "metadata": {
    "id": "e1073782-7112-48f4-8e43-00a1e4e1a404",
    "tags": []
   },
   "outputs": [],
   "source": [
    "def merge_intervals(v: List[Pair]) -> List[Pair]:\n",
    "    result = []\n",
    "    actinterval = None\n",
    "    for p in v:\n",
    "        if actinterval is None:\n",
    "            actinterval = Pair(p.first, p.second)\n",
    "        else:\n",
    "            if p.first <= actinterval.second:\n",
    "                actinterval.second = max(actinterval.second, p.second)\n",
    "            else:\n",
    "                result.append(actinterval)\n",
    "                actinterval = Pair(p.first, p.second)\n",
    "\n",
    "    if actinterval is not None:\n",
    "        result.append(actinterval)\n",
    "\n",
    "    return result"
   ]
  },
  {
   "cell_type": "code",
   "execution_count": 62,
   "id": "viral-inflation",
   "metadata": {
    "id": "d09a819a-6900-47bc-9adc-28fb13f429d0",
    "tags": []
   },
   "outputs": [],
   "source": [
    "testlist1 = [Pair(1, 5), Pair(3, 7), Pair(4, 6), Pair(6, 8), Pair(10, 12), \n",
    "             Pair(12, 15)]"
   ]
  },
  {
   "cell_type": "code",
   "execution_count": 63,
   "id": "likely-armstrong",
   "metadata": {
    "id": "2b64a128-447a-451f-ae29-7455239a109c",
    "tags": []
   },
   "outputs": [
    {
     "name": "stdout",
     "output_type": "stream",
     "text": [
      "Merged intervals\n",
      "first: 1, last:8\n",
      "first: 10, last:15\n"
     ]
    }
   ],
   "source": [
    "testresult = merge_intervals(testlist1)\n",
    "print(\"Merged intervals\")\n",
    "for p in testresult:\n",
    "    print(\"first: {0}, last:{1}\".format(p.first, p.second))"
   ]
  },
  {
   "cell_type": "code",
   "execution_count": null,
   "id": "built-seafood",
   "metadata": {
    "id": "08fcbf20-5841-4952-b124-0581e06605c6",
    "tags": []
   },
   "outputs": [
    {
     "data": {
      "text/plain": [
       "[9, 7, 6, 3, 8]"
      ]
     },
     "execution_count": 77,
     "metadata": {},
     "output_type": "execute_result"
    }
   ],
   "source": [
    "solution(A,3)"
   ]
  },
  {
   "cell_type": "code",
   "execution_count": null,
   "id": "included-lover",
   "metadata": {
    "id": "910e80af-2394-4550-9c95-9f9582aa4012",
    "tags": []
   },
   "outputs": [
    {
     "data": {
      "text/plain": [
       "[0, 0, 0]"
      ]
     },
     "execution_count": 78,
     "metadata": {},
     "output_type": "execute_result"
    }
   ],
   "source": [
    "solution([0,0,0],1)"
   ]
  },
  {
   "cell_type": "code",
   "execution_count": null,
   "id": "sixth-equivalent",
   "metadata": {
    "id": "56313722-e39b-4a03-bcb4-f9e965137802",
    "tags": []
   },
   "outputs": [
    {
     "data": {
      "text/plain": [
       "[1, 2, 3, 4]"
      ]
     },
     "execution_count": 79,
     "metadata": {},
     "output_type": "execute_result"
    }
   ],
   "source": [
    "solution([1,2,3,4],4)"
   ]
  },
  {
   "cell_type": "markdown",
   "id": "operational-adaptation",
   "metadata": {
    "id": "29dcea59-ebc5-4d23-bfc2-a46a6994a372"
   },
   "source": [
    "# Question 10\n",
    "This is a demo task.\n",
    "\n",
    "Write a function:\n",
    "\n",
    "class Solution { public int solution(int[] A); }\n",
    "\n",
    "that, given an array A of N integers, returns the smallest positive integer (greater than 0) that does not occur in A.\n",
    "\n",
    "For example, given A = [1, 3, 6, 4, 1, 2], the function should return 5.\n",
    "\n",
    "Given A = [1, 2, 3], the function should return 4.\n",
    "\n",
    "Given A = [−1, −3], the function should return 1.\n",
    "\n",
    "Write an efficient algorithm for the following assumptions:\n",
    "\n",
    "N is an integer within the range [1..100,000];\n",
    "each element of array A is an integer within the range [−1,000,000..1,000,000].\n",
    "Copyright 2009–2021 by Codility Limited. All Rights Reserved. Unauthorized copying, publication or disclosure prohibited."
   ]
  },
  {
   "cell_type": "code",
   "execution_count": 1,
   "id": "described-florence",
   "metadata": {
    "id": "c9376a29-a5d9-47f9-9e4e-f0a428360559",
    "tags": []
   },
   "outputs": [],
   "source": [
    "def solution(A) :\n",
    "    N = 1000000\n",
    "    NUMB = [0 for _ in range(N+1)]\n",
    "    for p in A :\n",
    "        if p <= 0 : continue\n",
    "        NUMB[p] = 1\n",
    "    for i in range(1,N+1) :\n",
    "        if NUMB[i] == 0 : return i\n",
    "    return N+1"
   ]
  },
  {
   "cell_type": "code",
   "execution_count": 2,
   "id": "increased-humanitarian",
   "metadata": {
    "id": "4ed7ce97-9d55-4fc1-b8a1-5c079450a614",
    "tags": []
   },
   "outputs": [
    {
     "data": {
      "text/plain": [
       "4"
      ]
     },
     "execution_count": 2,
     "metadata": {},
     "output_type": "execute_result"
    }
   ],
   "source": [
    "solution([1,2,3])"
   ]
  },
  {
   "cell_type": "code",
   "execution_count": 255,
   "id": "compound-microphone",
   "metadata": {
    "id": "2b7ff34c-6ea9-4620-829b-c8d35ba2474c",
    "tags": []
   },
   "outputs": [
    {
     "data": {
      "text/plain": [
       "1"
      ]
     },
     "execution_count": 255,
     "metadata": {},
     "output_type": "execute_result"
    }
   ],
   "source": [
    "solution([-1,-2,-3])"
   ]
  },
  {
   "cell_type": "code",
   "execution_count": 256,
   "id": "based-simpson",
   "metadata": {
    "id": "507d2c33-d1b6-49ad-9b6e-deabf2e8570c",
    "tags": []
   },
   "outputs": [
    {
     "data": {
      "text/plain": [
       "1"
      ]
     },
     "execution_count": 256,
     "metadata": {},
     "output_type": "execute_result"
    }
   ],
   "source": [
    "solution([1000000])"
   ]
  },
  {
   "cell_type": "code",
   "execution_count": 257,
   "id": "essential-ending",
   "metadata": {
    "id": "73862900-4074-435f-981f-db913cfe81d8",
    "tags": []
   },
   "outputs": [
    {
     "data": {
      "text/plain": [
       "1"
      ]
     },
     "execution_count": 257,
     "metadata": {},
     "output_type": "execute_result"
    }
   ],
   "source": [
    "solution([0])"
   ]
  }
 ],
 "metadata": {
  "kernelspec": {
   "display_name": "Python 3 (ipykernel)",
   "language": "python",
   "name": "python3"
  },
  "language_info": {
   "codemirror_mode": {
    "name": "ipython",
    "version": 3
   },
   "file_extension": ".py",
   "mimetype": "text/x-python",
   "name": "python",
   "nbconvert_exporter": "python",
   "pygments_lexer": "ipython3",
   "version": "3.9.7"
  }
 },
 "nbformat": 4,
 "nbformat_minor": 5
}
