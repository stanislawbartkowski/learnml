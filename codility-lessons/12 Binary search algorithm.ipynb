{
 "cells": [
  {
   "cell_type": "markdown",
   "id": "d5bce0b1-bc74-4637-aff8-3be1176765c3",
   "metadata": {},
   "source": [
    "#  MinMaxDivision\n",
    "\n",
    "Solution : https://github.com/ZRonchy/Codility/blob/master/Lesson12/MinMaxDivision.java"
   ]
  },
  {
   "cell_type": "code",
   "execution_count": 1,
   "id": "6aa40ef5-023a-4ab5-90e8-1fe328f53eb2",
   "metadata": {},
   "outputs": [],
   "source": [
    "from typing import List\n",
    "\n",
    "def divisionSolvable(mid : int, k : int, lst : List[int]) -> bool :\n",
    "    sum : int = 0\n",
    "    for n in lst :\n",
    "        sum += n\n",
    "        if sum > mid :\n",
    "            k -= 1\n",
    "            sum = n\n",
    "        if k < 0 : return False\n",
    "        \n",
    "    return True\n",
    "\n",
    "def solution(K : int, M : int, lst : List[int]) -> int :\n",
    "    maxsum : int = sum(lst)\n",
    "    minsum : int = max(lst)\n",
    "    result : int = maxsum\n",
    "    while minsum <= maxsum :\n",
    "        mid : int = (minsum + maxsum) // 2\n",
    "        if divisionSolvable(mid,K-1,lst) :\n",
    "            maxsum = mid-1\n",
    "            result = mid\n",
    "        else :\n",
    "            minsum = mid + 1\n",
    "            \n",
    "    return result"
   ]
  },
  {
   "cell_type": "code",
   "execution_count": 3,
   "id": "6a2b7d5d-f044-4bfa-8d72-33dd141f5de0",
   "metadata": {},
   "outputs": [],
   "source": [
    "lst = [2,1,5,1,2,2,2]\n",
    "assert (solution(3,5,lst) == 6)"
   ]
  },
  {
   "cell_type": "code",
   "execution_count": null,
   "id": "5c8e755d-297b-4d6d-88a6-9e5dd43de595",
   "metadata": {},
   "outputs": [],
   "source": []
  }
 ],
 "metadata": {
  "kernelspec": {
   "display_name": "Python 3 (ipykernel)",
   "language": "python",
   "name": "python3"
  },
  "language_info": {
   "codemirror_mode": {
    "name": "ipython",
    "version": 3
   },
   "file_extension": ".py",
   "mimetype": "text/x-python",
   "name": "python",
   "nbconvert_exporter": "python",
   "pygments_lexer": "ipython3",
   "version": "3.9.7"
  }
 },
 "nbformat": 4,
 "nbformat_minor": 5
}
