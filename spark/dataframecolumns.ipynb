{
 "cells": [
  {
   "cell_type": "code",
   "execution_count": 1,
   "id": "8b2a8476-f8ca-4227-a4a4-3090fa1616a6",
   "metadata": {},
   "outputs": [],
   "source": [
    "import pyspark\n",
    "sc = pyspark.SparkContext()\n",
    "spark = pyspark.sql.SparkSession(sc)"
   ]
  },
  {
   "cell_type": "markdown",
   "id": "39936ca9-be66-402a-b6f3-dceb287654cd",
   "metadata": {},
   "source": [
    "# DataFrame from data source"
   ]
  },
  {
   "cell_type": "code",
   "execution_count": 2,
   "id": "a4b410cf-982d-4005-a7aa-9ac6a7998954",
   "metadata": {},
   "outputs": [],
   "source": [
    "n = 'https://raw.githubusercontent.com/sehgalayush1/movie_revenue/master/ml_modules/data/BollywoodMovieDetail.csv'\n",
    "f = 'BollywoodMovieDetail.csv'\n",
    "\n",
    "sc.addFile(n)\n",
    "movies = spark.read.option(\"header\", True).option(\"inferSchema\", \"true\").csv(pyspark.SparkFiles.get(f))"
   ]
  },
  {
   "cell_type": "markdown",
   "id": "304eabf5-50c0-4243-a5e1-ed64c618f333",
   "metadata": {},
   "source": [
    "# columns only"
   ]
  },
  {
   "cell_type": "code",
   "execution_count": 4,
   "id": "db6f0979-6671-49a1-94cf-f8944c7dc259",
   "metadata": {},
   "outputs": [
    {
     "data": {
      "text/plain": [
       "['imdbId',\n",
       " 'title',\n",
       " 'releaseYear',\n",
       " 'releaseDate',\n",
       " 'genre',\n",
       " 'writers',\n",
       " 'actors',\n",
       " 'directors',\n",
       " 'sequel',\n",
       " 'hitFlop']"
      ]
     },
     "execution_count": 4,
     "metadata": {},
     "output_type": "execute_result"
    }
   ],
   "source": [
    "movies.columns"
   ]
  },
  {
   "cell_type": "markdown",
   "id": "4848be8c-487e-4083-983c-dfa7a8deaf60",
   "metadata": {},
   "source": [
    "# select single column"
   ]
  },
  {
   "cell_type": "code",
   "execution_count": 9,
   "id": "99d824cb-e4f2-4014-8358-e73c5a65eea3",
   "metadata": {},
   "outputs": [
    {
     "name": "stdout",
     "output_type": "stream",
     "text": [
      "+-------+\n",
      "|hitFlop|\n",
      "+-------+\n",
      "|      2|\n",
      "|      6|\n",
      "|      1|\n",
      "|      4|\n",
      "|      1|\n",
      "+-------+\n",
      "only showing top 5 rows\n",
      "\n"
     ]
    }
   ],
   "source": [
    "ratingCol = movies['hitFlop']\n",
    "movies.select(ratingCol).show(5)"
   ]
  },
  {
   "cell_type": "code",
   "execution_count": 22,
   "id": "c267d6fa-9b33-46ea-8ef2-ecb2fc50a82f",
   "metadata": {},
   "outputs": [
    {
     "data": {
      "text/plain": [
       "Column<'hitFlop DESC NULLS LAST'>"
      ]
     },
     "execution_count": 22,
     "metadata": {},
     "output_type": "execute_result"
    }
   ],
   "source": [
    "ratingCol.desc()"
   ]
  },
  {
   "cell_type": "markdown",
   "id": "19310662-4834-43fe-97e7-ea2d67416863",
   "metadata": {},
   "source": [
    "# select single column using expression"
   ]
  },
  {
   "cell_type": "code",
   "execution_count": 10,
   "id": "e4e8aaab-742a-435d-99c8-8fb1218a3d2c",
   "metadata": {},
   "outputs": [
    {
     "name": "stdout",
     "output_type": "stream",
     "text": [
      "+-------+\n",
      "|hitFlop|\n",
      "+-------+\n",
      "|      2|\n",
      "|      6|\n",
      "|      1|\n",
      "|      4|\n",
      "|      1|\n",
      "+-------+\n",
      "only showing top 5 rows\n",
      "\n"
     ]
    }
   ],
   "source": [
    "movies.select(\"hitFlop\").show(5)"
   ]
  },
  {
   "cell_type": "code",
   "execution_count": 12,
   "id": "e7333c4b-07d2-4af7-94ce-6ed1ba388bfa",
   "metadata": {},
   "outputs": [
    {
     "name": "stdout",
     "output_type": "stream",
     "text": [
      "+-------+\n",
      "|hitFlop|\n",
      "+-------+\n",
      "|      2|\n",
      "|      6|\n",
      "|      1|\n",
      "|      4|\n",
      "|      1|\n",
      "+-------+\n",
      "only showing top 5 rows\n",
      "\n"
     ]
    }
   ],
   "source": [
    "from pyspark.sql.functions import expr\n",
    "movies.select(expr(\"hitFlop\")).show(5)"
   ]
  },
  {
   "cell_type": "markdown",
   "id": "9564175d-a1fb-43a8-a39e-53941f939125",
   "metadata": {},
   "source": [
    "# Apply condition"
   ]
  },
  {
   "cell_type": "code",
   "execution_count": 13,
   "id": "0d681e91-d346-44ad-8228-cbe3dc014263",
   "metadata": {},
   "outputs": [
    {
     "name": "stdout",
     "output_type": "stream",
     "text": [
      "+-------------+\n",
      "|(hitFlop > 5)|\n",
      "+-------------+\n",
      "|        false|\n",
      "|         true|\n",
      "|        false|\n",
      "+-------------+\n",
      "only showing top 3 rows\n",
      "\n"
     ]
    }
   ],
   "source": [
    " movies.select(expr(\"hitFlop > 5\")).show(3)"
   ]
  },
  {
   "cell_type": "code",
   "execution_count": 15,
   "id": "cd273e2a-af3d-488d-9ce9-613b91f96e6e",
   "metadata": {},
   "outputs": [
    {
     "name": "stdout",
     "output_type": "stream",
     "text": [
      "+-------------+\n",
      "|(hitFlop > 5)|\n",
      "+-------------+\n",
      "|        false|\n",
      "|         true|\n",
      "|        false|\n",
      "+-------------+\n",
      "only showing top 3 rows\n",
      "\n"
     ]
    }
   ],
   "source": [
    " movies.select(movies[\"hitFlop\"] > 5).show(3)"
   ]
  },
  {
   "cell_type": "code",
   "execution_count": 16,
   "id": "b42214c2-daca-4933-b269-50242dd9f733",
   "metadata": {},
   "outputs": [],
   "source": [
    "# Add column"
   ]
  },
  {
   "cell_type": "code",
   "execution_count": 18,
   "id": "6d2b8544-da51-4e6c-9e81-6c9fa8a57483",
   "metadata": {},
   "outputs": [
    {
     "name": "stdout",
     "output_type": "stream",
     "text": [
      "+---------+--------------------+-----------+-----------+--------------------+--------------------+--------------------+--------------------+------+-------+--------------------+\n",
      "|   imdbId|               title|releaseYear|releaseDate|               genre|             writers|              actors|           directors|sequel|hitFlop|Good Movies to Watch|\n",
      "+---------+--------------------+-----------+-----------+--------------------+--------------------+--------------------+--------------------+------+-------+--------------------+\n",
      "|tt0118578|              Albela|       2001|20 Apr 2001|             Romance|Honey Irani (scre...|Govinda | Aishwar...|       Deepak Sareen|     0|      2|               false|\n",
      "|tt0169102|Lagaan: Once Upon...|       2001|08 May 2002|Adventure | Drama...|Ashutosh Gowarike...|Aamir Khan | Grac...|  Ashutosh Gowariker|     0|      6|                true|\n",
      "|tt0187279|Meri Biwi Ka Jawa...|       2004|02 Jul 2004|     Action | Comedy|                 N/A|Akshay Kumar | Sr...|Pankaj Parashar |...|     0|      1|               false|\n",
      "+---------+--------------------+-----------+-----------+--------------------+--------------------+--------------------+--------------------+------+-------+--------------------+\n",
      "only showing top 3 rows\n",
      "\n"
     ]
    }
   ],
   "source": [
    "movies.withColumn(\"Good Movies to Watch\", expr(\"hitFlop > 5\")).show(3)"
   ]
  },
  {
   "cell_type": "markdown",
   "id": "89d3cd88-f903-4c7c-9429-921259314c29",
   "metadata": {},
   "source": [
    "# Sorting"
   ]
  },
  {
   "cell_type": "code",
   "execution_count": 23,
   "id": "02685e88-84b1-49e9-940f-6093a98bbebf",
   "metadata": {},
   "outputs": [
    {
     "name": "stdout",
     "output_type": "stream",
     "text": [
      "+---------+--------------------+-----------+-----------+--------------------+--------------------+--------------------+--------------------+------+-------+\n",
      "|   imdbId|               title|releaseYear|releaseDate|               genre|             writers|              actors|           directors|sequel|hitFlop|\n",
      "+---------+--------------------+-----------+-----------+--------------------+--------------------+--------------------+--------------------+------+-------+\n",
      "|tt0284137|Gadar: Ek Prem Katha|       2001|15 Jun 2001|Action | Drama | ...|   Shaktimaan Talwar|Sunny Deol | Amee...|         Anil Sharma|     0|      9|\n",
      "|tt1187043|            3 Idiots|       2009|25 Dec 2009|      Comedy | Drama|Rajkumar Hirani |...|Aamir Khan | Kare...|     Rajkumar Hirani|     0|      9|\n",
      "|tt1833673|            Dhoom: 3|       2013|20 Dec 2013|Action | Crime | ...|Vijay Krishna Ach...|Aamir Khan | Katr...|Vijay Krishna Ach...|     1|      9|\n",
      "+---------+--------------------+-----------+-----------+--------------------+--------------------+--------------------+--------------------+------+-------+\n",
      "only showing top 3 rows\n",
      "\n"
     ]
    }
   ],
   "source": [
    " movies.sort(ratingCol.desc()).show(3)"
   ]
  },
  {
   "cell_type": "code",
   "execution_count": null,
   "id": "f8185d1d-7eec-430c-adff-e6eb1896e5d6",
   "metadata": {},
   "outputs": [],
   "source": []
  }
 ],
 "metadata": {
  "kernelspec": {
   "display_name": "Python 3 (ipykernel)",
   "language": "python",
   "name": "python3"
  },
  "language_info": {
   "codemirror_mode": {
    "name": "ipython",
    "version": 3
   },
   "file_extension": ".py",
   "mimetype": "text/x-python",
   "name": "python",
   "nbconvert_exporter": "python",
   "pygments_lexer": "ipython3",
   "version": "3.9.7"
  }
 },
 "nbformat": 4,
 "nbformat_minor": 5
}
