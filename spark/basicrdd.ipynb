{
 "cells": [
  {
   "cell_type": "code",
   "execution_count": 1,
   "id": "3cd8aca8-1d03-4c76-963f-814c7c276832",
   "metadata": {},
   "outputs": [],
   "source": [
    "import pyspark"
   ]
  },
  {
   "cell_type": "code",
   "execution_count": 2,
   "id": "3c1ce604-56dc-4c0e-823b-876f574add7b",
   "metadata": {},
   "outputs": [],
   "source": [
    "sc = pyspark.SparkContext()\n",
    "spark = pyspark.sql.SparkSession(sc)"
   ]
  },
  {
   "cell_type": "markdown",
   "id": "0fb49758-629f-41f9-8b22-be77348a6407",
   "metadata": {},
   "source": [
    "# Create RDD from collection"
   ]
  },
  {
   "cell_type": "code",
   "execution_count": 7,
   "id": "fb6d8e86-fea5-4704-82ef-df19aca3757e",
   "metadata": {},
   "outputs": [],
   "source": [
    "brands = ['Tesla','Ford','GM']\n",
    "brandsRDD = sc.parallelize(brands,8)"
   ]
  },
  {
   "cell_type": "code",
   "execution_count": 8,
   "id": "82e38f1a-933b-4dce-81f4-bd746902052c",
   "metadata": {},
   "outputs": [
    {
     "data": {
      "text/plain": [
       "8"
      ]
     },
     "execution_count": 8,
     "metadata": {},
     "output_type": "execute_result"
    }
   ],
   "source": [
    "brandsRDD.getNumPartitions()"
   ]
  },
  {
   "cell_type": "markdown",
   "id": "1ca6d703-730c-4b6e-85a4-e731283f268c",
   "metadata": {},
   "source": [
    "# Create RDD from datasource"
   ]
  },
  {
   "cell_type": "code",
   "execution_count": 26,
   "id": "c95740f0-66bc-44b3-b439-fcd67ed741dd",
   "metadata": {},
   "outputs": [],
   "source": [
    "n = 'https://raw.githubusercontent.com/uwdata/draco/master/data/cars.csv'\n",
    "f = 'cars.csv'\n",
    "\n",
    "sc.addFile(n)\n",
    "data = spark.read.option(\"header\", True).option(\"inferSchema\", \"true\").csv(pyspark.SparkFiles.get(f))"
   ]
  },
  {
   "cell_type": "code",
   "execution_count": 27,
   "id": "79850e3a-3b70-4e62-bf74-1f387fd432d3",
   "metadata": {},
   "outputs": [
    {
     "data": {
      "text/plain": [
       "387"
      ]
     },
     "execution_count": 27,
     "metadata": {},
     "output_type": "execute_result"
    }
   ],
   "source": [
    "data.count()"
   ]
  },
  {
   "cell_type": "code",
   "execution_count": 28,
   "id": "1fd64c0f-a183-44cd-b82d-5c5f8b25f67c",
   "metadata": {},
   "outputs": [
    {
     "data": {
      "text/plain": [
       "[Row(Name='Acura 3.5 RL 4dr', Type='Sedan', AWD=0, RWD=0, Retail Price=43755, Dealer Cost=39014, Engine Size (l)=3.5, Cyl=6, Horsepower(HP)=225, City Miles Per Gallon=18, Highway Miles Per Gallon=24, Weight=3880, Wheel Base=115, Len=197, Width=72),\n",
       " Row(Name='Acura 3.5 RL w/Navigation 4dr', Type='Sedan', AWD=0, RWD=0, Retail Price=46100, Dealer Cost=41100, Engine Size (l)=3.5, Cyl=6, Horsepower(HP)=225, City Miles Per Gallon=18, Highway Miles Per Gallon=24, Weight=3893, Wheel Base=115, Len=197, Width=72),\n",
       " Row(Name='Acura MDX', Type='SUV', AWD=1, RWD=0, Retail Price=36945, Dealer Cost=33337, Engine Size (l)=3.5, Cyl=6, Horsepower(HP)=265, City Miles Per Gallon=17, Highway Miles Per Gallon=23, Weight=4451, Wheel Base=106, Len=189, Width=77)]"
      ]
     },
     "execution_count": 28,
     "metadata": {},
     "output_type": "execute_result"
    }
   ],
   "source": [
    "data.take(3)"
   ]
  },
  {
   "cell_type": "markdown",
   "id": "b2cbc141-eee2-45e7-96fe-6002e16bf6dd",
   "metadata": {},
   "source": [
    "# Create RDD from DataFrame"
   ]
  },
  {
   "cell_type": "code",
   "execution_count": 38,
   "id": "eb9f9191-1be3-4466-9c9b-80548661468b",
   "metadata": {},
   "outputs": [],
   "source": [
    "dataFrame = spark.range(100).toDF('id')"
   ]
  },
  {
   "cell_type": "code",
   "execution_count": 39,
   "id": "34a05eaf-e70d-4da6-af65-d299dcb740ad",
   "metadata": {},
   "outputs": [
    {
     "data": {
      "text/plain": [
       "[Row(id=0), Row(id=1)]"
      ]
     },
     "execution_count": 39,
     "metadata": {},
     "output_type": "execute_result"
    }
   ],
   "source": [
    "dataFrame.take(2)"
   ]
  },
  {
   "cell_type": "code",
   "execution_count": 40,
   "id": "ebfa6870-d721-4488-8399-d168cdcb5c08",
   "metadata": {},
   "outputs": [],
   "source": [
    "rdd = dataFrame.toDF('id').rdd"
   ]
  },
  {
   "cell_type": "code",
   "execution_count": 41,
   "id": "020b7083-5c12-462a-83c0-209d815d2884",
   "metadata": {},
   "outputs": [
    {
     "data": {
      "text/plain": [
       "[Row(id=0), Row(id=1)]"
      ]
     },
     "execution_count": 41,
     "metadata": {},
     "output_type": "execute_result"
    }
   ],
   "source": [
    "rdd.take(2)"
   ]
  },
  {
   "cell_type": "code",
   "execution_count": 43,
   "id": "569b7f16-3dc2-49b4-9dd4-b8d560086158",
   "metadata": {},
   "outputs": [
    {
     "data": {
      "text/plain": [
       "100"
      ]
     },
     "execution_count": 43,
     "metadata": {},
     "output_type": "execute_result"
    }
   ],
   "source": [
    "rdd.count()"
   ]
  },
  {
   "cell_type": "code",
   "execution_count": null,
   "id": "1762f886-bd0d-4c55-8ecd-a4c234677e81",
   "metadata": {},
   "outputs": [],
   "source": []
  }
 ],
 "metadata": {
  "kernelspec": {
   "display_name": "Python 3 (ipykernel)",
   "language": "python",
   "name": "python3"
  },
  "language_info": {
   "codemirror_mode": {
    "name": "ipython",
    "version": 3
   },
   "file_extension": ".py",
   "mimetype": "text/x-python",
   "name": "python",
   "nbconvert_exporter": "python",
   "pygments_lexer": "ipython3",
   "version": "3.9.7"
  }
 },
 "nbformat": 4,
 "nbformat_minor": 5
}
