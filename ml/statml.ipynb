{
 "cells": [
  {
   "cell_type": "code",
   "execution_count": 1,
   "id": "metric-arbitration",
   "metadata": {
    "id": "c7ad653f-e130-419a-b9e0-9295d5b2d8e8",
    "tags": []
   },
   "outputs": [],
   "source": [
    "num_friends = [100.0,49,41,40,25,21,21,19,19,18,18,16,15,15,15,15,14,14,13,13,13,13,12,12,11,10,10,10,10,10,10,10,10,10,10,10,10,10,10,10,9,9,9,9,9,9,9,9,9,9,9,9,9,9,9,9,9,9,8,8,8,8,8,8,8,8,8,8,8,8,8,7,7,7,7,7,7,7,7,7,7,7,7,7,7,7,6,6,6,6,6,6,6,6,6,6,6,6,6,6,6,6,6,6,6,6,6,6,5,5,5,5,5,5,5,5,5,5,5,5,5,5,5,5,5,4,4,4,4,4,4,4,4,4,4,4,4,4,4,4,4,4,4,4,4,3,3,3,3,3,3,3,3,3,3,3,3,3,3,3,3,3,3,3,3,2,2,2,2,2,2,2,2,2,2,2,2,2,2,2,2,2,1,1,1,1,1,1,1,1,1,1,1,1,1,1,1,1,1,1,1,1,1,1]"
   ]
  },
  {
   "cell_type": "code",
   "execution_count": 50,
   "id": "eight-hampshire",
   "metadata": {
    "id": "9545026c-9c0a-43a1-bf36-b7f820572d59",
    "tags": []
   },
   "outputs": [],
   "source": [
    "daily_minutes = [1,68.77,51.25,52.08,38.36,44.54,57.13,51.4,41.42,31.22,34.76,54.01,38.79,47.59,49.1,27.66,41.03,36.73,48.65,28.12,46.62,35.57,32.98,35,26.07,23.77,39.73,40.57,31.65,31.21,36.32,20.45,21.93,26.02,27.34,23.49,46.94,30.5,33.8,24.23,21.4,27.94,32.24,40.57,25.07,19.42,22.39,18.42,46.96,23.72,26.41,26.97,36.76,40.32,35.02,29.47,30.2,31,38.11,38.18,36.31,21.03,30.86,36.07,28.66,29.08,37.28,15.28,24.17,22.31,30.17,25.53,19.85,35.37,44.6,17.23,13.47,26.33,35.02,32.09,24.81,19.33,28.77,24.26,31.98,25.73,24.86,16.28,34.51,15.23,39.72,40.8,26.06,35.76,34.76,16.13,44.04,18.03,19.65,32.62,35.59,39.43,14.18,35.24,40.13,41.82,35.45,36.07,43.67,24.61,20.9,21.9,18.79,27.61,27.21,26.61,29.77,20.59,27.53,13.82,33.2,25,33.1,36.65,18.63,14.87,22.2,36.81,25.53,24.62,26.25,18.21,28.08,19.42,29.79,32.8,35.99,28.32,27.79,35.88,29.06,36.28,14.1,36.63,37.49,26.9,18.58,38.48,24.48,18.95,33.55,14.24,29.04,32.51,25.63,22.22,19,32.73,15.16,13.9,27.2,32.01,29.27,33,13.74,20.42,27.32,18.23,35.35,28.48,9.08,24.62,20.12,35.26,19.92,31.02,16.49,12.16,30.7,31.22,34.65,13.13,27.51,33.2,31.57,14.1,33.42,17.44,10.12,24.42,9.82,23.39,30.93,15.03,21.67,31.09,33.29,22.61,26.89,23.48,8.38,27.81,32.35,23.84]\n",
    "daily_hours = [dm / 60 for dm in daily_minutes]"
   ]
  },
  {
   "cell_type": "code",
   "execution_count": 3,
   "id": "municipal-cherry",
   "metadata": {
    "id": "7eb80098-6973-476e-9ab3-9d0fecfb0e71",
    "tags": []
   },
   "outputs": [
    {
     "data": {
      "image/png": "[encoded data removed]",
      "text/plain": [
       "<Figure size 432x288 with 1 Axes>"
      ]
     },
     "metadata": {
      "needs_background": "light"
     },
     "output_type": "display_data"
    }
   ],
   "source": [
    "from collections import Counter\n",
    "import matplotlib.pyplot as plt\n",
    "\n",
    "friend_counts = Counter(num_friends)\n",
    "xs = range(101)                         # largest value is 100\n",
    "ys = [friend_counts[x] for x in xs]     # height is just # of friends\n",
    "plt.bar(xs, ys)\n",
    "plt.axis([0, 101, 0, 25])\n",
    "plt.title(\"Histogram of Friend Counts\")\n",
    "plt.xlabel(\"# of friends\")\n",
    "plt.ylabel(\"# of people\")\n",
    "plt.show()"
   ]
  },
  {
   "cell_type": "code",
   "execution_count": 5,
   "id": "written-drinking",
   "metadata": {
    "id": "13a07f37-c6fc-4c2e-b216-ad35b5e48d6d",
    "tags": []
   },
   "outputs": [
    {
     "name": "stdout",
     "output_type": "stream",
     "text": [
      "204\n"
     ]
    }
   ],
   "source": [
    "num_points = len(num_friends); print(num_points)"
   ]
  },
  {
   "cell_type": "code",
   "execution_count": 6,
   "id": "conscious-amplifier",
   "metadata": {
    "id": "0f28ab56-b0eb-482f-936e-caa9ac9aca78",
    "tags": []
   },
   "outputs": [],
   "source": [
    "largest_value = max(num_friends)            # 100\n",
    "smallest_value = min(num_friends)           # 1"
   ]
  },
  {
   "cell_type": "code",
   "execution_count": 7,
   "id": "entertaining-drink",
   "metadata": {
    "id": "af3c4028-5ef4-4ebd-ba20-d044d9723c88",
    "tags": []
   },
   "outputs": [],
   "source": [
    "sorted_values = sorted(num_friends)\n",
    "smallest_value = sorted_values[0]           # 1\n",
    "second_smallest_value = sorted_values[1]    # 1\n",
    "second_largest_value = sorted_values[-2]    # 49"
   ]
  },
  {
   "cell_type": "code",
   "execution_count": 11,
   "id": "valid-local",
   "metadata": {
    "id": "4eaca163-1419-4857-ba54-4d3995fe9ac8",
    "tags": []
   },
   "outputs": [],
   "source": [
    "from typing import List\n",
    "def mean(xs: List[float]) -> float:\n",
    "    return sum(xs) / len(xs)\n"
   ]
  },
  {
   "cell_type": "code",
   "execution_count": 12,
   "id": "roman-myanmar",
   "metadata": {
    "id": "c3953852-524b-4b0c-b0a3-3ed3d6852044",
    "tags": []
   },
   "outputs": [
    {
     "data": {
      "text/plain": [
       "7.333333333333333"
      ]
     },
     "execution_count": 12,
     "metadata": {},
     "output_type": "execute_result"
    }
   ],
   "source": [
    "mean(num_friends)"
   ]
  },
  {
   "cell_type": "code",
   "execution_count": 13,
   "id": "elect-diameter",
   "metadata": {
    "id": "43a82b2a-850e-44c5-b5c8-90a6448c6834",
    "tags": []
   },
   "outputs": [],
   "source": [
    "# The underscores indicate that these are \"private\" functions, as they're\n",
    "# intended to be called by our median function but not by other people\n",
    "# using our statistics library.\n",
    "def _median_odd(xs: List[float]) -> float:\n",
    "    \"\"\"If len(xs) is odd, the median is the middle element\"\"\"\n",
    "    return sorted(xs)[len(xs) // 2]\n",
    "\n",
    "def _median_even(xs: List[float]) -> float:\n",
    "    \"\"\"If len(xs) is even, it's the average of the middle two elements\"\"\"\n",
    "    sorted_xs = sorted(xs)\n",
    "    hi_midpoint = len(xs) // 2  # e.g. length 4 => hi_midpoint 2\n",
    "    return (sorted_xs[hi_midpoint - 1] + sorted_xs[hi_midpoint]) / 2\n",
    "\n",
    "def median(v: List[float]) -> float:\n",
    "    \"\"\"Finds the 'middle-most' value of v\"\"\"\n",
    "    return _median_even(v) if len(v) % 2 == 0 else _median_odd(v)\n"
   ]
  },
  {
   "cell_type": "code",
   "execution_count": 17,
   "id": "consecutive-captain",
   "metadata": {
    "id": "d0e9e441-7c52-42a4-a3bc-a8f81afbdd3e",
    "tags": []
   },
   "outputs": [
    {
     "data": {
      "text/plain": [
       "5"
      ]
     },
     "execution_count": 17,
     "metadata": {},
     "output_type": "execute_result"
    }
   ],
   "source": [
    "median([1, 10, 2, 9, 5])"
   ]
  },
  {
   "cell_type": "code",
   "execution_count": 18,
   "id": "agricultural-alliance",
   "metadata": {
    "id": "144c5eb5-db07-41a8-b076-749f4bea253a",
    "tags": []
   },
   "outputs": [
    {
     "data": {
      "text/plain": [
       "5.5"
      ]
     },
     "execution_count": 18,
     "metadata": {},
     "output_type": "execute_result"
    }
   ],
   "source": [
    " median([1, 9, 2, 10])"
   ]
  },
  {
   "cell_type": "code",
   "execution_count": 19,
   "id": "valued-wisconsin",
   "metadata": {
    "id": "3f118d99-648a-4130-b58c-474096aae9f4",
    "tags": []
   },
   "outputs": [
    {
     "name": "stdout",
     "output_type": "stream",
     "text": [
      "6.0\n"
     ]
    }
   ],
   "source": [
    "print(median(num_friends))"
   ]
  },
  {
   "cell_type": "code",
   "execution_count": 20,
   "id": "serious-correction",
   "metadata": {
    "id": "f99edb99-aa48-46d1-9167-cd60d3680424",
    "tags": []
   },
   "outputs": [],
   "source": [
    "def quantile(xs: List[float], p: float) -> float:\n",
    "    \"\"\"Returns the pth-percentile value in x\"\"\"\n",
    "    p_index = int(p * len(xs))\n",
    "    return sorted(xs)[p_index]"
   ]
  },
  {
   "cell_type": "code",
   "execution_count": 21,
   "id": "meaning-scotland",
   "metadata": {
    "id": "3408525b-6de0-4bc6-a842-32f583170a94",
    "tags": []
   },
   "outputs": [],
   "source": [
    "assert quantile(num_friends, 0.10) == 1\n",
    "assert quantile(num_friends, 0.25) == 3\n",
    "assert quantile(num_friends, 0.75) == 9\n",
    "assert quantile(num_friends, 0.90) == 13"
   ]
  },
  {
   "cell_type": "code",
   "execution_count": 22,
   "id": "champion-satin",
   "metadata": {
    "id": "d1d689f6-5bf7-400e-a1f9-90ab404a02c1",
    "tags": []
   },
   "outputs": [],
   "source": [
    "def mode(x: List[float]) -> List[float]:\n",
    "    \"\"\"Returns a list, since there might be more than one mode\"\"\"\n",
    "    counts = Counter(x)\n",
    "    max_count = max(counts.values())\n",
    "    return [x_i for x_i, count in counts.items()\n",
    "            if count == max_count]"
   ]
  },
  {
   "cell_type": "code",
   "execution_count": 23,
   "id": "interstate-development",
   "metadata": {
    "id": "ccfe49f9-091a-4aa0-b7d9-e2c0137bcc80",
    "tags": []
   },
   "outputs": [],
   "source": [
    "assert set(mode(num_friends)) == {1, 6}"
   ]
  },
  {
   "cell_type": "code",
   "execution_count": 24,
   "id": "uniform-alabama",
   "metadata": {
    "id": "4a5c39a8-278b-4d58-a098-f1c2d50a5a91",
    "tags": []
   },
   "outputs": [],
   "source": [
    "# \"range\" already means something in Python, so we'll use a different name\n",
    "def data_range(xs: List[float]) -> float:\n",
    "    return max(xs) - min(xs)"
   ]
  },
  {
   "cell_type": "code",
   "execution_count": 25,
   "id": "olympic-keyboard",
   "metadata": {
    "id": "7c39c72c-a076-444c-8a16-08dd1bbd8c0e",
    "tags": []
   },
   "outputs": [],
   "source": [
    "assert data_range(num_friends) == 99"
   ]
  },
  {
   "cell_type": "code",
   "execution_count": 36,
   "id": "chief-audit",
   "metadata": {
    "id": "7a409fda-bdf1-4dbc-866a-353977c3d4b5",
    "tags": []
   },
   "outputs": [],
   "source": [
    "def sum_of_squares(xs : List[float]) -> float :\n",
    "    sum = 0\n",
    "    for x in xs: sum = sum + x**2\n",
    "    return sum"
   ]
  },
  {
   "cell_type": "code",
   "execution_count": 30,
   "id": "amber-network",
   "metadata": {
    "id": "8d59aa55-8ef6-4a49-adb6-2d712bbcaea9",
    "tags": []
   },
   "outputs": [],
   "source": [
    "def de_mean(xs: List[float]) -> List[float]:\n",
    "    \"\"\"Translate xs by subtracting its mean (so the result has mean 0)\"\"\"\n",
    "    x_bar = mean(xs)\n",
    "    return [x - x_bar for x in xs]\n",
    "\n",
    "def variance(xs: List[float]) -> float:\n",
    "    \"\"\"Almost the average squared deviation from the mean\"\"\"\n",
    "    assert len(xs) >= 2, \"variance requires at least two elements\"\n",
    "\n",
    "    n = len(xs)\n",
    "    deviations = de_mean(xs)\n",
    "    return sum_of_squares(deviations) / (n - 1)"
   ]
  },
  {
   "cell_type": "code",
   "execution_count": 37,
   "id": "hidden-bacon",
   "metadata": {
    "id": "14acd2e6-b687-43f0-b81c-1668a0df844c",
    "tags": []
   },
   "outputs": [],
   "source": [
    "assert 81.54 < variance(num_friends) < 81.55"
   ]
  },
  {
   "cell_type": "code",
   "execution_count": 38,
   "id": "correct-research",
   "metadata": {
    "id": "a2f6b858-3f0f-4d5e-8f8c-d00de857ddec",
    "tags": []
   },
   "outputs": [],
   "source": [
    "import math\n",
    "\n",
    "def standard_deviation(xs: List[float]) -> float:\n",
    "    \"\"\"The standard deviation is the square root of the variance\"\"\"\n",
    "    return math.sqrt(variance(xs))"
   ]
  },
  {
   "cell_type": "code",
   "execution_count": 39,
   "id": "allied-fields",
   "metadata": {
    "id": "3901feb8-459f-447b-bda1-023b027f80f6",
    "tags": []
   },
   "outputs": [],
   "source": [
    "assert 9.02 < standard_deviation(num_friends) < 9.04"
   ]
  },
  {
   "cell_type": "code",
   "execution_count": 40,
   "id": "sunset-contrast",
   "metadata": {
    "id": "256d85c3-19e3-433c-861b-38bb7c4423f3",
    "tags": []
   },
   "outputs": [],
   "source": [
    "def interquartile_range(xs: List[float]) -> float:\n",
    "    \"\"\"Returns the difference between the 75%-ile and the 25%-ile\"\"\"\n",
    "    return quantile(xs, 0.75) - quantile(xs, 0.25)"
   ]
  },
  {
   "cell_type": "code",
   "execution_count": 41,
   "id": "arbitrary-rings",
   "metadata": {
    "id": "1b25e57a-57e8-452e-ae18-6213bf65d188",
    "tags": []
   },
   "outputs": [],
   "source": [
    "assert interquartile_range(num_friends) == 6"
   ]
  },
  {
   "cell_type": "code",
   "execution_count": 54,
   "id": "adopted-oriental",
   "metadata": {
    "id": "c25b290f-2515-482d-8779-009d7824f679",
    "tags": []
   },
   "outputs": [],
   "source": [
    "def dot(xs: List[float], ys: List[float]) -> float:\n",
    "    assert(len(xs) == len(ys))\n",
    "    res = 0\n",
    "    for x,y in zip(xs,ys) : res = res + x*y\n",
    "    return res"
   ]
  },
  {
   "cell_type": "code",
   "execution_count": 44,
   "id": "separate-spank",
   "metadata": {
    "id": "ac3212ae-0ada-4d16-a1b4-104ab9ea6b2f",
    "tags": []
   },
   "outputs": [],
   "source": [
    "def covariance(xs: List[float], ys: List[float]) -> float:\n",
    "    assert len(xs) == len(ys), \"xs and ys must have same number of elements\"\n",
    "\n",
    "    return dot(de_mean(xs), de_mean(ys)) / (len(xs) - 1)"
   ]
  },
  {
   "cell_type": "code",
   "execution_count": 51,
   "id": "practical-hebrew",
   "metadata": {
    "id": "1be9b99f-e9b4-4580-9c09-a44dbb60c736",
    "tags": []
   },
   "outputs": [
    {
     "name": "stdout",
     "output_type": "stream",
     "text": [
      "204\n",
      "204\n"
     ]
    }
   ],
   "source": [
    "print(len(num_friends))\n",
    "print(len(daily_hours))"
   ]
  },
  {
   "cell_type": "code",
   "execution_count": 55,
   "id": "guilty-collins",
   "metadata": {
    "id": "5dc524e9-40c4-467d-8342-ded5221e60e2",
    "tags": []
   },
   "outputs": [],
   "source": [
    "assert 22.42 < covariance(num_friends, daily_minutes) < 22.43\n",
    "assert 22.42 / 60 < covariance(num_friends, daily_hours) < 22.43 / 60"
   ]
  },
  {
   "cell_type": "code",
   "execution_count": 70,
   "id": "forbidden-harassment",
   "metadata": {
    "id": "af1c7a79-59c0-4acb-8d46-0e1325a9bbdd",
    "tags": []
   },
   "outputs": [],
   "source": [
    "def correlation(xs: List[float], ys: List[float]) -> float:\n",
    "    \"\"\"Measures how much xs and ys vary in tandem about their means\"\"\"\n",
    "    stdev_x = standard_deviation(xs)\n",
    "    stdev_y = standard_deviation(ys)\n",
    "    if stdev_x > 0 and stdev_y > 0:\n",
    "        return covariance(xs, ys) / stdev_x / stdev_y\n",
    "    else:\n",
    "        return 0    # if no variation, correlation is zero"
   ]
  },
  {
   "cell_type": "code",
   "execution_count": 57,
   "id": "olympic-jackson",
   "metadata": {
    "id": "7e71f627-d6a2-4103-8401-03f8d81fa55e",
    "tags": []
   },
   "outputs": [],
   "source": [
    "assert 0.24 < correlation(num_friends, daily_minutes) < 0.25\n",
    "assert 0.24 < correlation(num_friends, daily_hours) < 0.25"
   ]
  },
  {
   "cell_type": "code",
   "execution_count": 80,
   "id": "intensive-court",
   "metadata": {
    "id": "509f5894-b065-423d-9e97-9852d8e6afd6",
    "tags": []
   },
   "outputs": [],
   "source": [
    "def pscatter(xs: List[float], ys: List[float], title: str):\n",
    "    plt.scatter(xs, ys)\n",
    "    plt.axis([0, max(xs)+1, 0, max(ys)+1])\n",
    "    plt.title(title)\n",
    "    plt.xlabel(\"# of friends\")\n",
    "    plt.ylabel(\"# daily_minutes\")\n",
    "    plt.show()"
   ]
  },
  {
   "cell_type": "code",
   "execution_count": 81,
   "id": "direct-thing",
   "metadata": {
    "id": "af6fbaed-3e7a-46b4-af81-b093b48a54f8",
    "tags": []
   },
   "outputs": [
    {
     "data": {
      "image/png": "[encoded data removed]",
      "text/plain": [
       "<Figure size 432x288 with 1 Axes>"
      ]
     },
     "metadata": {
      "needs_background": "light"
     },
     "output_type": "display_data"
    }
   ],
   "source": [
    "pscatter(num_friends,daily_minutes,\"Correlation with an Outlier\")"
   ]
  },
  {
   "cell_type": "code",
   "execution_count": 64,
   "id": "controlled-emission",
   "metadata": {
    "id": "85b70d94-9f95-4f48-a085-1f6e071e9c02",
    "tags": []
   },
   "outputs": [],
   "source": [
    "outlier = num_friends.index(100)    # index of outlier\n",
    "\n",
    "num_friends_good = [x\n",
    "                    for i, x in enumerate(num_friends)\n",
    "                    if i != outlier]\n",
    "\n",
    "daily_minutes_good = [x\n",
    "                      for i, x in enumerate(daily_minutes)\n",
    "                      if i != outlier]\n",
    "\n",
    "daily_hours_good = [dm / 60 for dm in daily_minutes_good]\n",
    "\n",
    "assert 0.57 < correlation(num_friends_good, daily_minutes_good) < 0.58\n",
    "assert 0.57 < correlation(num_friends_good, daily_hours_good) < 0.58"
   ]
  },
  {
   "cell_type": "code",
   "execution_count": 82,
   "id": "intensive-automation",
   "metadata": {
    "id": "22fdec40-658c-4fac-bda1-88c212a20437",
    "tags": []
   },
   "outputs": [
    {
     "data": {
      "image/png": "[encoded data removed]",
      "text/plain": [
       "<Figure size 432x288 with 1 Axes>"
      ]
     },
     "metadata": {
      "needs_background": "light"
     },
     "output_type": "display_data"
    }
   ],
   "source": [
    "pscatter(num_friends_good,daily_minutes_good,\"Correlation After Removing the Outlier\")"
   ]
  },
  {
   "cell_type": "code",
   "execution_count": 83,
   "id": "comic-structure",
   "metadata": {
    "id": "7e2b5462-1fce-4f0c-9806-1f37a8e0c9b4",
    "tags": []
   },
   "outputs": [],
   "source": [
    "x = [-2, -1, 0, 1, 2]\n",
    "y = [ 2,  1, 0, 1, 2]"
   ]
  },
  {
   "cell_type": "code",
   "execution_count": null,
   "id": "recognized-graham",
   "metadata": {
    "id": "2ca51587-dc56-47d1-8b81-d099f55acb58"
   },
   "outputs": [],
   "source": []
  }
 ],
 "metadata": {
  "kernelspec": {
   "display_name": "Python 3.8",
   "language": "python",
   "name": "python3"
  },
  "language_info": {
   "codemirror_mode": {
    "name": "ipython",
    "version": 3
   },
   "file_extension": ".py",
   "mimetype": "text/x-python",
   "name": "python",
   "nbconvert_exporter": "python",
   "pygments_lexer": "ipython3",
   "version": "3.8.11"
  }
 },
 "nbformat": 4,
 "nbformat_minor": 5
}
